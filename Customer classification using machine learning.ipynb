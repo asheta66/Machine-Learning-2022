{
  "cells": [
    {
      "cell_type": "code",
      "execution_count": 5,
      "id": "de2ab994",
      "metadata": {
        "colab": {
          "base_uri": "https://localhost:8080/"
        },
        "id": "de2ab994",
        "outputId": "1d6ae421-fd71-4d4b-ef52-d4412c7da3b3"
      },
      "outputs": [
        {
          "output_type": "stream",
          "name": "stderr",
          "text": [
            "[nltk_data] Downloading package stopwords to /root/nltk_data...\n",
            "[nltk_data]   Package stopwords is already up-to-date!\n"
          ]
        }
      ],
      "source": [
        "import pandas as pd\n",
        "import matplotlib.pyplot as plt\n",
        "import seaborn as sns\n",
        "%matplotlib inline\n",
        "from matplotlib import style\n",
        "style.use('ggplot')\n",
        "import nltk\n",
        "nltk.download('stopwords')\n",
        "import re\n",
        "from nltk.tokenize import word_tokenize\n",
        "from nltk.stem import PorterStemmer\n",
        "from nltk.corpus import stopwords\n",
        "stop_words = set(stopwords.words('english'))\n",
        "from wordcloud import WordCloud\n",
        "from sklearn.feature_extraction.text import TfidfVectorizer\n",
        "from sklearn.model_selection import train_test_split"
      ]
    },
    {
      "cell_type": "code",
      "execution_count": 6,
      "id": "ff7fa9a6",
      "metadata": {
        "colab": {
          "base_uri": "https://localhost:8080/",
          "height": 206
        },
        "id": "ff7fa9a6",
        "outputId": "59cc1e87-8cac-488e-bdfa-e5d94b63ab14"
      },
      "outputs": [
        {
          "output_type": "execute_result",
          "data": {
            "text/plain": [
              "   rating       date         variation  \\\n",
              "0       5  31-Jul-18  Charcoal Fabric    \n",
              "1       5  31-Jul-18  Charcoal Fabric    \n",
              "2       4  31-Jul-18    Walnut Finish    \n",
              "3       5  31-Jul-18  Charcoal Fabric    \n",
              "4       5  31-Jul-18  Charcoal Fabric    \n",
              "\n",
              "                                    verified_reviews  feedback  \n",
              "0                                      Love my Echo!         1  \n",
              "1                                          Loved it!         1  \n",
              "2  Sometimes while playing a game, you can answer...         1  \n",
              "3  I have had a lot of fun with this thing. My 4 ...         1  \n",
              "4                                              Music         1  "
            ],
            "text/html": [
              "\n",
              "  <div id=\"df-20f6c958-d308-4a9e-8097-e3b080ff8431\">\n",
              "    <div class=\"colab-df-container\">\n",
              "      <div>\n",
              "<style scoped>\n",
              "    .dataframe tbody tr th:only-of-type {\n",
              "        vertical-align: middle;\n",
              "    }\n",
              "\n",
              "    .dataframe tbody tr th {\n",
              "        vertical-align: top;\n",
              "    }\n",
              "\n",
              "    .dataframe thead th {\n",
              "        text-align: right;\n",
              "    }\n",
              "</style>\n",
              "<table border=\"1\" class=\"dataframe\">\n",
              "  <thead>\n",
              "    <tr style=\"text-align: right;\">\n",
              "      <th></th>\n",
              "      <th>rating</th>\n",
              "      <th>date</th>\n",
              "      <th>variation</th>\n",
              "      <th>verified_reviews</th>\n",
              "      <th>feedback</th>\n",
              "    </tr>\n",
              "  </thead>\n",
              "  <tbody>\n",
              "    <tr>\n",
              "      <th>0</th>\n",
              "      <td>5</td>\n",
              "      <td>31-Jul-18</td>\n",
              "      <td>Charcoal Fabric</td>\n",
              "      <td>Love my Echo!</td>\n",
              "      <td>1</td>\n",
              "    </tr>\n",
              "    <tr>\n",
              "      <th>1</th>\n",
              "      <td>5</td>\n",
              "      <td>31-Jul-18</td>\n",
              "      <td>Charcoal Fabric</td>\n",
              "      <td>Loved it!</td>\n",
              "      <td>1</td>\n",
              "    </tr>\n",
              "    <tr>\n",
              "      <th>2</th>\n",
              "      <td>4</td>\n",
              "      <td>31-Jul-18</td>\n",
              "      <td>Walnut Finish</td>\n",
              "      <td>Sometimes while playing a game, you can answer...</td>\n",
              "      <td>1</td>\n",
              "    </tr>\n",
              "    <tr>\n",
              "      <th>3</th>\n",
              "      <td>5</td>\n",
              "      <td>31-Jul-18</td>\n",
              "      <td>Charcoal Fabric</td>\n",
              "      <td>I have had a lot of fun with this thing. My 4 ...</td>\n",
              "      <td>1</td>\n",
              "    </tr>\n",
              "    <tr>\n",
              "      <th>4</th>\n",
              "      <td>5</td>\n",
              "      <td>31-Jul-18</td>\n",
              "      <td>Charcoal Fabric</td>\n",
              "      <td>Music</td>\n",
              "      <td>1</td>\n",
              "    </tr>\n",
              "  </tbody>\n",
              "</table>\n",
              "</div>\n",
              "      <button class=\"colab-df-convert\" onclick=\"convertToInteractive('df-20f6c958-d308-4a9e-8097-e3b080ff8431')\"\n",
              "              title=\"Convert this dataframe to an interactive table.\"\n",
              "              style=\"display:none;\">\n",
              "        \n",
              "  <svg xmlns=\"http://www.w3.org/2000/svg\" height=\"24px\"viewBox=\"0 0 24 24\"\n",
              "       width=\"24px\">\n",
              "    <path d=\"M0 0h24v24H0V0z\" fill=\"none\"/>\n",
              "    <path d=\"M18.56 5.44l.94 2.06.94-2.06 2.06-.94-2.06-.94-.94-2.06-.94 2.06-2.06.94zm-11 1L8.5 8.5l.94-2.06 2.06-.94-2.06-.94L8.5 2.5l-.94 2.06-2.06.94zm10 10l.94 2.06.94-2.06 2.06-.94-2.06-.94-.94-2.06-.94 2.06-2.06.94z\"/><path d=\"M17.41 7.96l-1.37-1.37c-.4-.4-.92-.59-1.43-.59-.52 0-1.04.2-1.43.59L10.3 9.45l-7.72 7.72c-.78.78-.78 2.05 0 2.83L4 21.41c.39.39.9.59 1.41.59.51 0 1.02-.2 1.41-.59l7.78-7.78 2.81-2.81c.8-.78.8-2.07 0-2.86zM5.41 20L4 18.59l7.72-7.72 1.47 1.35L5.41 20z\"/>\n",
              "  </svg>\n",
              "      </button>\n",
              "      \n",
              "  <style>\n",
              "    .colab-df-container {\n",
              "      display:flex;\n",
              "      flex-wrap:wrap;\n",
              "      gap: 12px;\n",
              "    }\n",
              "\n",
              "    .colab-df-convert {\n",
              "      background-color: #E8F0FE;\n",
              "      border: none;\n",
              "      border-radius: 50%;\n",
              "      cursor: pointer;\n",
              "      display: none;\n",
              "      fill: #1967D2;\n",
              "      height: 32px;\n",
              "      padding: 0 0 0 0;\n",
              "      width: 32px;\n",
              "    }\n",
              "\n",
              "    .colab-df-convert:hover {\n",
              "      background-color: #E2EBFA;\n",
              "      box-shadow: 0px 1px 2px rgba(60, 64, 67, 0.3), 0px 1px 3px 1px rgba(60, 64, 67, 0.15);\n",
              "      fill: #174EA6;\n",
              "    }\n",
              "\n",
              "    [theme=dark] .colab-df-convert {\n",
              "      background-color: #3B4455;\n",
              "      fill: #D2E3FC;\n",
              "    }\n",
              "\n",
              "    [theme=dark] .colab-df-convert:hover {\n",
              "      background-color: #434B5C;\n",
              "      box-shadow: 0px 1px 3px 1px rgba(0, 0, 0, 0.15);\n",
              "      filter: drop-shadow(0px 1px 2px rgba(0, 0, 0, 0.3));\n",
              "      fill: #FFFFFF;\n",
              "    }\n",
              "  </style>\n",
              "\n",
              "      <script>\n",
              "        const buttonEl =\n",
              "          document.querySelector('#df-20f6c958-d308-4a9e-8097-e3b080ff8431 button.colab-df-convert');\n",
              "        buttonEl.style.display =\n",
              "          google.colab.kernel.accessAllowed ? 'block' : 'none';\n",
              "\n",
              "        async function convertToInteractive(key) {\n",
              "          const element = document.querySelector('#df-20f6c958-d308-4a9e-8097-e3b080ff8431');\n",
              "          const dataTable =\n",
              "            await google.colab.kernel.invokeFunction('convertToInteractive',\n",
              "                                                     [key], {});\n",
              "          if (!dataTable) return;\n",
              "\n",
              "          const docLinkHtml = 'Like what you see? Visit the ' +\n",
              "            '<a target=\"_blank\" href=https://colab.research.google.com/notebooks/data_table.ipynb>data table notebook</a>'\n",
              "            + ' to learn more about interactive tables.';\n",
              "          element.innerHTML = '';\n",
              "          dataTable['output_type'] = 'display_data';\n",
              "          await google.colab.output.renderOutput(dataTable, element);\n",
              "          const docLink = document.createElement('div');\n",
              "          docLink.innerHTML = docLinkHtml;\n",
              "          element.appendChild(docLink);\n",
              "        }\n",
              "      </script>\n",
              "    </div>\n",
              "  </div>\n",
              "  "
            ]
          },
          "metadata": {},
          "execution_count": 6
        }
      ],
      "source": [
        "df = pd.read_csv('amazon_alexa.tsv', sep='\\t')\n",
        "df.head()"
      ]
    },
    {
      "cell_type": "code",
      "execution_count": 7,
      "id": "e7c10fc7",
      "metadata": {
        "colab": {
          "base_uri": "https://localhost:8080/"
        },
        "id": "e7c10fc7",
        "outputId": "6fe40cfb-f851-4eba-cc5f-bc50b5a6989f"
      },
      "outputs": [
        {
          "output_type": "stream",
          "name": "stdout",
          "text": [
            "<class 'pandas.core.frame.DataFrame'>\n",
            "RangeIndex: 3150 entries, 0 to 3149\n",
            "Data columns (total 5 columns):\n",
            " #   Column            Non-Null Count  Dtype \n",
            "---  ------            --------------  ----- \n",
            " 0   rating            3150 non-null   int64 \n",
            " 1   date              3150 non-null   object\n",
            " 2   variation         3150 non-null   object\n",
            " 3   verified_reviews  3150 non-null   object\n",
            " 4   feedback          3150 non-null   int64 \n",
            "dtypes: int64(2), object(3)\n",
            "memory usage: 123.2+ KB\n"
          ]
        }
      ],
      "source": [
        "df.info()"
      ]
    },
    {
      "cell_type": "code",
      "execution_count": 8,
      "id": "9ef620e8",
      "metadata": {
        "colab": {
          "base_uri": "https://localhost:8080/",
          "height": 301
        },
        "id": "9ef620e8",
        "outputId": "61ee26a4-b94e-4d2a-d8dc-784ea25c509f"
      },
      "outputs": [
        {
          "output_type": "execute_result",
          "data": {
            "text/plain": [
              "<AxesSubplot:xlabel='rating', ylabel='count'>"
            ]
          },
          "metadata": {},
          "execution_count": 8
        },
        {
          "output_type": "display_data",
          "data": {
            "text/plain": [
              "<Figure size 432x288 with 1 Axes>"
            ],
            "image/png": "[encoded data removed]"
          },
          "metadata": {}
        }
      ],
      "source": [
        "sns.countplot(x='rating', data=df)"
      ]
    },
    {
      "cell_type": "code",
      "execution_count": 9,
      "id": "045cc58c",
      "metadata": {
        "colab": {
          "base_uri": "https://localhost:8080/"
        },
        "id": "045cc58c",
        "outputId": "2278c75b-2232-41de-b2c3-cbf3b9968209"
      },
      "outputs": [
        {
          "output_type": "execute_result",
          "data": {
            "text/plain": [
              "5    2286\n",
              "4     455\n",
              "1     161\n",
              "3     152\n",
              "2      96\n",
              "Name: rating, dtype: int64"
            ]
          },
          "metadata": {},
          "execution_count": 9
        }
      ],
      "source": [
        "df['rating'].value_counts()"
      ]
    },
    {
      "cell_type": "code",
      "execution_count": 10,
      "id": "8379f49a",
      "metadata": {
        "colab": {
          "base_uri": "https://localhost:8080/",
          "height": 211
        },
        "id": "8379f49a",
        "outputId": "71163405-4b31-4b20-d85e-40246dfdb94f"
      },
      "outputs": [
        {
          "output_type": "display_data",
          "data": {
            "text/plain": [
              "<Figure size 216x216 with 1 Axes>"
            ],
            "image/png": "[encoded data removed]"
          },
          "metadata": {}
        }
      ],
      "source": [
        "fig = plt.figure(figsize=(3,3))\n",
        "tags = df['rating'].value_counts()\n",
        "tags.plot(kind='pie', autopct='%1.1f', label='')\n",
        "plt.title('Distribution of the different ratings')\n",
        "plt.show()"
      ]
    },
    {
      "cell_type": "code",
      "execution_count": 11,
      "id": "fc9dfbb8",
      "metadata": {
        "colab": {
          "base_uri": "https://localhost:8080/",
          "height": 471
        },
        "id": "fc9dfbb8",
        "outputId": "d587ae9c-9ab6-41f0-8bf9-0492e1c1588a"
      },
      "outputs": [
        {
          "output_type": "display_data",
          "data": {
            "text/plain": [
              "<Figure size 216x2664 with 1 Axes>"
            ],
            "image/png": "[encoded data removed]"
          },
          "metadata": {}
        },
        {
          "output_type": "display_data",
          "data": {
            "text/plain": [
              "<Figure size 288x288 with 1 Axes>"
            ],
            "image/png": "[encoded data removed]"
          },
          "metadata": {}
        }
      ],
      "source": [
        "fig = plt.figure(figsize=(3,37))\n",
        "tags = df['rating'].value_counts()\n",
        "tags.plot(kind='pie', autopct='%1.1f', label='')\n",
        "plt.title('Distribution of the different ratings')\n",
        "plt.show()\n",
        "\n",
        "fig = plt.figure(figsize=(4,4))\n",
        "colors = (\"red\", \"yellow\", \"crimson\", \"blue\", \"darkgreen\") \n",
        "wp = {'linewidth':2, 'edgecolor':\"black\"} \n",
        "data = df['rating'].value_counts()\n",
        "explode = (0.1,0.1,0.1, 0.1,0.1)\n",
        "classes = ['1','2','3','4','5']\n",
        "data.plot(kind='pie', autopct='%0.1f%%',labels=classes, startangle = 45, colors = colors,\n",
        "         explode = explode, shadow=True, wedgeprops = wp)\n",
        "plt.legend(title=\"species\")\n",
        "plt.title(\"Distribution of the different ratings\", loc='center', color='black', fontsize='25', fontweight='bold')\n",
        "plt.show()"
      ]
    },
    {
      "cell_type": "code",
      "execution_count": 41,
      "id": "f9fb9c75",
      "metadata": {
        "colab": {
          "base_uri": "https://localhost:8080/",
          "height": 356
        },
        "id": "f9fb9c75",
        "outputId": "5ee26af3-1010-411c-d7ba-f52cc33bf7cc"
      },
      "outputs": [
        {
          "output_type": "execute_result",
          "data": {
            "text/plain": [
              "<AxesSubplot:xlabel='count', ylabel='variation'>"
            ]
          },
          "metadata": {},
          "execution_count": 41
        },
        {
          "output_type": "display_data",
          "data": {
            "text/plain": [
              "<Figure size 360x360 with 1 Axes>"
            ],
            "image/png": "[encoded data removed]"
          },
          "metadata": {}
        }
      ],
      "source": [
        "fig = plt.figure(figsize=(5,5))\n",
        "sns.countplot(y='variation', data=df)"
      ]
    },
    {
      "cell_type": "code",
      "execution_count": 13,
      "id": "2cd45191",
      "metadata": {
        "colab": {
          "base_uri": "https://localhost:8080/"
        },
        "id": "2cd45191",
        "outputId": "a4d1faca-d1e1-4efb-ac44-32978db5e861"
      },
      "outputs": [
        {
          "output_type": "execute_result",
          "data": {
            "text/plain": [
              "Black  Dot                      516\n",
              "Charcoal Fabric                 430\n",
              "Configuration: Fire TV Stick    350\n",
              "Black  Plus                     270\n",
              "Black  Show                     265\n",
              "Black                           261\n",
              "Black  Spot                     241\n",
              "White  Dot                      184\n",
              "Heather Gray Fabric             157\n",
              "White  Spot                     109\n",
              "White                            91\n",
              "Sandstone Fabric                 90\n",
              "White  Show                      85\n",
              "White  Plus                      78\n",
              "Oak Finish                       14\n",
              "Walnut Finish                     9\n",
              "Name: variation, dtype: int64"
            ]
          },
          "metadata": {},
          "execution_count": 13
        }
      ],
      "source": [
        "df['variation'].value_counts()"
      ]
    },
    {
      "cell_type": "code",
      "execution_count": 14,
      "id": "806d0ba8",
      "metadata": {
        "colab": {
          "base_uri": "https://localhost:8080/",
          "height": 284
        },
        "id": "806d0ba8",
        "outputId": "71273be1-8fae-4d04-bfdc-659dc253bd5a"
      },
      "outputs": [
        {
          "output_type": "display_data",
          "data": {
            "text/plain": [
              "<Figure size 432x288 with 1 Axes>"
            ],
            "image/png": "[encoded data removed]"
          },
          "metadata": {}
        }
      ],
      "source": [
        "sns.countplot(x='feedback', data=df)\n",
        "plt.show()"
      ]
    },
    {
      "cell_type": "code",
      "execution_count": 15,
      "id": "8d791ae8",
      "metadata": {
        "colab": {
          "base_uri": "https://localhost:8080/",
          "height": 320
        },
        "id": "8d791ae8",
        "outputId": "648a357c-c978-4466-800f-ff95bd9697a0"
      },
      "outputs": [
        {
          "output_type": "display_data",
          "data": {
            "text/plain": [
              "<Figure size 360x360 with 1 Axes>"
            ],
            "image/png": "[encoded data removed]"
          },
          "metadata": {}
        }
      ],
      "source": [
        "fig = plt.figure(figsize=(5,5))\n",
        "tags = df['feedback'].value_counts()\n",
        "tags.plot(kind='pie', autopct=\"%1.1f%%\", label='')\n",
        "plt.title(\"Distribution of the different sentiments\")\n",
        "plt.show()"
      ]
    },
    {
      "cell_type": "code",
      "execution_count": 16,
      "id": "29b3cd58",
      "metadata": {
        "colab": {
          "base_uri": "https://localhost:8080/"
        },
        "id": "29b3cd58",
        "outputId": "371bca64-aeab-4716-fc7e-d001b17cc2c1"
      },
      "outputs": [
        {
          "output_type": "stream",
          "name": "stdout",
          "text": [
            "Love my Echo! \n",
            "\n",
            "1 \n",
            "\n",
            "Loved it! \n",
            "\n",
            "1 \n",
            "\n",
            "Sometimes while playing a game, you can answer a question correctly but Alexa says you got it wrong and answers the same as you.  I like being able to turn lights on and off while away from home. \n",
            "\n",
            "1 \n",
            "\n",
            "I have had a lot of fun with this thing. My 4 yr old learns about dinosaurs, i control the lights and play games like categories. Has nice sound when playing music as well. \n",
            "\n",
            "1 \n",
            "\n",
            "Music \n",
            "\n",
            "1 \n",
            "\n"
          ]
        }
      ],
      "source": [
        "for i in range(5):\n",
        "    print(df['verified_reviews'].iloc[i], \"\\n\")\n",
        "    print(df['feedback'].iloc[i], \"\\n\")"
      ]
    },
    {
      "cell_type": "code",
      "execution_count": 17,
      "id": "0ed6ea45",
      "metadata": {
        "id": "0ed6ea45"
      },
      "outputs": [],
      "source": [
        "def data_processing(text):\n",
        "    text = text.lower()\n",
        "    text = re.sub(r\"https\\S+|www\\S+|http\\S+\", '', text, flags = re.MULTILINE)\n",
        "    text = re.sub(r'[^\\w\\s]','', text)\n",
        "    text_tokens = word_tokenize(text)\n",
        "    filtered_text = [w for w in text_tokens if not w in stop_words]\n",
        "    return \" \".join(filtered_text)"
      ]
    },
    {
      "cell_type": "code",
      "execution_count": 18,
      "id": "00d1d128",
      "metadata": {
        "colab": {
          "base_uri": "https://localhost:8080/"
        },
        "id": "00d1d128",
        "outputId": "21255305-a3d0-428f-c5b0-d0fc598af140"
      },
      "outputs": [
        {
          "output_type": "stream",
          "name": "stderr",
          "text": [
            "[nltk_data] Downloading package punkt to /root/nltk_data...\n",
            "[nltk_data]   Unzipping tokenizers/punkt.zip.\n"
          ]
        }
      ],
      "source": [
        "import nltk\n",
        "nltk.download('punkt')\n",
        "  \n",
        "df.verified_reviews = df['verified_reviews'].apply(data_processing)"
      ]
    },
    {
      "cell_type": "code",
      "execution_count": 19,
      "id": "4cd5a9e3",
      "metadata": {
        "id": "4cd5a9e3"
      },
      "outputs": [],
      "source": [
        "stemmer = PorterStemmer()\n",
        "def stemming(data):\n",
        "    text = [stemmer.stem(word) for word in data]\n",
        "    return data"
      ]
    },
    {
      "cell_type": "code",
      "execution_count": 20,
      "id": "8a2ebe4f",
      "metadata": {
        "id": "8a2ebe4f"
      },
      "outputs": [],
      "source": [
        "df['verified_reviews'] = df['verified_reviews'].apply(lambda x: stemming(x))"
      ]
    },
    {
      "cell_type": "code",
      "execution_count": 21,
      "id": "f634fdc6",
      "metadata": {
        "colab": {
          "base_uri": "https://localhost:8080/"
        },
        "id": "f634fdc6",
        "outputId": "c6dd502a-1547-4ab4-fec8-c0fa06d11d34"
      },
      "outputs": [
        {
          "output_type": "stream",
          "name": "stdout",
          "text": [
            "love echo \n",
            "\n",
            "1 \n",
            "\n",
            "loved \n",
            "\n",
            "1 \n",
            "\n",
            "sometimes playing game answer question correctly alexa says got wrong answers like able turn lights away home \n",
            "\n",
            "1 \n",
            "\n",
            "lot fun thing 4 yr old learns dinosaurs control lights play games like categories nice sound playing music well \n",
            "\n",
            "1 \n",
            "\n",
            "music \n",
            "\n",
            "1 \n",
            "\n"
          ]
        }
      ],
      "source": [
        "for i in range(5):\n",
        "    print(df['verified_reviews'].iloc[i], \"\\n\")\n",
        "    print(df['feedback'].iloc[i], \"\\n\")"
      ]
    },
    {
      "cell_type": "code",
      "execution_count": 22,
      "id": "3901a2f1",
      "metadata": {
        "colab": {
          "base_uri": "https://localhost:8080/",
          "height": 206
        },
        "id": "3901a2f1",
        "outputId": "f8270d5d-7547-4ff1-d438-8bb74de5ea27"
      },
      "outputs": [
        {
          "output_type": "execute_result",
          "data": {
            "text/plain": [
              "   rating       date         variation  \\\n",
              "0       5  31-Jul-18  Charcoal Fabric    \n",
              "1       5  31-Jul-18  Charcoal Fabric    \n",
              "2       4  31-Jul-18    Walnut Finish    \n",
              "3       5  31-Jul-18  Charcoal Fabric    \n",
              "4       5  31-Jul-18  Charcoal Fabric    \n",
              "\n",
              "                                    verified_reviews  feedback  \n",
              "0                                          love echo         1  \n",
              "1                                              loved         1  \n",
              "2  sometimes playing game answer question correct...         1  \n",
              "3  lot fun thing 4 yr old learns dinosaurs contro...         1  \n",
              "4                                              music         1  "
            ],
            "text/html": [
              "\n",
              "  <div id=\"df-6aa480a4-c662-4854-976e-d7af1945efa5\">\n",
              "    <div class=\"colab-df-container\">\n",
              "      <div>\n",
              "<style scoped>\n",
              "    .dataframe tbody tr th:only-of-type {\n",
              "        vertical-align: middle;\n",
              "    }\n",
              "\n",
              "    .dataframe tbody tr th {\n",
              "        vertical-align: top;\n",
              "    }\n",
              "\n",
              "    .dataframe thead th {\n",
              "        text-align: right;\n",
              "    }\n",
              "</style>\n",
              "<table border=\"1\" class=\"dataframe\">\n",
              "  <thead>\n",
              "    <tr style=\"text-align: right;\">\n",
              "      <th></th>\n",
              "      <th>rating</th>\n",
              "      <th>date</th>\n",
              "      <th>variation</th>\n",
              "      <th>verified_reviews</th>\n",
              "      <th>feedback</th>\n",
              "    </tr>\n",
              "  </thead>\n",
              "  <tbody>\n",
              "    <tr>\n",
              "      <th>0</th>\n",
              "      <td>5</td>\n",
              "      <td>31-Jul-18</td>\n",
              "      <td>Charcoal Fabric</td>\n",
              "      <td>love echo</td>\n",
              "      <td>1</td>\n",
              "    </tr>\n",
              "    <tr>\n",
              "      <th>1</th>\n",
              "      <td>5</td>\n",
              "      <td>31-Jul-18</td>\n",
              "      <td>Charcoal Fabric</td>\n",
              "      <td>loved</td>\n",
              "      <td>1</td>\n",
              "    </tr>\n",
              "    <tr>\n",
              "      <th>2</th>\n",
              "      <td>4</td>\n",
              "      <td>31-Jul-18</td>\n",
              "      <td>Walnut Finish</td>\n",
              "      <td>sometimes playing game answer question correct...</td>\n",
              "      <td>1</td>\n",
              "    </tr>\n",
              "    <tr>\n",
              "      <th>3</th>\n",
              "      <td>5</td>\n",
              "      <td>31-Jul-18</td>\n",
              "      <td>Charcoal Fabric</td>\n",
              "      <td>lot fun thing 4 yr old learns dinosaurs contro...</td>\n",
              "      <td>1</td>\n",
              "    </tr>\n",
              "    <tr>\n",
              "      <th>4</th>\n",
              "      <td>5</td>\n",
              "      <td>31-Jul-18</td>\n",
              "      <td>Charcoal Fabric</td>\n",
              "      <td>music</td>\n",
              "      <td>1</td>\n",
              "    </tr>\n",
              "  </tbody>\n",
              "</table>\n",
              "</div>\n",
              "      <button class=\"colab-df-convert\" onclick=\"convertToInteractive('df-6aa480a4-c662-4854-976e-d7af1945efa5')\"\n",
              "              title=\"Convert this dataframe to an interactive table.\"\n",
              "              style=\"display:none;\">\n",
              "        \n",
              "  <svg xmlns=\"http://www.w3.org/2000/svg\" height=\"24px\"viewBox=\"0 0 24 24\"\n",
              "       width=\"24px\">\n",
              "    <path d=\"M0 0h24v24H0V0z\" fill=\"none\"/>\n",
              "    <path d=\"M18.56 5.44l.94 2.06.94-2.06 2.06-.94-2.06-.94-.94-2.06-.94 2.06-2.06.94zm-11 1L8.5 8.5l.94-2.06 2.06-.94-2.06-.94L8.5 2.5l-.94 2.06-2.06.94zm10 10l.94 2.06.94-2.06 2.06-.94-2.06-.94-.94-2.06-.94 2.06-2.06.94z\"/><path d=\"M17.41 7.96l-1.37-1.37c-.4-.4-.92-.59-1.43-.59-.52 0-1.04.2-1.43.59L10.3 9.45l-7.72 7.72c-.78.78-.78 2.05 0 2.83L4 21.41c.39.39.9.59 1.41.59.51 0 1.02-.2 1.41-.59l7.78-7.78 2.81-2.81c.8-.78.8-2.07 0-2.86zM5.41 20L4 18.59l7.72-7.72 1.47 1.35L5.41 20z\"/>\n",
              "  </svg>\n",
              "      </button>\n",
              "      \n",
              "  <style>\n",
              "    .colab-df-container {\n",
              "      display:flex;\n",
              "      flex-wrap:wrap;\n",
              "      gap: 12px;\n",
              "    }\n",
              "\n",
              "    .colab-df-convert {\n",
              "      background-color: #E8F0FE;\n",
              "      border: none;\n",
              "      border-radius: 50%;\n",
              "      cursor: pointer;\n",
              "      display: none;\n",
              "      fill: #1967D2;\n",
              "      height: 32px;\n",
              "      padding: 0 0 0 0;\n",
              "      width: 32px;\n",
              "    }\n",
              "\n",
              "    .colab-df-convert:hover {\n",
              "      background-color: #E2EBFA;\n",
              "      box-shadow: 0px 1px 2px rgba(60, 64, 67, 0.3), 0px 1px 3px 1px rgba(60, 64, 67, 0.15);\n",
              "      fill: #174EA6;\n",
              "    }\n",
              "\n",
              "    [theme=dark] .colab-df-convert {\n",
              "      background-color: #3B4455;\n",
              "      fill: #D2E3FC;\n",
              "    }\n",
              "\n",
              "    [theme=dark] .colab-df-convert:hover {\n",
              "      background-color: #434B5C;\n",
              "      box-shadow: 0px 1px 3px 1px rgba(0, 0, 0, 0.15);\n",
              "      filter: drop-shadow(0px 1px 2px rgba(0, 0, 0, 0.3));\n",
              "      fill: #FFFFFF;\n",
              "    }\n",
              "  </style>\n",
              "\n",
              "      <script>\n",
              "        const buttonEl =\n",
              "          document.querySelector('#df-6aa480a4-c662-4854-976e-d7af1945efa5 button.colab-df-convert');\n",
              "        buttonEl.style.display =\n",
              "          google.colab.kernel.accessAllowed ? 'block' : 'none';\n",
              "\n",
              "        async function convertToInteractive(key) {\n",
              "          const element = document.querySelector('#df-6aa480a4-c662-4854-976e-d7af1945efa5');\n",
              "          const dataTable =\n",
              "            await google.colab.kernel.invokeFunction('convertToInteractive',\n",
              "                                                     [key], {});\n",
              "          if (!dataTable) return;\n",
              "\n",
              "          const docLinkHtml = 'Like what you see? Visit the ' +\n",
              "            '<a target=\"_blank\" href=https://colab.research.google.com/notebooks/data_table.ipynb>data table notebook</a>'\n",
              "            + ' to learn more about interactive tables.';\n",
              "          element.innerHTML = '';\n",
              "          dataTable['output_type'] = 'display_data';\n",
              "          await google.colab.output.renderOutput(dataTable, element);\n",
              "          const docLink = document.createElement('div');\n",
              "          docLink.innerHTML = docLinkHtml;\n",
              "          element.appendChild(docLink);\n",
              "        }\n",
              "      </script>\n",
              "    </div>\n",
              "  </div>\n",
              "  "
            ]
          },
          "metadata": {},
          "execution_count": 22
        }
      ],
      "source": [
        "pos_reviews= df[df.feedback==1]\n",
        "pos_reviews.head()"
      ]
    },
    {
      "cell_type": "code",
      "execution_count": 23,
      "id": "0696bb40",
      "metadata": {
        "colab": {
          "base_uri": "https://localhost:8080/",
          "height": 36
        },
        "id": "0696bb40",
        "outputId": "cc992c87-8146-499e-d189-014ce32817bc"
      },
      "outputs": [
        {
          "output_type": "display_data",
          "data": {
            "text/plain": [
              "<Figure size 1440x1080 with 0 Axes>"
            ]
          },
          "metadata": {}
        }
      ],
      "source": [
        "text = ' '.join([word for word in pos_reviews['verified_reviews']])\n",
        "plt.figure(figsize=(20,15), facecolor='None')\n",
        "wordcloud = WordCloud(max_words=500, width=1600, height=800).generate(text)\n",
        "# plt.imshow(wordcloud, interpolation='bilinear')\n",
        "# plt.axis(\"off\")\n",
        "# plt.title('Most frequent words in positive reviews', fontsize=19)\n",
        "# plt.show()"
      ]
    },
    {
      "cell_type": "code",
      "execution_count": 24,
      "id": "485bf682",
      "metadata": {
        "colab": {
          "base_uri": "https://localhost:8080/",
          "height": 206
        },
        "id": "485bf682",
        "outputId": "87c5e6b4-d702-4ec6-9f54-f92669c8795b"
      },
      "outputs": [
        {
          "output_type": "execute_result",
          "data": {
            "text/plain": [
              "     rating       date             variation  \\\n",
              "46        2  30-Jul-18      Charcoal Fabric    \n",
              "111       2  30-Jul-18      Charcoal Fabric    \n",
              "141       1  30-Jul-18      Charcoal Fabric    \n",
              "162       1  30-Jul-18     Sandstone Fabric    \n",
              "176       2  30-Jul-18  Heather Gray Fabric    \n",
              "\n",
              "                                      verified_reviews  feedback  \n",
              "46   like siri fact siri answers accurately alexa d...         0  \n",
              "111          sound terrible u want good music get bose         0  \n",
              "141                                      much features         0  \n",
              "162  stopped working 2 weeks didnt follow commands ...         0  \n",
              "176                                 sad joke worthless         0  "
            ],
            "text/html": [
              "\n",
              "  <div id=\"df-5dc2358f-0a6b-4613-a304-1c37477b0f0f\">\n",
              "    <div class=\"colab-df-container\">\n",
              "      <div>\n",
              "<style scoped>\n",
              "    .dataframe tbody tr th:only-of-type {\n",
              "        vertical-align: middle;\n",
              "    }\n",
              "\n",
              "    .dataframe tbody tr th {\n",
              "        vertical-align: top;\n",
              "    }\n",
              "\n",
              "    .dataframe thead th {\n",
              "        text-align: right;\n",
              "    }\n",
              "</style>\n",
              "<table border=\"1\" class=\"dataframe\">\n",
              "  <thead>\n",
              "    <tr style=\"text-align: right;\">\n",
              "      <th></th>\n",
              "      <th>rating</th>\n",
              "      <th>date</th>\n",
              "      <th>variation</th>\n",
              "      <th>verified_reviews</th>\n",
              "      <th>feedback</th>\n",
              "    </tr>\n",
              "  </thead>\n",
              "  <tbody>\n",
              "    <tr>\n",
              "      <th>46</th>\n",
              "      <td>2</td>\n",
              "      <td>30-Jul-18</td>\n",
              "      <td>Charcoal Fabric</td>\n",
              "      <td>like siri fact siri answers accurately alexa d...</td>\n",
              "      <td>0</td>\n",
              "    </tr>\n",
              "    <tr>\n",
              "      <th>111</th>\n",
              "      <td>2</td>\n",
              "      <td>30-Jul-18</td>\n",
              "      <td>Charcoal Fabric</td>\n",
              "      <td>sound terrible u want good music get bose</td>\n",
              "      <td>0</td>\n",
              "    </tr>\n",
              "    <tr>\n",
              "      <th>141</th>\n",
              "      <td>1</td>\n",
              "      <td>30-Jul-18</td>\n",
              "      <td>Charcoal Fabric</td>\n",
              "      <td>much features</td>\n",
              "      <td>0</td>\n",
              "    </tr>\n",
              "    <tr>\n",
              "      <th>162</th>\n",
              "      <td>1</td>\n",
              "      <td>30-Jul-18</td>\n",
              "      <td>Sandstone Fabric</td>\n",
              "      <td>stopped working 2 weeks didnt follow commands ...</td>\n",
              "      <td>0</td>\n",
              "    </tr>\n",
              "    <tr>\n",
              "      <th>176</th>\n",
              "      <td>2</td>\n",
              "      <td>30-Jul-18</td>\n",
              "      <td>Heather Gray Fabric</td>\n",
              "      <td>sad joke worthless</td>\n",
              "      <td>0</td>\n",
              "    </tr>\n",
              "  </tbody>\n",
              "</table>\n",
              "</div>\n",
              "      <button class=\"colab-df-convert\" onclick=\"convertToInteractive('df-5dc2358f-0a6b-4613-a304-1c37477b0f0f')\"\n",
              "              title=\"Convert this dataframe to an interactive table.\"\n",
              "              style=\"display:none;\">\n",
              "        \n",
              "  <svg xmlns=\"http://www.w3.org/2000/svg\" height=\"24px\"viewBox=\"0 0 24 24\"\n",
              "       width=\"24px\">\n",
              "    <path d=\"M0 0h24v24H0V0z\" fill=\"none\"/>\n",
              "    <path d=\"M18.56 5.44l.94 2.06.94-2.06 2.06-.94-2.06-.94-.94-2.06-.94 2.06-2.06.94zm-11 1L8.5 8.5l.94-2.06 2.06-.94-2.06-.94L8.5 2.5l-.94 2.06-2.06.94zm10 10l.94 2.06.94-2.06 2.06-.94-2.06-.94-.94-2.06-.94 2.06-2.06.94z\"/><path d=\"M17.41 7.96l-1.37-1.37c-.4-.4-.92-.59-1.43-.59-.52 0-1.04.2-1.43.59L10.3 9.45l-7.72 7.72c-.78.78-.78 2.05 0 2.83L4 21.41c.39.39.9.59 1.41.59.51 0 1.02-.2 1.41-.59l7.78-7.78 2.81-2.81c.8-.78.8-2.07 0-2.86zM5.41 20L4 18.59l7.72-7.72 1.47 1.35L5.41 20z\"/>\n",
              "  </svg>\n",
              "      </button>\n",
              "      \n",
              "  <style>\n",
              "    .colab-df-container {\n",
              "      display:flex;\n",
              "      flex-wrap:wrap;\n",
              "      gap: 12px;\n",
              "    }\n",
              "\n",
              "    .colab-df-convert {\n",
              "      background-color: #E8F0FE;\n",
              "      border: none;\n",
              "      border-radius: 50%;\n",
              "      cursor: pointer;\n",
              "      display: none;\n",
              "      fill: #1967D2;\n",
              "      height: 32px;\n",
              "      padding: 0 0 0 0;\n",
              "      width: 32px;\n",
              "    }\n",
              "\n",
              "    .colab-df-convert:hover {\n",
              "      background-color: #E2EBFA;\n",
              "      box-shadow: 0px 1px 2px rgba(60, 64, 67, 0.3), 0px 1px 3px 1px rgba(60, 64, 67, 0.15);\n",
              "      fill: #174EA6;\n",
              "    }\n",
              "\n",
              "    [theme=dark] .colab-df-convert {\n",
              "      background-color: #3B4455;\n",
              "      fill: #D2E3FC;\n",
              "    }\n",
              "\n",
              "    [theme=dark] .colab-df-convert:hover {\n",
              "      background-color: #434B5C;\n",
              "      box-shadow: 0px 1px 3px 1px rgba(0, 0, 0, 0.15);\n",
              "      filter: drop-shadow(0px 1px 2px rgba(0, 0, 0, 0.3));\n",
              "      fill: #FFFFFF;\n",
              "    }\n",
              "  </style>\n",
              "\n",
              "      <script>\n",
              "        const buttonEl =\n",
              "          document.querySelector('#df-5dc2358f-0a6b-4613-a304-1c37477b0f0f button.colab-df-convert');\n",
              "        buttonEl.style.display =\n",
              "          google.colab.kernel.accessAllowed ? 'block' : 'none';\n",
              "\n",
              "        async function convertToInteractive(key) {\n",
              "          const element = document.querySelector('#df-5dc2358f-0a6b-4613-a304-1c37477b0f0f');\n",
              "          const dataTable =\n",
              "            await google.colab.kernel.invokeFunction('convertToInteractive',\n",
              "                                                     [key], {});\n",
              "          if (!dataTable) return;\n",
              "\n",
              "          const docLinkHtml = 'Like what you see? Visit the ' +\n",
              "            '<a target=\"_blank\" href=https://colab.research.google.com/notebooks/data_table.ipynb>data table notebook</a>'\n",
              "            + ' to learn more about interactive tables.';\n",
              "          element.innerHTML = '';\n",
              "          dataTable['output_type'] = 'display_data';\n",
              "          await google.colab.output.renderOutput(dataTable, element);\n",
              "          const docLink = document.createElement('div');\n",
              "          docLink.innerHTML = docLinkHtml;\n",
              "          element.appendChild(docLink);\n",
              "        }\n",
              "      </script>\n",
              "    </div>\n",
              "  </div>\n",
              "  "
            ]
          },
          "metadata": {},
          "execution_count": 24
        }
      ],
      "source": [
        "neg_reviews= df[df.feedback==0]\n",
        "neg_reviews.head()"
      ]
    },
    {
      "cell_type": "code",
      "execution_count": 25,
      "id": "f168633b",
      "metadata": {
        "colab": {
          "base_uri": "https://localhost:8080/",
          "height": 36
        },
        "id": "f168633b",
        "outputId": "09b54bda-f048-465d-dabc-0c50b279db11"
      },
      "outputs": [
        {
          "output_type": "display_data",
          "data": {
            "text/plain": [
              "<Figure size 1440x1080 with 0 Axes>"
            ]
          },
          "metadata": {}
        }
      ],
      "source": [
        "text = ' '.join([word for word in neg_reviews['verified_reviews']])\n",
        "plt.figure(figsize=(20,15), facecolor='None')\n",
        "wordcloud = WordCloud(max_words=500, width=1600, height=800).generate(text)\n",
        "# plt.imshow(wordcloud, interpolation='bilinear')\n",
        "# plt.axis(\"off\")\n",
        "# plt.title('Most frequent words in negative reviews', fontsize=19)\n",
        "# plt.show()"
      ]
    },
    {
      "cell_type": "code",
      "execution_count": 26,
      "id": "d8bc2942",
      "metadata": {
        "id": "d8bc2942"
      },
      "outputs": [],
      "source": [
        "from keras.models import Sequential\n",
        "from keras.preprocessing.text import Tokenizer\n",
        "from keras.utils import pad_sequences\n",
        "from keras.layers import Dense, Embedding, LSTM, SpatialDropout1D"
      ]
    },
    {
      "cell_type": "code",
      "execution_count": 27,
      "id": "076db3f3",
      "metadata": {
        "colab": {
          "base_uri": "https://localhost:8080/"
        },
        "id": "076db3f3",
        "outputId": "f9f2cc57-9c31-477a-a140-6664d9b9a7f0"
      },
      "outputs": [
        {
          "output_type": "execute_result",
          "data": {
            "text/plain": [
              "array([[  0,   0,   0, ...,   0,   1,   2],\n",
              "       [  0,   0,   0, ...,   0,   0, 175],\n",
              "       [  0,   0,   0, ...,  71, 260,  21],\n",
              "       ...,\n",
              "       [  0,   0,   0, ...,  86,  45,  28],\n",
              "       [  0,   0,   0, ..., 111, 122, 107],\n",
              "       [  0,   0,   0, ...,   0,   0,  14]], dtype=int32)"
            ]
          },
          "metadata": {},
          "execution_count": 27
        }
      ],
      "source": [
        "tokenizer = Tokenizer(num_words=500, split=' ')\n",
        "tokenizer.fit_on_texts(df['verified_reviews'])\n",
        "X = tokenizer.texts_to_sequences(df['verified_reviews'])\n",
        "X = pad_sequences(X)\n",
        "X"
      ]
    },
    {
      "cell_type": "code",
      "execution_count": 28,
      "id": "3ed9c1b3",
      "metadata": {
        "colab": {
          "base_uri": "https://localhost:8080/"
        },
        "id": "3ed9c1b3",
        "outputId": "352437fc-7f85-49fd-e322-1bae6a2c55fa"
      },
      "outputs": [
        {
          "output_type": "execute_result",
          "data": {
            "text/plain": [
              "(3150, 145)"
            ]
          },
          "metadata": {},
          "execution_count": 28
        }
      ],
      "source": [
        "X.shape"
      ]
    },
    {
      "cell_type": "code",
      "execution_count": 29,
      "id": "e8c29b34",
      "metadata": {
        "id": "e8c29b34"
      },
      "outputs": [],
      "source": [
        "Y = df['feedback']"
      ]
    },
    {
      "cell_type": "code",
      "execution_count": 30,
      "id": "6eb633db",
      "metadata": {
        "id": "6eb633db"
      },
      "outputs": [],
      "source": [
        "x_train, x_test, y_train, y_test = train_test_split(X, Y, test_size=0.2, random_state=42)"
      ]
    },
    {
      "cell_type": "code",
      "execution_count": 31,
      "id": "41dc2f82",
      "metadata": {
        "colab": {
          "base_uri": "https://localhost:8080/"
        },
        "id": "41dc2f82",
        "outputId": "0be9e813-cb97-4f07-e2ee-c0c614d0be9e"
      },
      "outputs": [
        {
          "output_type": "stream",
          "name": "stdout",
          "text": [
            "Size of x_train:  (2520, 145)\n",
            "Size of y_train:  (2520,)\n",
            "Size of x_test:  (630, 145)\n",
            "Size of y_test:  (630,)\n"
          ]
        }
      ],
      "source": [
        "print(\"Size of x_train: \", (x_train.shape))\n",
        "print(\"Size of y_train: \", (y_train.shape))\n",
        "print(\"Size of x_test: \", (x_test.shape))\n",
        "print(\"Size of y_test: \", (y_test.shape))"
      ]
    },
    {
      "cell_type": "markdown",
      "source": [
        "# Preparing data for machine learning"
      ],
      "metadata": {
        "id": "TDtOsUFol0JU"
      },
      "id": "TDtOsUFol0JU"
    },
    {
      "cell_type": "code",
      "source": [
        "def calculate_confusion(name,y_train, y_pred_train, y_test, y_pred_test):\n",
        "  \n",
        "  # Making the Confusion Matrix\n",
        "  from sklearn.metrics import confusion_matrix\n",
        "  from sklearn.metrics import plot_confusion_matrix\n",
        "\n",
        "  cm1  = confusion_matrix(y_train, y_pred_train)\n",
        "  cm2  = confusion_matrix(y_test, y_pred_test)\n",
        "\n",
        "  test_calc = pd.concat([pd.DataFrame(y_train).reset_index(drop=True),pd.DataFrame(y_pred_train).reset_index(drop=True)],axis=1)\n",
        "  test_calc.rename(columns={0: 'predicted'}, inplace=True)\n",
        "\n",
        "  Accuracy1  = (cm1[0,0] + cm1[1,1]) / (cm1[0,0] + cm1[0,1] + cm1[1,0] + cm1[1,1])\n",
        "  precision1  = cm1[1,1] / (cm1[1,1] + cm1[0,1])\n",
        "  recall1        = cm1[1,1] / (cm1[1,1] + cm1[1,0])\n",
        "\n",
        "  print('Performance Criteria in Training Case for %s' %name)\n",
        "  print('Accuracy  %.3f' %Accuracy1)\n",
        "  print ('precision %.3f' % precision1)\n",
        "  print('recall %.3f' % recall1)\n",
        "\n",
        "  ##########################################\n",
        "  test_calc = pd.concat([pd.DataFrame(y_train).reset_index(drop=True),pd.DataFrame(y_pred_train).reset_index(drop=True)],axis=1)\n",
        "  test_calc.rename(columns={0: 'predicted'}, inplace=True)\n",
        "\n",
        "  Accuracy2 = (cm2[0,0] + cm2[1,1]) / (cm2[0,0] + cm2[0,1] + cm2[1,0] + cm2[1,1])\n",
        "  precision2 = cm2[1,1] / (cm2[1,1] + cm2[0,1])\n",
        "  recall2       = cm2[1,1] / (cm2[1,1] + cm2[1,0])\n",
        "\n",
        "  print('====================')\n",
        "  print('Performance Criteria in Testing Case for %s' %name)\n",
        "  print('Accuracy  %.3f' %Accuracy2)\n",
        "  print ('precision %.3f' % precision2)\n",
        "  print('recall %.3f' % recall2)\n",
        "\n",
        "  cm_train = pd.DataFrame(cm1, range(2), range(2))\n",
        "  cm_test  = pd.DataFrame(cm2, range(2), range(2))\n",
        "\n",
        "  f,(ax1,ax2) = plt.subplots(1,2,figsize=(7, 3), sharey=True)\n",
        "\n",
        "  g1 = sns.heatmap(cm_train,cbar=False,ax=ax1,annot=True, fmt=\".1f\",cmap=\"viridis\",annot_kws={\"size\": 15})\n",
        "  g1.set_title('Training case',fontname= 'serif',fontsize=10, color='k')\n",
        "\n",
        "  g2 = sns.heatmap(cm_test,cbar=False,ax=ax2,annot=True, fmt=\".1f\",cmap=\"viridis\",annot_kws={\"size\": 15})\n",
        "  g2.set_title('Testing case', fontname= 'serif',fontsize=10, color='k')\n",
        "  \n",
        "  f.suptitle(' Confusion matrix for '+name, fontsize=11)\n",
        "  plt.savefig(name + \".png\")\n",
        "  plt.show()"
      ],
      "metadata": {
        "id": "gdENUz6ElyMr"
      },
      "execution_count": 44,
      "outputs": [],
      "id": "gdENUz6ElyMr"
    },
    {
      "cell_type": "code",
      "source": [
        "#set up plotting area\n",
        "from matplotlib.pyplot import figure\n",
        "from sklearn import metrics\n",
        "from sklearn.metrics import confusion_matrix\n",
        "from sklearn.metrics import plot_confusion_matrix\n",
        "\n",
        "# Making the Confusion Matrix \n",
        "from sklearn.metrics import confusion_matrix\n",
        "from sklearn.metrics import plot_confusion_matrix\n",
        "\n",
        "from sklearn.model_selection import train_test_split, KFold, cross_val_score\n",
        "from sklearn.linear_model import LogisticRegression\n",
        "from sklearn.svm import SVC\n",
        "from sklearn.ensemble import GradientBoostingClassifier\n",
        "from sklearn.naive_bayes import GaussianNB\n",
        "from sklearn.ensemble import RandomForestClassifier\n",
        "from sklearn.neighbors import KNeighborsClassifier"
      ],
      "metadata": {
        "id": "ARx2yYHDml3q"
      },
      "id": "ARx2yYHDml3q",
      "execution_count": 46,
      "outputs": []
    },
    {
      "cell_type": "code",
      "source": [
        "# We now prepare our selected models\n",
        "models  = []\n",
        "results   = []\n",
        "names   = []\n",
        "scoring  = 'accuracy'\n",
        "names   = ['LRC', 'SVC', 'GBC', 'GNB', 'RFC', 'KNC']\n",
        "\n",
        "#LogisticRegression ####################################\n",
        "from sklearn.linear_model import LogisticRegression\n",
        "lr = LogisticRegression()\n",
        "lr.fit(x_train, y_train)\n",
        "y_pred_train = lr.predict(x_train)\n",
        "y_pred_test  = lr.predict(x_test)\n",
        "calculate_confusion(\"LR\",y_train, y_pred_train, y_test, y_pred_test)\n",
        "fpr1, tpr1, _ = metrics.roc_curve(y_test, y_pred_test)\n",
        "auc = round(metrics.roc_auc_score(y_test, y_pred_test), 4)\n",
        "cv_results = cross_val_score(lr, x_train, y_train)\n",
        "results.append(cv_results)\n",
        "\n",
        "#SVM ####################################\n",
        "from sklearn.svm import SVC\n",
        "svm = SVC()\n",
        "svm.fit(x_train, y_train)\n",
        "y_pred_train = svm.predict(x_train)\n",
        "y_pred_test  = svm.predict(x_test)\n",
        "calculate_confusion(\"SVM\",y_train, y_pred_train, y_test, y_pred_test)\n",
        "# plt.savefig('ConfMatrix_SVC.png')\n",
        "fpr2, tpr2, _ = metrics.roc_curve(y_test, y_pred_test)\n",
        "auc = round(metrics.roc_auc_score(y_test, y_pred_test), 4)\n",
        "cv_results = cross_val_score(svm, x_train, y_train)\n",
        "results.append(cv_results)\n",
        "# ax1.plot(fpr2,tpr2,label=\"SVC, AUC=\"+str(auc))\n",
        "\n",
        "#GradientBoostingClassifier\n",
        "from sklearn.ensemble import GradientBoostingClassifier\n",
        "GBC = GradientBoostingClassifier()\n",
        "GBC.fit(x_train, y_train)\n",
        "y_pred_train = GBC.predict(x_train)\n",
        "y_pred_test  = GBC.predict(x_test)\n",
        "calculate_confusion(\"GBC\",y_train, y_pred_train, y_test, y_pred_test)\n",
        "# plt.savefig('ConfMatrix_GBC.png')\n",
        "fpr3, tpr3, _ = metrics.roc_curve(y_test, y_pred_test)\n",
        "auc = round(metrics.roc_auc_score(y_test, y_pred_test), 4)\n",
        "cv_results = cross_val_score(GBC, x_train, y_train)\n",
        "results.append(cv_results)\n",
        "# ax1.plot(fpr3,tpr3,label=\"GBC, AUC=\"+str(auc))\n",
        "\n",
        "#GaussianNB\n",
        "from sklearn.naive_bayes import GaussianNB\n",
        "GNB = GaussianNB()\n",
        "GNB.fit(x_train, y_train)\n",
        "y_pred_train = GNB.predict(x_train)\n",
        "y_pred_test  = GNB.predict(x_test)\n",
        "calculate_confusion(\"GNB\",y_train, y_pred_train, y_test, y_pred_test)\n",
        "# plt.savefig('ConfMatrix_GNB.png')\n",
        "fpr4, tpr4, _ = metrics.roc_curve(y_test, y_pred_test)\n",
        "auc = round(metrics.roc_auc_score(y_test, y_pred_test), 4)\n",
        "cv_results = cross_val_score(GNB, x_train, y_train)\n",
        "results.append(cv_results)\n",
        "# ax1.plot(fpr4,tpr4,label=\"GaussianNB, AUC=\"+str(auc))\n",
        "\n",
        "# A random forest classifier.\n",
        "# A random forest is a meta estimator that fits a number of decision tree \n",
        "# classifiers on various sub-samples of the dataset and uses averaging to \n",
        "# improve the predictive accuracy and control over-fitting. The sub-sample size \n",
        "# is controlled with the max_samples parameter if bootstrap=True (default), \n",
        "# otherwise the whole dataset is used to build each tree.\n",
        "\n",
        "# KNN Model\n",
        "from sklearn.neighbors import KNeighborsClassifier\n",
        "KNC = KNeighborsClassifier()\n",
        "KNC.fit(x_train, y_train)\n",
        "y_pred_train = KNC.predict(x_train)\n",
        "y_pred_test  = KNC.predict(x_test)\n",
        "calculate_confusion(\"KNC\",y_train, y_pred_train, y_test, y_pred_test)\n",
        "# plt.savefig('ConfMatrix_KNC.png')\n",
        "fpr5, tpr5, _ = metrics.roc_curve(y_test, y_pred_test)\n",
        "auc = round(metrics.roc_auc_score(y_test, y_pred_test), 4)\n",
        "cv_results = cross_val_score(KNC, x_train, y_train)\n",
        "results.append(cv_results)\n",
        "# ax1.plot(fpr5,tpr5,label=\"KNN, AUC=\"+str(auc))\n",
        "\n",
        "# Decision Tree Model\n",
        "from sklearn import tree\n",
        "DT = tree.DecisionTreeClassifier(criterion='gini', splitter='best', max_depth=None)\n",
        "DT.fit(x_train, y_train)\n",
        "y_pred_train = DT.predict(x_train)\n",
        "y_pred_test  = DT.predict(x_test)\n",
        "calculate_confusion(\"DT\",y_train, y_pred_train, y_test, y_pred_test)\n",
        "# plt.savefig('ConfMatrix_KNC.png')\n",
        "fpr6, tpr6, _ = metrics.roc_curve(y_test, y_pred_test)\n",
        "auc = round(metrics.roc_auc_score(y_test, y_pred_test), 4)\n",
        "cv_results = cross_val_score(DT, x_train, y_train)\n",
        "results.append(cv_results)\n",
        "# tree.plot_tree(clf)\n",
        "# ax1.plot(fpr6,tpr6,label=\"DT, AUC=\"+str(auc))\n",
        "\n",
        "#RandomForestClassifier\n",
        "from sklearn.ensemble import RandomForestClassifier\n",
        "RFC = RandomForestClassifier(n_estimators=100, criterion='gini', max_depth=None)\n",
        "RFC.fit(x_train, y_train)\n",
        "y_pred_train = RFC.predict(x_train)\n",
        "y_pred_test  = RFC.predict(x_test)\n",
        "calculate_confusion(\"RFC\",y_train, y_pred_train, y_test, y_pred_test)\n",
        "# plt.savefig('ConfMatrix_RFC.png')\n",
        "fpr7, tpr7, _ = metrics.roc_curve(y_test, y_pred_test)\n",
        "auc = round(metrics.roc_auc_score(y_test, y_pred_test), 4)\n",
        "cv_results = cross_val_score(RFC, x_train, y_train)\n",
        "results.append(cv_results)\n",
        "# ax1.plot(fpr7,tpr7,label=\"RandomForestClassifier, AUC=\"+str(auc))\n",
        "\n",
        "#Neural network\n",
        "from sklearn.neural_network import MLPClassifier\n",
        "ANN = MLPClassifier(solver='lbfgs', alpha=1e-5,hidden_layer_sizes=(5, 2), random_state=1)\n",
        "ANN.fit(x_train, y_train)\n",
        "y_pred_train = ANN.predict(x_train)\n",
        "y_pred_test  = ANN.predict(x_test)\n",
        "calculate_confusion(\"ANN\",y_train, y_pred_train, y_test, y_pred_test)\n",
        "# plt.savefig('ConfMatrix_RFC.png')\n",
        "fpr8, tpr8, _ = metrics.roc_curve(y_test, y_pred_test)\n",
        "auc = round(metrics.roc_auc_score(y_test, y_pred_test), 4)\n",
        "cv_results = cross_val_score(ANN, x_train, y_train)\n",
        "results.append(cv_results)\n",
        "# ax1.plot(fpr8,tpr8,label=\"MLPClassifier, AUC=\"+str(auc))"
      ],
      "metadata": {
        "colab": {
          "base_uri": "https://localhost:8080/",
          "height": 1000
        },
        "id": "R3C9uzf7hY5e",
        "outputId": "1a31c67b-c76c-4e67-897d-3d51cbd93eb3"
      },
      "execution_count": 47,
      "outputs": [
        {
          "output_type": "stream",
          "name": "stderr",
          "text": [
            "/usr/local/lib/python3.8/dist-packages/sklearn/linear_model/_logistic.py:814: ConvergenceWarning: lbfgs failed to converge (status=1):\n",
            "STOP: TOTAL NO. of ITERATIONS REACHED LIMIT.\n",
            "\n",
            "Increase the number of iterations (max_iter) or scale the data as shown in:\n",
            "    https://scikit-learn.org/stable/modules/preprocessing.html\n",
            "Please also refer to the documentation for alternative solver options:\n",
            "    https://scikit-learn.org/stable/modules/linear_model.html#logistic-regression\n",
            "  n_iter_i = _check_optimize_result(\n"
          ]
        },
        {
          "output_type": "stream",
          "name": "stdout",
          "text": [
            "Performance Criteria in Training Case for LR\n",
            "Accuracy  0.922\n",
            "precision 0.925\n",
            "recall 0.996\n",
            "====================\n",
            "Performance Criteria in Testing Case for LR\n",
            "Accuracy  0.906\n",
            "precision 0.913\n",
            "recall 0.991\n"
          ]
        },
        {
          "output_type": "display_data",
          "data": {
            "text/plain": [
              "<Figure size 504x216 with 2 Axes>"
            ],
            "image/png": "[encoded data removed]"
          },
          "metadata": {}
        },
        {
          "output_type": "stream",
          "name": "stderr",
          "text": [
            "/usr/local/lib/python3.8/dist-packages/sklearn/linear_model/_logistic.py:814: ConvergenceWarning: lbfgs failed to converge (status=1):\n",
            "STOP: TOTAL NO. of ITERATIONS REACHED LIMIT.\n",
            "\n",
            "Increase the number of iterations (max_iter) or scale the data as shown in:\n",
            "    https://scikit-learn.org/stable/modules/preprocessing.html\n",
            "Please also refer to the documentation for alternative solver options:\n",
            "    https://scikit-learn.org/stable/modules/linear_model.html#logistic-regression\n",
            "  n_iter_i = _check_optimize_result(\n",
            "/usr/local/lib/python3.8/dist-packages/sklearn/linear_model/_logistic.py:814: ConvergenceWarning: lbfgs failed to converge (status=1):\n",
            "STOP: TOTAL NO. of ITERATIONS REACHED LIMIT.\n",
            "\n",
            "Increase the number of iterations (max_iter) or scale the data as shown in:\n",
            "    https://scikit-learn.org/stable/modules/preprocessing.html\n",
            "Please also refer to the documentation for alternative solver options:\n",
            "    https://scikit-learn.org/stable/modules/linear_model.html#logistic-regression\n",
            "  n_iter_i = _check_optimize_result(\n",
            "/usr/local/lib/python3.8/dist-packages/sklearn/linear_model/_logistic.py:814: ConvergenceWarning: lbfgs failed to converge (status=1):\n",
            "STOP: TOTAL NO. of ITERATIONS REACHED LIMIT.\n",
            "\n",
            "Increase the number of iterations (max_iter) or scale the data as shown in:\n",
            "    https://scikit-learn.org/stable/modules/preprocessing.html\n",
            "Please also refer to the documentation for alternative solver options:\n",
            "    https://scikit-learn.org/stable/modules/linear_model.html#logistic-regression\n",
            "  n_iter_i = _check_optimize_result(\n",
            "/usr/local/lib/python3.8/dist-packages/sklearn/linear_model/_logistic.py:814: ConvergenceWarning: lbfgs failed to converge (status=1):\n",
            "STOP: TOTAL NO. of ITERATIONS REACHED LIMIT.\n",
            "\n",
            "Increase the number of iterations (max_iter) or scale the data as shown in:\n",
            "    https://scikit-learn.org/stable/modules/preprocessing.html\n",
            "Please also refer to the documentation for alternative solver options:\n",
            "    https://scikit-learn.org/stable/modules/linear_model.html#logistic-regression\n",
            "  n_iter_i = _check_optimize_result(\n",
            "/usr/local/lib/python3.8/dist-packages/sklearn/linear_model/_logistic.py:814: ConvergenceWarning: lbfgs failed to converge (status=1):\n",
            "STOP: TOTAL NO. of ITERATIONS REACHED LIMIT.\n",
            "\n",
            "Increase the number of iterations (max_iter) or scale the data as shown in:\n",
            "    https://scikit-learn.org/stable/modules/preprocessing.html\n",
            "Please also refer to the documentation for alternative solver options:\n",
            "    https://scikit-learn.org/stable/modules/linear_model.html#logistic-regression\n",
            "  n_iter_i = _check_optimize_result(\n"
          ]
        },
        {
          "output_type": "stream",
          "name": "stdout",
          "text": [
            "Performance Criteria in Training Case for SVM\n",
            "Accuracy  0.937\n",
            "precision 0.936\n",
            "recall 1.000\n",
            "====================\n",
            "Performance Criteria in Testing Case for SVM\n",
            "Accuracy  0.913\n",
            "precision 0.912\n",
            "recall 1.000\n"
          ]
        },
        {
          "output_type": "display_data",
          "data": {
            "text/plain": [
              "<Figure size 504x216 with 2 Axes>"
            ],
            "image/png": "[encoded data removed]"
          },
          "metadata": {}
        },
        {
          "output_type": "stream",
          "name": "stdout",
          "text": [
            "Performance Criteria in Training Case for GBC\n",
            "Accuracy  0.944\n",
            "precision 0.943\n",
            "recall 1.000\n",
            "====================\n",
            "Performance Criteria in Testing Case for GBC\n",
            "Accuracy  0.913\n",
            "precision 0.918\n",
            "recall 0.993\n"
          ]
        },
        {
          "output_type": "display_data",
          "data": {
            "text/plain": [
              "<Figure size 504x216 with 2 Axes>"
            ],
            "image/png": "[encoded data removed]"
          },
          "metadata": {}
        },
        {
          "output_type": "stream",
          "name": "stdout",
          "text": [
            "Performance Criteria in Training Case for GNB\n",
            "Accuracy  0.086\n",
            "precision 1.000\n",
            "recall 0.008\n",
            "====================\n",
            "Performance Criteria in Testing Case for GNB\n",
            "Accuracy  0.094\n",
            "precision 1.000\n",
            "recall 0.002\n"
          ]
        },
        {
          "output_type": "display_data",
          "data": {
            "text/plain": [
              "<Figure size 504x216 with 2 Axes>"
            ],
            "image/png": "[encoded data removed]"
          },
          "metadata": {}
        },
        {
          "output_type": "stream",
          "name": "stdout",
          "text": [
            "Performance Criteria in Training Case for KNC\n",
            "Accuracy  0.925\n",
            "precision 0.927\n",
            "recall 0.996\n",
            "====================\n",
            "Performance Criteria in Testing Case for KNC\n",
            "Accuracy  0.906\n",
            "precision 0.910\n",
            "recall 0.995\n"
          ]
        },
        {
          "output_type": "display_data",
          "data": {
            "text/plain": [
              "<Figure size 504x216 with 2 Axes>"
            ],
            "image/png": "[encoded data removed]"
          },
          "metadata": {}
        },
        {
          "output_type": "stream",
          "name": "stdout",
          "text": [
            "Performance Criteria in Training Case for DT\n",
            "Accuracy  0.991\n",
            "precision 0.991\n",
            "recall 1.000\n",
            "====================\n",
            "Performance Criteria in Testing Case for DT\n",
            "Accuracy  0.905\n",
            "precision 0.937\n",
            "recall 0.960\n"
          ]
        },
        {
          "output_type": "display_data",
          "data": {
            "text/plain": [
              "<Figure size 504x216 with 2 Axes>"
            ],
            "image/png": "[encoded data removed]"
          },
          "metadata": {}
        },
        {
          "output_type": "stream",
          "name": "stdout",
          "text": [
            "Performance Criteria in Training Case for RFC\n",
            "Accuracy  0.991\n",
            "precision 0.991\n",
            "recall 1.000\n",
            "====================\n",
            "Performance Criteria in Testing Case for RFC\n",
            "Accuracy  0.937\n",
            "precision 0.935\n",
            "recall 1.000\n"
          ]
        },
        {
          "output_type": "display_data",
          "data": {
            "text/plain": [
              "<Figure size 504x216 with 2 Axes>"
            ],
            "image/png": "[encoded data removed]"
          },
          "metadata": {}
        },
        {
          "output_type": "stream",
          "name": "stdout",
          "text": [
            "Performance Criteria in Training Case for ANN\n",
            "Accuracy  0.921\n",
            "precision 0.921\n",
            "recall 1.000\n",
            "====================\n",
            "Performance Criteria in Testing Case for ANN\n",
            "Accuracy  0.908\n",
            "precision 0.908\n",
            "recall 1.000\n"
          ]
        },
        {
          "output_type": "display_data",
          "data": {
            "text/plain": [
              "<Figure size 504x216 with 2 Axes>"
            ],
            "image/png": "[encoded data removed]"
          },
          "metadata": {}
        }
      ],
      "id": "R3C9uzf7hY5e"
    },
    {
      "cell_type": "code",
      "execution_count": 33,
      "id": "809ffc6a",
      "metadata": {
        "colab": {
          "base_uri": "https://localhost:8080/"
        },
        "id": "809ffc6a",
        "outputId": "46b5f784-f150-45fb-c90a-524962d6b913"
      },
      "outputs": [
        {
          "output_type": "stream",
          "name": "stdout",
          "text": [
            "Model: \"sequential\"\n",
            "_________________________________________________________________\n",
            " Layer (type)                Output Shape              Param #   \n",
            "=================================================================\n",
            " embedding (Embedding)       (None, 145, 120)          60000     \n",
            "                                                                 \n",
            " spatial_dropout1d (SpatialD  (None, 145, 120)         0         \n",
            " ropout1D)                                                       \n",
            "                                                                 \n",
            " lstm (LSTM)                 (None, 64)                47360     \n",
            "                                                                 \n",
            " dense (Dense)               (None, 1)                 65        \n",
            "                                                                 \n",
            "=================================================================\n",
            "Total params: 107,425\n",
            "Trainable params: 107,425\n",
            "Non-trainable params: 0\n",
            "_________________________________________________________________\n",
            "None\n"
          ]
        }
      ],
      "source": [
        "model = Sequential()\n",
        "model.add(Embedding(500, 120, input_length= X.shape[1]))\n",
        "model.add(SpatialDropout1D(0.4))\n",
        "model.add(LSTM(64))\n",
        "model.add(Dense(1, activation='sigmoid'))\n",
        "model.compile(loss='binary_crossentropy', optimizer='adam', metrics=['accuracy'])\n",
        "print(model.summary())"
      ]
    },
    {
      "cell_type": "code",
      "execution_count": 34,
      "id": "d5d7b335",
      "metadata": {
        "scrolled": true,
        "colab": {
          "base_uri": "https://localhost:8080/"
        },
        "id": "d5d7b335",
        "outputId": "0bbfb731-a37f-4815-ceed-1af24960e747"
      },
      "outputs": [
        {
          "output_type": "stream",
          "name": "stdout",
          "text": [
            "Epoch 1/10\n",
            "79/79 [==============================] - 19s 181ms/step - loss: 0.3195 - accuracy: 0.9171\n",
            "Epoch 2/10\n",
            "79/79 [==============================] - 9s 117ms/step - loss: 0.2310 - accuracy: 0.9222\n",
            "Epoch 3/10\n",
            "79/79 [==============================] - 10s 131ms/step - loss: 0.1565 - accuracy: 0.9433\n",
            "Epoch 4/10\n",
            "79/79 [==============================] - 10s 132ms/step - loss: 0.1254 - accuracy: 0.9516\n",
            "Epoch 5/10\n",
            "79/79 [==============================] - 10s 131ms/step - loss: 0.1338 - accuracy: 0.9429\n",
            "Epoch 6/10\n",
            "79/79 [==============================] - 13s 171ms/step - loss: 0.0972 - accuracy: 0.9639\n",
            "Epoch 7/10\n",
            "79/79 [==============================] - 9s 114ms/step - loss: 0.0826 - accuracy: 0.9679\n",
            "Epoch 8/10\n",
            "79/79 [==============================] - 10s 131ms/step - loss: 0.0752 - accuracy: 0.9706\n",
            "Epoch 9/10\n",
            "79/79 [==============================] - 10s 130ms/step - loss: 0.0635 - accuracy: 0.9778\n",
            "Epoch 10/10\n",
            "79/79 [==============================] - 10s 132ms/step - loss: 0.0550 - accuracy: 0.9790\n"
          ]
        }
      ],
      "source": [
        "history = model.fit(x_train, y_train, epochs=10, batch_size=32)"
      ]
    },
    {
      "cell_type": "code",
      "execution_count": 35,
      "id": "229203bd",
      "metadata": {
        "colab": {
          "base_uri": "https://localhost:8080/"
        },
        "id": "229203bd",
        "outputId": "ca06f121-ea81-4f8c-c690-1b4a03083735"
      },
      "outputs": [
        {
          "output_type": "stream",
          "name": "stdout",
          "text": [
            "20/20 [==============================] - 1s 32ms/step - loss: 0.2537 - accuracy: 0.9254\n",
            "Accuracy = 92.540%\n"
          ]
        }
      ],
      "source": [
        "Scores = model.evaluate(x_test, y_test)\n",
        "print(\"Accuracy = %0.3f%%\"%(Scores[1]*100))"
      ]
    },
    {
      "cell_type": "code",
      "execution_count": 36,
      "id": "193fb7c1",
      "metadata": {
        "colab": {
          "base_uri": "https://localhost:8080/",
          "height": 408
        },
        "id": "193fb7c1",
        "outputId": "6c7fa05f-eeba-4056-f120-023e989567bd"
      },
      "outputs": [
        {
          "output_type": "display_data",
          "data": {
            "text/plain": [
              "<Figure size 432x432 with 2 Axes>"
            ],
            "image/png": "[encoded data removed]"
          },
          "metadata": {}
        }
      ],
      "source": [
        "plt.figure(figsize=(6,6))\n",
        "plt.subplot(1,2,1)\n",
        "plt.plot(history.history['loss'], color='r', label='loss')\n",
        "plt.title('Training Loss')\n",
        "plt.xlabel(\"Number of epochs\")\n",
        "plt.ylabel(\"Loss\")\n",
        "plt.subplot(1,2,2)\n",
        "plt.plot(history.history['accuracy'], color='b', label='accuracy')\n",
        "plt.title('Training accuracy')\n",
        "plt.xlabel(\"Number of epochs\")\n",
        "plt.ylabel(\"Accuracy\")\n",
        "plt.legend()\n",
        "plt.show()"
      ]
    },
    {
      "cell_type": "markdown",
      "id": "a2a7a635",
      "metadata": {
        "id": "a2a7a635"
      },
      "source": [
        "### Model configuration 2 "
      ]
    },
    {
      "cell_type": "code",
      "execution_count": 37,
      "id": "ba705c5a",
      "metadata": {
        "colab": {
          "base_uri": "https://localhost:8080/"
        },
        "id": "ba705c5a",
        "outputId": "1e4f40e3-9f25-46b7-b53c-ef809a9aa70c"
      },
      "outputs": [
        {
          "output_type": "stream",
          "name": "stdout",
          "text": [
            "Model: \"sequential_1\"\n",
            "_________________________________________________________________\n",
            " Layer (type)                Output Shape              Param #   \n",
            "=================================================================\n",
            " embedding_1 (Embedding)     (None, 145, 120)          60000     \n",
            "                                                                 \n",
            " lstm_1 (LSTM)               (None, 32)                19584     \n",
            "                                                                 \n",
            " dense_1 (Dense)             (None, 1)                 33        \n",
            "                                                                 \n",
            "=================================================================\n",
            "Total params: 79,617\n",
            "Trainable params: 79,617\n",
            "Non-trainable params: 0\n",
            "_________________________________________________________________\n",
            "None\n"
          ]
        }
      ],
      "source": [
        "model = Sequential()\n",
        "model.add(Embedding(500, 120, input_length= X.shape[1]))\n",
        "model.add(LSTM(32))\n",
        "model.add(Dense(1, activation='sigmoid'))\n",
        "model.compile(loss='binary_crossentropy', optimizer='adam', metrics=['accuracy'])\n",
        "print(model.summary())"
      ]
    },
    {
      "cell_type": "code",
      "execution_count": 38,
      "id": "2ca0549a",
      "metadata": {
        "scrolled": true,
        "colab": {
          "base_uri": "https://localhost:8080/"
        },
        "id": "2ca0549a",
        "outputId": "bd34ea16-d73f-44fe-cb25-c8231cb85d98"
      },
      "outputs": [
        {
          "output_type": "stream",
          "name": "stdout",
          "text": [
            "Epoch 1/10\n",
            "79/79 [==============================] - 9s 86ms/step - loss: 0.3160 - accuracy: 0.9183\n",
            "Epoch 2/10\n",
            "79/79 [==============================] - 7s 94ms/step - loss: 0.2170 - accuracy: 0.9230\n",
            "Epoch 3/10\n",
            "79/79 [==============================] - 18s 233ms/step - loss: 0.1470 - accuracy: 0.9452\n",
            "Epoch 4/10\n",
            "79/79 [==============================] - 16s 199ms/step - loss: 0.1106 - accuracy: 0.9591\n",
            "Epoch 5/10\n",
            "79/79 [==============================] - 8s 103ms/step - loss: 0.0903 - accuracy: 0.9635\n",
            "Epoch 6/10\n",
            "79/79 [==============================] - 10s 131ms/step - loss: 0.0780 - accuracy: 0.9714\n",
            "Epoch 7/10\n",
            "79/79 [==============================] - 8s 95ms/step - loss: 0.0687 - accuracy: 0.9778\n",
            "Epoch 8/10\n",
            "79/79 [==============================] - 7s 87ms/step - loss: 0.0611 - accuracy: 0.9778\n",
            "Epoch 9/10\n",
            "79/79 [==============================] - 8s 99ms/step - loss: 0.0515 - accuracy: 0.9798\n",
            "Epoch 10/10\n",
            "79/79 [==============================] - 6s 81ms/step - loss: 0.0456 - accuracy: 0.9837\n"
          ]
        }
      ],
      "source": [
        "history = model.fit(x_train, y_train, epochs=10, batch_size=32)"
      ]
    },
    {
      "cell_type": "code",
      "execution_count": 39,
      "id": "3970923a",
      "metadata": {
        "colab": {
          "base_uri": "https://localhost:8080/"
        },
        "id": "3970923a",
        "outputId": "7a19d3c1-dfa8-4dde-a3d9-5a3651b24b47"
      },
      "outputs": [
        {
          "output_type": "stream",
          "name": "stdout",
          "text": [
            "20/20 [==============================] - 1s 20ms/step - loss: 0.2524 - accuracy: 0.9222\n",
            "Accuracy = 92.222%\n"
          ]
        }
      ],
      "source": [
        "Scores = model.evaluate(x_test, y_test)\n",
        "print(\"Accuracy = %0.3f%%\"%(Scores[1]*100))"
      ]
    },
    {
      "cell_type": "code",
      "execution_count": 40,
      "id": "e735a0d7",
      "metadata": {
        "colab": {
          "base_uri": "https://localhost:8080/",
          "height": 462
        },
        "id": "e735a0d7",
        "outputId": "389163ee-ab7a-4654-fa9f-f8ae6c5f4737"
      },
      "outputs": [
        {
          "output_type": "display_data",
          "data": {
            "text/plain": [
              "<Figure size 504x504 with 2 Axes>"
            ],
            "image/png": "[encoded data removed]"
          },
          "metadata": {}
        }
      ],
      "source": [
        "plt.figure(figsize=(7,7))\n",
        "plt.subplot(1,2,1)\n",
        "plt.plot(history.history['loss'], color='r', label='loss')\n",
        "plt.title('Training Loss')\n",
        "plt.xlabel(\"Number of epochs\")\n",
        "plt.ylabel(\"Loss\")\n",
        "plt.subplot(1,2,2)\n",
        "plt.plot(history.history['accuracy'], color='b', label='accuracy')\n",
        "plt.title('Training accuracy')\n",
        "plt.xlabel(\"Number of epochs\")\n",
        "plt.ylabel(\"Accuracy\")\n",
        "plt.legend()\n",
        "plt.show()"
      ]
    }
  ],
  "metadata": {
    "kernelspec": {
      "display_name": "Python 3",
      "language": "python",
      "name": "python3"
    },
    "language_info": {
      "codemirror_mode": {
        "name": "ipython",
        "version": 3
      },
      "file_extension": ".py",
      "mimetype": "text/x-python",
      "name": "python",
      "nbconvert_exporter": "python",
      "pygments_lexer": "ipython3",
      "version": "3.8.8"
    },
    "colab": {
      "provenance": []
    }
  },
  "nbformat": 4,
  "nbformat_minor": 5
}
