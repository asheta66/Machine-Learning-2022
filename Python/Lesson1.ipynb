{
  "nbformat": 4,
  "nbformat_minor": 0,
  "metadata": {
    "colab": {
      "name": "Lesson1.ipynb",
      "provenance": [],
      "collapsed_sections": [],
      "authorship_tag": "ABX9TyNryXjhdoRd8ME6kIzTmVwv",
      "include_colab_link": true
    },
    "kernelspec": {
      "name": "python3",
      "display_name": "Python 3"
    },
    "language_info": {
      "name": "python"
    }
  },
  "cells": [
    {
      "cell_type": "markdown",
      "metadata": {
        "id": "view-in-github",
        "colab_type": "text"
      },
      "source": [
        "<a href=\"https://colab.research.google.com/github/asheta66/Machine-Learning-2022/blob/main/Python/Lesson1.ipynb\" target=\"_parent\"><img src=\"https://colab.research.google.com/assets/colab-badge.svg\" alt=\"Open In Colab\"/></a>"
      ]
    },
    {
      "cell_type": "markdown",
      "source": [
        "Tutorial on Python Programming"
      ],
      "metadata": {
        "id": "F3RIot9uPEi9"
      }
    },
    {
      "cell_type": "code",
      "source": [
        "# Simple Operation\n",
        "print(\"Hello, world!\")"
      ],
      "metadata": {
        "colab": {
          "base_uri": "https://localhost:8080/"
        },
        "id": "fIICeM1kPKzg",
        "outputId": "97c6bc70-6c68-458b-e031-c88ca4f7371e"
      },
      "execution_count": null,
      "outputs": [
        {
          "output_type": "stream",
          "name": "stdout",
          "text": [
            "Hello, world!\n"
          ]
        }
      ]
    },
    {
      "cell_type": "code",
      "source": [
        "# Use the input command\n",
        "name = input('Enter your name: ')\n",
        "print(f\"Hello, {name}\")"
      ],
      "metadata": {
        "colab": {
          "base_uri": "https://localhost:8080/"
        },
        "id": "FrT9hdyHP6Ae",
        "outputId": "151557da-b5e2-4992-82a5-3af519372c96"
      },
      "execution_count": null,
      "outputs": [
        {
          "output_type": "stream",
          "name": "stdout",
          "text": [
            "Enter your name: Alaa\n",
            "Hello, Alaa\n"
          ]
        }
      ]
    },
    {
      "cell_type": "code",
      "source": [
        "age = int(input('Enter your age: '))\n",
        "print(f\"My age is, {age}\")"
      ],
      "metadata": {
        "colab": {
          "base_uri": "https://localhost:8080/"
        },
        "id": "RFr8LGTCQP25",
        "outputId": "5fbbb3bd-6ea2-48ed-fd70-81ad39d3d7dc"
      },
      "execution_count": null,
      "outputs": [
        {
          "output_type": "stream",
          "name": "stdout",
          "text": [
            "Enter your age: 55\n",
            "My age is, 55\n"
          ]
        }
      ]
    },
    {
      "cell_type": "code",
      "source": [
        "# Simple calculation\n",
        "# This calculation shows that the numbers need to be\n",
        "# converted to float before we make calculations\n",
        "\n",
        "number1  = input('Enter first number: ')\n",
        "number2 = input('Enter second number: ')\n",
        "print(f\"Sum, {number1+number2}\")\n",
        "\n",
        "number1  = float(input('Enter first number: '))\n",
        "number2 = float(input('Enter second number: '))\n",
        "print(f\"Sum, {number1+number2}\")"
      ],
      "metadata": {
        "colab": {
          "base_uri": "https://localhost:8080/"
        },
        "id": "h767XB-5QraS",
        "outputId": "6939bc60-dbb5-48cf-a4b0-959518e1e8bc"
      },
      "execution_count": null,
      "outputs": [
        {
          "output_type": "stream",
          "name": "stdout",
          "text": [
            "Enter first number: 10\n",
            "Enter second number: 20\n",
            "Sum, 1020\n",
            "Enter first number: 10\n",
            "Enter second number: 20\n",
            "Sum, 30.0\n"
          ]
        }
      ]
    },
    {
      "cell_type": "code",
      "source": [
        "def greet(name):\n",
        "    \"\"\"\n",
        "    This function greets to\n",
        "    the person passed in as\n",
        "    a parameter\n",
        "    \"\"\"\n",
        "    print(\"Hello, \" + name + \". Good morning!\")\n",
        "    \n",
        "greet(\"Alaa\")"
      ],
      "metadata": {
        "colab": {
          "base_uri": "https://localhost:8080/"
        },
        "id": "8Lm__QA9TCqL",
        "outputId": "70d9d18f-8b09-48ea-ed5c-7ada9e7549d0"
      },
      "execution_count": null,
      "outputs": [
        {
          "output_type": "stream",
          "name": "stdout",
          "text": [
            "Hello, Alaa. Good morning!\n"
          ]
        }
      ]
    },
    {
      "cell_type": "code",
      "source": [
        "def my_function(food):\n",
        "  for x in food:\n",
        "    print(x)\n",
        "\n",
        "fruits = [\"apple\", \"banana\", \"cherry\"]\n",
        "\n",
        "my_function(fruits)"
      ],
      "metadata": {
        "colab": {
          "base_uri": "https://localhost:8080/"
        },
        "id": "yJiw841bVV2K",
        "outputId": "4db31583-f85a-4da2-9b78-b6b5af9d2238"
      },
      "execution_count": null,
      "outputs": [
        {
          "output_type": "stream",
          "name": "stdout",
          "text": [
            "apple\n",
            "banana\n",
            "cherry\n"
          ]
        }
      ]
    },
    {
      "cell_type": "code",
      "source": [
        "def add_number(n1,n2):\n",
        "    sum = n1 + n2;\n",
        "    return sum;\n",
        "\n",
        "num1 = 30\n",
        "num2 = 20\n",
        "sum = add_number(num1,num2)\n",
        "print(\"The sum of two number is\",sum)"
      ],
      "metadata": {
        "colab": {
          "base_uri": "https://localhost:8080/"
        },
        "id": "jfsfjOs9SWHo",
        "outputId": "5f9333b0-2e60-4f6b-fe84-71eba208b842"
      },
      "execution_count": null,
      "outputs": [
        {
          "output_type": "stream",
          "name": "stdout",
          "text": [
            "The sum of two number is 50\n"
          ]
        }
      ]
    },
    {
      "cell_type": "code",
      "source": [
        "#Python - Slicing Strings\n",
        "b = \"Hello, World!\"\n",
        "print(b[2:5])"
      ],
      "metadata": {
        "id": "9jYIaY4wEQ5Y",
        "outputId": "8927b5ee-e12c-4bea-ca1c-c0c9d88bac16",
        "colab": {
          "base_uri": "https://localhost:8080/"
        }
      },
      "execution_count": 1,
      "outputs": [
        {
          "output_type": "stream",
          "name": "stdout",
          "text": [
            "llo\n"
          ]
        }
      ]
    },
    {
      "cell_type": "code",
      "source": [
        "# Create a list\n",
        "thislist = [\"apple\", \"banana\", \"cherry\", \"apple\", \"cherry\"]\n",
        "print(thislist)\n",
        "print(thislist[2:])\n",
        "print(thislist[1:-1])"
      ],
      "metadata": {
        "id": "LyvZy6I_EW4S",
        "outputId": "70f7ffdb-de7e-4c4f-b5e0-7078d0b31175",
        "colab": {
          "base_uri": "https://localhost:8080/"
        }
      },
      "execution_count": 4,
      "outputs": [
        {
          "output_type": "stream",
          "name": "stdout",
          "text": [
            "['apple', 'banana', 'cherry', 'apple', 'cherry']\n",
            "['cherry', 'apple', 'cherry']\n",
            "['banana', 'cherry', 'apple']\n"
          ]
        }
      ]
    },
    {
      "cell_type": "code",
      "source": [
        "# Change Item Value\n",
        "thislist = [\"apple\", \"banana\", \"cherry\"]\n",
        "thislist[1] = \"blackcurrant\"\n",
        "print(thislist)\n",
        "\n",
        "thislist = [\"apple\", \"banana\", \"cherry\", \"orange\", \"kiwi\", \"mango\"]\n",
        "thislist[1:3] = [\"blackcurrant\", \"watermelon\"]\n",
        "print(thislist)\n"
      ],
      "metadata": {
        "id": "oknZfJw-EqFv",
        "outputId": "4c89bf3c-e4d4-4527-decd-8e4da71c9266",
        "colab": {
          "base_uri": "https://localhost:8080/"
        }
      },
      "execution_count": 5,
      "outputs": [
        {
          "output_type": "stream",
          "name": "stdout",
          "text": [
            "['apple', 'blackcurrant', 'cherry']\n",
            "['apple', 'blackcurrant', 'watermelon', 'orange', 'kiwi', 'mango']\n"
          ]
        }
      ]
    },
    {
      "cell_type": "code",
      "source": [
        "#Using the append() method to append an item:\n",
        "thislist = [\"apple\", \"banana\", \"cherry\"]\n",
        "thislist.append(\"orange\")\n",
        "print(thislist)\n",
        "\n",
        "# Add element on specific location in the list\n",
        "thislist = [\"apple\", \"banana\", \"cherry\"]\n",
        "thislist.insert(1, \"orange\")\n",
        "print(thislist)\n",
        "\n",
        "# Remove an item from the list\n",
        "thislist = [\"apple\", \"banana\", \"cherry\"]\n",
        "thislist.remove(\"banana\")\n",
        "print(thislist)"
      ],
      "metadata": {
        "id": "bv6b3vCnFB4l",
        "outputId": "558220a6-8f51-4c30-e049-fc2d0b069470",
        "colab": {
          "base_uri": "https://localhost:8080/"
        }
      },
      "execution_count": 8,
      "outputs": [
        {
          "output_type": "stream",
          "name": "stdout",
          "text": [
            "['apple', 'banana', 'cherry', 'orange']\n",
            "['apple', 'orange', 'banana', 'cherry']\n",
            "['apple', 'cherry']\n"
          ]
        }
      ]
    },
    {
      "cell_type": "code",
      "source": [
        "# Loop Lists\n",
        "\n",
        "mylist = range(5)\n",
        "print(mylist)\n",
        "\n",
        "print(\"----------\")\n",
        "for i in mylist:\n",
        "  print(i)\n",
        "\n",
        "print(\"----------\")\n",
        "def printlist(mylist):\n",
        "  for i in mylist:\n",
        "    print(i)\n",
        "\n",
        "\n",
        "printlist(mylist)\n",
        "\n"
      ],
      "metadata": {
        "id": "jvSqR8-ZFTnJ",
        "outputId": "24a9d00e-cb54-42b9-88fa-8c93d87b5113",
        "colab": {
          "base_uri": "https://localhost:8080/"
        }
      },
      "execution_count": 17,
      "outputs": [
        {
          "output_type": "stream",
          "name": "stdout",
          "text": [
            "range(0, 5)\n",
            "----------\n",
            "0\n",
            "1\n",
            "2\n",
            "3\n",
            "4\n",
            "----------\n",
            "0\n",
            "1\n",
            "2\n",
            "3\n",
            "4\n"
          ]
        }
      ]
    },
    {
      "cell_type": "code",
      "source": [
        "#List Methods\n",
        "#Python has a set of built-in methods that you can use on lists.\n",
        "#========================\n",
        "#Method\tDescription\n",
        "#========================\n",
        "#append()\tAdds an element at the end of the list\n",
        "#clear()\tRemoves all the elements from the list\n",
        "#copy()\tReturns a copy of the list\n",
        "#count()\tReturns the number of elements with the specified value\n",
        "#extend()\tAdd the elements of a list (or any iterable), to the end of the current list\n",
        "#index()\tReturns the index of the first element with the specified value\n",
        "#insert()\tAdds an element at the specified position\n",
        "#pop()\tRemoves the element at the specified position\n",
        "#remove()\tRemoves the item with the specified value\n",
        "#reverse()\tReverses the order of the list\n",
        "#sort()\tSorts the list"
      ],
      "metadata": {
        "id": "mQ3gEStDIoGb"
      },
      "execution_count": null,
      "outputs": []
    },
    {
      "cell_type": "code",
      "source": [
        "thislist = [\"apple\", \"banana\", \"cherry\"]\n",
        "\n",
        "for i in range(len(thislist)):\n",
        "  print(thislist[i])"
      ],
      "metadata": {
        "id": "eT9dcRFoGOZD",
        "outputId": "f5c7eb79-e919-4d6c-ebd0-60f1deb9f865",
        "colab": {
          "base_uri": "https://localhost:8080/"
        }
      },
      "execution_count": 19,
      "outputs": [
        {
          "output_type": "stream",
          "name": "stdout",
          "text": [
            "apple\n",
            "banana\n",
            "cherry\n"
          ]
        }
      ]
    },
    {
      "cell_type": "code",
      "source": [
        "# List Comprehension\n",
        "fruits = [\"apple\", \"banana\", \"cherry\", \"kiwi\", \"mango\"]\n",
        "newlist = []\n",
        "\n",
        "for x in fruits:\n",
        "  if \"a\" in x:\n",
        "    newlist.append(x)\n",
        "\n",
        "print(newlist)"
      ],
      "metadata": {
        "id": "3yXO6-TBGa1p",
        "outputId": "5dcdfd8b-f276-4f61-d051-520b593addda",
        "colab": {
          "base_uri": "https://localhost:8080/"
        }
      },
      "execution_count": 20,
      "outputs": [
        {
          "output_type": "stream",
          "name": "stdout",
          "text": [
            "['apple', 'banana', 'mango']\n"
          ]
        }
      ]
    },
    {
      "cell_type": "code",
      "source": [
        "# sort a list\n",
        "thislist = [\"orange\", \"mango\", \"kiwi\", \"pineapple\", \"banana\"]\n",
        "thislist.sort()\n",
        "print(thislist)\n",
        "\n",
        "thislist = [100, 50, 65, 82, 23]\n",
        "thislist.sort()\n",
        "print(thislist)\n",
        "\n",
        "# sort decending\n",
        "thislist = [\"orange\", \"mango\", \"kiwi\", \"pineapple\", \"banana\"]\n",
        "thislist.sort(reverse = True)\n",
        "print(thislist)\n",
        "\n",
        "# copy list\n",
        "thislist = [\"apple\", \"banana\", \"cherry\"]\n",
        "mylist = thislist.copy()\n",
        "print(mylist)\n",
        "\n",
        "# copy list\n",
        "thislist = [\"apple\", \"banana\", \"cherry\"]\n",
        "thislist.append(\"orange\")\n",
        "print(thislist)\n"
      ],
      "metadata": {
        "id": "Ygrw1ueWGzYr",
        "outputId": "7ba95341-41fd-4ae0-8032-a265d6588b7b",
        "colab": {
          "base_uri": "https://localhost:8080/"
        }
      },
      "execution_count": 31,
      "outputs": [
        {
          "output_type": "stream",
          "name": "stdout",
          "text": [
            "['banana', 'kiwi', 'mango', 'orange', 'pineapple']\n",
            "[23, 50, 65, 82, 100]\n",
            "['pineapple', 'orange', 'mango', 'kiwi', 'banana']\n",
            "['apple', 'banana', 'cherry']\n",
            "['apple', 'banana', 'cherry', 'orange']\n"
          ]
        }
      ]
    },
    {
      "cell_type": "code",
      "source": [
        ""
      ],
      "metadata": {
        "id": "baDq6fIKHYvC"
      },
      "execution_count": null,
      "outputs": []
    }
  ]
}