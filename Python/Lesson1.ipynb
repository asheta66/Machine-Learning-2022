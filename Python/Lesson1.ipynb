{
  "nbformat": 4,
  "nbformat_minor": 0,
  "metadata": {
    "colab": {
      "name": "Lesson1.ipynb",
      "provenance": [],
      "collapsed_sections": [],
      "authorship_tag": "ABX9TyOELBKbV0INieGxv2SResXe",
      "include_colab_link": true
    },
    "kernelspec": {
      "name": "python3",
      "display_name": "Python 3"
    },
    "language_info": {
      "name": "python"
    }
  },
  "cells": [
    {
      "cell_type": "markdown",
      "metadata": {
        "id": "view-in-github",
        "colab_type": "text"
      },
      "source": [
        "<a href=\"https://colab.research.google.com/github/asheta66/Machine-Learning-2022/blob/main/Python/Lesson1.ipynb\" target=\"_parent\"><img src=\"https://colab.research.google.com/assets/colab-badge.svg\" alt=\"Open In Colab\"/></a>"
      ]
    },
    {
      "cell_type": "markdown",
      "source": [
        "Tutorial on Python Programming"
      ],
      "metadata": {
        "id": "F3RIot9uPEi9"
      }
    },
    {
      "cell_type": "code",
      "source": [
        "# Simple Operation\n",
        "print(\"Hello, world!\")"
      ],
      "metadata": {
        "colab": {
          "base_uri": "https://localhost:8080/"
        },
        "id": "fIICeM1kPKzg",
        "outputId": "97c6bc70-6c68-458b-e031-c88ca4f7371e"
      },
      "execution_count": null,
      "outputs": [
        {
          "output_type": "stream",
          "name": "stdout",
          "text": [
            "Hello, world!\n"
          ]
        }
      ]
    },
    {
      "cell_type": "code",
      "source": [
        "# Use the input command\n",
        "name = input('Enter your name: ')\n",
        "print(f\"Hello, {name}\")"
      ],
      "metadata": {
        "colab": {
          "base_uri": "https://localhost:8080/"
        },
        "id": "FrT9hdyHP6Ae",
        "outputId": "151557da-b5e2-4992-82a5-3af519372c96"
      },
      "execution_count": null,
      "outputs": [
        {
          "output_type": "stream",
          "name": "stdout",
          "text": [
            "Enter your name: Alaa\n",
            "Hello, Alaa\n"
          ]
        }
      ]
    },
    {
      "cell_type": "code",
      "source": [
        "age = int(input('Enter your age: '))\n",
        "print(f\"My age is, {age}\")"
      ],
      "metadata": {
        "colab": {
          "base_uri": "https://localhost:8080/"
        },
        "id": "RFr8LGTCQP25",
        "outputId": "5fbbb3bd-6ea2-48ed-fd70-81ad39d3d7dc"
      },
      "execution_count": null,
      "outputs": [
        {
          "output_type": "stream",
          "name": "stdout",
          "text": [
            "Enter your age: 55\n",
            "My age is, 55\n"
          ]
        }
      ]
    },
    {
      "cell_type": "code",
      "source": [
        "# Simple calculation\n",
        "# This calculation shows that the numbers need to be\n",
        "# converted to float before we make calculations\n",
        "\n",
        "number1  = input('Enter first number: ')\n",
        "number2 = input('Enter second number: ')\n",
        "print(f\"Sum, {number1+number2}\")\n",
        "\n",
        "number1  = float(input('Enter first number: '))\n",
        "number2 = float(input('Enter second number: '))\n",
        "print(f\"Sum, {number1+number2}\")"
      ],
      "metadata": {
        "colab": {
          "base_uri": "https://localhost:8080/"
        },
        "id": "h767XB-5QraS",
        "outputId": "6939bc60-dbb5-48cf-a4b0-959518e1e8bc"
      },
      "execution_count": null,
      "outputs": [
        {
          "output_type": "stream",
          "name": "stdout",
          "text": [
            "Enter first number: 10\n",
            "Enter second number: 20\n",
            "Sum, 1020\n",
            "Enter first number: 10\n",
            "Enter second number: 20\n",
            "Sum, 30.0\n"
          ]
        }
      ]
    },
    {
      "cell_type": "code",
      "source": [
        "def greet(name):\n",
        "    \"\"\"\n",
        "    This function greets to\n",
        "    the person passed in as\n",
        "    a parameter\n",
        "    \"\"\"\n",
        "    print(\"Hello, \" + name + \". Good morning!\")\n",
        "    \n",
        "greet(\"Alaa\")"
      ],
      "metadata": {
        "colab": {
          "base_uri": "https://localhost:8080/"
        },
        "id": "8Lm__QA9TCqL",
        "outputId": "70d9d18f-8b09-48ea-ed5c-7ada9e7549d0"
      },
      "execution_count": null,
      "outputs": [
        {
          "output_type": "stream",
          "name": "stdout",
          "text": [
            "Hello, Alaa. Good morning!\n"
          ]
        }
      ]
    },
    {
      "cell_type": "code",
      "source": [
        "def my_function(food):\n",
        "  for x in food:\n",
        "    print(x)\n",
        "\n",
        "fruits = [\"apple\", \"banana\", \"cherry\"]\n",
        "\n",
        "my_function(fruits)"
      ],
      "metadata": {
        "colab": {
          "base_uri": "https://localhost:8080/"
        },
        "id": "yJiw841bVV2K",
        "outputId": "4db31583-f85a-4da2-9b78-b6b5af9d2238"
      },
      "execution_count": null,
      "outputs": [
        {
          "output_type": "stream",
          "name": "stdout",
          "text": [
            "apple\n",
            "banana\n",
            "cherry\n"
          ]
        }
      ]
    },
    {
      "cell_type": "code",
      "source": [
        "def add_number(n1,n2):\n",
        "    sum = n1 + n2;\n",
        "    return sum;\n",
        "\n",
        "num1 = 30\n",
        "num2 = 20\n",
        "sum = add_number(num1,num2)\n",
        "print(\"The sum of two number is\",sum)"
      ],
      "metadata": {
        "colab": {
          "base_uri": "https://localhost:8080/"
        },
        "id": "jfsfjOs9SWHo",
        "outputId": "5f9333b0-2e60-4f6b-fe84-71eba208b842"
      },
      "execution_count": null,
      "outputs": [
        {
          "output_type": "stream",
          "name": "stdout",
          "text": [
            "The sum of two number is 50\n"
          ]
        }
      ]
    },
    {
      "cell_type": "code",
      "source": [
        "#Python - Slicing Strings\n",
        "b = \"Hello, World!\"\n",
        "print(b[2:5])"
      ],
      "metadata": {
        "colab": {
          "base_uri": "https://localhost:8080/"
        },
        "id": "9jYIaY4wEQ5Y",
        "outputId": "8927b5ee-e12c-4bea-ca1c-c0c9d88bac16"
      },
      "execution_count": 1,
      "outputs": [
        {
          "output_type": "stream",
          "name": "stdout",
          "text": [
            "llo\n"
          ]
        }
      ]
    },
    {
      "cell_type": "code",
      "source": [
        "# Create a list\n",
        "thislist = [\"apple\", \"banana\", \"cherry\", \"apple\", \"cherry\"]\n",
        "print(thislist)\n",
        "print(thislist[2:])\n",
        "print(thislist[1:-1])"
      ],
      "metadata": {
        "colab": {
          "base_uri": "https://localhost:8080/"
        },
        "id": "LyvZy6I_EW4S",
        "outputId": "70f7ffdb-de7e-4c4f-b5e0-7078d0b31175"
      },
      "execution_count": 4,
      "outputs": [
        {
          "output_type": "stream",
          "name": "stdout",
          "text": [
            "['apple', 'banana', 'cherry', 'apple', 'cherry']\n",
            "['cherry', 'apple', 'cherry']\n",
            "['banana', 'cherry', 'apple']\n"
          ]
        }
      ]
    },
    {
      "cell_type": "code",
      "source": [
        "# Change Item Value\n",
        "thislist = [\"apple\", \"banana\", \"cherry\"]\n",
        "thislist[1] = \"blackcurrant\"\n",
        "print(thislist)\n",
        "\n",
        "thislist = [\"apple\", \"banana\", \"cherry\", \"orange\", \"kiwi\", \"mango\"]\n",
        "thislist[1:3] = [\"blackcurrant\", \"watermelon\"]\n",
        "print(thislist)\n"
      ],
      "metadata": {
        "colab": {
          "base_uri": "https://localhost:8080/"
        },
        "id": "oknZfJw-EqFv",
        "outputId": "4c89bf3c-e4d4-4527-decd-8e4da71c9266"
      },
      "execution_count": 5,
      "outputs": [
        {
          "output_type": "stream",
          "name": "stdout",
          "text": [
            "['apple', 'blackcurrant', 'cherry']\n",
            "['apple', 'blackcurrant', 'watermelon', 'orange', 'kiwi', 'mango']\n"
          ]
        }
      ]
    },
    {
      "cell_type": "code",
      "source": [
        "#Using the append() method to append an item:\n",
        "thislist = [\"apple\", \"banana\", \"cherry\"]\n",
        "thislist.append(\"orange\")\n",
        "print(thislist)\n",
        "\n",
        "# Add element on specific location in the list\n",
        "thislist = [\"apple\", \"banana\", \"cherry\"]\n",
        "thislist.insert(1, \"orange\")\n",
        "print(thislist)\n",
        "\n",
        "# Remove an item from the list\n",
        "thislist = [\"apple\", \"banana\", \"cherry\"]\n",
        "thislist.remove(\"banana\")\n",
        "print(thislist)"
      ],
      "metadata": {
        "colab": {
          "base_uri": "https://localhost:8080/"
        },
        "id": "bv6b3vCnFB4l",
        "outputId": "558220a6-8f51-4c30-e049-fc2d0b069470"
      },
      "execution_count": 8,
      "outputs": [
        {
          "output_type": "stream",
          "name": "stdout",
          "text": [
            "['apple', 'banana', 'cherry', 'orange']\n",
            "['apple', 'orange', 'banana', 'cherry']\n",
            "['apple', 'cherry']\n"
          ]
        }
      ]
    },
    {
      "cell_type": "code",
      "source": [
        "# Loop Lists\n",
        "\n",
        "mylist = range(5)\n",
        "print(mylist)\n",
        "\n",
        "print(\"----------\")\n",
        "for i in mylist:\n",
        "  print(i)\n",
        "\n",
        "print(\"----------\")\n",
        "def printlist(mylist):\n",
        "  for i in mylist:\n",
        "    print(i)\n",
        "\n",
        "\n",
        "printlist(mylist)\n",
        "\n"
      ],
      "metadata": {
        "colab": {
          "base_uri": "https://localhost:8080/"
        },
        "id": "jvSqR8-ZFTnJ",
        "outputId": "24a9d00e-cb54-42b9-88fa-8c93d87b5113"
      },
      "execution_count": 17,
      "outputs": [
        {
          "output_type": "stream",
          "name": "stdout",
          "text": [
            "range(0, 5)\n",
            "----------\n",
            "0\n",
            "1\n",
            "2\n",
            "3\n",
            "4\n",
            "----------\n",
            "0\n",
            "1\n",
            "2\n",
            "3\n",
            "4\n"
          ]
        }
      ]
    },
    {
      "cell_type": "code",
      "source": [
        "#List Methods\n",
        "#Python has a set of built-in methods that you can use on lists.\n",
        "#========================\n",
        "#Method\tDescription\n",
        "#========================\n",
        "#append()\tAdds an element at the end of the list\n",
        "#clear()\tRemoves all the elements from the list\n",
        "#copy()\tReturns a copy of the list\n",
        "#count()\tReturns the number of elements with the specified value\n",
        "#extend()\tAdd the elements of a list (or any iterable), to the end of the current list\n",
        "#index()\tReturns the index of the first element with the specified value\n",
        "#insert()\tAdds an element at the specified position\n",
        "#pop()\tRemoves the element at the specified position\n",
        "#remove()\tRemoves the item with the specified value\n",
        "#reverse()\tReverses the order of the list\n",
        "#sort()\tSorts the list"
      ],
      "metadata": {
        "id": "mQ3gEStDIoGb"
      },
      "execution_count": null,
      "outputs": []
    },
    {
      "cell_type": "code",
      "source": [
        "thislist = [\"apple\", \"banana\", \"cherry\"]\n",
        "\n",
        "for i in range(len(thislist)):\n",
        "  print(thislist[i])"
      ],
      "metadata": {
        "colab": {
          "base_uri": "https://localhost:8080/"
        },
        "id": "eT9dcRFoGOZD",
        "outputId": "f5c7eb79-e919-4d6c-ebd0-60f1deb9f865"
      },
      "execution_count": 19,
      "outputs": [
        {
          "output_type": "stream",
          "name": "stdout",
          "text": [
            "apple\n",
            "banana\n",
            "cherry\n"
          ]
        }
      ]
    },
    {
      "cell_type": "code",
      "source": [
        "# List Comprehension\n",
        "fruits = [\"apple\", \"banana\", \"cherry\", \"kiwi\", \"mango\"]\n",
        "newlist = []\n",
        "\n",
        "for x in fruits:\n",
        "  if \"a\" in x:\n",
        "    newlist.append(x)\n",
        "\n",
        "print(newlist)"
      ],
      "metadata": {
        "colab": {
          "base_uri": "https://localhost:8080/"
        },
        "id": "3yXO6-TBGa1p",
        "outputId": "5dcdfd8b-f276-4f61-d051-520b593addda"
      },
      "execution_count": 20,
      "outputs": [
        {
          "output_type": "stream",
          "name": "stdout",
          "text": [
            "['apple', 'banana', 'mango']\n"
          ]
        }
      ]
    },
    {
      "cell_type": "code",
      "source": [
        "# sort a list\n",
        "thislist = [\"orange\", \"mango\", \"kiwi\", \"pineapple\", \"banana\"]\n",
        "thislist.sort()\n",
        "print(thislist)\n",
        "\n",
        "thislist = [100, 50, 65, 82, 23]\n",
        "thislist.sort()\n",
        "print(thislist)\n",
        "\n",
        "# sort decending\n",
        "thislist = [\"orange\", \"mango\", \"kiwi\", \"pineapple\", \"banana\"]\n",
        "thislist.sort(reverse = True)\n",
        "print(thislist)\n",
        "\n",
        "# copy list\n",
        "thislist = [\"apple\", \"banana\", \"cherry\"]\n",
        "mylist = thislist.copy()\n",
        "print(mylist)\n",
        "\n",
        "# copy list\n",
        "thislist = [\"apple\", \"banana\", \"cherry\"]\n",
        "thislist.append(\"orange\")\n",
        "print(thislist)\n"
      ],
      "metadata": {
        "colab": {
          "base_uri": "https://localhost:8080/"
        },
        "id": "Ygrw1ueWGzYr",
        "outputId": "7ba95341-41fd-4ae0-8032-a265d6588b7b"
      },
      "execution_count": 31,
      "outputs": [
        {
          "output_type": "stream",
          "name": "stdout",
          "text": [
            "['banana', 'kiwi', 'mango', 'orange', 'pineapple']\n",
            "[23, 50, 65, 82, 100]\n",
            "['pineapple', 'orange', 'mango', 'kiwi', 'banana']\n",
            "['apple', 'banana', 'cherry']\n",
            "['apple', 'banana', 'cherry', 'orange']\n"
          ]
        }
      ]
    },
    {
      "cell_type": "code",
      "source": [
        "# while loop\n",
        "\n",
        "x=range(5)\n",
        "\n",
        "print(f\"Total elements in the list are {len(x)}\")\n",
        "print(\"All elements\")\n",
        "i=0\n",
        "while i < len(x):\n",
        "  print(i)\n",
        "  i = i + 1\n"
      ],
      "metadata": {
        "colab": {
          "base_uri": "https://localhost:8080/"
        },
        "id": "baDq6fIKHYvC",
        "outputId": "ee644b23-b175-4e60-d0fa-956c6441fd5b"
      },
      "execution_count": 37,
      "outputs": [
        {
          "output_type": "stream",
          "name": "stdout",
          "text": [
            "Total elements in the list are 5\n",
            "All elements\n",
            "0\n",
            "1\n",
            "2\n",
            "3\n",
            "4\n"
          ]
        }
      ]
    },
    {
      "cell_type": "code",
      "source": [
        "x = int(input(\"Enter a score\"))\n",
        "\n",
        "if x > 90:\n",
        "  print(\"Excellent A\")\n",
        "elif 80 < x < 90:\n",
        "  print(\"Very Good B+\")\n",
        "else:\n",
        "  print(\"Good B\")"
      ],
      "metadata": {
        "id": "HdeCVFzwKBKm",
        "outputId": "2afb70ae-4f19-4c40-95a6-a3b9c45535e1",
        "colab": {
          "base_uri": "https://localhost:8080/"
        }
      },
      "execution_count": 45,
      "outputs": [
        {
          "output_type": "stream",
          "name": "stdout",
          "text": [
            "Enter a score88\n",
            "Very Good B+\n"
          ]
        }
      ]
    },
    {
      "cell_type": "code",
      "source": [
        "# for loop\n",
        "\n",
        "fruits = [\"apple\", \"banana\", \"cherry\"]\n",
        "for i in fruits:\n",
        "  print(i)\n",
        "  "
      ],
      "metadata": {
        "id": "vHU6Sz_kK9BY",
        "outputId": "e724eb5c-2d84-4c47-92ce-9888577c6864",
        "colab": {
          "base_uri": "https://localhost:8080/"
        }
      },
      "execution_count": 47,
      "outputs": [
        {
          "output_type": "stream",
          "name": "stdout",
          "text": [
            "apple\n",
            "banana\n",
            "cherry\n"
          ]
        }
      ]
    },
    {
      "cell_type": "code",
      "source": [
        "# define function\n",
        "def printname(first, last):\n",
        "  print (\"Hello \"+ first+\" \"+last)\n",
        "\n",
        "first = input(\"First Name: \")\n",
        "last  = input(\"Last Name: \")\n",
        "\n",
        "printname(first,last)"
      ],
      "metadata": {
        "id": "4dvMfvH2LP2z",
        "outputId": "6ad3772b-46eb-4b8e-b175-db1216a4ced5",
        "colab": {
          "base_uri": "https://localhost:8080/"
        }
      },
      "execution_count": 50,
      "outputs": [
        {
          "output_type": "stream",
          "name": "stdout",
          "text": [
            "First Name: Alaa\n",
            "Last Name: Sheta\n",
            "Hello Alaa Sheta\n"
          ]
        }
      ]
    },
    {
      "cell_type": "code",
      "source": [
        "# A lambda function is a small anonymous function.\n",
        "# A lambda function can take any number of arguments, but can only have one expression.\n",
        "# Add 7 to argument a, and return the result:\n",
        "\n",
        "x = lambda a : a + 7\n",
        "print(x(5))\n",
        "\n",
        "x = lambda a, b : a * b\n",
        "print(x(5, 6))\n",
        "\n",
        "x = lambda a, b, c : a + b + c\n",
        "print(x(5, 6, 2))\n",
        "\n"
      ],
      "metadata": {
        "id": "BlCCZgg0L-xq",
        "outputId": "4b656fb4-4958-45cc-aff7-c700f510b3d6",
        "colab": {
          "base_uri": "https://localhost:8080/"
        }
      },
      "execution_count": 53,
      "outputs": [
        {
          "output_type": "stream",
          "name": "stdout",
          "text": [
            "12\n",
            "30\n",
            "13\n"
          ]
        }
      ]
    },
    {
      "cell_type": "code",
      "source": [
        "# array definition\n",
        "cars = [\"Ford\", \"Volvo\", \"BMW\"]\n",
        "print(cars)\n",
        "\n",
        "for i in cars:\n",
        "  print(i)\n",
        "\n",
        "print(f\"The length of the array is {len(cars)}\")"
      ],
      "metadata": {
        "id": "dd6rXqBbOFP_",
        "outputId": "b12039d8-d3ae-46c5-fba3-e94426fac6d0",
        "colab": {
          "base_uri": "https://localhost:8080/"
        }
      },
      "execution_count": 56,
      "outputs": [
        {
          "output_type": "stream",
          "name": "stdout",
          "text": [
            "['Ford', 'Volvo', 'BMW']\n",
            "Ford\n",
            "Volvo\n",
            "BMW\n",
            "The length of the array is 3\n"
          ]
        }
      ]
    },
    {
      "cell_type": "code",
      "source": [
        "# Python Classes/Objects\n",
        "class Person:\n",
        "  def __init__(self, name, age):\n",
        "    self.name = name\n",
        "    self.age = age\n",
        "\n",
        "p1 = Person(\"John\", 36)\n",
        "\n",
        "print(f\"{p1.name} is {p1.age} years old\")\n",
        "\n"
      ],
      "metadata": {
        "id": "KWNUhOdROlei",
        "outputId": "51f543bd-6658-49e3-acb2-c5667d96f356",
        "colab": {
          "base_uri": "https://localhost:8080/"
        }
      },
      "execution_count": 58,
      "outputs": [
        {
          "output_type": "stream",
          "name": "stdout",
          "text": [
            "John is 36 years old\n"
          ]
        }
      ]
    },
    {
      "cell_type": "code",
      "source": [
        "class Person:\n",
        "  def __init__(self, name, age):\n",
        "    self.name = name\n",
        "    self.age = age\n",
        "\n",
        "  def myfunc(self):\n",
        "    print(f\"Hello my name is {self.name} I am {self.age} years old\")\n",
        "\n",
        "p1 = Person(\"John\", 36)\n",
        "p1.myfunc()"
      ],
      "metadata": {
        "id": "9jP8jEVcPIhF",
        "outputId": "b9cc61db-37a1-4318-c195-8ac5876b77c2",
        "colab": {
          "base_uri": "https://localhost:8080/"
        }
      },
      "execution_count": 63,
      "outputs": [
        {
          "output_type": "stream",
          "name": "stdout",
          "text": [
            "Hello my name is John I am 36 years old\n"
          ]
        }
      ]
    },
    {
      "cell_type": "code",
      "source": [
        "mytuple = (\"apple\", \"banana\", \"cherry\")\n",
        "myit = iter(mytuple)\n",
        "\n",
        "print(next(myit))\n",
        "print(next(myit))\n",
        "print(next(myit))\n",
        "\n",
        "print(\"=================\")\n",
        "mystr = \"banana\"\n",
        "myit = iter(mystr)\n",
        "\n",
        "print(next(myit))\n",
        "print(next(myit))\n",
        "print(next(myit))\n",
        "print(next(myit))\n",
        "print(next(myit))\n",
        "print(next(myit))"
      ],
      "metadata": {
        "id": "S2UdxEtoP707",
        "outputId": "b2144008-7473-4f88-b8fa-503aeafcdb01",
        "colab": {
          "base_uri": "https://localhost:8080/"
        }
      },
      "execution_count": 66,
      "outputs": [
        {
          "output_type": "stream",
          "name": "stdout",
          "text": [
            "apple\n",
            "banana\n",
            "cherry\n",
            "=================\n",
            "b\n",
            "a\n",
            "n\n",
            "a\n",
            "n\n",
            "a\n"
          ]
        }
      ]
    },
    {
      "cell_type": "code",
      "source": [
        "# global variables\n",
        "x = 300\n",
        "\n",
        "def myfunc():\n",
        "  print(\"x from the function \" + str(x))\n",
        "\n",
        "myfunc()\n",
        "\n",
        "print(\"x from the global variable \" + str(x))\n"
      ],
      "metadata": {
        "id": "D8bxh4UIQjLx",
        "outputId": "133aac5a-e74e-46b0-af11-a2c2846267b0",
        "colab": {
          "base_uri": "https://localhost:8080/"
        }
      },
      "execution_count": 71,
      "outputs": [
        {
          "output_type": "stream",
          "name": "stdout",
          "text": [
            "x from the function 300\n",
            "x from the global variable 300\n"
          ]
        }
      ]
    },
    {
      "cell_type": "code",
      "source": [
        "# date function\n",
        "import datetime\n",
        "\n",
        "x = datetime.datetime.now()\n",
        "\n",
        "print(x.year)\n",
        "print(x.strftime(\"%A\"))\n",
        "\n",
        "x = datetime.datetime(2020, 5, 17)\n",
        "print(x)"
      ],
      "metadata": {
        "id": "E_abXBqvRNgD",
        "outputId": "ee40e51c-c88b-42e0-ce2a-20f879c5a681",
        "colab": {
          "base_uri": "https://localhost:8080/"
        }
      },
      "execution_count": 73,
      "outputs": [
        {
          "output_type": "stream",
          "name": "stdout",
          "text": [
            "2022\n",
            "Sunday\n",
            "2020-05-17 00:00:00\n"
          ]
        }
      ]
    },
    {
      "cell_type": "code",
      "source": [
        ""
      ],
      "metadata": {
        "id": "CMjpxrn_RgYX"
      },
      "execution_count": null,
      "outputs": []
    }
  ]
}