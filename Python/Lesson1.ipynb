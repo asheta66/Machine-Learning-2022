{
  "nbformat": 4,
  "nbformat_minor": 0,
  "metadata": {
    "colab": {
      "name": "Lesson1.ipynb",
      "provenance": [],
      "collapsed_sections": [],
      "authorship_tag": "ABX9TyNze6Tes4//XmcAwQLpcipf",
      "include_colab_link": true
    },
    "kernelspec": {
      "name": "python3",
      "display_name": "Python 3"
    },
    "language_info": {
      "name": "python"
    }
  },
  "cells": [
    {
      "cell_type": "markdown",
      "metadata": {
        "id": "view-in-github",
        "colab_type": "text"
      },
      "source": [
        "<a href=\"https://colab.research.google.com/github/asheta66/Machine-Learning-2022/blob/main/Python/Lesson1.ipynb\" target=\"_parent\"><img src=\"https://colab.research.google.com/assets/colab-badge.svg\" alt=\"Open In Colab\"/></a>"
      ]
    },
    {
      "cell_type": "markdown",
      "source": [
        "Tutorial on Python Programming"
      ],
      "metadata": {
        "id": "F3RIot9uPEi9"
      }
    },
    {
      "cell_type": "code",
      "source": [
        "# Simple Operation\n",
        "print(\"Hello, world!\")"
      ],
      "metadata": {
        "colab": {
          "base_uri": "https://localhost:8080/"
        },
        "id": "fIICeM1kPKzg",
        "outputId": "97c6bc70-6c68-458b-e031-c88ca4f7371e"
      },
      "execution_count": null,
      "outputs": [
        {
          "output_type": "stream",
          "name": "stdout",
          "text": [
            "Hello, world!\n"
          ]
        }
      ]
    },
    {
      "cell_type": "code",
      "source": [
        "# Use the input command\n",
        "name = input('Enter your name: ')\n",
        "print(f\"Hello, {name}\")"
      ],
      "metadata": {
        "colab": {
          "base_uri": "https://localhost:8080/"
        },
        "id": "FrT9hdyHP6Ae",
        "outputId": "151557da-b5e2-4992-82a5-3af519372c96"
      },
      "execution_count": null,
      "outputs": [
        {
          "output_type": "stream",
          "name": "stdout",
          "text": [
            "Enter your name: Alaa\n",
            "Hello, Alaa\n"
          ]
        }
      ]
    },
    {
      "cell_type": "code",
      "source": [
        "age = int(input('Enter your age: '))\n",
        "print(f\"My age is, {age}\")"
      ],
      "metadata": {
        "colab": {
          "base_uri": "https://localhost:8080/"
        },
        "id": "RFr8LGTCQP25",
        "outputId": "5fbbb3bd-6ea2-48ed-fd70-81ad39d3d7dc"
      },
      "execution_count": null,
      "outputs": [
        {
          "output_type": "stream",
          "name": "stdout",
          "text": [
            "Enter your age: 55\n",
            "My age is, 55\n"
          ]
        }
      ]
    },
    {
      "cell_type": "code",
      "source": [
        "# Simple calculation\n",
        "# This calculation shows that the numbers need to be\n",
        "# converted to float before we make calculations\n",
        "\n",
        "number1  = input('Enter first number: ')\n",
        "number2 = input('Enter second number: ')\n",
        "print(f\"Sum, {number1+number2}\")\n",
        "\n",
        "number1  = float(input('Enter first number: '))\n",
        "number2 = float(input('Enter second number: '))\n",
        "print(f\"Sum, {number1+number2}\")"
      ],
      "metadata": {
        "colab": {
          "base_uri": "https://localhost:8080/"
        },
        "id": "h767XB-5QraS",
        "outputId": "6939bc60-dbb5-48cf-a4b0-959518e1e8bc"
      },
      "execution_count": null,
      "outputs": [
        {
          "output_type": "stream",
          "name": "stdout",
          "text": [
            "Enter first number: 10\n",
            "Enter second number: 20\n",
            "Sum, 1020\n",
            "Enter first number: 10\n",
            "Enter second number: 20\n",
            "Sum, 30.0\n"
          ]
        }
      ]
    },
    {
      "cell_type": "code",
      "source": [
        "def greet(name):\n",
        "    \"\"\"\n",
        "    This function greets to\n",
        "    the person passed in as\n",
        "    a parameter\n",
        "    \"\"\"\n",
        "    print(\"Hello, \" + name + \". Good morning!\")\n",
        "    \n",
        "greet(\"Alaa\")"
      ],
      "metadata": {
        "colab": {
          "base_uri": "https://localhost:8080/"
        },
        "id": "8Lm__QA9TCqL",
        "outputId": "70d9d18f-8b09-48ea-ed5c-7ada9e7549d0"
      },
      "execution_count": null,
      "outputs": [
        {
          "output_type": "stream",
          "name": "stdout",
          "text": [
            "Hello, Alaa. Good morning!\n"
          ]
        }
      ]
    },
    {
      "cell_type": "code",
      "source": [
        "def my_function(food):\n",
        "  for x in food:\n",
        "    print(x)\n",
        "\n",
        "fruits = [\"apple\", \"banana\", \"cherry\"]\n",
        "\n",
        "my_function(fruits)"
      ],
      "metadata": {
        "colab": {
          "base_uri": "https://localhost:8080/"
        },
        "id": "yJiw841bVV2K",
        "outputId": "4db31583-f85a-4da2-9b78-b6b5af9d2238"
      },
      "execution_count": null,
      "outputs": [
        {
          "output_type": "stream",
          "name": "stdout",
          "text": [
            "apple\n",
            "banana\n",
            "cherry\n"
          ]
        }
      ]
    },
    {
      "cell_type": "code",
      "source": [
        "def add_number(n1,n2):\n",
        "    sum = n1 + n2;\n",
        "    return sum;\n",
        "\n",
        "num1 = 30\n",
        "num2 = 20\n",
        "sum = add_number(num1,num2)\n",
        "print(\"The sum of two number is\",sum)"
      ],
      "metadata": {
        "colab": {
          "base_uri": "https://localhost:8080/"
        },
        "id": "jfsfjOs9SWHo",
        "outputId": "5f9333b0-2e60-4f6b-fe84-71eba208b842"
      },
      "execution_count": null,
      "outputs": [
        {
          "output_type": "stream",
          "name": "stdout",
          "text": [
            "The sum of two number is 50\n"
          ]
        }
      ]
    }
  ]
}