{
  "nbformat": 4,
  "nbformat_minor": 0,
  "metadata": {
    "colab": {
      "name": "EvoCluster.ipynb",
      "provenance": [],
      "collapsed_sections": [],
      "include_colab_link": true
    },
    "kernelspec": {
      "name": "python3",
      "display_name": "Python 3"
    },
    "widgets": {
      "application/vnd.jupyter.widget-state+json": {
        "403c946a43584bd4a79c383375126cea": {
          "model_module": "@jupyter-widgets/controls",
          "model_name": "DropdownModel",
          "model_module_version": "1.5.0",
          "state": {
            "_dom_classes": [],
            "_model_module": "@jupyter-widgets/controls",
            "_model_module_version": "1.5.0",
            "_model_name": "DropdownModel",
            "_options_labels": [
              "2022-10-14-20-37-03"
            ],
            "_view_count": null,
            "_view_module": "@jupyter-widgets/controls",
            "_view_module_version": "1.5.0",
            "_view_name": "DropdownView",
            "description": "Select folder:",
            "description_tooltip": null,
            "disabled": false,
            "index": 0,
            "layout": "IPY_MODEL_ce23e33468074597a4de5de654457cfe",
            "style": "IPY_MODEL_4acc07801d96445e9d95ceb2231162c0"
          }
        },
        "ce23e33468074597a4de5de654457cfe": {
          "model_module": "@jupyter-widgets/base",
          "model_name": "LayoutModel",
          "model_module_version": "1.2.0",
          "state": {
            "_model_module": "@jupyter-widgets/base",
            "_model_module_version": "1.2.0",
            "_model_name": "LayoutModel",
            "_view_count": null,
            "_view_module": "@jupyter-widgets/base",
            "_view_module_version": "1.2.0",
            "_view_name": "LayoutView",
            "align_content": null,
            "align_items": null,
            "align_self": null,
            "border": null,
            "bottom": null,
            "display": null,
            "flex": null,
            "flex_flow": null,
            "grid_area": null,
            "grid_auto_columns": null,
            "grid_auto_flow": null,
            "grid_auto_rows": null,
            "grid_column": null,
            "grid_gap": null,
            "grid_row": null,
            "grid_template_areas": null,
            "grid_template_columns": null,
            "grid_template_rows": null,
            "height": null,
            "justify_content": null,
            "justify_items": null,
            "left": null,
            "margin": null,
            "max_height": null,
            "max_width": null,
            "min_height": null,
            "min_width": null,
            "object_fit": null,
            "object_position": null,
            "order": null,
            "overflow": null,
            "overflow_x": null,
            "overflow_y": null,
            "padding": null,
            "right": null,
            "top": null,
            "visibility": null,
            "width": null
          }
        },
        "4acc07801d96445e9d95ceb2231162c0": {
          "model_module": "@jupyter-widgets/controls",
          "model_name": "DescriptionStyleModel",
          "model_module_version": "1.5.0",
          "state": {
            "_model_module": "@jupyter-widgets/controls",
            "_model_module_version": "1.5.0",
            "_model_name": "DescriptionStyleModel",
            "_view_count": null,
            "_view_module": "@jupyter-widgets/base",
            "_view_module_version": "1.2.0",
            "_view_name": "StyleView",
            "description_width": ""
          }
        },
        "5d729af9e34847bc9851f13a021d76e0": {
          "model_module": "@jupyter-widgets/controls",
          "model_name": "DropdownModel",
          "model_module_version": "1.5.0",
          "state": {
            "_dom_classes": [],
            "_model_module": "@jupyter-widgets/controls",
            "_model_module_version": "1.5.0",
            "_model_name": "DropdownModel",
            "_options_labels": [
              "convergence-iris-SSE.png",
              "convergence-iris-TWCV.png"
            ],
            "_view_count": null,
            "_view_module": "@jupyter-widgets/controls",
            "_view_module_version": "1.5.0",
            "_view_name": "DropdownView",
            "description": "Select plot:",
            "description_tooltip": null,
            "disabled": false,
            "index": 0,
            "layout": "IPY_MODEL_fdf9af6128a64cf1a7c05ea1fda5a84d",
            "style": "IPY_MODEL_1de588e30f8f4d5986923b2babfa0a30"
          }
        },
        "fdf9af6128a64cf1a7c05ea1fda5a84d": {
          "model_module": "@jupyter-widgets/base",
          "model_name": "LayoutModel",
          "model_module_version": "1.2.0",
          "state": {
            "_model_module": "@jupyter-widgets/base",
            "_model_module_version": "1.2.0",
            "_model_name": "LayoutModel",
            "_view_count": null,
            "_view_module": "@jupyter-widgets/base",
            "_view_module_version": "1.2.0",
            "_view_name": "LayoutView",
            "align_content": null,
            "align_items": null,
            "align_self": null,
            "border": null,
            "bottom": null,
            "display": null,
            "flex": null,
            "flex_flow": null,
            "grid_area": null,
            "grid_auto_columns": null,
            "grid_auto_flow": null,
            "grid_auto_rows": null,
            "grid_column": null,
            "grid_gap": null,
            "grid_row": null,
            "grid_template_areas": null,
            "grid_template_columns": null,
            "grid_template_rows": null,
            "height": null,
            "justify_content": null,
            "justify_items": null,
            "left": null,
            "margin": null,
            "max_height": null,
            "max_width": null,
            "min_height": null,
            "min_width": null,
            "object_fit": null,
            "object_position": null,
            "order": null,
            "overflow": null,
            "overflow_x": null,
            "overflow_y": null,
            "padding": null,
            "right": null,
            "top": null,
            "visibility": null,
            "width": null
          }
        },
        "1de588e30f8f4d5986923b2babfa0a30": {
          "model_module": "@jupyter-widgets/controls",
          "model_name": "DescriptionStyleModel",
          "model_module_version": "1.5.0",
          "state": {
            "_model_module": "@jupyter-widgets/controls",
            "_model_module_version": "1.5.0",
            "_model_name": "DescriptionStyleModel",
            "_view_count": null,
            "_view_module": "@jupyter-widgets/base",
            "_view_module_version": "1.2.0",
            "_view_name": "StyleView",
            "description_width": ""
          }
        },
        "a87c87815f8b451da6dcaaac296fd8ea": {
          "model_module": "@jupyter-widgets/controls",
          "model_name": "DropdownModel",
          "model_module_version": "1.5.0",
          "state": {
            "_dom_classes": [],
            "_model_module": "@jupyter-widgets/controls",
            "_model_module_version": "1.5.0",
            "_model_name": "DropdownModel",
            "_options_labels": [
              "boxplot-iris-TWCV-Entropy.png",
              "boxplot-iris-TWCV-VM.png",
              "boxplot-iris-TWCV-CS.png",
              "boxplot-iris-TWCV-DI.png",
              "boxplot-iris-SSE-Purity.png",
              "boxplot-iris-TWCV-HS.png",
              "boxplot-iris-TWCV-Purity.png",
              "boxplot-iris-SSE-SC.png",
              "boxplot-iris-TWCV-SSE.png",
              "boxplot-iris-SSE-Entropy.png",
              "boxplot-iris-SSE-SSE.png",
              "boxplot-iris-SSE-CS.png",
              "boxplot-iris-TWCV-AMI.png",
              "boxplot-iris-TWCV-STDev.png",
              "boxplot-iris-SSE-Fmeasure.png",
              "boxplot-iris-SSE-ARI.png",
              "boxplot-iris-SSE-Accuracy.png",
              "boxplot-iris-TWCV-Accuracy.png",
              "boxplot-iris-TWCV-DB.png",
              "boxplot-iris-SSE-VM.png",
              "boxplot-iris-TWCV-ARI.png",
              "boxplot-iris-TWCV-Fmeasure.png",
              "boxplot-iris-SSE-STDev.png",
              "boxplot-iris-SSE-HS.png",
              "boxplot-iris-SSE-AMI.png",
              "boxplot-iris-SSE-DB.png",
              "boxplot-iris-TWCV-TWCV.png",
              "boxplot-iris-TWCV-SC.png",
              "boxplot-iris-SSE-TWCV.png",
              "boxplot-iris-SSE-DI.png"
            ],
            "_view_count": null,
            "_view_module": "@jupyter-widgets/controls",
            "_view_module_version": "1.5.0",
            "_view_name": "DropdownView",
            "description": "Select plot:",
            "description_tooltip": null,
            "disabled": false,
            "index": 0,
            "layout": "IPY_MODEL_856e81daa8b8470289da882b7d47a77e",
            "style": "IPY_MODEL_715f2f85a8f64d1eb4a2cdbb1bf28037"
          }
        },
        "856e81daa8b8470289da882b7d47a77e": {
          "model_module": "@jupyter-widgets/base",
          "model_name": "LayoutModel",
          "model_module_version": "1.2.0",
          "state": {
            "_model_module": "@jupyter-widgets/base",
            "_model_module_version": "1.2.0",
            "_model_name": "LayoutModel",
            "_view_count": null,
            "_view_module": "@jupyter-widgets/base",
            "_view_module_version": "1.2.0",
            "_view_name": "LayoutView",
            "align_content": null,
            "align_items": null,
            "align_self": null,
            "border": null,
            "bottom": null,
            "display": null,
            "flex": null,
            "flex_flow": null,
            "grid_area": null,
            "grid_auto_columns": null,
            "grid_auto_flow": null,
            "grid_auto_rows": null,
            "grid_column": null,
            "grid_gap": null,
            "grid_row": null,
            "grid_template_areas": null,
            "grid_template_columns": null,
            "grid_template_rows": null,
            "height": null,
            "justify_content": null,
            "justify_items": null,
            "left": null,
            "margin": null,
            "max_height": null,
            "max_width": null,
            "min_height": null,
            "min_width": null,
            "object_fit": null,
            "object_position": null,
            "order": null,
            "overflow": null,
            "overflow_x": null,
            "overflow_y": null,
            "padding": null,
            "right": null,
            "top": null,
            "visibility": null,
            "width": null
          }
        },
        "715f2f85a8f64d1eb4a2cdbb1bf28037": {
          "model_module": "@jupyter-widgets/controls",
          "model_name": "DescriptionStyleModel",
          "model_module_version": "1.5.0",
          "state": {
            "_model_module": "@jupyter-widgets/controls",
            "_model_module_version": "1.5.0",
            "_model_name": "DescriptionStyleModel",
            "_view_count": null,
            "_view_module": "@jupyter-widgets/base",
            "_view_module_version": "1.2.0",
            "_view_name": "StyleView",
            "description_width": ""
          }
        }
      }
    }
  },
  "cells": [
    {
      "cell_type": "markdown",
      "metadata": {
        "id": "view-in-github",
        "colab_type": "text"
      },
      "source": [
        "<a href=\"https://colab.research.google.com/github/asheta66/Machine-Learning-2022/blob/main/examples/EvoCluster.ipynb\" target=\"_parent\"><img src=\"https://colab.research.google.com/assets/colab-badge.svg\" alt=\"Open In Colab\"/></a>"
      ]
    },
    {
      "cell_type": "markdown",
      "metadata": {
        "id": "IiNG95DSmRmt"
      },
      "source": [
        "<h1>EvoCluster</h1>\n",
        "An Open-Source Nature-Inspired Optimization Clustering Framework in Python"
      ]
    },
    {
      "cell_type": "markdown",
      "metadata": {
        "id": "hKzyadcdm6yw"
      },
      "source": [
        "EvoCluster is an open source and cross-platform framework implemented in Python which includes the most well-known and recent nature-inspired metaheuristic  optimizers  that  are  customized  to  perform  partitional  clustering tasks.  \n",
        "\n",
        "The  goal  of  this  framework  is  to  provide  a  user-friendly  and  customizable implementation of the metaheuristic based clustering algorithms which can be utilized by experienced and non-experienced users for different applications.\n",
        "\n",
        "The framework can also be used by researchers who can benefit from the implementation of the metaheuristic optimizers for their research studies. \n",
        "\n",
        "EvoCluster can be extended by designing other optimizers, including more objective func-tions, adding other evaluation measures, and using more data sets. \n",
        "\n",
        "The current implementation  of  the  framework  includes  ten  metaheristic  optimizers,  thirtydatasets,  five  objective  functions,  and  twelve  evaluation  measures.  "
      ]
    },
    {
      "cell_type": "markdown",
      "metadata": {
        "id": "2zQnPqDUujil"
      },
      "source": [
        "The full list of implemented optimizers is available here https://github.com/7ossam81/EvoloPy/wiki/List-of-optimizers"
      ]
    },
    {
      "cell_type": "markdown",
      "metadata": {
        "id": "ehxW3t0puwpm"
      },
      "source": [
        "<h2>Features</h2>"
      ]
    },
    {
      "cell_type": "markdown",
      "metadata": {
        "id": "TufeO-Rturq8"
      },
      "source": [
        "*   Ten nature-inspired metaheuristic optimizers are implemented.\n",
        "*   The implimentation uses the fast array manipulation using [NumPy] (http://www.numpy.org/).\n",
        "*   Matrix support using [SciPy's] (https://www.scipy.org/) package.\n",
        "*   More optimizers are comming soon"
      ]
    },
    {
      "cell_type": "markdown",
      "metadata": {
        "id": "oG2TRdx-vf8m"
      },
      "source": [
        "<h2>Installation</h2>"
      ]
    },
    {
      "cell_type": "markdown",
      "metadata": {
        "id": "_XpMUOZNvi9H"
      },
      "source": [
        "Python 3.xx is required."
      ]
    },
    {
      "cell_type": "markdown",
      "metadata": {
        "id": "f_PVAZC6v7px"
      },
      "source": [
        "<h2>GitHub</h2>"
      ]
    },
    {
      "cell_type": "markdown",
      "metadata": {
        "id": "aW_66ovkv2ev"
      },
      "source": [
        "Clone the Git repository from GitHub:\n",
        "git clone https://github.com/RaneemQaddoura/EvoCluster.git"
      ]
    },
    {
      "cell_type": "code",
      "metadata": {
        "id": "QgrmE2wEyC_X",
        "colab": {
          "base_uri": "https://localhost:8080/"
        },
        "outputId": "d6255a14-6801-4107-f439-51143edf0610"
      },
      "source": [
        "!git clone https://github.com/RaneemQaddoura/EvoCluster.git"
      ],
      "execution_count": 35,
      "outputs": [
        {
          "output_type": "stream",
          "name": "stdout",
          "text": [
            "Cloning into 'EvoCluster'...\n",
            "remote: Enumerating objects: 850, done.\u001b[K\n",
            "remote: Counting objects: 100% (33/33), done.\u001b[K\n",
            "remote: Compressing objects: 100% (25/25), done.\u001b[K\n",
            "remote: Total 850 (delta 23), reused 10 (delta 8), pack-reused 817\u001b[K\n",
            "Receiving objects: 100% (850/850), 1.61 MiB | 4.86 MiB/s, done.\n",
            "Resolving deltas: 100% (440/440), done.\n"
          ]
        }
      ]
    },
    {
      "cell_type": "code",
      "metadata": {
        "id": "_yVUbtjcyiZR"
      },
      "source": [
        "# Change working directory\n",
        "import os\n",
        "os.chdir(\"EvoCluster/\")"
      ],
      "execution_count": 36,
      "outputs": []
    },
    {
      "cell_type": "markdown",
      "metadata": {
        "id": "S4j-t-nXxaM7"
      },
      "source": [
        "<h2>Install Packages</h2>"
      ]
    },
    {
      "cell_type": "code",
      "metadata": {
        "id": "-mG8vIuIW1n8",
        "colab": {
          "base_uri": "https://localhost:8080/"
        },
        "outputId": "57b1f242-6c20-4e24-8e7e-fd5d9b1921f7"
      },
      "source": [
        "#Install NumPy, SciPy, sklearn, pandas, and matplotlib\n",
        "!pip install -r requirements.txt"
      ],
      "execution_count": 37,
      "outputs": [
        {
          "output_type": "stream",
          "name": "stdout",
          "text": [
            "Looking in indexes: https://pypi.org/simple, https://us-python.pkg.dev/colab-wheels/public/simple/\n",
            "Requirement already satisfied: NumPy in /usr/local/lib/python3.7/dist-packages (from -r requirements.txt (line 1)) (1.21.6)\n",
            "Requirement already satisfied: SciPy in /usr/local/lib/python3.7/dist-packages (from -r requirements.txt (line 2)) (1.7.3)\n",
            "Requirement already satisfied: sklearn in /usr/local/lib/python3.7/dist-packages (from -r requirements.txt (line 3)) (0.0)\n",
            "Requirement already satisfied: pandas in /usr/local/lib/python3.7/dist-packages (from -r requirements.txt (line 4)) (1.3.5)\n",
            "Requirement already satisfied: matplotlib in /usr/local/lib/python3.7/dist-packages (from -r requirements.txt (line 5)) (3.2.2)\n",
            "Requirement already satisfied: scikit-learn in /usr/local/lib/python3.7/dist-packages (from sklearn->-r requirements.txt (line 3)) (1.0.2)\n",
            "Requirement already satisfied: pytz>=2017.3 in /usr/local/lib/python3.7/dist-packages (from pandas->-r requirements.txt (line 4)) (2022.4)\n",
            "Requirement already satisfied: python-dateutil>=2.7.3 in /usr/local/lib/python3.7/dist-packages (from pandas->-r requirements.txt (line 4)) (2.8.2)\n",
            "Requirement already satisfied: six>=1.5 in /usr/local/lib/python3.7/dist-packages (from python-dateutil>=2.7.3->pandas->-r requirements.txt (line 4)) (1.15.0)\n",
            "Requirement already satisfied: cycler>=0.10 in /usr/local/lib/python3.7/dist-packages (from matplotlib->-r requirements.txt (line 5)) (0.11.0)\n",
            "Requirement already satisfied: pyparsing!=2.0.4,!=2.1.2,!=2.1.6,>=2.0.1 in /usr/local/lib/python3.7/dist-packages (from matplotlib->-r requirements.txt (line 5)) (3.0.9)\n",
            "Requirement already satisfied: kiwisolver>=1.0.1 in /usr/local/lib/python3.7/dist-packages (from matplotlib->-r requirements.txt (line 5)) (1.4.4)\n",
            "Requirement already satisfied: typing-extensions in /usr/local/lib/python3.7/dist-packages (from kiwisolver>=1.0.1->matplotlib->-r requirements.txt (line 5)) (4.1.1)\n",
            "Requirement already satisfied: joblib>=0.11 in /usr/local/lib/python3.7/dist-packages (from scikit-learn->sklearn->-r requirements.txt (line 3)) (1.2.0)\n",
            "Requirement already satisfied: threadpoolctl>=2.0.0 in /usr/local/lib/python3.7/dist-packages (from scikit-learn->sklearn->-r requirements.txt (line 3)) (3.1.0)\n"
          ]
        }
      ]
    },
    {
      "cell_type": "markdown",
      "metadata": {
        "id": "fEon-wGyZuq4"
      },
      "source": [
        "<h2>User Preferences</h2>"
      ]
    },
    {
      "cell_type": "code",
      "metadata": {
        "id": "cFF9ioDfyppV"
      },
      "source": [
        "# Select optimizers\n",
        "# \"SSA\",\"PSO\",\"GA\",\"BAT\",\"FFA\",\"GWO\",\"WOA\",\"MVO\",\"MFO\",\"CS\"\n",
        "# optimizer=[\"SSA\",\"PSO\",\"GA\",\"GWO\"]\n",
        "optimizer=[\"SSA\"]"
      ],
      "execution_count": 38,
      "outputs": []
    },
    {
      "cell_type": "code",
      "metadata": {
        "id": "SuWo96bB6ohe"
      },
      "source": [
        "# Select objective function\n",
        "# \"SSE\",\"TWCV\",\"SC\",\"DB\",\"DI\"\n",
        "objectivefunc=[\"SSE\",\"TWCV\"] "
      ],
      "execution_count": 39,
      "outputs": []
    },
    {
      "cell_type": "code",
      "metadata": {
        "id": "DQpzhArU65Px"
      },
      "source": [
        "# Select data sets\n",
        "#\"aggregation\",\"aniso\",\"appendicitis\",\"balance\",\"banknote\",\"blobs\",\"Blood\",\"circles\",\"diagnosis_II\",\"ecoli\",\"flame\",\"glass\",\"heart\",\"ionosphere\",\"iris\",\"iris2D\",\"jain\",\"liver\",\"moons\",\"mouse\",\"pathbased\",\"seeds\",\"smiley\",\"sonar\",\"varied\",\"vary-density\",\"vertebral2\",\"vertebral3\",\"wdbc\",\"wine\"\n",
        "#dataset_List = [\"iris\",\"aggregation\"]\n",
        "dataset_List = [\"iris\"]"
      ],
      "execution_count": 40,
      "outputs": []
    },
    {
      "cell_type": "code",
      "metadata": {
        "id": "CQyWvdS3Ipgt"
      },
      "source": [
        "# Select number of repetitions for each experiment. \n",
        "# To obtain meaningful statistical results, usually 30 independent runs are executed for each algorithm.\n",
        "NumOfRuns=3"
      ],
      "execution_count": 41,
      "outputs": []
    },
    {
      "cell_type": "code",
      "metadata": {
        "id": "2djrIRh26sKB"
      },
      "source": [
        "# Select general parameters for all optimizers (population size, number of iterations) ....\n",
        "params = {'PopulationSize' : 30, 'Iterations' : 50}"
      ],
      "execution_count": 42,
      "outputs": []
    },
    {
      "cell_type": "code",
      "metadata": {
        "id": "aJb075Np62GM"
      },
      "source": [
        "#Choose whether to Export the results in different formats\n",
        "export_flags = {'Export_avg':True, 'Export_details':True, 'Export_details_labels':True, \n",
        "'Export_convergence':True, 'Export_boxplot':True}"
      ],
      "execution_count": 43,
      "outputs": []
    },
    {
      "cell_type": "markdown",
      "metadata": {
        "id": "KAgXf1QkZD7X"
      },
      "source": [
        "<h2>Run Framework</h2>"
      ]
    },
    {
      "cell_type": "code",
      "metadata": {
        "id": "APzDcxiwI8A2",
        "colab": {
          "base_uri": "https://localhost:8080/"
        },
        "outputId": "4d09c7d0-3e2c-4b53-efd7-915ba94af21c"
      },
      "source": [
        "# Run EvoCluster\n",
        "from EvoCluster import EvoCluster\n",
        "evo = EvoCluster(optimizer, objectivefunc, dataset_List, NumOfRuns, params, export_flags)\n",
        "evo.run()"
      ],
      "execution_count": 44,
      "outputs": [
        {
          "output_type": "stream",
          "name": "stdout",
          "text": [
            "Dataset: iris\n",
            "k: 3\n",
            "Run no.: 0\n",
            "Population Size: 30\n",
            "Iterations: 50\n",
            "SSA is optimizing  \"SSE\"\n",
            "['At iteration 1 the best fitness is 16.691897373602025']\n",
            "['At iteration 2 the best fitness is 14.164405825656612']\n",
            "['At iteration 3 the best fitness is 10.463419596835145']\n",
            "['At iteration 4 the best fitness is 6.519727739761274']\n",
            "['At iteration 5 the best fitness is 6.519727739761274']\n",
            "['At iteration 6 the best fitness is 5.636880053602239']\n",
            "['At iteration 7 the best fitness is 5.636880053602239']\n",
            "['At iteration 8 the best fitness is 5.636880053602239']\n",
            "['At iteration 9 the best fitness is 5.636880053602239']\n",
            "['At iteration 10 the best fitness is 5.356465949485887']\n",
            "['At iteration 11 the best fitness is 5.2233557538554996']\n",
            "['At iteration 12 the best fitness is 4.6505267820456675']\n",
            "['At iteration 13 the best fitness is 3.9809533921519416']\n",
            "['At iteration 14 the best fitness is 3.814326505619567']\n",
            "['At iteration 15 the best fitness is 3.501275200375403']\n",
            "['At iteration 16 the best fitness is 3.293609586848005']\n",
            "['At iteration 17 the best fitness is 3.1198590982146124']\n",
            "['At iteration 18 the best fitness is 3.0518942362381765']\n",
            "['At iteration 19 the best fitness is 2.9782348175966993']\n",
            "['At iteration 20 the best fitness is 2.949629415525612']\n",
            "['At iteration 21 the best fitness is 2.918890470220284']\n",
            "['At iteration 22 the best fitness is 2.899808236667872']\n",
            "['At iteration 23 the best fitness is 2.885365671369533']\n",
            "['At iteration 24 the best fitness is 2.874408251354536']\n",
            "['At iteration 25 the best fitness is 2.865355888226562']\n",
            "['At iteration 26 the best fitness is 2.8585338055680847']\n",
            "['At iteration 27 the best fitness is 2.855764449515518']\n",
            "['At iteration 28 the best fitness is 2.8529582210492483']\n",
            "['At iteration 29 the best fitness is 2.8511992584627928']\n",
            "['At iteration 30 the best fitness is 2.8499723354247033']\n",
            "['At iteration 31 the best fitness is 2.8492604527296312']\n",
            "['At iteration 32 the best fitness is 2.848905305243088']\n",
            "['At iteration 33 the best fitness is 2.8482659306442004']\n",
            "['At iteration 34 the best fitness is 2.8480855928960964']\n",
            "['At iteration 35 the best fitness is 2.847910166085292']\n",
            "['At iteration 36 the best fitness is 2.8478266457104144']\n",
            "['At iteration 37 the best fitness is 2.8477683787232415']\n",
            "['At iteration 38 the best fitness is 2.847756923909016']\n",
            "['At iteration 39 the best fitness is 2.847743065137861']\n",
            "['At iteration 40 the best fitness is 2.847733025383376']\n",
            "['At iteration 41 the best fitness is 2.8477232322179615']\n",
            "['At iteration 42 the best fitness is 2.847719226385456']\n",
            "['At iteration 43 the best fitness is 2.8477170077503438']\n",
            "['At iteration 44 the best fitness is 2.84771531647018']\n",
            "['At iteration 45 the best fitness is 2.847713967168999']\n",
            "['At iteration 46 the best fitness is 2.8477133362372893']\n",
            "['At iteration 47 the best fitness is 2.8477131972822614']\n",
            "['At iteration 48 the best fitness is 2.847713051652584']\n",
            "['At iteration 49 the best fitness is 2.847713005408243']\n",
            "Dataset: iris\n",
            "k: 3\n",
            "Run no.: 1\n",
            "Population Size: 30\n",
            "Iterations: 50\n",
            "SSA is optimizing  \"SSE\"\n",
            "['At iteration 1 the best fitness is 19.10576091937893']\n",
            "['At iteration 2 the best fitness is 15.862582107393736']\n",
            "['At iteration 3 the best fitness is 15.862582107393736']\n",
            "['At iteration 4 the best fitness is 12.328569520556488']\n",
            "['At iteration 5 the best fitness is 11.364616921114683']\n",
            "['At iteration 6 the best fitness is 8.916581230742516']\n",
            "['At iteration 7 the best fitness is 8.077140851330377']\n",
            "['At iteration 8 the best fitness is 6.097946785713359']\n",
            "['At iteration 9 the best fitness is 5.338767329560078']\n",
            "['At iteration 10 the best fitness is 5.338767329560078']\n",
            "['At iteration 11 the best fitness is 4.3111582280460725']\n",
            "['At iteration 12 the best fitness is 4.269055216787445']\n",
            "['At iteration 13 the best fitness is 3.9841925617000062']\n",
            "['At iteration 14 the best fitness is 3.7764658681072927']\n",
            "['At iteration 15 the best fitness is 3.4805602437431173']\n",
            "['At iteration 16 the best fitness is 3.4634865787304427']\n",
            "['At iteration 17 the best fitness is 3.1873488630983164']\n",
            "['At iteration 18 the best fitness is 3.1873488630983164']\n",
            "['At iteration 19 the best fitness is 3.03338502437931']\n",
            "['At iteration 20 the best fitness is 2.9795874841188814']\n",
            "['At iteration 21 the best fitness is 2.939170643538141']\n",
            "['At iteration 22 the best fitness is 2.895077771066995']\n",
            "['At iteration 23 the best fitness is 2.8887010171056637']\n",
            "['At iteration 24 the best fitness is 2.873816938926955']\n",
            "['At iteration 25 the best fitness is 2.8602150808120186']\n",
            "['At iteration 26 the best fitness is 2.8551363587576457']\n",
            "['At iteration 27 the best fitness is 2.851941886463754']\n",
            "['At iteration 28 the best fitness is 2.849648660847359']\n",
            "['At iteration 29 the best fitness is 2.8479373901367433']\n",
            "['At iteration 30 the best fitness is 2.8466538827339445']\n",
            "['At iteration 31 the best fitness is 2.845876155476099']\n",
            "['At iteration 32 the best fitness is 2.845567267546187']\n",
            "['At iteration 33 the best fitness is 2.845274907613222']\n",
            "['At iteration 34 the best fitness is 2.844946942657927']\n",
            "['At iteration 35 the best fitness is 2.844877676982793']\n",
            "['At iteration 36 the best fitness is 2.844796214041872']\n",
            "['At iteration 37 the best fitness is 2.8447398987429233']\n",
            "['At iteration 38 the best fitness is 2.8447034676039715']\n",
            "['At iteration 39 the best fitness is 2.844684403906495']\n",
            "['At iteration 40 the best fitness is 2.8446713375200767']\n",
            "['At iteration 41 the best fitness is 2.844664144851926']\n",
            "['At iteration 42 the best fitness is 2.844661201475704']\n",
            "['At iteration 43 the best fitness is 2.844659430487538']\n",
            "['At iteration 44 the best fitness is 2.844658746436395']\n",
            "['At iteration 45 the best fitness is 2.844658425018723']\n",
            "['At iteration 46 the best fitness is 2.844657952786885']\n",
            "['At iteration 47 the best fitness is 2.844657803378631']\n",
            "['At iteration 48 the best fitness is 2.8446576552959857']\n",
            "['At iteration 49 the best fitness is 2.84465760775612']\n",
            "Dataset: iris\n",
            "k: 3\n",
            "Run no.: 2\n",
            "Population Size: 30\n",
            "Iterations: 50\n",
            "SSA is optimizing  \"SSE\"\n",
            "['At iteration 1 the best fitness is 14.997854200389765']\n",
            "['At iteration 2 the best fitness is 10.140581777417312']\n",
            "['At iteration 3 the best fitness is 10.140581777417312']\n",
            "['At iteration 4 the best fitness is 6.167915949174268']\n",
            "['At iteration 5 the best fitness is 6.167915949174268']\n",
            "['At iteration 6 the best fitness is 6.167915949174268']\n",
            "['At iteration 7 the best fitness is 6.167915949174268']\n",
            "['At iteration 8 the best fitness is 6.167915949174268']\n",
            "['At iteration 9 the best fitness is 6.167915949174268']\n",
            "['At iteration 10 the best fitness is 5.714962583311344']\n",
            "['At iteration 11 the best fitness is 5.701866250211653']\n",
            "['At iteration 12 the best fitness is 4.13142649060954']\n",
            "['At iteration 13 the best fitness is 3.8214660099486486']\n",
            "['At iteration 14 the best fitness is 3.763714978386779']\n",
            "['At iteration 15 the best fitness is 3.647428300308596']\n",
            "['At iteration 16 the best fitness is 3.517803298761688']\n",
            "['At iteration 17 the best fitness is 3.4194545666958236']\n",
            "['At iteration 18 the best fitness is 3.3917633708882793']\n",
            "['At iteration 19 the best fitness is 3.277615786717462']\n",
            "['At iteration 20 the best fitness is 3.2095163177584283']\n",
            "['At iteration 21 the best fitness is 3.1726288718052342']\n",
            "['At iteration 22 the best fitness is 3.1302006928430792']\n",
            "['At iteration 23 the best fitness is 3.1018123691224204']\n",
            "['At iteration 24 the best fitness is 3.0710383060107143']\n",
            "['At iteration 25 the best fitness is 3.060530266713851']\n",
            "['At iteration 26 the best fitness is 3.0503762362140208']\n",
            "['At iteration 27 the best fitness is 3.044023744339965']\n",
            "['At iteration 28 the best fitness is 3.0381791377616554']\n",
            "['At iteration 29 the best fitness is 3.035200186114404']\n",
            "['At iteration 30 the best fitness is 3.031991130257124']\n",
            "['At iteration 31 the best fitness is 3.029508120420446']\n",
            "['At iteration 32 the best fitness is 3.0283261202954526']\n",
            "['At iteration 33 the best fitness is 3.0278029012630547']\n",
            "['At iteration 34 the best fitness is 3.027266139947117']\n",
            "['At iteration 35 the best fitness is 3.0267762958748055']\n",
            "['At iteration 36 the best fitness is 3.0267436474969243']\n",
            "['At iteration 37 the best fitness is 3.0265358221481993']\n",
            "['At iteration 38 the best fitness is 3.026410297157497']\n",
            "['At iteration 39 the best fitness is 3.0263463891746403']\n",
            "['At iteration 40 the best fitness is 3.026314157423518']\n",
            "['At iteration 41 the best fitness is 3.0262933466480613']\n",
            "['At iteration 42 the best fitness is 3.0262805313856664']\n",
            "['At iteration 43 the best fitness is 3.026274329810417']\n",
            "['At iteration 44 the best fitness is 3.0262715761258225']\n",
            "['At iteration 45 the best fitness is 3.0262704793265915']\n",
            "['At iteration 46 the best fitness is 3.0262699456365065']\n",
            "['At iteration 47 the best fitness is 3.0262691584551']\n",
            "['At iteration 48 the best fitness is 3.026268678114681']\n",
            "['At iteration 49 the best fitness is 3.0262684201353354']\n",
            "Dataset: iris\n",
            "k: 3\n",
            "Run no.: 0\n",
            "Population Size: 30\n",
            "Iterations: 50\n",
            "SSA is optimizing  \"TWCV\"\n",
            "['At iteration 1 the best fitness is 3.338428267444101']\n",
            "['At iteration 2 the best fitness is 2.875307119098352']\n",
            "['At iteration 3 the best fitness is 2.8320876549208265']\n",
            "['At iteration 4 the best fitness is 2.8320876549208265']\n",
            "['At iteration 5 the best fitness is 2.8320876549208265']\n",
            "['At iteration 6 the best fitness is 2.8320876549208265']\n",
            "['At iteration 7 the best fitness is 2.8320876549208265']\n",
            "['At iteration 8 the best fitness is 2.8320876549208265']\n",
            "['At iteration 9 the best fitness is 2.8320876549208265']\n",
            "['At iteration 10 the best fitness is 2.8320876549208265']\n",
            "['At iteration 11 the best fitness is 2.8320876549208265']\n",
            "['At iteration 12 the best fitness is 2.8320876549208265']\n",
            "['At iteration 13 the best fitness is 2.8320876549208265']\n",
            "['At iteration 14 the best fitness is 2.8320876549208265']\n",
            "['At iteration 15 the best fitness is 2.8320876549208265']\n",
            "['At iteration 16 the best fitness is 2.8320876549208265']\n",
            "['At iteration 17 the best fitness is 2.8320876549208265']\n",
            "['At iteration 18 the best fitness is 2.8320876549208265']\n",
            "['At iteration 19 the best fitness is 2.8320876549208265']\n",
            "['At iteration 20 the best fitness is 2.8320876549208265']\n",
            "['At iteration 21 the best fitness is 2.8320876549208265']\n",
            "['At iteration 22 the best fitness is 2.8320876549208265']\n",
            "['At iteration 23 the best fitness is 2.8320876549208265']\n",
            "['At iteration 24 the best fitness is 2.8320876549208265']\n",
            "['At iteration 25 the best fitness is 2.8320876549208265']\n",
            "['At iteration 26 the best fitness is 2.8320876549208265']\n",
            "['At iteration 27 the best fitness is 2.8320876549208265']\n",
            "['At iteration 28 the best fitness is 2.8320876549208265']\n",
            "['At iteration 29 the best fitness is 2.8320876549208265']\n",
            "['At iteration 30 the best fitness is 2.8320876549208265']\n",
            "['At iteration 31 the best fitness is 2.8320876549208265']\n",
            "['At iteration 32 the best fitness is 2.8320876549208265']\n",
            "['At iteration 33 the best fitness is 2.8320876549208265']\n",
            "['At iteration 34 the best fitness is 2.8320876549208265']\n",
            "['At iteration 35 the best fitness is 2.8320876549208265']\n",
            "['At iteration 36 the best fitness is 2.8320876549208265']\n",
            "['At iteration 37 the best fitness is 2.8320876549208265']\n",
            "['At iteration 38 the best fitness is 2.8320876549208265']\n",
            "['At iteration 39 the best fitness is 2.8320876549208265']\n",
            "['At iteration 40 the best fitness is 2.8320876549208265']\n",
            "['At iteration 41 the best fitness is 2.8320876549208265']\n",
            "['At iteration 42 the best fitness is 2.8320876549208265']\n",
            "['At iteration 43 the best fitness is 2.8320876549208265']\n",
            "['At iteration 44 the best fitness is 2.8320876549208265']\n",
            "['At iteration 45 the best fitness is 2.8320876549208265']\n",
            "['At iteration 46 the best fitness is 2.8320876549208265']\n",
            "['At iteration 47 the best fitness is 2.8320876549208265']\n",
            "['At iteration 48 the best fitness is 2.8320876549208265']\n",
            "['At iteration 49 the best fitness is 2.8320876549208265']\n",
            "Dataset: iris\n",
            "k: 3\n",
            "Run no.: 1\n",
            "Population Size: 30\n",
            "Iterations: 50\n",
            "SSA is optimizing  \"TWCV\"\n",
            "['At iteration 1 the best fitness is 3.0941386607505024']\n",
            "['At iteration 2 the best fitness is 2.9749210216645565']\n",
            "['At iteration 3 the best fitness is 2.9749210216645565']\n",
            "['At iteration 4 the best fitness is 2.9749210216645565']\n",
            "['At iteration 5 the best fitness is 2.9749210216645565']\n",
            "['At iteration 6 the best fitness is 2.9749210216645565']\n",
            "['At iteration 7 the best fitness is 2.9749210216645565']\n",
            "['At iteration 8 the best fitness is 2.9405610494683856']\n",
            "['At iteration 9 the best fitness is 2.9405610494683856']\n",
            "['At iteration 10 the best fitness is 2.9405610494683856']\n",
            "['At iteration 11 the best fitness is 2.9405610494683856']\n",
            "['At iteration 12 the best fitness is 2.9405610494683856']\n",
            "['At iteration 13 the best fitness is 2.9405610494683856']\n",
            "['At iteration 14 the best fitness is 2.9405610494683856']\n",
            "['At iteration 15 the best fitness is 2.9405610494683856']\n",
            "['At iteration 16 the best fitness is 2.9405610494683856']\n",
            "['At iteration 17 the best fitness is 2.9405610494683856']\n",
            "['At iteration 18 the best fitness is 2.9405610494683856']\n",
            "['At iteration 19 the best fitness is 2.9405610494683856']\n",
            "['At iteration 20 the best fitness is 2.9405610494683856']\n",
            "['At iteration 21 the best fitness is 2.9405610494683856']\n",
            "['At iteration 22 the best fitness is 2.9405610494683856']\n",
            "['At iteration 23 the best fitness is 2.9405610494683856']\n",
            "['At iteration 24 the best fitness is 2.9405610494683856']\n",
            "['At iteration 25 the best fitness is 2.9405610494683856']\n",
            "['At iteration 26 the best fitness is 2.9405610494683856']\n",
            "['At iteration 27 the best fitness is 2.9405610494683856']\n",
            "['At iteration 28 the best fitness is 2.9405610494683856']\n",
            "['At iteration 29 the best fitness is 2.9405610494683856']\n",
            "['At iteration 30 the best fitness is 2.9405610494683856']\n",
            "['At iteration 31 the best fitness is 2.9405610494683856']\n",
            "['At iteration 32 the best fitness is 2.9405610494683856']\n",
            "['At iteration 33 the best fitness is 2.9405610494683856']\n",
            "['At iteration 34 the best fitness is 2.9405610494683856']\n",
            "['At iteration 35 the best fitness is 2.9405610494683856']\n",
            "['At iteration 36 the best fitness is 2.9405610494683856']\n",
            "['At iteration 37 the best fitness is 2.9405610494683856']\n",
            "['At iteration 38 the best fitness is 2.9405610494683856']\n",
            "['At iteration 39 the best fitness is 2.9405610494683856']\n",
            "['At iteration 40 the best fitness is 2.9405610494683856']\n",
            "['At iteration 41 the best fitness is 2.9405610494683856']\n",
            "['At iteration 42 the best fitness is 2.9405610494683856']\n",
            "['At iteration 43 the best fitness is 2.9405610494683856']\n",
            "['At iteration 44 the best fitness is 2.9405610494683856']\n",
            "['At iteration 45 the best fitness is 2.9405610494683856']\n",
            "['At iteration 46 the best fitness is 2.9405610494683856']\n",
            "['At iteration 47 the best fitness is 2.9405610494683856']\n",
            "['At iteration 48 the best fitness is 2.9405610494683856']\n",
            "['At iteration 49 the best fitness is 2.9405610494683856']\n",
            "Dataset: iris\n",
            "k: 3\n",
            "Run no.: 2\n",
            "Population Size: 30\n",
            "Iterations: 50\n",
            "SSA is optimizing  \"TWCV\"\n",
            "['At iteration 1 the best fitness is 3.580003938174457']\n",
            "['At iteration 2 the best fitness is 2.999403843485595']\n",
            "['At iteration 3 the best fitness is 2.999403843485595']\n",
            "['At iteration 4 the best fitness is 2.8808671288472283']\n",
            "['At iteration 5 the best fitness is 2.8808671288472283']\n",
            "['At iteration 6 the best fitness is 2.8808671288472283']\n",
            "['At iteration 7 the best fitness is 2.8808671288472283']\n",
            "['At iteration 8 the best fitness is 2.8511627126919734']\n",
            "['At iteration 9 the best fitness is 2.8320876549208265']\n",
            "['At iteration 10 the best fitness is 2.8320876549208265']\n",
            "['At iteration 11 the best fitness is 2.8320876549208265']\n",
            "['At iteration 12 the best fitness is 2.8320876549208265']\n",
            "['At iteration 13 the best fitness is 2.8320876549208265']\n",
            "['At iteration 14 the best fitness is 2.8320876549208265']\n",
            "['At iteration 15 the best fitness is 2.8320876549208265']\n",
            "['At iteration 16 the best fitness is 2.8320876549208265']\n",
            "['At iteration 17 the best fitness is 2.8320876549208265']\n",
            "['At iteration 18 the best fitness is 2.8320876549208265']\n",
            "['At iteration 19 the best fitness is 2.8320876549208265']\n",
            "['At iteration 20 the best fitness is 2.8320876549208265']\n",
            "['At iteration 21 the best fitness is 2.8320876549208265']\n",
            "['At iteration 22 the best fitness is 2.8320876549208265']\n",
            "['At iteration 23 the best fitness is 2.8320876549208265']\n",
            "['At iteration 24 the best fitness is 2.8320876549208265']\n",
            "['At iteration 25 the best fitness is 2.8320876549208265']\n",
            "['At iteration 26 the best fitness is 2.8320876549208265']\n",
            "['At iteration 27 the best fitness is 2.8320876549208265']\n",
            "['At iteration 28 the best fitness is 2.8320876549208265']\n",
            "['At iteration 29 the best fitness is 2.8320876549208265']\n",
            "['At iteration 30 the best fitness is 2.8320876549208265']\n",
            "['At iteration 31 the best fitness is 2.8320876549208265']\n",
            "['At iteration 32 the best fitness is 2.8320876549208265']\n",
            "['At iteration 33 the best fitness is 2.8320876549208265']\n",
            "['At iteration 34 the best fitness is 2.8320876549208265']\n",
            "['At iteration 35 the best fitness is 2.8320876549208265']\n",
            "['At iteration 36 the best fitness is 2.8320876549208265']\n",
            "['At iteration 37 the best fitness is 2.8320876549208265']\n",
            "['At iteration 38 the best fitness is 2.8320876549208265']\n",
            "['At iteration 39 the best fitness is 2.8320876549208265']\n",
            "['At iteration 40 the best fitness is 2.8320876549208265']\n",
            "['At iteration 41 the best fitness is 2.8320876549208265']\n",
            "['At iteration 42 the best fitness is 2.8320876549208265']\n",
            "['At iteration 43 the best fitness is 2.8320876549208265']\n",
            "['At iteration 44 the best fitness is 2.8320876549208265']\n",
            "['At iteration 45 the best fitness is 2.8320876549208265']\n",
            "['At iteration 46 the best fitness is 2.8320876549208265']\n",
            "['At iteration 47 the best fitness is 2.8320876549208265']\n",
            "['At iteration 48 the best fitness is 2.8320876549208265']\n",
            "['At iteration 49 the best fitness is 2.8320876549208265']\n",
            "Execution completed\n"
          ]
        }
      ]
    },
    {
      "cell_type": "markdown",
      "metadata": {
        "id": "1mB9AVhQuwbH"
      },
      "source": [
        "<h2>Results Files and Plots</h2>"
      ]
    },
    {
      "cell_type": "code",
      "metadata": {
        "id": "642Oh7QUpRhL"
      },
      "source": [
        "#import some useful packages to view the results' files in colab\n",
        "import pandas as pd\n",
        "from IPython.display import Image\n",
        "import os\n",
        "import datetime\n",
        "import ipywidgets as widgets"
      ],
      "execution_count": 45,
      "outputs": []
    },
    {
      "cell_type": "code",
      "metadata": {
        "id": "UOLHaWwBRf7D",
        "colab": {
          "base_uri": "https://localhost:8080/",
          "height": 49,
          "referenced_widgets": [
            "403c946a43584bd4a79c383375126cea",
            "ce23e33468074597a4de5de654457cfe",
            "4acc07801d96445e9d95ceb2231162c0"
          ]
        },
        "outputId": "3001babc-3047-4d18-9497-792fb5628f71"
      },
      "source": [
        "#Select the experiments folder\n",
        "foldernames = [filename for filename in os.listdir() if filename.startswith(str(datetime.datetime.now().year))]\n",
        "drop_folder = widgets.Dropdown(options=foldernames, description='Select folder:')\n",
        "drop_folder"
      ],
      "execution_count": 46,
      "outputs": [
        {
          "output_type": "display_data",
          "data": {
            "text/plain": [
              "Dropdown(description='Select folder:', options=('2022-10-14-20-37-03',), value='2022-10-14-20-37-03')"
            ],
            "application/vnd.jupyter.widget-view+json": {
              "version_major": 2,
              "version_minor": 0,
              "model_id": "403c946a43584bd4a79c383375126cea"
            }
          },
          "metadata": {}
        }
      ]
    },
    {
      "cell_type": "code",
      "metadata": {
        "id": "xm8UuPRA6uIb"
      },
      "source": [
        "#Get the selected folder\n",
        "foldername = drop_folder.value"
      ],
      "execution_count": 47,
      "outputs": []
    },
    {
      "cell_type": "markdown",
      "metadata": {
        "id": "qjNFP9NqvNV3"
      },
      "source": [
        "<h4>Average Results File</h4>"
      ]
    },
    {
      "cell_type": "code",
      "metadata": {
        "id": "U_PNBYEYp2cn",
        "colab": {
          "base_uri": "https://localhost:8080/",
          "height": 141
        },
        "outputId": "10599429-4cb4-473c-8b9d-5694232f5686"
      },
      "source": [
        "#Show the average results file\n",
        "filename = foldername +'/experiment.csv' \n",
        "df = pd.read_csv(filename)\n",
        "df.head(4)"
      ],
      "execution_count": 48,
      "outputs": [
        {
          "output_type": "execute_result",
          "data": {
            "text/plain": [
              "  Dataset Optimizer objfname  k  ExecutionTime    SSE  Purity  Entropy    HS  \\\n",
              "0    iris       SSA      SSE  3           5.24   2.91    0.95     0.14  0.86   \n",
              "1    iris       SSA     TWCV  3           3.31  29.30    0.96     0.14  0.86   \n",
              "\n",
              "     CS  ...  Iter41  Iter42  Iter43  Iter44  Iter45  Iter46  Iter47  Iter48  \\\n",
              "0  0.86  ...    2.91    2.91    2.91    2.91    2.91    2.91    2.91    2.91   \n",
              "1  0.86  ...    2.87    2.87    2.87    2.87    2.87    2.87    2.87    2.87   \n",
              "\n",
              "   Iter49  Iter50  \n",
              "0    2.91    2.91  \n",
              "1    2.87    2.87  \n",
              "\n",
              "[2 rows x 70 columns]"
            ],
            "text/html": [
              "\n",
              "  <div id=\"df-6ff83751-25ea-44ae-9cbf-cde890b68796\">\n",
              "    <div class=\"colab-df-container\">\n",
              "      <div>\n",
              "<style scoped>\n",
              "    .dataframe tbody tr th:only-of-type {\n",
              "        vertical-align: middle;\n",
              "    }\n",
              "\n",
              "    .dataframe tbody tr th {\n",
              "        vertical-align: top;\n",
              "    }\n",
              "\n",
              "    .dataframe thead th {\n",
              "        text-align: right;\n",
              "    }\n",
              "</style>\n",
              "<table border=\"1\" class=\"dataframe\">\n",
              "  <thead>\n",
              "    <tr style=\"text-align: right;\">\n",
              "      <th></th>\n",
              "      <th>Dataset</th>\n",
              "      <th>Optimizer</th>\n",
              "      <th>objfname</th>\n",
              "      <th>k</th>\n",
              "      <th>ExecutionTime</th>\n",
              "      <th>SSE</th>\n",
              "      <th>Purity</th>\n",
              "      <th>Entropy</th>\n",
              "      <th>HS</th>\n",
              "      <th>CS</th>\n",
              "      <th>...</th>\n",
              "      <th>Iter41</th>\n",
              "      <th>Iter42</th>\n",
              "      <th>Iter43</th>\n",
              "      <th>Iter44</th>\n",
              "      <th>Iter45</th>\n",
              "      <th>Iter46</th>\n",
              "      <th>Iter47</th>\n",
              "      <th>Iter48</th>\n",
              "      <th>Iter49</th>\n",
              "      <th>Iter50</th>\n",
              "    </tr>\n",
              "  </thead>\n",
              "  <tbody>\n",
              "    <tr>\n",
              "      <th>0</th>\n",
              "      <td>iris</td>\n",
              "      <td>SSA</td>\n",
              "      <td>SSE</td>\n",
              "      <td>3</td>\n",
              "      <td>5.24</td>\n",
              "      <td>2.91</td>\n",
              "      <td>0.95</td>\n",
              "      <td>0.14</td>\n",
              "      <td>0.86</td>\n",
              "      <td>0.86</td>\n",
              "      <td>...</td>\n",
              "      <td>2.91</td>\n",
              "      <td>2.91</td>\n",
              "      <td>2.91</td>\n",
              "      <td>2.91</td>\n",
              "      <td>2.91</td>\n",
              "      <td>2.91</td>\n",
              "      <td>2.91</td>\n",
              "      <td>2.91</td>\n",
              "      <td>2.91</td>\n",
              "      <td>2.91</td>\n",
              "    </tr>\n",
              "    <tr>\n",
              "      <th>1</th>\n",
              "      <td>iris</td>\n",
              "      <td>SSA</td>\n",
              "      <td>TWCV</td>\n",
              "      <td>3</td>\n",
              "      <td>3.31</td>\n",
              "      <td>29.30</td>\n",
              "      <td>0.96</td>\n",
              "      <td>0.14</td>\n",
              "      <td>0.86</td>\n",
              "      <td>0.86</td>\n",
              "      <td>...</td>\n",
              "      <td>2.87</td>\n",
              "      <td>2.87</td>\n",
              "      <td>2.87</td>\n",
              "      <td>2.87</td>\n",
              "      <td>2.87</td>\n",
              "      <td>2.87</td>\n",
              "      <td>2.87</td>\n",
              "      <td>2.87</td>\n",
              "      <td>2.87</td>\n",
              "      <td>2.87</td>\n",
              "    </tr>\n",
              "  </tbody>\n",
              "</table>\n",
              "<p>2 rows × 70 columns</p>\n",
              "</div>\n",
              "      <button class=\"colab-df-convert\" onclick=\"convertToInteractive('df-6ff83751-25ea-44ae-9cbf-cde890b68796')\"\n",
              "              title=\"Convert this dataframe to an interactive table.\"\n",
              "              style=\"display:none;\">\n",
              "        \n",
              "  <svg xmlns=\"http://www.w3.org/2000/svg\" height=\"24px\"viewBox=\"0 0 24 24\"\n",
              "       width=\"24px\">\n",
              "    <path d=\"M0 0h24v24H0V0z\" fill=\"none\"/>\n",
              "    <path d=\"M18.56 5.44l.94 2.06.94-2.06 2.06-.94-2.06-.94-.94-2.06-.94 2.06-2.06.94zm-11 1L8.5 8.5l.94-2.06 2.06-.94-2.06-.94L8.5 2.5l-.94 2.06-2.06.94zm10 10l.94 2.06.94-2.06 2.06-.94-2.06-.94-.94-2.06-.94 2.06-2.06.94z\"/><path d=\"M17.41 7.96l-1.37-1.37c-.4-.4-.92-.59-1.43-.59-.52 0-1.04.2-1.43.59L10.3 9.45l-7.72 7.72c-.78.78-.78 2.05 0 2.83L4 21.41c.39.39.9.59 1.41.59.51 0 1.02-.2 1.41-.59l7.78-7.78 2.81-2.81c.8-.78.8-2.07 0-2.86zM5.41 20L4 18.59l7.72-7.72 1.47 1.35L5.41 20z\"/>\n",
              "  </svg>\n",
              "      </button>\n",
              "      \n",
              "  <style>\n",
              "    .colab-df-container {\n",
              "      display:flex;\n",
              "      flex-wrap:wrap;\n",
              "      gap: 12px;\n",
              "    }\n",
              "\n",
              "    .colab-df-convert {\n",
              "      background-color: #E8F0FE;\n",
              "      border: none;\n",
              "      border-radius: 50%;\n",
              "      cursor: pointer;\n",
              "      display: none;\n",
              "      fill: #1967D2;\n",
              "      height: 32px;\n",
              "      padding: 0 0 0 0;\n",
              "      width: 32px;\n",
              "    }\n",
              "\n",
              "    .colab-df-convert:hover {\n",
              "      background-color: #E2EBFA;\n",
              "      box-shadow: 0px 1px 2px rgba(60, 64, 67, 0.3), 0px 1px 3px 1px rgba(60, 64, 67, 0.15);\n",
              "      fill: #174EA6;\n",
              "    }\n",
              "\n",
              "    [theme=dark] .colab-df-convert {\n",
              "      background-color: #3B4455;\n",
              "      fill: #D2E3FC;\n",
              "    }\n",
              "\n",
              "    [theme=dark] .colab-df-convert:hover {\n",
              "      background-color: #434B5C;\n",
              "      box-shadow: 0px 1px 3px 1px rgba(0, 0, 0, 0.15);\n",
              "      filter: drop-shadow(0px 1px 2px rgba(0, 0, 0, 0.3));\n",
              "      fill: #FFFFFF;\n",
              "    }\n",
              "  </style>\n",
              "\n",
              "      <script>\n",
              "        const buttonEl =\n",
              "          document.querySelector('#df-6ff83751-25ea-44ae-9cbf-cde890b68796 button.colab-df-convert');\n",
              "        buttonEl.style.display =\n",
              "          google.colab.kernel.accessAllowed ? 'block' : 'none';\n",
              "\n",
              "        async function convertToInteractive(key) {\n",
              "          const element = document.querySelector('#df-6ff83751-25ea-44ae-9cbf-cde890b68796');\n",
              "          const dataTable =\n",
              "            await google.colab.kernel.invokeFunction('convertToInteractive',\n",
              "                                                     [key], {});\n",
              "          if (!dataTable) return;\n",
              "\n",
              "          const docLinkHtml = 'Like what you see? Visit the ' +\n",
              "            '<a target=\"_blank\" href=https://colab.research.google.com/notebooks/data_table.ipynb>data table notebook</a>'\n",
              "            + ' to learn more about interactive tables.';\n",
              "          element.innerHTML = '';\n",
              "          dataTable['output_type'] = 'display_data';\n",
              "          await google.colab.output.renderOutput(dataTable, element);\n",
              "          const docLink = document.createElement('div');\n",
              "          docLink.innerHTML = docLinkHtml;\n",
              "          element.appendChild(docLink);\n",
              "        }\n",
              "      </script>\n",
              "    </div>\n",
              "  </div>\n",
              "  "
            ]
          },
          "metadata": {},
          "execution_count": 48
        }
      ]
    },
    {
      "cell_type": "markdown",
      "metadata": {
        "id": "sXSfvROovXRc"
      },
      "source": [
        "<h4>Detailed Results File</h4>"
      ]
    },
    {
      "cell_type": "code",
      "metadata": {
        "id": "RXU4upcgqcX_",
        "colab": {
          "base_uri": "https://localhost:8080/",
          "height": 267
        },
        "outputId": "ced194e2-fdbe-4c3a-f43c-70158303960c"
      },
      "source": [
        "#Show the detailed results file\n",
        "filename = foldername +'/experiment_details.csv' \n",
        "df = pd.read_csv(filename)\n",
        "df.head(12)"
      ],
      "execution_count": 49,
      "outputs": [
        {
          "output_type": "execute_result",
          "data": {
            "text/plain": [
              "  Dataset Optimizer objfname  k  ExecutionTime    SSE  Purity  Entropy    HS  \\\n",
              "0    iris       SSA      SSE  3           5.62   2.85    0.96     0.14  0.86   \n",
              "1    iris       SSA      SSE  3           6.68   2.84    0.96     0.14  0.86   \n",
              "2    iris       SSA      SSE  3           3.42   3.03    0.94     0.15  0.85   \n",
              "3    iris       SSA     TWCV  3           3.37  44.55    0.96     0.14  0.86   \n",
              "4    iris       SSA     TWCV  3           3.25  26.73    0.96     0.14  0.86   \n",
              "5    iris       SSA     TWCV  3           3.33  16.61    0.96     0.14  0.86   \n",
              "\n",
              "     CS  ...  Iter41  Iter42  Iter43  Iter44  Iter45  Iter46  Iter47  Iter48  \\\n",
              "0  0.86  ...    2.85    2.85    2.85    2.85    2.85    2.85    2.85    2.85   \n",
              "1  0.86  ...    2.84    2.84    2.84    2.84    2.84    2.84    2.84    2.84   \n",
              "2  0.86  ...    3.03    3.03    3.03    3.03    3.03    3.03    3.03    3.03   \n",
              "3  0.86  ...    2.83    2.83    2.83    2.83    2.83    2.83    2.83    2.83   \n",
              "4  0.86  ...    2.94    2.94    2.94    2.94    2.94    2.94    2.94    2.94   \n",
              "5  0.86  ...    2.83    2.83    2.83    2.83    2.83    2.83    2.83    2.83   \n",
              "\n",
              "   Iter49  Iter50  \n",
              "0    2.85    2.85  \n",
              "1    2.84    2.84  \n",
              "2    3.03    3.03  \n",
              "3    2.83    2.83  \n",
              "4    2.94    2.94  \n",
              "5    2.83    2.83  \n",
              "\n",
              "[6 rows x 70 columns]"
            ],
            "text/html": [
              "\n",
              "  <div id=\"df-2fd5c0e4-c59f-4e02-a85d-49e155f18f3a\">\n",
              "    <div class=\"colab-df-container\">\n",
              "      <div>\n",
              "<style scoped>\n",
              "    .dataframe tbody tr th:only-of-type {\n",
              "        vertical-align: middle;\n",
              "    }\n",
              "\n",
              "    .dataframe tbody tr th {\n",
              "        vertical-align: top;\n",
              "    }\n",
              "\n",
              "    .dataframe thead th {\n",
              "        text-align: right;\n",
              "    }\n",
              "</style>\n",
              "<table border=\"1\" class=\"dataframe\">\n",
              "  <thead>\n",
              "    <tr style=\"text-align: right;\">\n",
              "      <th></th>\n",
              "      <th>Dataset</th>\n",
              "      <th>Optimizer</th>\n",
              "      <th>objfname</th>\n",
              "      <th>k</th>\n",
              "      <th>ExecutionTime</th>\n",
              "      <th>SSE</th>\n",
              "      <th>Purity</th>\n",
              "      <th>Entropy</th>\n",
              "      <th>HS</th>\n",
              "      <th>CS</th>\n",
              "      <th>...</th>\n",
              "      <th>Iter41</th>\n",
              "      <th>Iter42</th>\n",
              "      <th>Iter43</th>\n",
              "      <th>Iter44</th>\n",
              "      <th>Iter45</th>\n",
              "      <th>Iter46</th>\n",
              "      <th>Iter47</th>\n",
              "      <th>Iter48</th>\n",
              "      <th>Iter49</th>\n",
              "      <th>Iter50</th>\n",
              "    </tr>\n",
              "  </thead>\n",
              "  <tbody>\n",
              "    <tr>\n",
              "      <th>0</th>\n",
              "      <td>iris</td>\n",
              "      <td>SSA</td>\n",
              "      <td>SSE</td>\n",
              "      <td>3</td>\n",
              "      <td>5.62</td>\n",
              "      <td>2.85</td>\n",
              "      <td>0.96</td>\n",
              "      <td>0.14</td>\n",
              "      <td>0.86</td>\n",
              "      <td>0.86</td>\n",
              "      <td>...</td>\n",
              "      <td>2.85</td>\n",
              "      <td>2.85</td>\n",
              "      <td>2.85</td>\n",
              "      <td>2.85</td>\n",
              "      <td>2.85</td>\n",
              "      <td>2.85</td>\n",
              "      <td>2.85</td>\n",
              "      <td>2.85</td>\n",
              "      <td>2.85</td>\n",
              "      <td>2.85</td>\n",
              "    </tr>\n",
              "    <tr>\n",
              "      <th>1</th>\n",
              "      <td>iris</td>\n",
              "      <td>SSA</td>\n",
              "      <td>SSE</td>\n",
              "      <td>3</td>\n",
              "      <td>6.68</td>\n",
              "      <td>2.84</td>\n",
              "      <td>0.96</td>\n",
              "      <td>0.14</td>\n",
              "      <td>0.86</td>\n",
              "      <td>0.86</td>\n",
              "      <td>...</td>\n",
              "      <td>2.84</td>\n",
              "      <td>2.84</td>\n",
              "      <td>2.84</td>\n",
              "      <td>2.84</td>\n",
              "      <td>2.84</td>\n",
              "      <td>2.84</td>\n",
              "      <td>2.84</td>\n",
              "      <td>2.84</td>\n",
              "      <td>2.84</td>\n",
              "      <td>2.84</td>\n",
              "    </tr>\n",
              "    <tr>\n",
              "      <th>2</th>\n",
              "      <td>iris</td>\n",
              "      <td>SSA</td>\n",
              "      <td>SSE</td>\n",
              "      <td>3</td>\n",
              "      <td>3.42</td>\n",
              "      <td>3.03</td>\n",
              "      <td>0.94</td>\n",
              "      <td>0.15</td>\n",
              "      <td>0.85</td>\n",
              "      <td>0.86</td>\n",
              "      <td>...</td>\n",
              "      <td>3.03</td>\n",
              "      <td>3.03</td>\n",
              "      <td>3.03</td>\n",
              "      <td>3.03</td>\n",
              "      <td>3.03</td>\n",
              "      <td>3.03</td>\n",
              "      <td>3.03</td>\n",
              "      <td>3.03</td>\n",
              "      <td>3.03</td>\n",
              "      <td>3.03</td>\n",
              "    </tr>\n",
              "    <tr>\n",
              "      <th>3</th>\n",
              "      <td>iris</td>\n",
              "      <td>SSA</td>\n",
              "      <td>TWCV</td>\n",
              "      <td>3</td>\n",
              "      <td>3.37</td>\n",
              "      <td>44.55</td>\n",
              "      <td>0.96</td>\n",
              "      <td>0.14</td>\n",
              "      <td>0.86</td>\n",
              "      <td>0.86</td>\n",
              "      <td>...</td>\n",
              "      <td>2.83</td>\n",
              "      <td>2.83</td>\n",
              "      <td>2.83</td>\n",
              "      <td>2.83</td>\n",
              "      <td>2.83</td>\n",
              "      <td>2.83</td>\n",
              "      <td>2.83</td>\n",
              "      <td>2.83</td>\n",
              "      <td>2.83</td>\n",
              "      <td>2.83</td>\n",
              "    </tr>\n",
              "    <tr>\n",
              "      <th>4</th>\n",
              "      <td>iris</td>\n",
              "      <td>SSA</td>\n",
              "      <td>TWCV</td>\n",
              "      <td>3</td>\n",
              "      <td>3.25</td>\n",
              "      <td>26.73</td>\n",
              "      <td>0.96</td>\n",
              "      <td>0.14</td>\n",
              "      <td>0.86</td>\n",
              "      <td>0.86</td>\n",
              "      <td>...</td>\n",
              "      <td>2.94</td>\n",
              "      <td>2.94</td>\n",
              "      <td>2.94</td>\n",
              "      <td>2.94</td>\n",
              "      <td>2.94</td>\n",
              "      <td>2.94</td>\n",
              "      <td>2.94</td>\n",
              "      <td>2.94</td>\n",
              "      <td>2.94</td>\n",
              "      <td>2.94</td>\n",
              "    </tr>\n",
              "    <tr>\n",
              "      <th>5</th>\n",
              "      <td>iris</td>\n",
              "      <td>SSA</td>\n",
              "      <td>TWCV</td>\n",
              "      <td>3</td>\n",
              "      <td>3.33</td>\n",
              "      <td>16.61</td>\n",
              "      <td>0.96</td>\n",
              "      <td>0.14</td>\n",
              "      <td>0.86</td>\n",
              "      <td>0.86</td>\n",
              "      <td>...</td>\n",
              "      <td>2.83</td>\n",
              "      <td>2.83</td>\n",
              "      <td>2.83</td>\n",
              "      <td>2.83</td>\n",
              "      <td>2.83</td>\n",
              "      <td>2.83</td>\n",
              "      <td>2.83</td>\n",
              "      <td>2.83</td>\n",
              "      <td>2.83</td>\n",
              "      <td>2.83</td>\n",
              "    </tr>\n",
              "  </tbody>\n",
              "</table>\n",
              "<p>6 rows × 70 columns</p>\n",
              "</div>\n",
              "      <button class=\"colab-df-convert\" onclick=\"convertToInteractive('df-2fd5c0e4-c59f-4e02-a85d-49e155f18f3a')\"\n",
              "              title=\"Convert this dataframe to an interactive table.\"\n",
              "              style=\"display:none;\">\n",
              "        \n",
              "  <svg xmlns=\"http://www.w3.org/2000/svg\" height=\"24px\"viewBox=\"0 0 24 24\"\n",
              "       width=\"24px\">\n",
              "    <path d=\"M0 0h24v24H0V0z\" fill=\"none\"/>\n",
              "    <path d=\"M18.56 5.44l.94 2.06.94-2.06 2.06-.94-2.06-.94-.94-2.06-.94 2.06-2.06.94zm-11 1L8.5 8.5l.94-2.06 2.06-.94-2.06-.94L8.5 2.5l-.94 2.06-2.06.94zm10 10l.94 2.06.94-2.06 2.06-.94-2.06-.94-.94-2.06-.94 2.06-2.06.94z\"/><path d=\"M17.41 7.96l-1.37-1.37c-.4-.4-.92-.59-1.43-.59-.52 0-1.04.2-1.43.59L10.3 9.45l-7.72 7.72c-.78.78-.78 2.05 0 2.83L4 21.41c.39.39.9.59 1.41.59.51 0 1.02-.2 1.41-.59l7.78-7.78 2.81-2.81c.8-.78.8-2.07 0-2.86zM5.41 20L4 18.59l7.72-7.72 1.47 1.35L5.41 20z\"/>\n",
              "  </svg>\n",
              "      </button>\n",
              "      \n",
              "  <style>\n",
              "    .colab-df-container {\n",
              "      display:flex;\n",
              "      flex-wrap:wrap;\n",
              "      gap: 12px;\n",
              "    }\n",
              "\n",
              "    .colab-df-convert {\n",
              "      background-color: #E8F0FE;\n",
              "      border: none;\n",
              "      border-radius: 50%;\n",
              "      cursor: pointer;\n",
              "      display: none;\n",
              "      fill: #1967D2;\n",
              "      height: 32px;\n",
              "      padding: 0 0 0 0;\n",
              "      width: 32px;\n",
              "    }\n",
              "\n",
              "    .colab-df-convert:hover {\n",
              "      background-color: #E2EBFA;\n",
              "      box-shadow: 0px 1px 2px rgba(60, 64, 67, 0.3), 0px 1px 3px 1px rgba(60, 64, 67, 0.15);\n",
              "      fill: #174EA6;\n",
              "    }\n",
              "\n",
              "    [theme=dark] .colab-df-convert {\n",
              "      background-color: #3B4455;\n",
              "      fill: #D2E3FC;\n",
              "    }\n",
              "\n",
              "    [theme=dark] .colab-df-convert:hover {\n",
              "      background-color: #434B5C;\n",
              "      box-shadow: 0px 1px 3px 1px rgba(0, 0, 0, 0.15);\n",
              "      filter: drop-shadow(0px 1px 2px rgba(0, 0, 0, 0.3));\n",
              "      fill: #FFFFFF;\n",
              "    }\n",
              "  </style>\n",
              "\n",
              "      <script>\n",
              "        const buttonEl =\n",
              "          document.querySelector('#df-2fd5c0e4-c59f-4e02-a85d-49e155f18f3a button.colab-df-convert');\n",
              "        buttonEl.style.display =\n",
              "          google.colab.kernel.accessAllowed ? 'block' : 'none';\n",
              "\n",
              "        async function convertToInteractive(key) {\n",
              "          const element = document.querySelector('#df-2fd5c0e4-c59f-4e02-a85d-49e155f18f3a');\n",
              "          const dataTable =\n",
              "            await google.colab.kernel.invokeFunction('convertToInteractive',\n",
              "                                                     [key], {});\n",
              "          if (!dataTable) return;\n",
              "\n",
              "          const docLinkHtml = 'Like what you see? Visit the ' +\n",
              "            '<a target=\"_blank\" href=https://colab.research.google.com/notebooks/data_table.ipynb>data table notebook</a>'\n",
              "            + ' to learn more about interactive tables.';\n",
              "          element.innerHTML = '';\n",
              "          dataTable['output_type'] = 'display_data';\n",
              "          await google.colab.output.renderOutput(dataTable, element);\n",
              "          const docLink = document.createElement('div');\n",
              "          docLink.innerHTML = docLinkHtml;\n",
              "          element.appendChild(docLink);\n",
              "        }\n",
              "      </script>\n",
              "    </div>\n",
              "  </div>\n",
              "  "
            ]
          },
          "metadata": {},
          "execution_count": 49
        }
      ]
    },
    {
      "cell_type": "markdown",
      "metadata": {
        "id": "eM3DYsgGvaxU"
      },
      "source": [
        "<h4>Labels Results File</h4>"
      ]
    },
    {
      "cell_type": "code",
      "metadata": {
        "id": "we9rE-wPqiHt",
        "colab": {
          "base_uri": "https://localhost:8080/",
          "height": 311
        },
        "outputId": "439d4076-99f6-48c3-c3d7-719926637b8e"
      },
      "source": [
        "#Show the labels results file\n",
        "filename = foldername +'/experiment_details_Labels.csv' \n",
        "header_names=['Dataset','Optimizer','objfname'] + ['label' + str(i) for i in range(50)]\n",
        "df = pd.read_csv(filename,names=header_names,dtype=object)[1:]\n",
        "df.head(12)"
      ],
      "execution_count": 50,
      "outputs": [
        {
          "output_type": "execute_result",
          "data": {
            "text/plain": [
              "  Dataset Optimizer objfname label0 label1 label2 label3 label4 label5 label6  \\\n",
              "1    iris       SSA      SSE      3      1      1      1      1      1      1   \n",
              "2    iris       SSA      SSE      3      1      1      1      1      1      1   \n",
              "3    iris       SSA      SSE      3      1      1      1      1      1      1   \n",
              "4    iris       SSA     TWCV      3      0      0      0      0      0      0   \n",
              "5    iris       SSA     TWCV      3      1      1      1      1      1      1   \n",
              "6    iris       SSA     TWCV      3      1      1      1      1      1      1   \n",
              "\n",
              "   ... label40 label41 label42 label43 label44 label45 label46 label47  \\\n",
              "1  ...       1       1       1       1       1       1       1       1   \n",
              "2  ...       1       1       1       1       1       1       1       1   \n",
              "3  ...       1       1       1       1       1       1       1       1   \n",
              "4  ...       0       0       0       0       0       0       0       0   \n",
              "5  ...       1       1       1       1       1       1       1       1   \n",
              "6  ...       1       1       1       1       1       1       1       1   \n",
              "\n",
              "  label48 label49  \n",
              "1       1       1  \n",
              "2       1       1  \n",
              "3       1       1  \n",
              "4       0       0  \n",
              "5       1       1  \n",
              "6       1       1  \n",
              "\n",
              "[6 rows x 53 columns]"
            ],
            "text/html": [
              "\n",
              "  <div id=\"df-838c9f09-9392-4440-900c-a1d50fe8dd11\">\n",
              "    <div class=\"colab-df-container\">\n",
              "      <div>\n",
              "<style scoped>\n",
              "    .dataframe tbody tr th:only-of-type {\n",
              "        vertical-align: middle;\n",
              "    }\n",
              "\n",
              "    .dataframe tbody tr th {\n",
              "        vertical-align: top;\n",
              "    }\n",
              "\n",
              "    .dataframe thead th {\n",
              "        text-align: right;\n",
              "    }\n",
              "</style>\n",
              "<table border=\"1\" class=\"dataframe\">\n",
              "  <thead>\n",
              "    <tr style=\"text-align: right;\">\n",
              "      <th></th>\n",
              "      <th>Dataset</th>\n",
              "      <th>Optimizer</th>\n",
              "      <th>objfname</th>\n",
              "      <th>label0</th>\n",
              "      <th>label1</th>\n",
              "      <th>label2</th>\n",
              "      <th>label3</th>\n",
              "      <th>label4</th>\n",
              "      <th>label5</th>\n",
              "      <th>label6</th>\n",
              "      <th>...</th>\n",
              "      <th>label40</th>\n",
              "      <th>label41</th>\n",
              "      <th>label42</th>\n",
              "      <th>label43</th>\n",
              "      <th>label44</th>\n",
              "      <th>label45</th>\n",
              "      <th>label46</th>\n",
              "      <th>label47</th>\n",
              "      <th>label48</th>\n",
              "      <th>label49</th>\n",
              "    </tr>\n",
              "  </thead>\n",
              "  <tbody>\n",
              "    <tr>\n",
              "      <th>1</th>\n",
              "      <td>iris</td>\n",
              "      <td>SSA</td>\n",
              "      <td>SSE</td>\n",
              "      <td>3</td>\n",
              "      <td>1</td>\n",
              "      <td>1</td>\n",
              "      <td>1</td>\n",
              "      <td>1</td>\n",
              "      <td>1</td>\n",
              "      <td>1</td>\n",
              "      <td>...</td>\n",
              "      <td>1</td>\n",
              "      <td>1</td>\n",
              "      <td>1</td>\n",
              "      <td>1</td>\n",
              "      <td>1</td>\n",
              "      <td>1</td>\n",
              "      <td>1</td>\n",
              "      <td>1</td>\n",
              "      <td>1</td>\n",
              "      <td>1</td>\n",
              "    </tr>\n",
              "    <tr>\n",
              "      <th>2</th>\n",
              "      <td>iris</td>\n",
              "      <td>SSA</td>\n",
              "      <td>SSE</td>\n",
              "      <td>3</td>\n",
              "      <td>1</td>\n",
              "      <td>1</td>\n",
              "      <td>1</td>\n",
              "      <td>1</td>\n",
              "      <td>1</td>\n",
              "      <td>1</td>\n",
              "      <td>...</td>\n",
              "      <td>1</td>\n",
              "      <td>1</td>\n",
              "      <td>1</td>\n",
              "      <td>1</td>\n",
              "      <td>1</td>\n",
              "      <td>1</td>\n",
              "      <td>1</td>\n",
              "      <td>1</td>\n",
              "      <td>1</td>\n",
              "      <td>1</td>\n",
              "    </tr>\n",
              "    <tr>\n",
              "      <th>3</th>\n",
              "      <td>iris</td>\n",
              "      <td>SSA</td>\n",
              "      <td>SSE</td>\n",
              "      <td>3</td>\n",
              "      <td>1</td>\n",
              "      <td>1</td>\n",
              "      <td>1</td>\n",
              "      <td>1</td>\n",
              "      <td>1</td>\n",
              "      <td>1</td>\n",
              "      <td>...</td>\n",
              "      <td>1</td>\n",
              "      <td>1</td>\n",
              "      <td>1</td>\n",
              "      <td>1</td>\n",
              "      <td>1</td>\n",
              "      <td>1</td>\n",
              "      <td>1</td>\n",
              "      <td>1</td>\n",
              "      <td>1</td>\n",
              "      <td>1</td>\n",
              "    </tr>\n",
              "    <tr>\n",
              "      <th>4</th>\n",
              "      <td>iris</td>\n",
              "      <td>SSA</td>\n",
              "      <td>TWCV</td>\n",
              "      <td>3</td>\n",
              "      <td>0</td>\n",
              "      <td>0</td>\n",
              "      <td>0</td>\n",
              "      <td>0</td>\n",
              "      <td>0</td>\n",
              "      <td>0</td>\n",
              "      <td>...</td>\n",
              "      <td>0</td>\n",
              "      <td>0</td>\n",
              "      <td>0</td>\n",
              "      <td>0</td>\n",
              "      <td>0</td>\n",
              "      <td>0</td>\n",
              "      <td>0</td>\n",
              "      <td>0</td>\n",
              "      <td>0</td>\n",
              "      <td>0</td>\n",
              "    </tr>\n",
              "    <tr>\n",
              "      <th>5</th>\n",
              "      <td>iris</td>\n",
              "      <td>SSA</td>\n",
              "      <td>TWCV</td>\n",
              "      <td>3</td>\n",
              "      <td>1</td>\n",
              "      <td>1</td>\n",
              "      <td>1</td>\n",
              "      <td>1</td>\n",
              "      <td>1</td>\n",
              "      <td>1</td>\n",
              "      <td>...</td>\n",
              "      <td>1</td>\n",
              "      <td>1</td>\n",
              "      <td>1</td>\n",
              "      <td>1</td>\n",
              "      <td>1</td>\n",
              "      <td>1</td>\n",
              "      <td>1</td>\n",
              "      <td>1</td>\n",
              "      <td>1</td>\n",
              "      <td>1</td>\n",
              "    </tr>\n",
              "    <tr>\n",
              "      <th>6</th>\n",
              "      <td>iris</td>\n",
              "      <td>SSA</td>\n",
              "      <td>TWCV</td>\n",
              "      <td>3</td>\n",
              "      <td>1</td>\n",
              "      <td>1</td>\n",
              "      <td>1</td>\n",
              "      <td>1</td>\n",
              "      <td>1</td>\n",
              "      <td>1</td>\n",
              "      <td>...</td>\n",
              "      <td>1</td>\n",
              "      <td>1</td>\n",
              "      <td>1</td>\n",
              "      <td>1</td>\n",
              "      <td>1</td>\n",
              "      <td>1</td>\n",
              "      <td>1</td>\n",
              "      <td>1</td>\n",
              "      <td>1</td>\n",
              "      <td>1</td>\n",
              "    </tr>\n",
              "  </tbody>\n",
              "</table>\n",
              "<p>6 rows × 53 columns</p>\n",
              "</div>\n",
              "      <button class=\"colab-df-convert\" onclick=\"convertToInteractive('df-838c9f09-9392-4440-900c-a1d50fe8dd11')\"\n",
              "              title=\"Convert this dataframe to an interactive table.\"\n",
              "              style=\"display:none;\">\n",
              "        \n",
              "  <svg xmlns=\"http://www.w3.org/2000/svg\" height=\"24px\"viewBox=\"0 0 24 24\"\n",
              "       width=\"24px\">\n",
              "    <path d=\"M0 0h24v24H0V0z\" fill=\"none\"/>\n",
              "    <path d=\"M18.56 5.44l.94 2.06.94-2.06 2.06-.94-2.06-.94-.94-2.06-.94 2.06-2.06.94zm-11 1L8.5 8.5l.94-2.06 2.06-.94-2.06-.94L8.5 2.5l-.94 2.06-2.06.94zm10 10l.94 2.06.94-2.06 2.06-.94-2.06-.94-.94-2.06-.94 2.06-2.06.94z\"/><path d=\"M17.41 7.96l-1.37-1.37c-.4-.4-.92-.59-1.43-.59-.52 0-1.04.2-1.43.59L10.3 9.45l-7.72 7.72c-.78.78-.78 2.05 0 2.83L4 21.41c.39.39.9.59 1.41.59.51 0 1.02-.2 1.41-.59l7.78-7.78 2.81-2.81c.8-.78.8-2.07 0-2.86zM5.41 20L4 18.59l7.72-7.72 1.47 1.35L5.41 20z\"/>\n",
              "  </svg>\n",
              "      </button>\n",
              "      \n",
              "  <style>\n",
              "    .colab-df-container {\n",
              "      display:flex;\n",
              "      flex-wrap:wrap;\n",
              "      gap: 12px;\n",
              "    }\n",
              "\n",
              "    .colab-df-convert {\n",
              "      background-color: #E8F0FE;\n",
              "      border: none;\n",
              "      border-radius: 50%;\n",
              "      cursor: pointer;\n",
              "      display: none;\n",
              "      fill: #1967D2;\n",
              "      height: 32px;\n",
              "      padding: 0 0 0 0;\n",
              "      width: 32px;\n",
              "    }\n",
              "\n",
              "    .colab-df-convert:hover {\n",
              "      background-color: #E2EBFA;\n",
              "      box-shadow: 0px 1px 2px rgba(60, 64, 67, 0.3), 0px 1px 3px 1px rgba(60, 64, 67, 0.15);\n",
              "      fill: #174EA6;\n",
              "    }\n",
              "\n",
              "    [theme=dark] .colab-df-convert {\n",
              "      background-color: #3B4455;\n",
              "      fill: #D2E3FC;\n",
              "    }\n",
              "\n",
              "    [theme=dark] .colab-df-convert:hover {\n",
              "      background-color: #434B5C;\n",
              "      box-shadow: 0px 1px 3px 1px rgba(0, 0, 0, 0.15);\n",
              "      filter: drop-shadow(0px 1px 2px rgba(0, 0, 0, 0.3));\n",
              "      fill: #FFFFFF;\n",
              "    }\n",
              "  </style>\n",
              "\n",
              "      <script>\n",
              "        const buttonEl =\n",
              "          document.querySelector('#df-838c9f09-9392-4440-900c-a1d50fe8dd11 button.colab-df-convert');\n",
              "        buttonEl.style.display =\n",
              "          google.colab.kernel.accessAllowed ? 'block' : 'none';\n",
              "\n",
              "        async function convertToInteractive(key) {\n",
              "          const element = document.querySelector('#df-838c9f09-9392-4440-900c-a1d50fe8dd11');\n",
              "          const dataTable =\n",
              "            await google.colab.kernel.invokeFunction('convertToInteractive',\n",
              "                                                     [key], {});\n",
              "          if (!dataTable) return;\n",
              "\n",
              "          const docLinkHtml = 'Like what you see? Visit the ' +\n",
              "            '<a target=\"_blank\" href=https://colab.research.google.com/notebooks/data_table.ipynb>data table notebook</a>'\n",
              "            + ' to learn more about interactive tables.';\n",
              "          element.innerHTML = '';\n",
              "          dataTable['output_type'] = 'display_data';\n",
              "          await google.colab.output.renderOutput(dataTable, element);\n",
              "          const docLink = document.createElement('div');\n",
              "          docLink.innerHTML = docLinkHtml;\n",
              "          element.appendChild(docLink);\n",
              "        }\n",
              "      </script>\n",
              "    </div>\n",
              "  </div>\n",
              "  "
            ]
          },
          "metadata": {},
          "execution_count": 50
        }
      ]
    },
    {
      "cell_type": "markdown",
      "metadata": {
        "id": "7gw9qJb7vedV"
      },
      "source": [
        "<h4>Convergence Curve Plot</h4>"
      ]
    },
    {
      "cell_type": "code",
      "metadata": {
        "id": "14hzxM7spueJ",
        "colab": {
          "base_uri": "https://localhost:8080/",
          "height": 49,
          "referenced_widgets": [
            "5d729af9e34847bc9851f13a021d76e0",
            "fdf9af6128a64cf1a7c05ea1fda5a84d",
            "1de588e30f8f4d5986923b2babfa0a30"
          ]
        },
        "outputId": "c47e7cdc-eed2-4870-ad3b-5d32ead2ca24"
      },
      "source": [
        "#Select convergence curve to show\n",
        "filenames = [filename for filename in os.listdir(foldername) if filename.startswith('convergence')]\n",
        "\n",
        "drop_plot_convergence = widgets.Dropdown(options=filenames, description='Select plot:')\n",
        "drop_plot_convergence"
      ],
      "execution_count": 51,
      "outputs": [
        {
          "output_type": "display_data",
          "data": {
            "text/plain": [
              "Dropdown(description='Select plot:', options=('convergence-iris-SSE.png', 'convergence-iris-TWCV.png'), value=…"
            ],
            "application/vnd.jupyter.widget-view+json": {
              "version_major": 2,
              "version_minor": 0,
              "model_id": "5d729af9e34847bc9851f13a021d76e0"
            }
          },
          "metadata": {}
        }
      ]
    },
    {
      "cell_type": "code",
      "metadata": {
        "id": "ZMstknfRafMj",
        "colab": {
          "base_uri": "https://localhost:8080/",
          "height": 279
        },
        "outputId": "01580502-b796-419d-ef8c-b22ec401ef5d"
      },
      "source": [
        "#Show selected convergence curve\n",
        "Image(foldername +'/' + drop_plot_convergence.value)"
      ],
      "execution_count": 52,
      "outputs": [
        {
          "output_type": "execute_result",
          "data": {
            "image/png": "[encoded data removed]",
            "text/plain": [
              "<IPython.core.display.Image object>"
            ]
          },
          "metadata": {},
          "execution_count": 52
        }
      ]
    },
    {
      "cell_type": "markdown",
      "metadata": {
        "id": "HYEl6buevixm"
      },
      "source": [
        "<h4>Box Plot</h4>"
      ]
    },
    {
      "cell_type": "code",
      "metadata": {
        "id": "rWF1AKS5bPvV",
        "colab": {
          "base_uri": "https://localhost:8080/",
          "height": 49,
          "referenced_widgets": [
            "a87c87815f8b451da6dcaaac296fd8ea",
            "856e81daa8b8470289da882b7d47a77e",
            "715f2f85a8f64d1eb4a2cdbb1bf28037"
          ]
        },
        "outputId": "e51c7b1d-5f91-4afe-819f-0d26e4c4f954"
      },
      "source": [
        "#Select boxplot to show\n",
        "filenames = [filename for filename in os.listdir(foldername) if filename.startswith('boxplot')]\n",
        "\n",
        "drop_boxplot = widgets.Dropdown(options=filenames, description='Select plot:')\n",
        "drop_boxplot"
      ],
      "execution_count": 55,
      "outputs": [
        {
          "output_type": "display_data",
          "data": {
            "text/plain": [
              "Dropdown(description='Select plot:', options=('boxplot-iris-TWCV-Entropy.png', 'boxplot-iris-TWCV-VM.png', 'bo…"
            ],
            "application/vnd.jupyter.widget-view+json": {
              "version_major": 2,
              "version_minor": 0,
              "model_id": "a87c87815f8b451da6dcaaac296fd8ea"
            }
          },
          "metadata": {}
        }
      ]
    },
    {
      "cell_type": "code",
      "metadata": {
        "id": "paBsvZRktfTh",
        "colab": {
          "base_uri": "https://localhost:8080/",
          "height": 265
        },
        "outputId": "d4aa1be0-c958-4ed5-db0a-0c968449ac98"
      },
      "source": [
        "#Show selected boxplot\n",
        "Image(foldername +'/' + drop_boxplot.value)"
      ],
      "execution_count": 56,
      "outputs": [
        {
          "output_type": "execute_result",
          "data": {
            "image/png": "[encoded data removed]",
            "text/plain": [
              "<IPython.core.display.Image object>"
            ]
          },
          "metadata": {},
          "execution_count": 56
        }
      ]
    },
    {
      "cell_type": "markdown",
      "metadata": {
        "id": "eahYmfKKJ62g"
      },
      "source": [
        "<h2>Citation Request</h2>"
      ]
    },
    {
      "cell_type": "markdown",
      "metadata": {
        "id": "PkabkcHFKFIK"
      },
      "source": [
        "Please include these citations if you plan to use this Framework:\n",
        "\n",
        "\n",
        "*   Qaddoura, Raneem, Hossam Faris, Ibrahim Aljarah, and Pedro A. Castillo. \"EvoCluster: An Open-Source Nature-Inspired Optimization Clustering Framework in Python.\" In International Conference on the Applications of Evolutionary Computation (Part of EvoStar), pp. 20-36. Springer, Cham, 2020.\n",
        "*   Ruba Abu Khurma, Ibrahim Aljarah, Ahmad Sharieh, and Seyedali Mirjalili. Evolopy-fs: An open-source nature-inspired optimization framework in python for feature selection. In Evolutionary Machine Learning Techniques, pages 131–173. Springer, 2020\n",
        "*   Hossam Faris, Ibrahim Aljarah, Sayedali Mirjalili, Pedro Castillo, and J.J Merelo. \"EvoloPy: An Open-source Nature-inspired Optimization Framework in Python\". In Proceedings of the 8th International Joint Conference on Computational Intelligence - Volume 3: ECTA,ISBN 978-989-758-201-1, pages 171-177.\n",
        "*   Raneem Qaddoura, Hossam Faris, and Ibrahim Aljarah*. An efficient clustering algorithm based on the k-nearest neighbors with an indexing ratio. International Journal of Machine Learning and Cybernetics, pages 1–40, 2019.\n",
        "*   Ibrahim Aljarah, Majdi Mafarja, Ali Asghar Heidari, Hossam Faris, and Seyedali Mirjalili. Clustering analysis using a novel locality-informed grey wolf-inspired clustering approach. Knowledge and Information Systems, pages 1–33, 2019.\n",
        "*   Sarah Shukri, Hossam Faris, Ibrahim Aljarah*, Seyedali Mirjalili, and Ajith Abraham. Evolutionary static and dynamic clustering algorithms based on multi-verse optimizer. Engineering Applications of Artificial Intelligence, 72:54–66, 2018.\n",
        "*   Ibrahim Aljarah, Majdi Mafarja, Ali Asghar Heidari, Hossam Faris, and Seyedali Mirjalili. Multiverse optimizer: Theory, literature review, and application in a data clustering. In Nature-Inspired Optimizers: Theories, Literature Reviews and Applications, pages 123–141. Springer International Publishing, Cham, 2020\n",
        "\n",
        "\n",
        "\n",
        "\n",
        "\n",
        "\n"
      ]
    },
    {
      "cell_type": "code",
      "metadata": {
        "id": "snBlzgvTMFr4"
      },
      "source": [],
      "execution_count": 54,
      "outputs": []
    }
  ]
}