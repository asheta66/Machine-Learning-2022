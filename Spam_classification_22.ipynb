{
  "nbformat": 4,
  "nbformat_minor": 0,
  "metadata": {
    "colab": {
      "provenance": [],
      "authorship_tag": "ABX9TyMNf5Z/3DkCrIVqwtMgvXuk",
      "include_colab_link": true
    },
    "kernelspec": {
      "name": "python3",
      "display_name": "Python 3"
    },
    "language_info": {
      "name": "python"
    }
  },
  "cells": [
    {
      "cell_type": "markdown",
      "metadata": {
        "id": "view-in-github",
        "colab_type": "text"
      },
      "source": [
        "<a href=\"https://colab.research.google.com/github/asheta66/Machine-Learning-2022/blob/main/Spam_classification_22.ipynb\" target=\"_parent\"><img src=\"https://colab.research.google.com/assets/colab-badge.svg\" alt=\"Open In Colab\"/></a>"
      ]
    },
    {
      "cell_type": "code",
      "source": [
        "import pandas as pd\n",
        "import numpy as np\n",
        "from sklearn.impute import SimpleImputer\n",
        "from sklearn.preprocessing import StandardScaler\n",
        "from sklearn.feature_selection import SelectKBest, f_classif\n",
        "from sklearn.model_selection import train_test_split\n",
        "from sklearn.neighbors import KNeighborsClassifier\n",
        "from sklearn.ensemble import AdaBoostClassifier\n",
        "from sklearn.linear_model import LogisticRegression\n",
        "from sklearn.metrics import confusion_matrix, accuracy_score, precision_score, recall_score, f1_score, roc_curve, auc\n",
        "import matplotlib.pyplot as plt\n",
        "import seaborn as sns\n",
        "\n",
        "# Load data from CSV file\n",
        "df = pd.read_csv('emails.csv')\n",
        "\n",
        "# Drop the first column\n",
        "df = df.drop('Email No.', axis=1)\n",
        "\n",
        "# Remove NaN values\n",
        "df.dropna(inplace=True)\n",
        "\n",
        "# Replace missing values with the average\n",
        "imputer = SimpleImputer(strategy='mean')\n",
        "df_imputed = pd.DataFrame(imputer.fit_transform(df), columns=df.columns)\n",
        "\n",
        "# Display before and after processing\n",
        "# print(\"Original DataFrame:\")\n",
        "# print(df.head())\n",
        "# print(\"\\nDataFrame after processing:\")\n",
        "# print(df_imputed.head())\n",
        "\n",
        "# Display shape\n",
        "num_samples, num_features = df_imputed.shape\n",
        "print(f\"Number of rows (samples): {num_samples}\")\n",
        "print(f\"Number of columns (features): {num_features}\")\n",
        "\n",
        "# Scale the data\n",
        "scaler = StandardScaler()\n",
        "df_scaled = pd.DataFrame(scaler.fit_transform(df_imputed), columns=df_imputed.columns)"
      ],
      "metadata": {
        "colab": {
          "base_uri": "https://localhost:8080/"
        },
        "id": "pXLV_yEBz-FO",
        "outputId": "ca5b4bc6-7341-4983-f946-1f7340748b9a"
      },
      "execution_count": 19,
      "outputs": [
        {
          "output_type": "stream",
          "name": "stdout",
          "text": [
            "Number of rows (samples): 5172\n",
            "Number of columns (features): 3001\n"
          ]
        }
      ]
    },
    {
      "cell_type": "code",
      "source": [
        "plt.figure(figsize=(4,3))\n",
        "# Calculate the number of classes in the class\n",
        "sns.countplot(data=df, x='Class')\n",
        "plt.savefig('classes.png')"
      ],
      "metadata": {
        "colab": {
          "base_uri": "https://localhost:8080/",
          "height": 311
        },
        "id": "Z9dd_5nDG4Vr",
        "outputId": "c8bd6fd0-65d9-4b8a-979a-e0ae5fadc461"
      },
      "execution_count": 20,
      "outputs": [
        {
          "output_type": "display_data",
          "data": {
            "text/plain": [
              "<Figure size 400x300 with 1 Axes>"
            ],
            "image/png": "[encoded data removed]"
          },
          "metadata": {}
        }
      ]
    },
    {
      "cell_type": "markdown",
      "source": [
        "**Training and Testing data set**"
      ],
      "metadata": {
        "id": "kd6Fp2bV1gmG"
      }
    },
    {
      "cell_type": "code",
      "source": [
        "# Feature selection\n",
        "selector = SelectKBest(score_func=f_classif, k=20)\n",
        "df_selected = selector.fit_transform(df_scaled, df['Class'])\n",
        "\n",
        "# Get feature names of the selected features\n",
        "selected_feature_indices = selector.get_support(indices=True)\n",
        "selected_feature_names = df_scaled.columns[selected_feature_indices]\n",
        "\n",
        "# Display selected feature names as a dataframe\n",
        "selected_feature_names_df = pd.DataFrame({'Selected Feature Name': selected_feature_names})\n",
        "\n",
        "print(\"Selected Feature Names:\")\n",
        "selected_feature_names_df.T"
      ],
      "metadata": {
        "colab": {
          "base_uri": "https://localhost:8080/",
          "height": 115
        },
        "id": "o5AA3xYB0U4b",
        "outputId": "6f2473bb-ea71-43f5-fdd0-2245ff1ea4a8"
      },
      "execution_count": 21,
      "outputs": [
        {
          "output_type": "stream",
          "name": "stdout",
          "text": [
            "Selected Feature Names:\n"
          ]
        },
        {
          "output_type": "execute_result",
          "data": {
            "text/plain": [
              "                        0    1          2      3         4     5       6   \\\n",
              "Selected Feature Name  hpl  our  forwarded  daren  attached  more  thanks   \n",
              "\n",
              "                          7     8        9     10     11    12     13   14  \\\n",
              "Selected Feature Name  money  best  subject  able  hanks  soft  thank  sex   \n",
              "\n",
              "                        15  16  17  18  19  \n",
              "Selected Feature Name  sec  dr  mo  hp  ur  "
            ],
            "text/html": [
              "\n",
              "  <div id=\"df-30a3b812-5f67-43a3-8df8-3969691e7f74\" class=\"colab-df-container\">\n",
              "    <div>\n",
              "<style scoped>\n",
              "    .dataframe tbody tr th:only-of-type {\n",
              "        vertical-align: middle;\n",
              "    }\n",
              "\n",
              "    .dataframe tbody tr th {\n",
              "        vertical-align: top;\n",
              "    }\n",
              "\n",
              "    .dataframe thead th {\n",
              "        text-align: right;\n",
              "    }\n",
              "</style>\n",
              "<table border=\"1\" class=\"dataframe\">\n",
              "  <thead>\n",
              "    <tr style=\"text-align: right;\">\n",
              "      <th></th>\n",
              "      <th>0</th>\n",
              "      <th>1</th>\n",
              "      <th>2</th>\n",
              "      <th>3</th>\n",
              "      <th>4</th>\n",
              "      <th>5</th>\n",
              "      <th>6</th>\n",
              "      <th>7</th>\n",
              "      <th>8</th>\n",
              "      <th>9</th>\n",
              "      <th>10</th>\n",
              "      <th>11</th>\n",
              "      <th>12</th>\n",
              "      <th>13</th>\n",
              "      <th>14</th>\n",
              "      <th>15</th>\n",
              "      <th>16</th>\n",
              "      <th>17</th>\n",
              "      <th>18</th>\n",
              "      <th>19</th>\n",
              "    </tr>\n",
              "  </thead>\n",
              "  <tbody>\n",
              "    <tr>\n",
              "      <th>Selected Feature Name</th>\n",
              "      <td>hpl</td>\n",
              "      <td>our</td>\n",
              "      <td>forwarded</td>\n",
              "      <td>daren</td>\n",
              "      <td>attached</td>\n",
              "      <td>more</td>\n",
              "      <td>thanks</td>\n",
              "      <td>money</td>\n",
              "      <td>best</td>\n",
              "      <td>subject</td>\n",
              "      <td>able</td>\n",
              "      <td>hanks</td>\n",
              "      <td>soft</td>\n",
              "      <td>thank</td>\n",
              "      <td>sex</td>\n",
              "      <td>sec</td>\n",
              "      <td>dr</td>\n",
              "      <td>mo</td>\n",
              "      <td>hp</td>\n",
              "      <td>ur</td>\n",
              "    </tr>\n",
              "  </tbody>\n",
              "</table>\n",
              "</div>\n",
              "    <div class=\"colab-df-buttons\">\n",
              "\n",
              "  <div class=\"colab-df-container\">\n",
              "    <button class=\"colab-df-convert\" onclick=\"convertToInteractive('df-30a3b812-5f67-43a3-8df8-3969691e7f74')\"\n",
              "            title=\"Convert this dataframe to an interactive table.\"\n",
              "            style=\"display:none;\">\n",
              "\n",
              "  <svg xmlns=\"http://www.w3.org/2000/svg\" height=\"24px\" viewBox=\"0 -960 960 960\">\n",
              "    <path d=\"M120-120v-720h720v720H120Zm60-500h600v-160H180v160Zm220 220h160v-160H400v160Zm0 220h160v-160H400v160ZM180-400h160v-160H180v160Zm440 0h160v-160H620v160ZM180-180h160v-160H180v160Zm440 0h160v-160H620v160Z\"/>\n",
              "  </svg>\n",
              "    </button>\n",
              "\n",
              "  <style>\n",
              "    .colab-df-container {\n",
              "      display:flex;\n",
              "      gap: 12px;\n",
              "    }\n",
              "\n",
              "    .colab-df-convert {\n",
              "      background-color: #E8F0FE;\n",
              "      border: none;\n",
              "      border-radius: 50%;\n",
              "      cursor: pointer;\n",
              "      display: none;\n",
              "      fill: #1967D2;\n",
              "      height: 32px;\n",
              "      padding: 0 0 0 0;\n",
              "      width: 32px;\n",
              "    }\n",
              "\n",
              "    .colab-df-convert:hover {\n",
              "      background-color: #E2EBFA;\n",
              "      box-shadow: 0px 1px 2px rgba(60, 64, 67, 0.3), 0px 1px 3px 1px rgba(60, 64, 67, 0.15);\n",
              "      fill: #174EA6;\n",
              "    }\n",
              "\n",
              "    .colab-df-buttons div {\n",
              "      margin-bottom: 4px;\n",
              "    }\n",
              "\n",
              "    [theme=dark] .colab-df-convert {\n",
              "      background-color: #3B4455;\n",
              "      fill: #D2E3FC;\n",
              "    }\n",
              "\n",
              "    [theme=dark] .colab-df-convert:hover {\n",
              "      background-color: #434B5C;\n",
              "      box-shadow: 0px 1px 3px 1px rgba(0, 0, 0, 0.15);\n",
              "      filter: drop-shadow(0px 1px 2px rgba(0, 0, 0, 0.3));\n",
              "      fill: #FFFFFF;\n",
              "    }\n",
              "  </style>\n",
              "\n",
              "    <script>\n",
              "      const buttonEl =\n",
              "        document.querySelector('#df-30a3b812-5f67-43a3-8df8-3969691e7f74 button.colab-df-convert');\n",
              "      buttonEl.style.display =\n",
              "        google.colab.kernel.accessAllowed ? 'block' : 'none';\n",
              "\n",
              "      async function convertToInteractive(key) {\n",
              "        const element = document.querySelector('#df-30a3b812-5f67-43a3-8df8-3969691e7f74');\n",
              "        const dataTable =\n",
              "          await google.colab.kernel.invokeFunction('convertToInteractive',\n",
              "                                                    [key], {});\n",
              "        if (!dataTable) return;\n",
              "\n",
              "        const docLinkHtml = 'Like what you see? Visit the ' +\n",
              "          '<a target=\"_blank\" href=https://colab.research.google.com/notebooks/data_table.ipynb>data table notebook</a>'\n",
              "          + ' to learn more about interactive tables.';\n",
              "        element.innerHTML = '';\n",
              "        dataTable['output_type'] = 'display_data';\n",
              "        await google.colab.output.renderOutput(dataTable, element);\n",
              "        const docLink = document.createElement('div');\n",
              "        docLink.innerHTML = docLinkHtml;\n",
              "        element.appendChild(docLink);\n",
              "      }\n",
              "    </script>\n",
              "  </div>\n",
              "\n",
              "    </div>\n",
              "  </div>\n"
            ]
          },
          "metadata": {},
          "execution_count": 21
        }
      ]
    },
    {
      "cell_type": "code",
      "source": [
        "# Split data into training and testing\n",
        "X_train, X_test, y_train, y_test = train_test_split(df_selected, df['Class'], test_size=0.2, random_state=42)\n",
        "\n",
        "# example of random undersampling to balance the class distribution\n",
        "from collections import Counter\n",
        "from sklearn.datasets import make_classification\n",
        "from imblearn.under_sampling import RandomUnderSampler\n",
        "from imblearn.over_sampling import RandomOverSampler\n",
        "\n",
        "# define undersample strategy\n",
        "oversample = RandomOverSampler(sampling_strategy='not majority')\n",
        "X_train, y_train = oversample.fit_resample(X_train,y_train)"
      ],
      "metadata": {
        "id": "tNk2C6QJ1jYF"
      },
      "execution_count": 22,
      "outputs": []
    },
    {
      "cell_type": "code",
      "source": [
        "df_selected.shape"
      ],
      "metadata": {
        "colab": {
          "base_uri": "https://localhost:8080/"
        },
        "id": "jLhU6hHRINtN",
        "outputId": "e46a23c6-2a7d-47c6-80df-d1da106fe29d"
      },
      "execution_count": 23,
      "outputs": [
        {
          "output_type": "execute_result",
          "data": {
            "text/plain": [
              "(5172, 20)"
            ]
          },
          "metadata": {},
          "execution_count": 23
        }
      ]
    },
    {
      "cell_type": "code",
      "source": [
        "X_train.shape"
      ],
      "metadata": {
        "colab": {
          "base_uri": "https://localhost:8080/"
        },
        "id": "MIqNjk08IKu1",
        "outputId": "c6701d0a-3605-45b7-8db3-8f4679f3fb1f"
      },
      "execution_count": 24,
      "outputs": [
        {
          "output_type": "execute_result",
          "data": {
            "text/plain": [
              "(5866, 20)"
            ]
          },
          "metadata": {},
          "execution_count": 24
        }
      ]
    },
    {
      "cell_type": "code",
      "source": [
        "import pandas as pd\n",
        "import numpy as np\n",
        "from sklearn.impute import SimpleImputer\n",
        "from sklearn.preprocessing import StandardScaler\n",
        "from sklearn.model_selection import train_test_split, GridSearchCV\n",
        "from sklearn.neighbors import KNeighborsClassifier\n",
        "from sklearn.ensemble import AdaBoostClassifier\n",
        "from sklearn.linear_model import LogisticRegression\n",
        "from sklearn.metrics import confusion_matrix, accuracy_score, precision_score, recall_score, f1_score\n",
        "import matplotlib.pyplot as plt\n",
        "import seaborn as sns\n",
        "\n",
        "# K-Nearest Neighbors (KNN) model with parameter tuning\n",
        "knn_param_grid = {'n_neighbors': [3, 5, 7, 9], 'weights': ['uniform', 'distance']}\n",
        "knn_model = KNeighborsClassifier()\n",
        "knn_grid = GridSearchCV(knn_model, knn_param_grid, cv=3)\n",
        "knn_grid.fit(X_train, y_train)\n",
        "best_knn_model = knn_grid.best_estimator_\n",
        "\n",
        "# Adaboost model with parameter tuning\n",
        "adaboost_param_grid = {'n_estimators': [50, 100, 150], 'learning_rate': [0.01, 0.1, 1.0]}\n",
        "adaboost_model = AdaBoostClassifier()\n",
        "adaboost_grid = GridSearchCV(adaboost_model, adaboost_param_grid, cv=3)\n",
        "adaboost_grid.fit(X_train, y_train)\n",
        "best_adaboost_model = adaboost_grid.best_estimator_\n",
        "\n",
        "# Logistic Regression model with parameter tuning\n",
        "logreg_param_grid = {'C': [0.001, 0.01, 0.1, 1.0, 10.0]}\n",
        "logreg_model = LogisticRegression(max_iter=1000)\n",
        "logreg_grid = GridSearchCV(logreg_model, logreg_param_grid, cv=3)\n",
        "logreg_grid.fit(X_train, y_train)\n",
        "best_logreg_model = logreg_grid.best_estimator_\n",
        "\n",
        "# Display the best parameters for each model\n",
        "print(\"Best KNN Model Parameters:\", best_knn_model)\n",
        "print(\"Best Adaboost Model Parameters:\", best_adaboost_model)\n",
        "print(\"Best Logistic Regression Model Parameters:\", best_logreg_model)"
      ],
      "metadata": {
        "colab": {
          "base_uri": "https://localhost:8080/"
        },
        "id": "qgZPzSWVJId1",
        "outputId": "9a3d82c8-ab87-4703-b25b-30b101d99bdd"
      },
      "execution_count": 25,
      "outputs": [
        {
          "output_type": "stream",
          "name": "stdout",
          "text": [
            "Best KNN Model Parameters: KNeighborsClassifier(n_neighbors=7, weights='distance')\n",
            "Best Adaboost Model Parameters: AdaBoostClassifier(n_estimators=150)\n",
            "Best Logistic Regression Model Parameters: LogisticRegression(C=10.0, max_iter=1000)\n"
          ]
        }
      ]
    },
    {
      "cell_type": "code",
      "source": [
        "# Classification models\n",
        "knn_model = KNeighborsClassifier(n_neighbors=9, weights='distance')\n",
        "adaboost_model = AdaBoostClassifier(n_estimators=100)\n",
        "logreg_model = LogisticRegression(C=10.0, max_iter=1000)"
      ],
      "metadata": {
        "id": "v6kjo3kbH9Wn"
      },
      "execution_count": 26,
      "outputs": []
    },
    {
      "cell_type": "code",
      "source": [
        "import numpy as np\n",
        "import matplotlib.pyplot as plt\n",
        "from sklearn.datasets import load_diabetes\n",
        "from sklearn.model_selection import train_test_split\n",
        "from sklearn.preprocessing import StandardScaler\n",
        "from sklearn.metrics import confusion_matrix, roc_curve, roc_auc_score, auc\n",
        "from sklearn.neighbors import KNeighborsClassifier\n",
        "from sklearn.ensemble import AdaBoostClassifier\n",
        "from sklearn.linear_model import LogisticRegression\n",
        "import seaborn as sns\n",
        "\n",
        "# ... Rest of your code ...\n",
        "\n",
        "# Create an empty dictionary to store ROC curve data\n",
        "roc_data = {}\n",
        "\n",
        "# Train and predict with your models\n",
        "plt.figure(figsize=(12, 3))\n",
        "\n",
        "for i, (name, model) in enumerate(models.items(), 1):\n",
        "    plt.subplot(1, 3, i)\n",
        "    model.fit(X_train, y_train)\n",
        "    y_train_pred = model.predict(X_train)\n",
        "    y_test_pred = model.predict(X_test)\n",
        "\n",
        "    cm_train = confusion_matrix(y_train, y_train_pred)\n",
        "    cm_test = confusion_matrix(y_test, y_test_pred)\n",
        "\n",
        "    # Calculate ROC curve and AUC\n",
        "    fpr_train, tpr_train, _ = roc_curve(y_train, model.predict_proba(X_train)[:, 1])\n",
        "    roc_auc_train = auc(fpr_train, tpr_train)\n",
        "\n",
        "    fpr_test, tpr_test, _ = roc_curve(y_test, model.predict_proba(X_test)[:, 1])\n",
        "    roc_auc_test = auc(fpr_test, tpr_test)\n",
        "\n",
        "    roc_data[name] = {\n",
        "        'fpr_train': fpr_train,\n",
        "        'tpr_train': tpr_train,\n",
        "        'roc_auc_train': roc_auc_train,\n",
        "        'fpr_test': fpr_test,\n",
        "        'tpr_test': tpr_test,\n",
        "        'roc_auc_test': roc_auc_test\n",
        "    }\n",
        "\n",
        "    # Plot confusion matrix for training\n",
        "    plt.subplot(1, 3, i)\n",
        "    sns.heatmap(cm_train, annot=True, fmt='d', cmap='Blues', cbar=False, annot_kws={\"size\": 12})\n",
        "    plt.title(f'Confusion Matrix (Train) - {name}', fontsize=10)\n",
        "    plt.xlabel('Predicted')\n",
        "    plt.ylabel('Actual')\n",
        "\n",
        "    # ... Rest of the code for confusion matrix\n",
        "\n",
        "# Save the confusion matrix plot\n",
        "plt.savefig('confusion_matrix_plot.png')\n",
        "\n",
        "# Create a new figure for ROC curves\n",
        "plt.figure(figsize=(5, 4))\n",
        "\n",
        "# Plot ROC curves for all models\n",
        "for name, data in roc_data.items():\n",
        "    plt.plot(data['fpr_test'], data['tpr_test'], lw=2, label=f'{name} - AUC = {data[\"roc_auc_test\"]:.2f}')\n",
        "\n",
        "# Plot the diagonal (random classifier)\n",
        "plt.plot([0, 1], [0, 1], color='gray', linestyle='--')\n",
        "\n",
        "plt.xlim([0.0, 1.0])\n",
        "plt.ylim([0.0, 1.05])\n",
        "plt.xlabel('False Positive Rate')\n",
        "plt.ylabel('True Positive Rate')\n",
        "plt.title('ROC Curves for Classification Models', fontsize= 10)\n",
        "plt.legend(loc='lower right')\n",
        "\n",
        "# Save the ROC curve plot\n",
        "plt.savefig('roc_curve_plot.png')\n",
        "\n",
        "# Show the ROC curve plot\n",
        "plt.show()\n"
      ],
      "metadata": {
        "colab": {
          "base_uri": "https://localhost:8080/",
          "height": 720
        },
        "id": "ol5jIsht2dTB",
        "outputId": "a4233735-cc1a-4318-a344-ad97f191290a"
      },
      "execution_count": 27,
      "outputs": [
        {
          "output_type": "display_data",
          "data": {
            "text/plain": [
              "<Figure size 1200x300 with 3 Axes>"
            ],
            "image/png": "[encoded data removed]"
          },
          "metadata": {}
        },
        {
          "output_type": "display_data",
          "data": {
            "text/plain": [
              "<Figure size 500x400 with 1 Axes>"
            ],
            "image/png": "[encoded data removed]"
          },
          "metadata": {}
        }
      ]
    }
  ]
}