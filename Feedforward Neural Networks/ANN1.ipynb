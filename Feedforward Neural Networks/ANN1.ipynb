{
  "nbformat": 4,
  "nbformat_minor": 0,
  "metadata": {
    "colab": {
      "name": "ANN.ipynb",
      "provenance": [],
      "collapsed_sections": [],
      "include_colab_link": true
    },
    "kernelspec": {
      "name": "python3",
      "display_name": "Python 3"
    }
  },
  "cells": [
    {
      "cell_type": "markdown",
      "metadata": {
        "id": "view-in-github",
        "colab_type": "text"
      },
      "source": [
        "<a href=\"https://colab.research.google.com/github/asheta66/Machine-Learning-2020/blob/main/Feedforward%20Neural%20Networks/ANN1.ipynb\" target=\"_parent\"><img src=\"https://colab.research.google.com/assets/colab-badge.svg\" alt=\"Open In Colab\"/></a>"
      ]
    },
    {
      "cell_type": "code",
      "metadata": {
        "colab": {
          "base_uri": "https://localhost:8080/"
        },
        "id": "iZIRZg-rgkzz",
        "outputId": "6d764d98-f825-443f-a832-8edf34a70f10"
      },
      "source": [
        "# mlp for regression with mse loss function\n",
        "from sklearn.datasets import make_regression\n",
        "from sklearn.preprocessing import StandardScaler\n",
        "from keras.models import Sequential\n",
        "from keras.layers import Dense\n",
        "from keras.optimizers import SGD\n",
        "from matplotlib import pyplot\n",
        "\n",
        "# generate regression dataset\n",
        "X, y = make_regression(n_samples=1000, n_features=20, noise=0.1, random_state=1)\n",
        "print(\"X\")"
      ],
      "execution_count": null,
      "outputs": [
        {
          "output_type": "stream",
          "text": [
            "X\n"
          ],
          "name": "stdout"
        }
      ]
    },
    {
      "cell_type": "code",
      "metadata": {
        "id": "fbyZsB7Qg0VS"
      },
      "source": [
        "# standardize dataset\n",
        "X = StandardScaler().fit_transform(X)\n",
        "y = StandardScaler().fit_transform(y.reshape(len(y),1))[:,0]\n",
        "\n",
        "# split into train and test\n",
        "n_train = 500\n",
        "trainX, testX = X[:n_train, :], X[n_train:, :]\n",
        "trainy, testy = y[:n_train], y[n_train:]"
      ],
      "execution_count": null,
      "outputs": []
    },
    {
      "cell_type": "code",
      "metadata": {
        "colab": {
          "base_uri": "https://localhost:8080/"
        },
        "id": "dfbS8Iwig3YC",
        "outputId": "a97de532-45e0-40b6-fc18-fa9cf88e9af0"
      },
      "source": [
        "# define model\n",
        "model = Sequential()\n",
        "model.add(Dense(25, input_dim=20, activation='relu', kernel_initializer='he_uniform'))\n",
        "model.add(Dense(1, activation='linear'))\n",
        "opt = SGD(lr=0.01, momentum=0.9)\n",
        "model.compile(loss='mean_squared_error', optimizer=opt)\n",
        "\n",
        "# fit model\n",
        "history = model.fit(trainX, trainy, validation_data=(testX, testy), epochs=100, verbose=0)\n",
        "\n",
        "# evaluate the model\n",
        "train_mse = model.evaluate(trainX, trainy, verbose=0)\n",
        "test_mse = model.evaluate(testX, testy, verbose=0)\n",
        "print('Train: %.3f, Test: %.3f' % (train_mse, test_mse))\n"
      ],
      "execution_count": null,
      "outputs": [
        {
          "output_type": "stream",
          "text": [
            "Train: 0.003, Test: 0.008\n"
          ],
          "name": "stdout"
        }
      ]
    },
    {
      "cell_type": "code",
      "metadata": {
        "colab": {
          "base_uri": "https://localhost:8080/",
          "height": 281
        },
        "id": "F734sKubg5h4",
        "outputId": "fcc8e5b3-2267-4fb1-cc1c-e013c10cc887"
      },
      "source": [
        "# plot loss during training\n",
        "pyplot.title('Loss / Mean Squared Error')\n",
        "pyplot.plot(history.history['loss'], label='train')\n",
        "pyplot.plot(history.history['val_loss'], label='test')\n",
        "pyplot.legend()\n",
        "pyplot.show()"
      ],
      "execution_count": null,
      "outputs": [
        {
          "output_type": "display_data",
          "data": {
            "image/png": "[encoded data removed]",
            "text/plain": [
              "<Figure size 432x288 with 1 Axes>"
            ]
          },
          "metadata": {
            "tags": [],
            "needs_background": "light"
          }
        }
      ]
    }
  ]
}