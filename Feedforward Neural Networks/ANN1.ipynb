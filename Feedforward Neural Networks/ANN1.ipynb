{
  "nbformat": 4,
  "nbformat_minor": 0,
  "metadata": {
    "colab": {
      "name": "ANN.ipynb",
      "provenance": [],
      "collapsed_sections": [],
      "include_colab_link": true
    },
    "kernelspec": {
      "name": "python3",
      "display_name": "Python 3"
    }
  },
  "cells": [
    {
      "cell_type": "markdown",
      "metadata": {
        "id": "view-in-github",
        "colab_type": "text"
      },
      "source": [
        "<a href=\"https://colab.research.google.com/github/asheta66/Machine-Learning-2022/blob/main/Feedforward%20Neural%20Networks/ANN1.ipynb\" target=\"_parent\"><img src=\"https://colab.research.google.com/assets/colab-badge.svg\" alt=\"Open In Colab\"/></a>"
      ]
    },
    {
      "cell_type": "code",
      "source": [
        "!pip install -q keras"
      ],
      "metadata": {
        "id": "bPyD-DO9I_as"
      },
      "execution_count": 41,
      "outputs": []
    },
    {
      "cell_type": "code",
      "metadata": {
        "colab": {
          "base_uri": "https://localhost:8080/",
          "height": 206
        },
        "id": "iZIRZg-rgkzz",
        "outputId": "f1ff877b-4a35-44d5-9123-6ea251d51c7a"
      },
      "source": [
        "# MLP for regression with mse loss function\n",
        "from sklearn.datasets import make_regression\n",
        "from sklearn.preprocessing import StandardScaler\n",
        "from keras.models import Sequential\n",
        "from keras.layers import Dense\n",
        "from tensorflow.keras.optimizers import SGD\n",
        "from matplotlib import pyplot\n",
        "import numpy as np\n",
        "import matplotlib.pyplot as plt\n",
        "import pandas as pd\n",
        "import seaborn as sns\n",
        "\n",
        "# Importing the datasets\n",
        "import sklearn.datasets\n",
        "gila_river = pd.read_csv(\"https://raw.githubusercontent.com/asheta66/Machine-Learning-2022/main/Multiple%20Linear%20Regression/GilaRiverFlow.csv\")\n",
        "X = gila_river.iloc[:,:-1].values\n",
        "y = gila_river.iloc[:,3].values\n",
        "gila_river.head()"
      ],
      "execution_count": 42,
      "outputs": [
        {
          "output_type": "execute_result",
          "data": {
            "text/plain": [
              "   y(k-1)  y(k-2)  y(k-3)  y(k)\n",
              "0       0       0       0    42\n",
              "1      42       0       0    41\n",
              "2      41      42       0    39\n",
              "3      39      41      42    37\n",
              "4      37      39      41    36"
            ],
            "text/html": [
              "\n",
              "  <div id=\"df-c0ed73a4-9f9d-4a4d-8308-3b4559ee9c3b\">\n",
              "    <div class=\"colab-df-container\">\n",
              "      <div>\n",
              "<style scoped>\n",
              "    .dataframe tbody tr th:only-of-type {\n",
              "        vertical-align: middle;\n",
              "    }\n",
              "\n",
              "    .dataframe tbody tr th {\n",
              "        vertical-align: top;\n",
              "    }\n",
              "\n",
              "    .dataframe thead th {\n",
              "        text-align: right;\n",
              "    }\n",
              "</style>\n",
              "<table border=\"1\" class=\"dataframe\">\n",
              "  <thead>\n",
              "    <tr style=\"text-align: right;\">\n",
              "      <th></th>\n",
              "      <th>y(k-1)</th>\n",
              "      <th>y(k-2)</th>\n",
              "      <th>y(k-3)</th>\n",
              "      <th>y(k)</th>\n",
              "    </tr>\n",
              "  </thead>\n",
              "  <tbody>\n",
              "    <tr>\n",
              "      <th>0</th>\n",
              "      <td>0</td>\n",
              "      <td>0</td>\n",
              "      <td>0</td>\n",
              "      <td>42</td>\n",
              "    </tr>\n",
              "    <tr>\n",
              "      <th>1</th>\n",
              "      <td>42</td>\n",
              "      <td>0</td>\n",
              "      <td>0</td>\n",
              "      <td>41</td>\n",
              "    </tr>\n",
              "    <tr>\n",
              "      <th>2</th>\n",
              "      <td>41</td>\n",
              "      <td>42</td>\n",
              "      <td>0</td>\n",
              "      <td>39</td>\n",
              "    </tr>\n",
              "    <tr>\n",
              "      <th>3</th>\n",
              "      <td>39</td>\n",
              "      <td>41</td>\n",
              "      <td>42</td>\n",
              "      <td>37</td>\n",
              "    </tr>\n",
              "    <tr>\n",
              "      <th>4</th>\n",
              "      <td>37</td>\n",
              "      <td>39</td>\n",
              "      <td>41</td>\n",
              "      <td>36</td>\n",
              "    </tr>\n",
              "  </tbody>\n",
              "</table>\n",
              "</div>\n",
              "      <button class=\"colab-df-convert\" onclick=\"convertToInteractive('df-c0ed73a4-9f9d-4a4d-8308-3b4559ee9c3b')\"\n",
              "              title=\"Convert this dataframe to an interactive table.\"\n",
              "              style=\"display:none;\">\n",
              "        \n",
              "  <svg xmlns=\"http://www.w3.org/2000/svg\" height=\"24px\"viewBox=\"0 0 24 24\"\n",
              "       width=\"24px\">\n",
              "    <path d=\"M0 0h24v24H0V0z\" fill=\"none\"/>\n",
              "    <path d=\"M18.56 5.44l.94 2.06.94-2.06 2.06-.94-2.06-.94-.94-2.06-.94 2.06-2.06.94zm-11 1L8.5 8.5l.94-2.06 2.06-.94-2.06-.94L8.5 2.5l-.94 2.06-2.06.94zm10 10l.94 2.06.94-2.06 2.06-.94-2.06-.94-.94-2.06-.94 2.06-2.06.94z\"/><path d=\"M17.41 7.96l-1.37-1.37c-.4-.4-.92-.59-1.43-.59-.52 0-1.04.2-1.43.59L10.3 9.45l-7.72 7.72c-.78.78-.78 2.05 0 2.83L4 21.41c.39.39.9.59 1.41.59.51 0 1.02-.2 1.41-.59l7.78-7.78 2.81-2.81c.8-.78.8-2.07 0-2.86zM5.41 20L4 18.59l7.72-7.72 1.47 1.35L5.41 20z\"/>\n",
              "  </svg>\n",
              "      </button>\n",
              "      \n",
              "  <style>\n",
              "    .colab-df-container {\n",
              "      display:flex;\n",
              "      flex-wrap:wrap;\n",
              "      gap: 12px;\n",
              "    }\n",
              "\n",
              "    .colab-df-convert {\n",
              "      background-color: #E8F0FE;\n",
              "      border: none;\n",
              "      border-radius: 50%;\n",
              "      cursor: pointer;\n",
              "      display: none;\n",
              "      fill: #1967D2;\n",
              "      height: 32px;\n",
              "      padding: 0 0 0 0;\n",
              "      width: 32px;\n",
              "    }\n",
              "\n",
              "    .colab-df-convert:hover {\n",
              "      background-color: #E2EBFA;\n",
              "      box-shadow: 0px 1px 2px rgba(60, 64, 67, 0.3), 0px 1px 3px 1px rgba(60, 64, 67, 0.15);\n",
              "      fill: #174EA6;\n",
              "    }\n",
              "\n",
              "    [theme=dark] .colab-df-convert {\n",
              "      background-color: #3B4455;\n",
              "      fill: #D2E3FC;\n",
              "    }\n",
              "\n",
              "    [theme=dark] .colab-df-convert:hover {\n",
              "      background-color: #434B5C;\n",
              "      box-shadow: 0px 1px 3px 1px rgba(0, 0, 0, 0.15);\n",
              "      filter: drop-shadow(0px 1px 2px rgba(0, 0, 0, 0.3));\n",
              "      fill: #FFFFFF;\n",
              "    }\n",
              "  </style>\n",
              "\n",
              "      <script>\n",
              "        const buttonEl =\n",
              "          document.querySelector('#df-c0ed73a4-9f9d-4a4d-8308-3b4559ee9c3b button.colab-df-convert');\n",
              "        buttonEl.style.display =\n",
              "          google.colab.kernel.accessAllowed ? 'block' : 'none';\n",
              "\n",
              "        async function convertToInteractive(key) {\n",
              "          const element = document.querySelector('#df-c0ed73a4-9f9d-4a4d-8308-3b4559ee9c3b');\n",
              "          const dataTable =\n",
              "            await google.colab.kernel.invokeFunction('convertToInteractive',\n",
              "                                                     [key], {});\n",
              "          if (!dataTable) return;\n",
              "\n",
              "          const docLinkHtml = 'Like what you see? Visit the ' +\n",
              "            '<a target=\"_blank\" href=https://colab.research.google.com/notebooks/data_table.ipynb>data table notebook</a>'\n",
              "            + ' to learn more about interactive tables.';\n",
              "          element.innerHTML = '';\n",
              "          dataTable['output_type'] = 'display_data';\n",
              "          await google.colab.output.renderOutput(dataTable, element);\n",
              "          const docLink = document.createElement('div');\n",
              "          docLink.innerHTML = docLinkHtml;\n",
              "          element.appendChild(docLink);\n",
              "        }\n",
              "      </script>\n",
              "    </div>\n",
              "  </div>\n",
              "  "
            ]
          },
          "metadata": {},
          "execution_count": 42
        }
      ]
    },
    {
      "cell_type": "code",
      "source": [
        "X"
      ],
      "metadata": {
        "id": "IkBGcpYBNlLQ",
        "outputId": "28ccb5a3-1055-4b0f-ac64-cfdfc956af54",
        "colab": {
          "base_uri": "https://localhost:8080/"
        }
      },
      "execution_count": 43,
      "outputs": [
        {
          "output_type": "execute_result",
          "data": {
            "text/plain": [
              "array([[  0,   0,   0],\n",
              "       [ 42,   0,   0],\n",
              "       [ 41,  42,   0],\n",
              "       ...,\n",
              "       [180, 203, 223],\n",
              "       [159, 180, 203],\n",
              "       [142, 159, 180]])"
            ]
          },
          "metadata": {},
          "execution_count": 43
        }
      ]
    },
    {
      "cell_type": "code",
      "source": [
        "y"
      ],
      "metadata": {
        "id": "uivPC223NleP",
        "outputId": "59a0361c-7f6a-404e-b812-9d8e988f19ae",
        "colab": {
          "base_uri": "https://localhost:8080/"
        }
      },
      "execution_count": 44,
      "outputs": [
        {
          "output_type": "execute_result",
          "data": {
            "text/plain": [
              "array([  42,   41,   39,   37,   36,   38,   39,   39,   40,   39,   40,\n",
              "         41,   41,   39,   38,   40,   41,   39,   38,   41,   45,   43,\n",
              "         43,   42,   45,   53,   46,   44,   52,  144,  204,  181,  177,\n",
              "        170,  165,  163,  153,  148,  139,  143,  150,  154,  158,  160,\n",
              "        146,  138,  139,  140,  139,  137,  131,  129,  123,  115,  117,\n",
              "        119,  112,  109,  107,  110,  102,  109,  134,  126,  123,  137,\n",
              "        157,  178,  192,  199,  200,  188,  177,  163,  153,  144,  134,\n",
              "        134,  133,  130,  132,  133,  132,  133,  133,  132,  133,  133,\n",
              "        126,  118,  110,  111,  114,  117,  117,  116,  118,  121,  112,\n",
              "        102,   95,   91,   91,   92,   94,   96,   98,   97,   91,   93,\n",
              "         91,   89,   85,   86,   87,   82,   86,   94,   92,   89,   85,\n",
              "         80,   80,   73,   71,   76,   87,   92,   84,   74,   68,   71,\n",
              "         72,   68,   72,   79,   85,   88,   89,   93,   97,   97,   92,\n",
              "         86,   85,   84,   89,   85,   77,   67,   60,   63,   64,   67,\n",
              "         70,   68,   60,   66,   72,   75,   80,   80,   77,   74,   69,\n",
              "         60,   56,   48,   46,   52,   56,   56,   56,   57,   62,   64,\n",
              "         60,   56,   53,   47,   51,   48,   45,   56,   49,   51,   50,\n",
              "         57,   62,   65,   66,   64,   64,   61,   56,   48,   44,   42,\n",
              "         38,   38,   38,   38,   41,   41,   38,   37,   37,   34,   32,\n",
              "         32,   31,   31,   32,   33,   32,   34,   33,   33,   33,   34,\n",
              "         32,   32,   31,   31,   31,   31,   30,   31,   33,   32,   31,\n",
              "         31,   32,   31,   30,   27,   27,   28,   30,   31,   33,   28,\n",
              "         25,   25,   25,   24,   25,   27,   32,   29,   28,   31,   33,\n",
              "         32,   31,   64,  403,  122,   94,   98,  103,  120,   83,   31,\n",
              "         31,   31,   32,   30,   31,   31,   33,   31,   32,   33,   32,\n",
              "         36,   58,  146,  112,   79,   76,  135,   80,  148,   64,   59,\n",
              "         56,   89,   56,  115,  130,  210,  237,  238,  684,  327,  666,\n",
              "        345,  326,  455,  289,  255,  239,  154,  114,  321,  250, 1030,\n",
              "       1650, 2440, 1920, 1040,  698,  514,  623,  713,  592,  458,  445,\n",
              "        373,  294,  250,  213,  252,  202,  176,  146,  158,  133,  122,\n",
              "        113,  165,  147,  132,  125,  114,  118,  140,  153,  164,  146,\n",
              "        131,  116,  106,   92,   81,   77,   75,  101,   94,  121,  162,\n",
              "        175,  240,  332,  331,  292,  261,  260,  223,  203,  180,  159,\n",
              "        142,  133])"
            ]
          },
          "metadata": {},
          "execution_count": 44
        }
      ]
    },
    {
      "cell_type": "code",
      "source": [
        "# Drawing river flow\n",
        "\n",
        "fig, axs = plt.subplots(figsize=(10, 4), tight_layout=True)\n",
        "plt.plot(y, '-b')\n",
        "plt.xlabel(r'$ Samples $', fontsize=12)\n",
        "plt.ylabel(r'$ Amplitute $', fontsize=12)\n",
        "plt.title(r'Gila River Flow', fontsize=12)\n",
        "plt.grid(True)\n",
        "plt.show()"
      ],
      "metadata": {
        "id": "9TO6dBXXJVkk",
        "outputId": "ab59f6d7-e053-4f41-b620-61e0b709e8f5",
        "colab": {
          "base_uri": "https://localhost:8080/",
          "height": 297
        }
      },
      "execution_count": 45,
      "outputs": [
        {
          "output_type": "display_data",
          "data": {
            "text/plain": [
              "<Figure size 720x288 with 1 Axes>"
            ],
            "image/png": "[encoded data removed]"
          },
          "metadata": {
            "needs_background": "light"
          }
        }
      ]
    },
    {
      "cell_type": "code",
      "metadata": {
        "id": "fbyZsB7Qg0VS"
      },
      "source": [
        "# Splitting the dataset into the Training set and Test set\n",
        "from sklearn.model_selection import train_test_split\n",
        "X_train, X_test, y_train, y_test = train_test_split(X, y, test_size=0.2, random_state = 0)"
      ],
      "execution_count": 46,
      "outputs": []
    },
    {
      "cell_type": "code",
      "source": [
        "X_train.shape, y_train.shape"
      ],
      "metadata": {
        "id": "Am1yug_9RAIp",
        "outputId": "9096b8d6-a6db-4c10-b822-620495487a1c",
        "colab": {
          "base_uri": "https://localhost:8080/"
        }
      },
      "execution_count": 50,
      "outputs": [
        {
          "output_type": "execute_result",
          "data": {
            "text/plain": [
              "((292, 3), (292,))"
            ]
          },
          "metadata": {},
          "execution_count": 50
        }
      ]
    },
    {
      "cell_type": "code",
      "source": [
        "# import TensorFlow\n",
        "import tensorflow as tf\n",
        "tf.__version__"
      ],
      "metadata": {
        "id": "19-8Ms3CSv8H",
        "outputId": "41fd9bc9-2841-4504-ae0b-e97820cc6c62",
        "colab": {
          "base_uri": "https://localhost:8080/",
          "height": 35
        }
      },
      "execution_count": 52,
      "outputs": [
        {
          "output_type": "execute_result",
          "data": {
            "text/plain": [
              "'2.8.2'"
            ],
            "application/vnd.google.colaboratory.intrinsic+json": {
              "type": "string"
            }
          },
          "metadata": {},
          "execution_count": 52
        }
      ]
    },
    {
      "cell_type": "code",
      "source": [
        "# Set the random seed\n",
        "tf.random.set_seed(42)\n",
        "\n",
        "# Create a model (with 3 layers)\n",
        "model = tf.keras.Sequential([\n",
        "   tf.keras.layers.Dense(100), # add 100 dense neurons\n",
        "   tf.keras.layers.Dense(10), # add another layers with 10 neurons\n",
        "   tf.keras.layers.Dense(1)\n",
        "])\n",
        "\n",
        "# Compile model\n",
        "model.compile(loss=tf.keras.losses.BinaryCrossentropy(),\n",
        "                optimizer=tf.keras.optimizers.SGD(),\n",
        "                metrics=[\"accuracy\"])\n",
        "\n",
        "history = model.fit(X_train, y_train, validation_data=(X_test, y_test), epochs=5)"
      ],
      "metadata": {
        "id": "ZP4NBy28SgTt",
        "outputId": "51cd8ccb-1fae-45ec-d6fd-985b1124f575",
        "colab": {
          "base_uri": "https://localhost:8080/"
        }
      },
      "execution_count": 61,
      "outputs": [
        {
          "output_type": "stream",
          "name": "stdout",
          "text": [
            "Epoch 1/5\n",
            "10/10 [==============================] - 1s 25ms/step - loss: -2045.4614 - accuracy: 0.0000e+00 - val_loss: -1764.9426 - val_accuracy: 0.0000e+00\n",
            "Epoch 2/5\n",
            "10/10 [==============================] - 0s 6ms/step - loss: -2045.4614 - accuracy: 0.0000e+00 - val_loss: -1764.9426 - val_accuracy: 0.0000e+00\n",
            "Epoch 3/5\n",
            "10/10 [==============================] - 0s 5ms/step - loss: -2045.4617 - accuracy: 0.0000e+00 - val_loss: -1764.9426 - val_accuracy: 0.0000e+00\n",
            "Epoch 4/5\n",
            "10/10 [==============================] - 0s 6ms/step - loss: -2045.4614 - accuracy: 0.0000e+00 - val_loss: -1764.9426 - val_accuracy: 0.0000e+00\n",
            "Epoch 5/5\n",
            "10/10 [==============================] - 0s 7ms/step - loss: -2045.4613 - accuracy: 0.0000e+00 - val_loss: -1764.9426 - val_accuracy: 0.0000e+00\n"
          ]
        }
      ]
    },
    {
      "cell_type": "code",
      "source": [
        "history"
      ],
      "metadata": {
        "id": "5INGkr4ITO4m",
        "outputId": "510d0973-ef00-4fed-8c9d-27dd50b6d879",
        "colab": {
          "base_uri": "https://localhost:8080/"
        }
      },
      "execution_count": 62,
      "outputs": [
        {
          "output_type": "execute_result",
          "data": {
            "text/plain": [
              "<keras.callbacks.History at 0x7f75b16db390>"
            ]
          },
          "metadata": {},
          "execution_count": 62
        }
      ]
    },
    {
      "cell_type": "code",
      "metadata": {
        "colab": {
          "base_uri": "https://localhost:8080/",
          "height": 281
        },
        "id": "F734sKubg5h4",
        "outputId": "7d3247c4-3565-46e4-c300-28767ee8225f"
      },
      "source": [
        "# plot loss during training\n",
        "pyplot.title('Loss / Mean Squared Error')\n",
        "pyplot.plot(history.history['loss'], label='train')\n",
        "pyplot.plot(history.history['val_loss'], label='test')\n",
        "pyplot.legend()\n",
        "pyplot.show()"
      ],
      "execution_count": 64,
      "outputs": [
        {
          "output_type": "display_data",
          "data": {
            "text/plain": [
              "<Figure size 432x288 with 1 Axes>"
            ],
            "image/png": "[encoded data removed]"
          },
          "metadata": {
            "needs_background": "light"
          }
        }
      ]
    }
  ]
}