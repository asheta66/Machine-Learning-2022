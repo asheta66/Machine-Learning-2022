{
  "nbformat": 4,
  "nbformat_minor": 0,
  "metadata": {
    "colab": {
      "provenance": [],
      "include_colab_link": true
    },
    "kernelspec": {
      "name": "python3",
      "display_name": "Python 3"
    },
    "language_info": {
      "name": "python"
    }
  },
  "cells": [
    {
      "cell_type": "markdown",
      "metadata": {
        "id": "view-in-github",
        "colab_type": "text"
      },
      "source": [
        "<a href=\"https://colab.research.google.com/github/asheta66/Machine-Learning-2022/blob/main/AWSBootcamp_PreAssessment.ipynb\" target=\"_parent\"><img src=\"https://colab.research.google.com/assets/colab-badge.svg\" alt=\"Open In Colab\"/></a>"
      ]
    },
    {
      "cell_type": "markdown",
      "source": [
        "# AWS Bootcamp: Machine Learning (ML) Python Assessment\n",
        "---\n",
        "\n",
        "**DIRECTIONS:**\n",
        "1. Please make a copy of this Colab and answer the questions in the coding cells below.\n",
        "2. When you are finished, share the Colab link with the email: train.pd@the-cs.org."
      ],
      "metadata": {
        "id": "QHnSAI5VpNjK"
      }
    },
    {
      "cell_type": "markdown",
      "source": [
        "##### **Question #1:** Print the statement: `The year is 2022.`"
      ],
      "metadata": {
        "id": "_9_WppzPpSLW"
      }
    },
    {
      "cell_type": "code",
      "execution_count": 1,
      "metadata": {
        "id": "c2gPkPeEpMXG",
        "colab": {
          "base_uri": "https://localhost:8080/"
        },
        "outputId": "e613abfd-d582-43d0-aefc-ffbeb53e41d0"
      },
      "outputs": [
        {
          "output_type": "stream",
          "name": "stdout",
          "text": [
            "The year is 2022.\n"
          ]
        }
      ],
      "source": [
        "# add solution here\n",
        "print(\"The year is 2022.\")"
      ]
    },
    {
      "cell_type": "markdown",
      "source": [
        "##### **Question #2:** Print the sum of 76 and 92."
      ],
      "metadata": {
        "id": "YxGDg2m0YI40"
      }
    },
    {
      "cell_type": "code",
      "source": [
        "# add solution here\n",
        "print(76+92)\n"
      ],
      "metadata": {
        "id": "sYtfisbsYKR-",
        "colab": {
          "base_uri": "https://localhost:8080/"
        },
        "outputId": "d54dd5eb-bf6e-4c47-d7e0-e8c31ab34a4b"
      },
      "execution_count": 2,
      "outputs": [
        {
          "output_type": "stream",
          "name": "stdout",
          "text": [
            "168\n"
          ]
        }
      ]
    },
    {
      "cell_type": "markdown",
      "source": [
        "##### **Question #3:** Create a variable called `name` and assign it to your name. Then print a statement that reads: `Welcome back, [YOUR NAME]`."
      ],
      "metadata": {
        "id": "7JlT2E21PhXA"
      }
    },
    {
      "cell_type": "code",
      "source": [
        "# add solution here\n",
        "name = \"Alaa\"\n",
        "print(\"Welcome back, \" + name + \".\")\n",
        "\n"
      ],
      "metadata": {
        "id": "f-BBE7upPrRY",
        "outputId": "b4de86c8-05d7-4179-a8c7-8046647f1b3a",
        "colab": {
          "base_uri": "https://localhost:8080/"
        }
      },
      "execution_count": 3,
      "outputs": [
        {
          "output_type": "stream",
          "name": "stdout",
          "text": [
            "Welcome back, Alaa.\n"
          ]
        }
      ]
    },
    {
      "cell_type": "markdown",
      "source": [
        "##### **Question #4:** Write a function named `happy_bday` that has one parameter, `name`. If, for example, the argument for `name` is `\"Hans\"`, it prints\n",
        "```\n",
        "Happy Birthday Hans!\n",
        "```\n",
        "Call the function and wish a friend happy birthday!"
      ],
      "metadata": {
        "id": "uzzhsdkSPsoP"
      }
    },
    {
      "cell_type": "code",
      "source": [
        "def happy_bday(name):\n",
        "      print(\"Happy birthday,\" + name + \".\")\n",
        "\n",
        "# Example usage\n",
        "happy_bday(\"Hans\")\n"
      ],
      "metadata": {
        "id": "NoQXuxyVh53t",
        "outputId": "b9644892-914d-4c17-8d66-c4bb1dbc38a9",
        "colab": {
          "base_uri": "https://localhost:8080/"
        }
      },
      "execution_count": 8,
      "outputs": [
        {
          "output_type": "stream",
          "name": "stdout",
          "text": [
            "Happy birthday,Hans.\n"
          ]
        }
      ]
    },
    {
      "cell_type": "markdown",
      "source": [
        "##### **Question #5:** Write a function named `how_old` that has two parameters -- `name` and `age`. If the argument for `name` is `\"Ana\"` and the argument for age is `13`, the function should print: `Ana is 13 years old. `\n",
        "\n",
        "Call the function with your name and age."
      ],
      "metadata": {
        "id": "VWlKvgiePriZ"
      }
    },
    {
      "cell_type": "code",
      "source": [
        "# add solution here\n",
        "def how_old(name, age):\n",
        "    print(name + \" is \" + str(age) + \" years old.\")\n",
        "\n",
        "# Example usage\n",
        "how_old(\"Ana\", 13)\n",
        "\n"
      ],
      "metadata": {
        "id": "ipXSyAMnPsY3",
        "outputId": "aaf1bd5c-c0d4-41f7-f0f4-476099ee617d",
        "colab": {
          "base_uri": "https://localhost:8080/"
        }
      },
      "execution_count": 10,
      "outputs": [
        {
          "output_type": "stream",
          "name": "stdout",
          "text": [
            "Ana is 13 years old.\n"
          ]
        }
      ]
    },
    {
      "cell_type": "markdown",
      "source": [
        "##### **Question #6:** Create a list called `countries` with the countries: Mexico, France, and Australia."
      ],
      "metadata": {
        "id": "CDqOvL5VTgEO"
      }
    },
    {
      "cell_type": "code",
      "source": [
        "# add solution here\n",
        "countries = [\"Mexico\", \"France\", \"Australia\"]\n"
      ],
      "metadata": {
        "id": "YmXA53L0TwCQ"
      },
      "execution_count": 11,
      "outputs": []
    },
    {
      "cell_type": "markdown",
      "source": [
        "##### **Question #7:** Use indexing to print Alexus' name."
      ],
      "metadata": {
        "id": "UM3hTgUDPuBe"
      }
    },
    {
      "cell_type": "code",
      "source": [
        "family = [\"Rebecca\", \"Samuel\", \"Indiyah\", \"Alexus\"]"
      ],
      "metadata": {
        "id": "HJ4lyUanPvc3"
      },
      "execution_count": 12,
      "outputs": []
    },
    {
      "cell_type": "code",
      "source": [
        "# add solution here\n",
        "print(family[3])\n"
      ],
      "metadata": {
        "id": "48B3OyUTb9Jj",
        "outputId": "3c0328c0-2707-4fd4-e92c-96c2ed5ec853",
        "colab": {
          "base_uri": "https://localhost:8080/"
        }
      },
      "execution_count": 13,
      "outputs": [
        {
          "output_type": "stream",
          "name": "stdout",
          "text": [
            "Alexus\n"
          ]
        }
      ]
    },
    {
      "cell_type": "markdown",
      "source": [
        "##### **Question #8:** Replace 'monkeys' with 'penguins' in the list below."
      ],
      "metadata": {
        "id": "iYxcFBquWyTO"
      }
    },
    {
      "cell_type": "code",
      "source": [
        "fav_animals = [\"giraffes\", \"walruses\", \"pandas\", \"peacocks\", \"monkeys\"]"
      ],
      "metadata": {
        "id": "6rEc4xphWzuO"
      },
      "execution_count": 14,
      "outputs": []
    },
    {
      "cell_type": "code",
      "source": [
        "# add solution here\n",
        "fav_animals[4] = \"penguins\"\n",
        "\n",
        "print(fav_animals)\n"
      ],
      "metadata": {
        "id": "DWM6McJTYz5C",
        "outputId": "68425627-66ab-441e-95e7-0f69644f8636",
        "colab": {
          "base_uri": "https://localhost:8080/"
        }
      },
      "execution_count": 15,
      "outputs": [
        {
          "output_type": "stream",
          "name": "stdout",
          "text": [
            "['giraffes', 'walruses', 'pandas', 'peacocks', 'penguins']\n"
          ]
        }
      ]
    },
    {
      "cell_type": "markdown",
      "source": [
        "---\n",
        "© 2023 The Coding School, All rights reserved"
      ],
      "metadata": {
        "id": "40zySWM3P78Q"
      }
    }
  ]
}