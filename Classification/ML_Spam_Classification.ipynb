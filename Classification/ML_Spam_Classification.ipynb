{
  "nbformat": 4,
  "nbformat_minor": 0,
  "metadata": {
    "colab": {
      "provenance": [],
      "authorship_tag": "ABX9TyN0HK1yUpdWT79e8bmdRoNO",
      "include_colab_link": true
    },
    "kernelspec": {
      "name": "python3",
      "display_name": "Python 3"
    },
    "language_info": {
      "name": "python"
    }
  },
  "cells": [
    {
      "cell_type": "markdown",
      "metadata": {
        "id": "view-in-github",
        "colab_type": "text"
      },
      "source": [
        "<a href=\"https://colab.research.google.com/github/asheta66/Machine-Learning-2022/blob/main/Classification/ML_Spam_Classification.ipynb\" target=\"_parent\"><img src=\"https://colab.research.google.com/assets/colab-badge.svg\" alt=\"Open In Colab\"/></a>"
      ]
    },
    {
      "cell_type": "code",
      "execution_count": 39,
      "metadata": {
        "id": "e6mRzwKChEHE"
      },
      "outputs": [],
      "source": [
        "# Importing the libraries\n",
        "import math\n",
        "import numpy as np\n",
        "import pandas as pd\n",
        "\n",
        "import numpy as np\n",
        "import matplotlib.pyplot as plt\n",
        "import pandas as pd\n",
        "import seaborn as sns\n",
        "sns.set_style(\"whitegrid\")\n",
        "\n",
        "from sklearn.model_selection import train_test_split, KFold, cross_val_score\n",
        "from sklearn.linear_model import LogisticRegression\n",
        "from sklearn.svm import SVC\n",
        "from sklearn.ensemble import GradientBoostingClassifier\n",
        "from sklearn.naive_bayes import GaussianNB\n",
        "from sklearn.ensemble import RandomForestClassifier\n",
        "from sklearn.neighbors import KNeighborsClassifier\n",
        "from matplotlib import pyplot as plt\n"
      ]
    },
    {
      "cell_type": "markdown",
      "source": [
        "# Plot settings"
      ],
      "metadata": {
        "id": "Buxq-a1AiTwD"
      }
    },
    {
      "cell_type": "code",
      "source": [
        "plt.rcParams['axes.labelsize'] = 10\n",
        "plt.rcParams['xtick.labelsize'] = 10\n",
        "plt.rcParams['ytick.labelsize'] = 10\n",
        "plt.rcParams['legend.fontsize'] = 10\n",
        "plt.rcParams['figure.titlesize'] = 11\n",
        "plt.rcParams['xtick.major.size'] = 10\n",
        "plt.rcParams['xtick.major.width'] = 1\n",
        "plt.rcParams['ytick.major.size'] = 10\n",
        "plt.rcParams['ytick.major.width'] = 1\n",
        "plt.rcParams['xtick.minor.width'] = 1\n",
        "plt.rcParams['ytick.minor.size'] = 5\n",
        "plt.rcParams['ytick.minor.width'] = 1\n",
        "plt.rcParams['xtick.minor.size'] = 5\n",
        "plt.rcParams['figure.figsize'] = 7,4\n",
        "sns.set_style('ticks')"
      ],
      "metadata": {
        "id": "qMVXdT3wiLvb"
      },
      "execution_count": 40,
      "outputs": []
    },
    {
      "cell_type": "markdown",
      "source": [
        "# Reading the data\n",
        "\n"
      ],
      "metadata": {
        "id": "wYhqVAFmia0T"
      }
    },
    {
      "cell_type": "code",
      "source": [
        "# Importing the datasets\n",
        "df  = pd.read_csv('emails.csv')\n",
        "\n",
        "# y      = df.OSA.values\n",
        "# x_data = df.drop(['OSA'], axis = 1)"
      ],
      "metadata": {
        "id": "nlAAPqfXimI6"
      },
      "execution_count": 41,
      "outputs": []
    },
    {
      "cell_type": "markdown",
      "source": [
        "# Display the data"
      ],
      "metadata": {
        "id": "SlwgKvhai3Ii"
      }
    },
    {
      "cell_type": "code",
      "source": [
        "df.shape"
      ],
      "metadata": {
        "colab": {
          "base_uri": "https://localhost:8080/"
        },
        "id": "aKlQrzCojDrB",
        "outputId": "90666f97-b4f3-4582-d9cc-3b104cc3a302"
      },
      "execution_count": 42,
      "outputs": [
        {
          "output_type": "execute_result",
          "data": {
            "text/plain": [
              "(5172, 3002)"
            ]
          },
          "metadata": {},
          "execution_count": 42
        }
      ]
    },
    {
      "cell_type": "code",
      "source": [
        "# df.describe()"
      ],
      "metadata": {
        "id": "p2uuLdFzlg2m"
      },
      "execution_count": 43,
      "outputs": []
    },
    {
      "cell_type": "markdown",
      "source": [
        "**Data Visulatization**"
      ],
      "metadata": {
        "id": "GwM_YSLA1Tol"
      }
    },
    {
      "cell_type": "code",
      "source": [
        "# fig, (ax1, ax2,ax3) = plt.subplots(1,3)\n",
        "# fig.suptitle('Data Statistics')\n",
        "# ax1.plot(OSA, 'o-')\n",
        "# ax1.set_ylabel('Damped oscillation')\n",
        "# ax2.plot(x2, y2, '.-')\n",
        "# ax2.set_xlabel('time (s)')\n",
        "# ax2.set_ylabel('Undamped')\n",
        "# plt.show()\n",
        "\n",
        "# plt.subplot(13)\n",
        "# # equivalent but more general\n",
        "# ax1 = plt.subplot(2, 2, 1)\n",
        "# # add a subplot with no frame\n",
        "# ax2 = plt.subplot(222, frameon=False)\n",
        "# # add a polar subplot\n",
        "# plt.subplot(223, projection='polar')\n",
        "\n",
        "# fig, axes = plt.subplots(1,3,figsize=(7,5),sharey=True)\n",
        "# sns.countplot(ax=axes[0],data=df, x='Class')\n",
        "# sns.countplot(ax=axes[1],data=df, x='gender')\n",
        "# sns.countplot(ax=axes[2],data=df, x='retire')\n",
        "# plt.savefig('Statistics.png')\n"
      ],
      "metadata": {
        "id": "o1zcACsf1bid"
      },
      "execution_count": 44,
      "outputs": []
    },
    {
      "cell_type": "markdown",
      "source": [
        "# Drop unwanted data"
      ],
      "metadata": {
        "id": "th_Z44koiuiC"
      }
    },
    {
      "cell_type": "code",
      "source": [
        "# Drop the first column\n",
        "df = df.drop('Email No.', axis = 1)"
      ],
      "metadata": {
        "id": "MmnC1tQRcKBo"
      },
      "execution_count": 45,
      "outputs": []
    },
    {
      "cell_type": "code",
      "source": [
        "# Drop rows with any NaN values\n",
        "df = df.dropna()"
      ],
      "metadata": {
        "id": "qoslSB76mw5T"
      },
      "execution_count": 46,
      "outputs": []
    },
    {
      "cell_type": "code",
      "source": [
        "df.head()"
      ],
      "metadata": {
        "id": "Z4Dt3nFomCQ0",
        "outputId": "0b0ffb53-0398-4948-cfba-00542a5aa750",
        "colab": {
          "base_uri": "https://localhost:8080/",
          "height": 235
        }
      },
      "execution_count": 47,
      "outputs": [
        {
          "output_type": "execute_result",
          "data": {
            "text/plain": [
              "   the  to  ect  and  for  of    a  you  hou  in  ...  connevey  jay  valued  \\\n",
              "0    0   0    1    0    0   0    2    0    0   0  ...         0    0       0   \n",
              "1    8  13   24    6    6   2  102    1   27  18  ...         0    0       0   \n",
              "2    0   0    1    0    0   0    8    0    0   4  ...         0    0       0   \n",
              "3    0   5   22    0    5   1   51    2   10   1  ...         0    0       0   \n",
              "4    7   6   17    1    5   2   57    0    9   3  ...         0    0       0   \n",
              "\n",
              "   lay  infrastructure  military  allowing  ff  dry  Class  \n",
              "0    0               0         0         0   0    0      0  \n",
              "1    0               0         0         0   1    0      0  \n",
              "2    0               0         0         0   0    0      0  \n",
              "3    0               0         0         0   0    0      0  \n",
              "4    0               0         0         0   1    0      0  \n",
              "\n",
              "[5 rows x 3001 columns]"
            ],
            "text/html": [
              "\n",
              "  <div id=\"df-64e9bcfe-0f95-46d8-ba8f-a72b9a1882fa\">\n",
              "    <div class=\"colab-df-container\">\n",
              "      <div>\n",
              "<style scoped>\n",
              "    .dataframe tbody tr th:only-of-type {\n",
              "        vertical-align: middle;\n",
              "    }\n",
              "\n",
              "    .dataframe tbody tr th {\n",
              "        vertical-align: top;\n",
              "    }\n",
              "\n",
              "    .dataframe thead th {\n",
              "        text-align: right;\n",
              "    }\n",
              "</style>\n",
              "<table border=\"1\" class=\"dataframe\">\n",
              "  <thead>\n",
              "    <tr style=\"text-align: right;\">\n",
              "      <th></th>\n",
              "      <th>the</th>\n",
              "      <th>to</th>\n",
              "      <th>ect</th>\n",
              "      <th>and</th>\n",
              "      <th>for</th>\n",
              "      <th>of</th>\n",
              "      <th>a</th>\n",
              "      <th>you</th>\n",
              "      <th>hou</th>\n",
              "      <th>in</th>\n",
              "      <th>...</th>\n",
              "      <th>connevey</th>\n",
              "      <th>jay</th>\n",
              "      <th>valued</th>\n",
              "      <th>lay</th>\n",
              "      <th>infrastructure</th>\n",
              "      <th>military</th>\n",
              "      <th>allowing</th>\n",
              "      <th>ff</th>\n",
              "      <th>dry</th>\n",
              "      <th>Class</th>\n",
              "    </tr>\n",
              "  </thead>\n",
              "  <tbody>\n",
              "    <tr>\n",
              "      <th>0</th>\n",
              "      <td>0</td>\n",
              "      <td>0</td>\n",
              "      <td>1</td>\n",
              "      <td>0</td>\n",
              "      <td>0</td>\n",
              "      <td>0</td>\n",
              "      <td>2</td>\n",
              "      <td>0</td>\n",
              "      <td>0</td>\n",
              "      <td>0</td>\n",
              "      <td>...</td>\n",
              "      <td>0</td>\n",
              "      <td>0</td>\n",
              "      <td>0</td>\n",
              "      <td>0</td>\n",
              "      <td>0</td>\n",
              "      <td>0</td>\n",
              "      <td>0</td>\n",
              "      <td>0</td>\n",
              "      <td>0</td>\n",
              "      <td>0</td>\n",
              "    </tr>\n",
              "    <tr>\n",
              "      <th>1</th>\n",
              "      <td>8</td>\n",
              "      <td>13</td>\n",
              "      <td>24</td>\n",
              "      <td>6</td>\n",
              "      <td>6</td>\n",
              "      <td>2</td>\n",
              "      <td>102</td>\n",
              "      <td>1</td>\n",
              "      <td>27</td>\n",
              "      <td>18</td>\n",
              "      <td>...</td>\n",
              "      <td>0</td>\n",
              "      <td>0</td>\n",
              "      <td>0</td>\n",
              "      <td>0</td>\n",
              "      <td>0</td>\n",
              "      <td>0</td>\n",
              "      <td>0</td>\n",
              "      <td>1</td>\n",
              "      <td>0</td>\n",
              "      <td>0</td>\n",
              "    </tr>\n",
              "    <tr>\n",
              "      <th>2</th>\n",
              "      <td>0</td>\n",
              "      <td>0</td>\n",
              "      <td>1</td>\n",
              "      <td>0</td>\n",
              "      <td>0</td>\n",
              "      <td>0</td>\n",
              "      <td>8</td>\n",
              "      <td>0</td>\n",
              "      <td>0</td>\n",
              "      <td>4</td>\n",
              "      <td>...</td>\n",
              "      <td>0</td>\n",
              "      <td>0</td>\n",
              "      <td>0</td>\n",
              "      <td>0</td>\n",
              "      <td>0</td>\n",
              "      <td>0</td>\n",
              "      <td>0</td>\n",
              "      <td>0</td>\n",
              "      <td>0</td>\n",
              "      <td>0</td>\n",
              "    </tr>\n",
              "    <tr>\n",
              "      <th>3</th>\n",
              "      <td>0</td>\n",
              "      <td>5</td>\n",
              "      <td>22</td>\n",
              "      <td>0</td>\n",
              "      <td>5</td>\n",
              "      <td>1</td>\n",
              "      <td>51</td>\n",
              "      <td>2</td>\n",
              "      <td>10</td>\n",
              "      <td>1</td>\n",
              "      <td>...</td>\n",
              "      <td>0</td>\n",
              "      <td>0</td>\n",
              "      <td>0</td>\n",
              "      <td>0</td>\n",
              "      <td>0</td>\n",
              "      <td>0</td>\n",
              "      <td>0</td>\n",
              "      <td>0</td>\n",
              "      <td>0</td>\n",
              "      <td>0</td>\n",
              "    </tr>\n",
              "    <tr>\n",
              "      <th>4</th>\n",
              "      <td>7</td>\n",
              "      <td>6</td>\n",
              "      <td>17</td>\n",
              "      <td>1</td>\n",
              "      <td>5</td>\n",
              "      <td>2</td>\n",
              "      <td>57</td>\n",
              "      <td>0</td>\n",
              "      <td>9</td>\n",
              "      <td>3</td>\n",
              "      <td>...</td>\n",
              "      <td>0</td>\n",
              "      <td>0</td>\n",
              "      <td>0</td>\n",
              "      <td>0</td>\n",
              "      <td>0</td>\n",
              "      <td>0</td>\n",
              "      <td>0</td>\n",
              "      <td>1</td>\n",
              "      <td>0</td>\n",
              "      <td>0</td>\n",
              "    </tr>\n",
              "  </tbody>\n",
              "</table>\n",
              "<p>5 rows × 3001 columns</p>\n",
              "</div>\n",
              "      <button class=\"colab-df-convert\" onclick=\"convertToInteractive('df-64e9bcfe-0f95-46d8-ba8f-a72b9a1882fa')\"\n",
              "              title=\"Convert this dataframe to an interactive table.\"\n",
              "              style=\"display:none;\">\n",
              "        \n",
              "  <svg xmlns=\"http://www.w3.org/2000/svg\" height=\"24px\"viewBox=\"0 0 24 24\"\n",
              "       width=\"24px\">\n",
              "    <path d=\"M0 0h24v24H0V0z\" fill=\"none\"/>\n",
              "    <path d=\"M18.56 5.44l.94 2.06.94-2.06 2.06-.94-2.06-.94-.94-2.06-.94 2.06-2.06.94zm-11 1L8.5 8.5l.94-2.06 2.06-.94-2.06-.94L8.5 2.5l-.94 2.06-2.06.94zm10 10l.94 2.06.94-2.06 2.06-.94-2.06-.94-.94-2.06-.94 2.06-2.06.94z\"/><path d=\"M17.41 7.96l-1.37-1.37c-.4-.4-.92-.59-1.43-.59-.52 0-1.04.2-1.43.59L10.3 9.45l-7.72 7.72c-.78.78-.78 2.05 0 2.83L4 21.41c.39.39.9.59 1.41.59.51 0 1.02-.2 1.41-.59l7.78-7.78 2.81-2.81c.8-.78.8-2.07 0-2.86zM5.41 20L4 18.59l7.72-7.72 1.47 1.35L5.41 20z\"/>\n",
              "  </svg>\n",
              "      </button>\n",
              "      \n",
              "  <style>\n",
              "    .colab-df-container {\n",
              "      display:flex;\n",
              "      flex-wrap:wrap;\n",
              "      gap: 12px;\n",
              "    }\n",
              "\n",
              "    .colab-df-convert {\n",
              "      background-color: #E8F0FE;\n",
              "      border: none;\n",
              "      border-radius: 50%;\n",
              "      cursor: pointer;\n",
              "      display: none;\n",
              "      fill: #1967D2;\n",
              "      height: 32px;\n",
              "      padding: 0 0 0 0;\n",
              "      width: 32px;\n",
              "    }\n",
              "\n",
              "    .colab-df-convert:hover {\n",
              "      background-color: #E2EBFA;\n",
              "      box-shadow: 0px 1px 2px rgba(60, 64, 67, 0.3), 0px 1px 3px 1px rgba(60, 64, 67, 0.15);\n",
              "      fill: #174EA6;\n",
              "    }\n",
              "\n",
              "    [theme=dark] .colab-df-convert {\n",
              "      background-color: #3B4455;\n",
              "      fill: #D2E3FC;\n",
              "    }\n",
              "\n",
              "    [theme=dark] .colab-df-convert:hover {\n",
              "      background-color: #434B5C;\n",
              "      box-shadow: 0px 1px 3px 1px rgba(0, 0, 0, 0.15);\n",
              "      filter: drop-shadow(0px 1px 2px rgba(0, 0, 0, 0.3));\n",
              "      fill: #FFFFFF;\n",
              "    }\n",
              "  </style>\n",
              "\n",
              "      <script>\n",
              "        const buttonEl =\n",
              "          document.querySelector('#df-64e9bcfe-0f95-46d8-ba8f-a72b9a1882fa button.colab-df-convert');\n",
              "        buttonEl.style.display =\n",
              "          google.colab.kernel.accessAllowed ? 'block' : 'none';\n",
              "\n",
              "        async function convertToInteractive(key) {\n",
              "          const element = document.querySelector('#df-64e9bcfe-0f95-46d8-ba8f-a72b9a1882fa');\n",
              "          const dataTable =\n",
              "            await google.colab.kernel.invokeFunction('convertToInteractive',\n",
              "                                                     [key], {});\n",
              "          if (!dataTable) return;\n",
              "\n",
              "          const docLinkHtml = 'Like what you see? Visit the ' +\n",
              "            '<a target=\"_blank\" href=https://colab.research.google.com/notebooks/data_table.ipynb>data table notebook</a>'\n",
              "            + ' to learn more about interactive tables.';\n",
              "          element.innerHTML = '';\n",
              "          dataTable['output_type'] = 'display_data';\n",
              "          await google.colab.output.renderOutput(dataTable, element);\n",
              "          const docLink = document.createElement('div');\n",
              "          docLink.innerHTML = docLinkHtml;\n",
              "          element.appendChild(docLink);\n",
              "        }\n",
              "      </script>\n",
              "    </div>\n",
              "  </div>\n",
              "  "
            ]
          },
          "metadata": {},
          "execution_count": 47
        }
      ]
    },
    {
      "cell_type": "code",
      "source": [
        "# Calculate the number of classes in the class\n",
        "sns.countplot(data=df, x='Class')\n",
        "plt.savefig('classes.png')"
      ],
      "metadata": {
        "colab": {
          "base_uri": "https://localhost:8080/",
          "height": 286
        },
        "id": "PTwXwIjic4MW",
        "outputId": "31dbf267-2096-405f-e6be-07d8c44c0002"
      },
      "execution_count": 48,
      "outputs": [
        {
          "output_type": "display_data",
          "data": {
            "text/plain": [
              "<Figure size 504x288 with 1 Axes>"
            ],
            "image/png": "[encoded data removed]"
          },
          "metadata": {}
        }
      ]
    },
    {
      "cell_type": "code",
      "source": [
        "from sklearn.preprocessing import StandardScaler\n",
        "\n",
        "x_data = df.drop('Class', axis = 1)\n",
        "Y = df['Class']\n",
        "\n",
        "sc = StandardScaler()\n",
        "X  = sc.fit_transform(x_data)"
      ],
      "metadata": {
        "id": "b8tRyd6hrtII"
      },
      "execution_count": 49,
      "outputs": []
    },
    {
      "cell_type": "code",
      "source": [
        "# # No of samples n \n",
        "# n = 1000\n",
        "# Y = Y[1:n,]\n",
        "# X = X[1:n,]"
      ],
      "metadata": {
        "id": "D-OT0vBym5SM"
      },
      "execution_count": 50,
      "outputs": []
    },
    {
      "cell_type": "code",
      "source": [
        "# X.shape"
      ],
      "metadata": {
        "id": "unBsJGfXnIjj"
      },
      "execution_count": 51,
      "outputs": []
    },
    {
      "cell_type": "code",
      "source": [
        "# Y.shape"
      ],
      "metadata": {
        "id": "yz97mLkRnN6B"
      },
      "execution_count": 52,
      "outputs": []
    },
    {
      "cell_type": "code",
      "source": [
        "# features = ['Age',\t'Sex',\t'Height (in)'\t,'Weight (lb)','BMI>30',\n",
        "#                   'Neck>17','Airway MF','MF >2','BAN','AHI']\n",
        "# x_data = df[features]\n",
        "# y      = df['OSA']\n",
        "\n",
        "# # Normalize data\n",
        "# x = (x_data - np.min(x_data))/(np.max(x_data) - np.min(x_data)).values"
      ],
      "metadata": {
        "id": "emRSpMMEhG7H"
      },
      "execution_count": 53,
      "outputs": []
    },
    {
      "cell_type": "code",
      "source": [
        "X"
      ],
      "metadata": {
        "colab": {
          "base_uri": "https://localhost:8080/"
        },
        "id": "zjD2OqY8cVVg",
        "outputId": "b0ceb705-3289-436e-f227-79503193be52"
      },
      "execution_count": 54,
      "outputs": [
        {
          "output_type": "execute_result",
          "data": {
            "text/plain": [
              "array([[-0.56544926, -0.64908256, -0.2938948 , ..., -0.0562853 ,\n",
              "        -0.32904848, -0.07097072],\n",
              "       [ 0.11575699,  0.71450797,  1.33733653, ..., -0.0562853 ,\n",
              "         0.03067224, -0.07097072],\n",
              "       [-0.56544926, -0.64908256, -0.2938948 , ..., -0.0562853 ,\n",
              "        -0.32904848, -0.07097072],\n",
              "       ...,\n",
              "       [-0.56544926, -0.64908256, -0.2938948 , ..., -0.0562853 ,\n",
              "        -0.32904848, -0.07097072],\n",
              "       [-0.3951477 ,  0.0851585 , -0.2938948 , ..., -0.0562853 ,\n",
              "         0.03067224, -0.07097072],\n",
              "       [ 1.30786793,  1.86831533, -0.0102024 , ..., -0.0562853 ,\n",
              "        -0.32904848, -0.07097072]])"
            ]
          },
          "metadata": {},
          "execution_count": 54
        }
      ]
    },
    {
      "cell_type": "markdown",
      "source": [
        "## Correlation between different variables"
      ],
      "metadata": {
        "id": "QItnlTdajTli"
      }
    },
    {
      "cell_type": "code",
      "source": [
        "# # Correlation heatmap with mask for upper traingle\n",
        "# # Correlation between different variables\n",
        "# corr = df.corr()\n",
        "# # Set up the matplotlib plot configuration\n",
        "# f, ax = plt.subplots(figsize=(10, 6))\n",
        "# # Generate a mask for upper traingle\n",
        "# mask = np.triu(np.ones_like(corr, dtype=bool))\n",
        "# # Configure a custom diverging colormap\n",
        "# cmap = sns.diverging_palette(230, 20, as_cmap=True)\n",
        "# # Draw the heatmap\n",
        "# sns.heatmap(corr, annot=True, mask = mask, cmap=cmap)\n",
        "# plt.savefig('Heatmap.png')\n"
      ],
      "metadata": {
        "id": "btTopPVJjUjr"
      },
      "execution_count": 55,
      "outputs": []
    },
    {
      "cell_type": "markdown",
      "source": [
        "## Class distribution in Spam dataset"
      ],
      "metadata": {
        "id": "Mdu7t2hujfLz"
      }
    },
    {
      "cell_type": "code",
      "source": [
        "# fig, axs = plt.subplots(figsize=(10, 4), tight_layout=True)\n",
        "# sns.boxplot(data=df)\n",
        "# plt.show()\n",
        "\n",
        "# sns.pairplot(df, vars=[\"age\",\"income\",\"tenure\",\"Class\"])\n",
        "# plt.grid()\n",
        "# plt.savefig('Correction with Class Satisfication.png')\n",
        "# plt.show()"
      ],
      "metadata": {
        "id": "Rg70E88Sjf6z"
      },
      "execution_count": 56,
      "outputs": []
    },
    {
      "cell_type": "markdown",
      "source": [
        "# Preparing data for machine learning"
      ],
      "metadata": {
        "id": "2xZAwB-bj_VT"
      }
    },
    {
      "cell_type": "code",
      "source": [
        "x_train, x_test, y_train, y_test = train_test_split(X,Y,test_size = 0.25,random_state=42)"
      ],
      "metadata": {
        "id": "23DauDz0kFy5"
      },
      "execution_count": 57,
      "outputs": []
    },
    {
      "cell_type": "code",
      "source": [
        "def calculate_confusion(name,y_train, y_pred_train, y_test, y_pred_test):\n",
        "  \n",
        "  # Making the Confusion Matrix\n",
        "  # from sklearn.metrics import confusion_matrix\n",
        "  # from sklearn.metrics import plot_confusion_matrix\n",
        "  \n",
        "  cm1   = confusion_matrix(y_train, y_pred_train)\n",
        "  cm2  = confusion_matrix(y_test, y_pred_test)\n",
        "\n",
        "  test_calc = pd.concat([pd.DataFrame(y_train).reset_index(drop=True),pd.DataFrame(y_pred_train).reset_index(drop=True)],axis=1)\n",
        "  test_calc.rename(columns={0: 'predicted'}, inplace=True)\n",
        "\n",
        "  Accuracy1  = (cm1[0,0] + cm1[1,1]) / (cm1[0,0] + cm1[0,1] + cm1[1,0] + cm1[1,1])\n",
        "  precision1  = cm1[1,1] / (cm1[1,1] + cm1[0,1])\n",
        "  recall1        = cm1[1,1] / (cm1[1,1] + cm1[1,0])\n",
        "\n",
        "  print('Performance Criteria in Training Case for %s' %name)\n",
        "  print('Accuracy  %.3f' %Accuracy1)\n",
        "  print ('precision %.3f' % precision1)\n",
        "  print('recall %.3f' % recall1)\n",
        "\n",
        "  #########################################\n",
        "  test_calc = pd.concat([pd.DataFrame(y_train).reset_index(drop=True),pd.DataFrame(y_pred_train).reset_index(drop=True)],axis=1)\n",
        "  test_calc.rename(columns={0: 'predicted'}, inplace=True)\n",
        "\n",
        "  Accuracy2 = (cm2[0,0] + cm2[1,1]) / (cm2[0,0] + cm2[0,1] + cm2[1,0] + cm2[1,1])\n",
        "  precision2 = cm2[1,1] / (cm2[1,1] + cm2[0,1])\n",
        "  recall2       = cm2[1,1] / (cm2[1,1] + cm2[1,0])\n",
        "\n",
        "  print('====================')\n",
        "  print('Performance Criteria in Testing Case for %s' %name)\n",
        "  print('Accuracy  %.3f' %Accuracy2)\n",
        "  print ('precision %.3f' % precision2)\n",
        "  print('recall %.3f' % recall2)\n",
        "\n",
        "  cm_train = pd.DataFrame(cm1, range(2), range(2))\n",
        "  cm_test  = pd.DataFrame(cm2, range(2), range(2))\n",
        "\n",
        "  f,(ax1,ax2) = plt.subplots(1,2,figsize=(7, 3), sharey=True)\n",
        "  g1 = sns.heatmap(cm_train,cbar=False,ax=ax1,annot=True, fmt=\".1f\",cmap=\"viridis\",annot_kws={\"size\": 15})\n",
        "  g1.set_title('Training case',fontname= 'serif',fontsize=10, color='k')\n",
        "  g2 = sns.heatmap(cm_test,cbar=False,ax=ax2,annot=True, fmt=\".1f\",cmap=\"viridis\",annot_kws={\"size\": 15})\n",
        "  g2.set_title('Testing case', fontname= 'serif',fontsize=10, color='k')\n",
        "  f.suptitle(' Confusion matrix for '+name, fontsize=11)\n",
        "  plt.savefig(name + \".png\")\n",
        "  plt.show()"
      ],
      "metadata": {
        "id": "gdENUz6ElyMr"
      },
      "execution_count": 58,
      "outputs": []
    },
    {
      "cell_type": "code",
      "source": [
        "!conda update -c conda-forge scikit-learn"
      ],
      "metadata": {
        "colab": {
          "base_uri": "https://localhost:8080/"
        },
        "id": "jIzuLgpyYVZk",
        "outputId": "debcdee1-bbe5-4723-e2b0-a189a5799b74"
      },
      "execution_count": 59,
      "outputs": [
        {
          "output_type": "stream",
          "name": "stdout",
          "text": [
            "/bin/bash: conda: command not found\n"
          ]
        }
      ]
    },
    {
      "cell_type": "code",
      "source": [
        "# function for plotting learning curve\n",
        "from sklearn.model_selection import learning_curve\n",
        "import plotly.graph_objects as go\n",
        "import numpy as np\n",
        "\n",
        "def plot_learning_curves(estimator, X, y, cv):\n",
        "    \"\"\"\n",
        "    Don't forget to change the scoring and plot labels\n",
        "    based on the metric that you are using.\n",
        "    \"\"\"\n",
        "\n",
        "    train_sizes, train_scores, test_scores = learning_curve(\n",
        "        estimator=estimator,\n",
        "        X=X,\n",
        "        y=y,\n",
        "        train_sizes=np.linspace(0.1, 1.0, 10),\n",
        "        cv=cv,\n",
        "        scoring=\"accuracy\",\n",
        "        random_state=42\n",
        "    )\n",
        "    train_mean = np.mean(train_scores, axis=1)\n",
        "    test_mean  = np.mean(test_scores, axis=1)\n",
        "\n",
        "    fig = go.Figure()\n",
        "\n",
        "    fig.add_trace(\n",
        "        go.Scatter(\n",
        "            x=train_sizes,\n",
        "            y=train_mean,\n",
        "            name=\"Training Accuracy\",\n",
        "            mode=\"lines\",\n",
        "            line=dict(color=\"blue\"),\n",
        "        )\n",
        "    )\n",
        "\n",
        "    fig.add_trace(\n",
        "        go.Scatter(\n",
        "            x=train_sizes,\n",
        "            y=test_mean,\n",
        "            name=\"Validation Accuracy\",\n",
        "            mode=\"lines\",\n",
        "            line=dict(color=\"green\"),\n",
        "        )\n",
        "    )\n",
        "\n",
        "    fig.update_layout(\n",
        "        title=\"Learning Curves\",\n",
        "        xaxis_title=\"Number of training examples\",\n",
        "        yaxis_title=\"Accuracy\",\n",
        "    )\n",
        "\n",
        "    fig.show()\n",
        "    # plt.show()   # Display"
      ],
      "metadata": {
        "id": "IDRtgUwAQodD"
      },
      "execution_count": 60,
      "outputs": []
    },
    {
      "cell_type": "code",
      "source": [
        "#set up plotting area\n",
        "from matplotlib.pyplot import figure\n",
        "from sklearn import metrics\n",
        "from sklearn.metrics import confusion_matrix\n",
        "from sklearn.metrics import roc_curve, roc_auc_score\n",
        "\n",
        "# We now prepare our selected models\n",
        "models  = []\n",
        "results   = []\n",
        "names   = []\n",
        "scoring  = 'accuracy'\n",
        "names   = ['LRC', 'SVC', 'GBC', 'GNB', 'RFC', 'KNC']\n",
        "\n",
        "#LogisticRegression ####################################\n",
        "from sklearn.linear_model import LogisticRegression\n",
        "lr = LogisticRegression(solver='liblinear', max_iter=20)\n",
        "lr.fit(x_train, y_train)\n",
        "y_pred_train = lr.predict(x_train)\n",
        "y_pred_test  = lr.predict(x_test)\n",
        "calculate_confusion(\"LR\",y_train, y_pred_train, y_test, y_pred_test)\n",
        "fpr1, tpr1, _ = metrics.roc_curve(y_test, y_pred_test)\n",
        "auc = round(metrics.roc_auc_score(y_test, y_pred_test), 4)\n",
        "cv_results = cross_val_score(lr, x_train, y_train)\n",
        "results.append(cv_results)  "
      ],
      "metadata": {
        "colab": {
          "base_uri": "https://localhost:8080/",
          "height": 406
        },
        "id": "XjCSnIoViOul",
        "outputId": "8ab52f2b-3fd6-44a0-e4bf-a441a8741948"
      },
      "execution_count": 61,
      "outputs": [
        {
          "output_type": "stream",
          "name": "stdout",
          "text": [
            "Performance Criteria in Training Case for LR\n",
            "Accuracy  1.000\n",
            "precision 0.999\n",
            "recall 1.000\n",
            "====================\n",
            "Performance Criteria in Testing Case for LR\n",
            "Accuracy  0.955\n",
            "precision 0.873\n",
            "recall 0.992\n"
          ]
        },
        {
          "output_type": "display_data",
          "data": {
            "text/plain": [
              "<Figure size 504x216 with 2 Axes>"
            ],
            "image/png": "[encoded data removed]"
          },
          "metadata": {}
        }
      ]
    },
    {
      "cell_type": "code",
      "source": [
        "# plot_learning_curves(LR, x_train, y_train, cv=5)\n",
        "# plt.savefig('LR_Curve.png')"
      ],
      "metadata": {
        "id": "l4Xwx6zfWsQK"
      },
      "execution_count": 62,
      "outputs": []
    },
    {
      "cell_type": "code",
      "source": [
        "#SVM ####################################\n",
        "from sklearn.svm import SVC\n",
        "svm = SVC()\n",
        "svm.fit(x_train, y_train)\n",
        "y_pred_train = svm.predict(x_train)\n",
        "y_pred_test  = svm.predict(x_test)\n",
        "calculate_confusion(\"SVM\",y_train, y_pred_train, y_test, y_pred_test)\n",
        "fpr2, tpr2, _ = metrics.roc_curve(y_test, y_pred_test)\n",
        "auc = round(metrics.roc_auc_score(y_test, y_pred_test), 4)\n",
        "cv_results = cross_val_score(svm, x_train, y_train)\n",
        "results.append(cv_results)"
      ],
      "metadata": {
        "colab": {
          "base_uri": "https://localhost:8080/",
          "height": 406
        },
        "id": "GF3yuI06iz3t",
        "outputId": "198b1988-5420-4f45-e0e1-ca0177975393"
      },
      "execution_count": 63,
      "outputs": [
        {
          "output_type": "stream",
          "name": "stdout",
          "text": [
            "Performance Criteria in Training Case for SVM\n",
            "Accuracy  0.969\n",
            "precision 0.996\n",
            "recall 0.895\n",
            "====================\n",
            "Performance Criteria in Testing Case for SVM\n",
            "Accuracy  0.937\n",
            "precision 0.990\n",
            "recall 0.795\n"
          ]
        },
        {
          "output_type": "display_data",
          "data": {
            "text/plain": [
              "<Figure size 504x216 with 2 Axes>"
            ],
            "image/png": "[encoded data removed]"
          },
          "metadata": {}
        }
      ]
    },
    {
      "cell_type": "code",
      "source": [],
      "metadata": {
        "id": "v-dQc6P_Wt15"
      },
      "execution_count": 63,
      "outputs": []
    },
    {
      "cell_type": "code",
      "source": [
        "#GradientBoostingClassifier\n",
        "from sklearn.ensemble import GradientBoostingClassifier\n",
        "GBC = GradientBoostingClassifier()\n",
        "GBC.fit(x_train, y_train)\n",
        "y_pred_train = GBC.predict(x_train)\n",
        "y_pred_test  = GBC.predict(x_test)\n",
        "calculate_confusion(\"GBC\",y_train, y_pred_train, y_test, y_pred_test)\n",
        "fpr3, tpr3, _ = metrics.roc_curve(y_test, y_pred_test)\n",
        "auc = round(metrics.roc_auc_score(y_test, y_pred_test), 4)\n",
        "cv_results = cross_val_score(GBC, x_train, y_train)\n",
        "results.append(cv_results)"
      ],
      "metadata": {
        "colab": {
          "base_uri": "https://localhost:8080/",
          "height": 406
        },
        "id": "MwwZrX6qi6CN",
        "outputId": "b5ec33f3-d2c0-45c8-e91f-1d4c1b07f029"
      },
      "execution_count": 64,
      "outputs": [
        {
          "output_type": "stream",
          "name": "stdout",
          "text": [
            "Performance Criteria in Training Case for GBC\n",
            "Accuracy  0.982\n",
            "precision 0.979\n",
            "recall 0.957\n",
            "====================\n",
            "Performance Criteria in Testing Case for GBC\n",
            "Accuracy  0.968\n",
            "precision 0.938\n",
            "recall 0.953\n"
          ]
        },
        {
          "output_type": "display_data",
          "data": {
            "text/plain": [
              "<Figure size 504x216 with 2 Axes>"
            ],
            "image/png": "[encoded data removed]"
          },
          "metadata": {}
        }
      ]
    },
    {
      "cell_type": "code",
      "source": [
        "#GaussianNB\n",
        "from sklearn.naive_bayes import GaussianNB\n",
        "GNB = GaussianNB()\n",
        "GNB.fit(x_train, y_train)\n",
        "y_pred_train = GNB.predict(x_train)\n",
        "y_pred_test  = GNB.predict(x_test)\n",
        "calculate_confusion(\"GNB\",y_train, y_pred_train, y_test, y_pred_test)\n",
        "fpr4, tpr4, _ = metrics.roc_curve(y_test, y_pred_test)\n",
        "auc = round(metrics.roc_auc_score(y_test, y_pred_test), 4)\n",
        "cv_results = cross_val_score(GNB, x_train, y_train)\n",
        "results.append(cv_results)"
      ],
      "metadata": {
        "colab": {
          "base_uri": "https://localhost:8080/",
          "height": 406
        },
        "id": "tdYyIkUDi8iR",
        "outputId": "c8d5ca35-0c2d-41c5-cf2d-b52def012ba2"
      },
      "execution_count": 65,
      "outputs": [
        {
          "output_type": "stream",
          "name": "stdout",
          "text": [
            "Performance Criteria in Training Case for GNB\n",
            "Accuracy  0.951\n",
            "precision 0.854\n",
            "recall 1.000\n",
            "====================\n",
            "Performance Criteria in Testing Case for GNB\n",
            "Accuracy  0.929\n",
            "precision 0.830\n",
            "recall 0.953\n"
          ]
        },
        {
          "output_type": "display_data",
          "data": {
            "text/plain": [
              "<Figure size 504x216 with 2 Axes>"
            ],
            "image/png": "[encoded data removed]"
          },
          "metadata": {}
        }
      ]
    },
    {
      "cell_type": "code",
      "source": [
        "# KNN Model\n",
        "from sklearn.neighbors import KNeighborsClassifier\n",
        "KNC = KNeighborsClassifier()\n",
        "KNC.fit(x_train, y_train)\n",
        "y_pred_train = KNC.predict(x_train)\n",
        "y_pred_test  = KNC.predict(x_test)\n",
        "calculate_confusion(\"KNC\",y_train, y_pred_train, y_test, y_pred_test)\n",
        "fpr5, tpr5, _ = metrics.roc_curve(y_test, y_pred_test)\n",
        "auc = round(metrics.roc_auc_score(y_test, y_pred_test), 4)\n",
        "cv_results = cross_val_score(KNC, x_train, y_train)\n",
        "results.append(cv_results)"
      ],
      "metadata": {
        "colab": {
          "base_uri": "https://localhost:8080/",
          "height": 406
        },
        "id": "wgv2kjk6jBpY",
        "outputId": "c67b6cb3-31b4-460c-a56c-c6dcb8294d5d"
      },
      "execution_count": 66,
      "outputs": [
        {
          "output_type": "stream",
          "name": "stdout",
          "text": [
            "Performance Criteria in Training Case for KNC\n",
            "Accuracy  0.888\n",
            "precision 0.728\n",
            "recall 0.976\n",
            "====================\n",
            "Performance Criteria in Testing Case for KNC\n",
            "Accuracy  0.831\n",
            "precision 0.642\n",
            "recall 0.955\n"
          ]
        },
        {
          "output_type": "display_data",
          "data": {
            "text/plain": [
              "<Figure size 504x216 with 2 Axes>"
            ],
            "image/png": "[encoded data removed]"
          },
          "metadata": {}
        }
      ]
    },
    {
      "cell_type": "code",
      "source": [
        "# Decision Tree Model\n",
        "from sklearn import tree\n",
        "DT = tree.DecisionTreeClassifier(criterion='gini', splitter='best', max_depth=None)\n",
        "DT.fit(x_train, y_train)\n",
        "y_pred_train = DT.predict(x_train)\n",
        "y_pred_test  = DT.predict(x_test)\n",
        "calculate_confusion(\"DT\",y_train, y_pred_train, y_test, y_pred_test)\n",
        "fpr6, tpr6, _ = metrics.roc_curve(y_test, y_pred_test)\n",
        "auc = round(metrics.roc_auc_score(y_test, y_pred_test), 4)\n",
        "cv_results = cross_val_score(DT, x_train, y_train)\n",
        "results.append(cv_results)"
      ],
      "metadata": {
        "colab": {
          "base_uri": "https://localhost:8080/",
          "height": 406
        },
        "id": "VtfQhLBxjOcN",
        "outputId": "f2e88376-35ee-4930-8c39-554a997939de"
      },
      "execution_count": 67,
      "outputs": [
        {
          "output_type": "stream",
          "name": "stdout",
          "text": [
            "Performance Criteria in Training Case for DT\n",
            "Accuracy  1.000\n",
            "precision 1.000\n",
            "recall 1.000\n",
            "====================\n",
            "Performance Criteria in Testing Case for DT\n",
            "Accuracy  0.916\n",
            "precision 0.854\n",
            "recall 0.861\n"
          ]
        },
        {
          "output_type": "display_data",
          "data": {
            "text/plain": [
              "<Figure size 504x216 with 2 Axes>"
            ],
            "image/png": "[encoded data removed]"
          },
          "metadata": {}
        }
      ]
    },
    {
      "cell_type": "code",
      "source": [
        "# fig = plt.figure(figsize=(25,20))\n",
        "# _ = tree.plot_tree(DT, filled=True)\n",
        "# fig.savefig(\"decistion_tree.png\")"
      ],
      "metadata": {
        "id": "eHL6mtvvYSJH"
      },
      "execution_count": 68,
      "outputs": []
    },
    {
      "cell_type": "code",
      "source": [
        "# import graphviz\n",
        "# # DOT data\n",
        "# dot_data = tree.export_graphviz(DT, out_file=None, filled=True)\n",
        "# # Draw graph\n",
        "# graph = graphviz.Source(dot_data, format=\"png\") \n",
        "# graph\n"
      ],
      "metadata": {
        "id": "BSlg6h0jZne_"
      },
      "execution_count": 69,
      "outputs": []
    },
    {
      "cell_type": "code",
      "source": [
        "#RandomForestClassifier\n",
        "from sklearn.ensemble import RandomForestClassifier\n",
        "RFC = RandomForestClassifier(n_estimators=100, criterion='gini', max_depth=None)\n",
        "RFC.fit(x_train, y_train)\n",
        "y_pred_train = RFC.predict(x_train)\n",
        "y_pred_test  = RFC.predict(x_test)\n",
        "calculate_confusion(\"RFC\",y_train, y_pred_train, y_test, y_pred_test)\n",
        "fpr7, tpr7, _ = metrics.roc_curve(y_test, y_pred_test)\n",
        "auc = round(metrics.roc_auc_score(y_test, y_pred_test), 4)\n",
        "cv_results = cross_val_score(RFC, x_train, y_train)\n",
        "results.append(cv_results)"
      ],
      "metadata": {
        "colab": {
          "base_uri": "https://localhost:8080/",
          "height": 406
        },
        "id": "R3C9uzf7hY5e",
        "outputId": "d10f591e-94cc-4c6d-9226-26c79e94bb36"
      },
      "execution_count": 70,
      "outputs": [
        {
          "output_type": "stream",
          "name": "stdout",
          "text": [
            "Performance Criteria in Training Case for RFC\n",
            "Accuracy  1.000\n",
            "precision 1.000\n",
            "recall 1.000\n",
            "====================\n",
            "Performance Criteria in Testing Case for RFC\n",
            "Accuracy  0.974\n",
            "precision 0.960\n",
            "recall 0.953\n"
          ]
        },
        {
          "output_type": "display_data",
          "data": {
            "text/plain": [
              "<Figure size 504x216 with 2 Axes>"
            ],
            "image/png": "[encoded data removed]"
          },
          "metadata": {}
        }
      ]
    },
    {
      "cell_type": "code",
      "source": [
        "# plot_learning_curves(RFC, x_train, y_train, cv=5)"
      ],
      "metadata": {
        "id": "wZMDfm8RWzI6"
      },
      "execution_count": 71,
      "outputs": []
    },
    {
      "cell_type": "code",
      "source": [
        "#Artificial Neural Network\n",
        "from sklearn.neural_network import MLPClassifier\n",
        "ANN = MLPClassifier(solver='adam', max_iter= 500, alpha=1e-5,hidden_layer_sizes=(5, 2), random_state=1)\n",
        "ANN.fit(x_train, y_train)\n",
        "y_pred_train = ANN.predict(x_train)\n",
        "y_pred_test  = ANN.predict(x_test)\n",
        "calculate_confusion(\"ANN\",y_train, y_pred_train, y_test, y_pred_test)\n",
        "fpr8, tpr8, _ = metrics.roc_curve(y_test, y_pred_test)\n",
        "auc = round(metrics.roc_auc_score(y_test, y_pred_test), 4)\n",
        "cv_results = cross_val_score(ANN, x_train, y_train)\n",
        "results.append(cv_results)"
      ],
      "metadata": {
        "id": "qdjvGFCljT9H",
        "outputId": "40607a0b-f055-45d6-bff2-4342101879d4",
        "colab": {
          "base_uri": "https://localhost:8080/",
          "height": 406
        }
      },
      "execution_count": 72,
      "outputs": [
        {
          "output_type": "stream",
          "name": "stdout",
          "text": [
            "Performance Criteria in Training Case for ANN\n",
            "Accuracy  1.000\n",
            "precision 1.000\n",
            "recall 0.999\n",
            "====================\n",
            "Performance Criteria in Testing Case for ANN\n",
            "Accuracy  0.962\n",
            "precision 0.899\n",
            "recall 0.982\n"
          ]
        },
        {
          "output_type": "display_data",
          "data": {
            "text/plain": [
              "<Figure size 504x216 with 2 Axes>"
            ],
            "image/png": "[encoded data removed]"
          },
          "metadata": {}
        }
      ]
    },
    {
      "cell_type": "code",
      "source": [
        "# fig = plt.figure(figsize=(8,4))\n",
        "# plot_learning_curves(ANN, x_train, y_train, cv=5)\n",
        "# plt.savefig('ANN_Curve.png')"
      ],
      "metadata": {
        "id": "TZLUZSg8Qr7x"
      },
      "execution_count": 73,
      "outputs": []
    },
    {
      "cell_type": "code",
      "source": [
        "from sklearn.linear_model import LogisticRegression\n",
        "from sklearn.ensemble import GradientBoostingClassifier\n",
        "from sklearn import metrics\n",
        "import matplotlib.pyplot as plt\n",
        "\n",
        "fig = plt.figure(figsize=(8,6))\n",
        "\n",
        "# Add the models to the list that you want to view on the ROC plot\n",
        "models = [\n",
        "{\n",
        "    'label': 'Logistic Regression',\n",
        "    'model':  LogisticRegression(),\n",
        "},\n",
        "{\n",
        "    'label': 'SVM',\n",
        "    'model':  SVC(gamma='auto', probability=True),\n",
        "},\n",
        "{\n",
        "    'label': 'Gradient Boosting',\n",
        "    'model':  GradientBoostingClassifier(),\n",
        "},\n",
        "{\n",
        "    'label': 'GaussianNB',\n",
        "    'model':  GaussianNB(),\n",
        "},\n",
        "{\n",
        "    'label': 'KNeighborsClassifier',\n",
        "    'model':  KNeighborsClassifier(),\n",
        "},\n",
        "{\n",
        "    'label': 'DecisionTreeClassifier',\n",
        "    'model':  tree.DecisionTreeClassifier(),\n",
        "},\n",
        "{\n",
        "    'label': 'RandomForestClassifier',\n",
        "    'model':  RandomForestClassifier(),\n",
        "},\n",
        "{\n",
        "    'label': 'MLPClassifier',\n",
        "    'model':  MLPClassifier(solver='adam', max_iter= 500, alpha=1e-5,hidden_layer_sizes=(5, 2), random_state=1),\n",
        "}\n",
        "]\n",
        "\n",
        "# Below for loop iterates through your models list\n",
        "for m in models:\n",
        "    model = m['model'] # select the model\n",
        "    model.fit(x_train, y_train) # train the model\n",
        "    y_pred=model.predict(x_test) # predict the test data\n",
        "\n",
        "# Compute False postive rate, and True positive rate\n",
        "    fpr, tpr, thresholds = metrics.roc_curve(y_train, model.predict_proba(x_train)[:,1])\n",
        "\n",
        "# Calculate Area under the curve to display on the plot\n",
        "    auc = metrics.roc_auc_score(y_train,model.predict(x_train))\n",
        "    \n",
        "# Now, plot the computed values\n",
        "    plt.plot(fpr, tpr, label='%s ROC (area = %0.2f)' % (m['label'], auc))\n",
        "\n",
        "# Custom settings for the plot \n",
        "plt.plot([0, 1], [0, 1],'r--')\n",
        "plt.xlim([0.0, 1.0])\n",
        "plt.ylim([0.0, 1.05])\n",
        "plt.xlabel('Specificity(False Positive Rate)')\n",
        "plt.ylabel('Sensitivity(True Positive Rate)')\n",
        "plt.title('Receiver Operating Characteristic')\n",
        "plt.legend(loc=\"lower right\")\n",
        "plt.savefig('ROC_Curves.png')\n",
        "plt.show()   # Display\n"
      ],
      "metadata": {
        "id": "mozfIcEbJm0A",
        "outputId": "2f860bb6-30fb-4651-be4e-1db6fee468bd",
        "colab": {
          "base_uri": "https://localhost:8080/",
          "height": 559
        }
      },
      "execution_count": 74,
      "outputs": [
        {
          "output_type": "stream",
          "name": "stderr",
          "text": [
            "/usr/local/lib/python3.9/dist-packages/sklearn/linear_model/_logistic.py:458: ConvergenceWarning: lbfgs failed to converge (status=1):\n",
            "STOP: TOTAL NO. of ITERATIONS REACHED LIMIT.\n",
            "\n",
            "Increase the number of iterations (max_iter) or scale the data as shown in:\n",
            "    https://scikit-learn.org/stable/modules/preprocessing.html\n",
            "Please also refer to the documentation for alternative solver options:\n",
            "    https://scikit-learn.org/stable/modules/linear_model.html#logistic-regression\n",
            "  n_iter_i = _check_optimize_result(\n"
          ]
        },
        {
          "output_type": "display_data",
          "data": {
            "text/plain": [
              "<Figure size 576x432 with 1 Axes>"
            ],
            "image/png": "[encoded data removed]"
          },
          "metadata": {}
        }
      ]
    },
    {
      "cell_type": "code",
      "source": [
        "# Boxplot of the mean results of each supervised model for comparison \n",
        "names = ['LRC', 'SVC', 'GBC', 'GNB', 'KNC', 'DT','RFC', 'ANN']\n",
        "fig = plt.figure(figsize=(8,4))\n",
        "fig.suptitle('Model Comparison')\n",
        "ax = fig.add_subplot(111)\n",
        "plt.boxplot(results)\n",
        "ax.set_xticklabels(names)\n",
        "plt.grid()\n",
        "plt.savefig('BoxPlot_Curves.png')\n",
        "plt.show()"
      ],
      "metadata": {
        "id": "aNmQtpTwjApX",
        "outputId": "994715ce-512c-4ce9-dab8-67164e9e50b0",
        "colab": {
          "base_uri": "https://localhost:8080/",
          "height": 301
        }
      },
      "execution_count": 75,
      "outputs": [
        {
          "output_type": "display_data",
          "data": {
            "text/plain": [
              "<Figure size 576x288 with 1 Axes>"
            ],
            "image/png": "[encoded data removed]"
          },
          "metadata": {}
        }
      ]
    }
  ]
}