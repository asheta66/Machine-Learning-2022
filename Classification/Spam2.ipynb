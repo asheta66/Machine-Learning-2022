{
  "nbformat": 4,
  "nbformat_minor": 0,
  "metadata": {
    "colab": {
      "provenance": [],
      "authorship_tag": "ABX9TyPn3I/3SYz0PJ528FWTt9Zr",
      "include_colab_link": true
    },
    "kernelspec": {
      "name": "python3",
      "display_name": "Python 3"
    },
    "language_info": {
      "name": "python"
    }
  },
  "cells": [
    {
      "cell_type": "markdown",
      "metadata": {
        "id": "view-in-github",
        "colab_type": "text"
      },
      "source": [
        "<a href=\"https://colab.research.google.com/github/asheta66/Machine-Learning-2022/blob/main/Classification/Spam2.ipynb\" target=\"_parent\"><img src=\"https://colab.research.google.com/assets/colab-badge.svg\" alt=\"Open In Colab\"/></a>"
      ]
    },
    {
      "cell_type": "code",
      "execution_count": 129,
      "metadata": {
        "id": "e6mRzwKChEHE"
      },
      "outputs": [],
      "source": [
        "# Importing the libraries\n",
        "import math\n",
        "import numpy as np\n",
        "import pandas as pd\n",
        "\n",
        "import numpy as np\n",
        "import matplotlib.pyplot as plt\n",
        "import pandas as pd\n",
        "import seaborn as sns\n",
        "sns.set_style(\"whitegrid\")\n",
        "\n",
        "from sklearn.model_selection import train_test_split, KFold, cross_val_score\n",
        "from sklearn.linear_model import LogisticRegression\n",
        "from sklearn.svm import SVC\n",
        "from sklearn.ensemble import GradientBoostingClassifier\n",
        "from sklearn.naive_bayes import GaussianNB\n",
        "from sklearn.ensemble import RandomForestClassifier\n",
        "from sklearn.neighbors import KNeighborsClassifier\n",
        "from matplotlib import pyplot as plt\n"
      ]
    },
    {
      "cell_type": "markdown",
      "source": [
        "# Plot settings"
      ],
      "metadata": {
        "id": "Buxq-a1AiTwD"
      }
    },
    {
      "cell_type": "code",
      "source": [
        "plt.rcParams['axes.labelsize'] = 10\n",
        "plt.rcParams['xtick.labelsize'] = 10\n",
        "plt.rcParams['ytick.labelsize'] = 10\n",
        "plt.rcParams['legend.fontsize'] = 10\n",
        "plt.rcParams['figure.titlesize'] = 11\n",
        "plt.rcParams['xtick.major.size'] = 10\n",
        "plt.rcParams['xtick.major.width'] = 1\n",
        "plt.rcParams['ytick.major.size'] = 10\n",
        "plt.rcParams['ytick.major.width'] = 1\n",
        "plt.rcParams['xtick.minor.width'] = 1\n",
        "plt.rcParams['ytick.minor.size'] = 5\n",
        "plt.rcParams['ytick.minor.width'] = 1\n",
        "plt.rcParams['xtick.minor.size'] = 5\n",
        "plt.rcParams['figure.figsize'] = 7,4\n",
        "sns.set_style('ticks')"
      ],
      "metadata": {
        "id": "qMVXdT3wiLvb"
      },
      "execution_count": 130,
      "outputs": []
    },
    {
      "cell_type": "markdown",
      "source": [
        "# Reading the data\n",
        "\n"
      ],
      "metadata": {
        "id": "wYhqVAFmia0T"
      }
    },
    {
      "cell_type": "code",
      "source": [
        "# Importing the datasets\n",
        "df  = pd.read_csv('emails.csv')\n",
        "# y      = df.OSA.values\n",
        "# x_data = df.drop(['OSA'], axis = 1)"
      ],
      "metadata": {
        "id": "nlAAPqfXimI6"
      },
      "execution_count": 156,
      "outputs": []
    },
    {
      "cell_type": "markdown",
      "source": [
        "# Display the data"
      ],
      "metadata": {
        "id": "SlwgKvhai3Ii"
      }
    },
    {
      "cell_type": "code",
      "source": [
        "df.shape"
      ],
      "metadata": {
        "colab": {
          "base_uri": "https://localhost:8080/"
        },
        "id": "aKlQrzCojDrB",
        "outputId": "0ee99b66-0222-4aa8-aa32-a8706dcdf07e"
      },
      "execution_count": 157,
      "outputs": [
        {
          "output_type": "execute_result",
          "data": {
            "text/plain": [
              "(5172, 3002)"
            ]
          },
          "metadata": {},
          "execution_count": 157
        }
      ]
    },
    {
      "cell_type": "markdown",
      "source": [
        "**Data Visulatization**"
      ],
      "metadata": {
        "id": "GwM_YSLA1Tol"
      }
    },
    {
      "cell_type": "code",
      "source": [
        "# fig, (ax1, ax2,ax3) = plt.subplots(1,3)\n",
        "# fig.suptitle('Data Statistics')\n",
        "# ax1.plot(OSA, 'o-')\n",
        "# ax1.set_ylabel('Damped oscillation')\n",
        "# ax2.plot(x2, y2, '.-')\n",
        "# ax2.set_xlabel('time (s)')\n",
        "# ax2.set_ylabel('Undamped')\n",
        "# plt.show()\n",
        "\n",
        "# plt.subplot(13)\n",
        "# # equivalent but more general\n",
        "# ax1 = plt.subplot(2, 2, 1)\n",
        "# # add a subplot with no frame\n",
        "# ax2 = plt.subplot(222, frameon=False)\n",
        "# # add a polar subplot\n",
        "# plt.subplot(223, projection='polar')\n",
        "\n",
        "# fig, axes = plt.subplots(1,3,figsize=(7,5),sharey=True)\n",
        "# sns.countplot(ax=axes[0],data=df, x='Class')\n",
        "# sns.countplot(ax=axes[1],data=df, x='gender')\n",
        "# sns.countplot(ax=axes[2],data=df, x='retire')\n",
        "# plt.savefig('Statistics.png')\n"
      ],
      "metadata": {
        "id": "o1zcACsf1bid"
      },
      "execution_count": 133,
      "outputs": []
    },
    {
      "cell_type": "markdown",
      "source": [
        "# Drop unwanted data"
      ],
      "metadata": {
        "id": "th_Z44koiuiC"
      }
    },
    {
      "cell_type": "code",
      "source": [
        "# Drop the first column\n",
        "df = df.drop('Email No.', axis = 1)"
      ],
      "metadata": {
        "id": "MmnC1tQRcKBo"
      },
      "execution_count": 158,
      "outputs": []
    },
    {
      "cell_type": "code",
      "source": [
        "# Drop rows with any NaN values\n",
        "df = df.dropna()"
      ],
      "metadata": {
        "id": "qoslSB76mw5T"
      },
      "execution_count": 159,
      "outputs": []
    },
    {
      "cell_type": "code",
      "source": [
        "df.head()"
      ],
      "metadata": {
        "id": "Z4Dt3nFomCQ0",
        "outputId": "393b6701-ecbc-4984-86a8-2fe823bbafdd",
        "colab": {
          "base_uri": "https://localhost:8080/",
          "height": 235
        }
      },
      "execution_count": 160,
      "outputs": [
        {
          "output_type": "execute_result",
          "data": {
            "text/plain": [
              "   the  to  ect  and  for  of    a  you  hou  in  ...  connevey  jay  valued  \\\n",
              "0    0   0    1    0    0   0    2    0    0   0  ...         0    0       0   \n",
              "1    8  13   24    6    6   2  102    1   27  18  ...         0    0       0   \n",
              "2    0   0    1    0    0   0    8    0    0   4  ...         0    0       0   \n",
              "3    0   5   22    0    5   1   51    2   10   1  ...         0    0       0   \n",
              "4    7   6   17    1    5   2   57    0    9   3  ...         0    0       0   \n",
              "\n",
              "   lay  infrastructure  military  allowing  ff  dry  Class  \n",
              "0    0               0         0         0   0    0      0  \n",
              "1    0               0         0         0   1    0      0  \n",
              "2    0               0         0         0   0    0      0  \n",
              "3    0               0         0         0   0    0      0  \n",
              "4    0               0         0         0   1    0      0  \n",
              "\n",
              "[5 rows x 3001 columns]"
            ],
            "text/html": [
              "\n",
              "  <div id=\"df-41771a8f-eb04-4676-85c1-1644eaf479dc\">\n",
              "    <div class=\"colab-df-container\">\n",
              "      <div>\n",
              "<style scoped>\n",
              "    .dataframe tbody tr th:only-of-type {\n",
              "        vertical-align: middle;\n",
              "    }\n",
              "\n",
              "    .dataframe tbody tr th {\n",
              "        vertical-align: top;\n",
              "    }\n",
              "\n",
              "    .dataframe thead th {\n",
              "        text-align: right;\n",
              "    }\n",
              "</style>\n",
              "<table border=\"1\" class=\"dataframe\">\n",
              "  <thead>\n",
              "    <tr style=\"text-align: right;\">\n",
              "      <th></th>\n",
              "      <th>the</th>\n",
              "      <th>to</th>\n",
              "      <th>ect</th>\n",
              "      <th>and</th>\n",
              "      <th>for</th>\n",
              "      <th>of</th>\n",
              "      <th>a</th>\n",
              "      <th>you</th>\n",
              "      <th>hou</th>\n",
              "      <th>in</th>\n",
              "      <th>...</th>\n",
              "      <th>connevey</th>\n",
              "      <th>jay</th>\n",
              "      <th>valued</th>\n",
              "      <th>lay</th>\n",
              "      <th>infrastructure</th>\n",
              "      <th>military</th>\n",
              "      <th>allowing</th>\n",
              "      <th>ff</th>\n",
              "      <th>dry</th>\n",
              "      <th>Class</th>\n",
              "    </tr>\n",
              "  </thead>\n",
              "  <tbody>\n",
              "    <tr>\n",
              "      <th>0</th>\n",
              "      <td>0</td>\n",
              "      <td>0</td>\n",
              "      <td>1</td>\n",
              "      <td>0</td>\n",
              "      <td>0</td>\n",
              "      <td>0</td>\n",
              "      <td>2</td>\n",
              "      <td>0</td>\n",
              "      <td>0</td>\n",
              "      <td>0</td>\n",
              "      <td>...</td>\n",
              "      <td>0</td>\n",
              "      <td>0</td>\n",
              "      <td>0</td>\n",
              "      <td>0</td>\n",
              "      <td>0</td>\n",
              "      <td>0</td>\n",
              "      <td>0</td>\n",
              "      <td>0</td>\n",
              "      <td>0</td>\n",
              "      <td>0</td>\n",
              "    </tr>\n",
              "    <tr>\n",
              "      <th>1</th>\n",
              "      <td>8</td>\n",
              "      <td>13</td>\n",
              "      <td>24</td>\n",
              "      <td>6</td>\n",
              "      <td>6</td>\n",
              "      <td>2</td>\n",
              "      <td>102</td>\n",
              "      <td>1</td>\n",
              "      <td>27</td>\n",
              "      <td>18</td>\n",
              "      <td>...</td>\n",
              "      <td>0</td>\n",
              "      <td>0</td>\n",
              "      <td>0</td>\n",
              "      <td>0</td>\n",
              "      <td>0</td>\n",
              "      <td>0</td>\n",
              "      <td>0</td>\n",
              "      <td>1</td>\n",
              "      <td>0</td>\n",
              "      <td>0</td>\n",
              "    </tr>\n",
              "    <tr>\n",
              "      <th>2</th>\n",
              "      <td>0</td>\n",
              "      <td>0</td>\n",
              "      <td>1</td>\n",
              "      <td>0</td>\n",
              "      <td>0</td>\n",
              "      <td>0</td>\n",
              "      <td>8</td>\n",
              "      <td>0</td>\n",
              "      <td>0</td>\n",
              "      <td>4</td>\n",
              "      <td>...</td>\n",
              "      <td>0</td>\n",
              "      <td>0</td>\n",
              "      <td>0</td>\n",
              "      <td>0</td>\n",
              "      <td>0</td>\n",
              "      <td>0</td>\n",
              "      <td>0</td>\n",
              "      <td>0</td>\n",
              "      <td>0</td>\n",
              "      <td>0</td>\n",
              "    </tr>\n",
              "    <tr>\n",
              "      <th>3</th>\n",
              "      <td>0</td>\n",
              "      <td>5</td>\n",
              "      <td>22</td>\n",
              "      <td>0</td>\n",
              "      <td>5</td>\n",
              "      <td>1</td>\n",
              "      <td>51</td>\n",
              "      <td>2</td>\n",
              "      <td>10</td>\n",
              "      <td>1</td>\n",
              "      <td>...</td>\n",
              "      <td>0</td>\n",
              "      <td>0</td>\n",
              "      <td>0</td>\n",
              "      <td>0</td>\n",
              "      <td>0</td>\n",
              "      <td>0</td>\n",
              "      <td>0</td>\n",
              "      <td>0</td>\n",
              "      <td>0</td>\n",
              "      <td>0</td>\n",
              "    </tr>\n",
              "    <tr>\n",
              "      <th>4</th>\n",
              "      <td>7</td>\n",
              "      <td>6</td>\n",
              "      <td>17</td>\n",
              "      <td>1</td>\n",
              "      <td>5</td>\n",
              "      <td>2</td>\n",
              "      <td>57</td>\n",
              "      <td>0</td>\n",
              "      <td>9</td>\n",
              "      <td>3</td>\n",
              "      <td>...</td>\n",
              "      <td>0</td>\n",
              "      <td>0</td>\n",
              "      <td>0</td>\n",
              "      <td>0</td>\n",
              "      <td>0</td>\n",
              "      <td>0</td>\n",
              "      <td>0</td>\n",
              "      <td>1</td>\n",
              "      <td>0</td>\n",
              "      <td>0</td>\n",
              "    </tr>\n",
              "  </tbody>\n",
              "</table>\n",
              "<p>5 rows × 3001 columns</p>\n",
              "</div>\n",
              "      <button class=\"colab-df-convert\" onclick=\"convertToInteractive('df-41771a8f-eb04-4676-85c1-1644eaf479dc')\"\n",
              "              title=\"Convert this dataframe to an interactive table.\"\n",
              "              style=\"display:none;\">\n",
              "        \n",
              "  <svg xmlns=\"http://www.w3.org/2000/svg\" height=\"24px\"viewBox=\"0 0 24 24\"\n",
              "       width=\"24px\">\n",
              "    <path d=\"M0 0h24v24H0V0z\" fill=\"none\"/>\n",
              "    <path d=\"M18.56 5.44l.94 2.06.94-2.06 2.06-.94-2.06-.94-.94-2.06-.94 2.06-2.06.94zm-11 1L8.5 8.5l.94-2.06 2.06-.94-2.06-.94L8.5 2.5l-.94 2.06-2.06.94zm10 10l.94 2.06.94-2.06 2.06-.94-2.06-.94-.94-2.06-.94 2.06-2.06.94z\"/><path d=\"M17.41 7.96l-1.37-1.37c-.4-.4-.92-.59-1.43-.59-.52 0-1.04.2-1.43.59L10.3 9.45l-7.72 7.72c-.78.78-.78 2.05 0 2.83L4 21.41c.39.39.9.59 1.41.59.51 0 1.02-.2 1.41-.59l7.78-7.78 2.81-2.81c.8-.78.8-2.07 0-2.86zM5.41 20L4 18.59l7.72-7.72 1.47 1.35L5.41 20z\"/>\n",
              "  </svg>\n",
              "      </button>\n",
              "      \n",
              "  <style>\n",
              "    .colab-df-container {\n",
              "      display:flex;\n",
              "      flex-wrap:wrap;\n",
              "      gap: 12px;\n",
              "    }\n",
              "\n",
              "    .colab-df-convert {\n",
              "      background-color: #E8F0FE;\n",
              "      border: none;\n",
              "      border-radius: 50%;\n",
              "      cursor: pointer;\n",
              "      display: none;\n",
              "      fill: #1967D2;\n",
              "      height: 32px;\n",
              "      padding: 0 0 0 0;\n",
              "      width: 32px;\n",
              "    }\n",
              "\n",
              "    .colab-df-convert:hover {\n",
              "      background-color: #E2EBFA;\n",
              "      box-shadow: 0px 1px 2px rgba(60, 64, 67, 0.3), 0px 1px 3px 1px rgba(60, 64, 67, 0.15);\n",
              "      fill: #174EA6;\n",
              "    }\n",
              "\n",
              "    [theme=dark] .colab-df-convert {\n",
              "      background-color: #3B4455;\n",
              "      fill: #D2E3FC;\n",
              "    }\n",
              "\n",
              "    [theme=dark] .colab-df-convert:hover {\n",
              "      background-color: #434B5C;\n",
              "      box-shadow: 0px 1px 3px 1px rgba(0, 0, 0, 0.15);\n",
              "      filter: drop-shadow(0px 1px 2px rgba(0, 0, 0, 0.3));\n",
              "      fill: #FFFFFF;\n",
              "    }\n",
              "  </style>\n",
              "\n",
              "      <script>\n",
              "        const buttonEl =\n",
              "          document.querySelector('#df-41771a8f-eb04-4676-85c1-1644eaf479dc button.colab-df-convert');\n",
              "        buttonEl.style.display =\n",
              "          google.colab.kernel.accessAllowed ? 'block' : 'none';\n",
              "\n",
              "        async function convertToInteractive(key) {\n",
              "          const element = document.querySelector('#df-41771a8f-eb04-4676-85c1-1644eaf479dc');\n",
              "          const dataTable =\n",
              "            await google.colab.kernel.invokeFunction('convertToInteractive',\n",
              "                                                     [key], {});\n",
              "          if (!dataTable) return;\n",
              "\n",
              "          const docLinkHtml = 'Like what you see? Visit the ' +\n",
              "            '<a target=\"_blank\" href=https://colab.research.google.com/notebooks/data_table.ipynb>data table notebook</a>'\n",
              "            + ' to learn more about interactive tables.';\n",
              "          element.innerHTML = '';\n",
              "          dataTable['output_type'] = 'display_data';\n",
              "          await google.colab.output.renderOutput(dataTable, element);\n",
              "          const docLink = document.createElement('div');\n",
              "          docLink.innerHTML = docLinkHtml;\n",
              "          element.appendChild(docLink);\n",
              "        }\n",
              "      </script>\n",
              "    </div>\n",
              "  </div>\n",
              "  "
            ]
          },
          "metadata": {},
          "execution_count": 160
        }
      ]
    },
    {
      "cell_type": "code",
      "source": [
        "df.sample(n = 10)"
      ],
      "metadata": {
        "colab": {
          "base_uri": "https://localhost:8080/",
          "height": 392
        },
        "id": "h6AQLPjHBj1n",
        "outputId": "716279b0-0cb9-4b86-dcdc-bb87a0076a5b"
      },
      "execution_count": 161,
      "outputs": [
        {
          "output_type": "execute_result",
          "data": {
            "text/plain": [
              "      the  to  ect  and  for  of    a  you  hou  in  ...  connevey  jay  \\\n",
              "2026    5   0    1    0    1   0   31    0    0  11  ...         0    0   \n",
              "890     1   6    5    2    2   4  141    1    1  24  ...         0    0   \n",
              "1499    8  11    6    4    4  30  115   12    0  16  ...         0    0   \n",
              "4720    0   0    1    0    0   0    5    0    0   0  ...         0    0   \n",
              "588     1   0    1    0    0   0    4    1    0   0  ...         0    0   \n",
              "2024    8   3    1    2    3   1   23    0    0   4  ...         0    0   \n",
              "1589   61  58  115   21   28  12  456    6   53  61  ...         0    0   \n",
              "4785    9  17    4    5    7   2   83    9    0  29  ...         0    0   \n",
              "3731    1   1    1    0    0   0    3    2    0   2  ...         0    0   \n",
              "3281    0   0    1    0    0   0    2    0    0   0  ...         0    0   \n",
              "\n",
              "      valued  lay  infrastructure  military  allowing  ff  dry  Class  \n",
              "2026       0    0               0         0         0   0    0      0  \n",
              "890        0    1               0         0         0   0    0      1  \n",
              "1499       0    0               0         0         0  12    0      1  \n",
              "4720       0    0               0         0         0   0    0      0  \n",
              "588        0    0               0         0         0   0    0      1  \n",
              "2024       0    0               0         0         0   0    0      0  \n",
              "1589       0    0               0         0         0   5    0      0  \n",
              "4785       0    0               0         0         0   0    0      0  \n",
              "3731       0    0               0         0         0   0    0      1  \n",
              "3281       0    0               0         0         0   0    0      0  \n",
              "\n",
              "[10 rows x 3001 columns]"
            ],
            "text/html": [
              "\n",
              "  <div id=\"df-4a7e8024-951e-4ce8-a607-2cf9ad85790c\">\n",
              "    <div class=\"colab-df-container\">\n",
              "      <div>\n",
              "<style scoped>\n",
              "    .dataframe tbody tr th:only-of-type {\n",
              "        vertical-align: middle;\n",
              "    }\n",
              "\n",
              "    .dataframe tbody tr th {\n",
              "        vertical-align: top;\n",
              "    }\n",
              "\n",
              "    .dataframe thead th {\n",
              "        text-align: right;\n",
              "    }\n",
              "</style>\n",
              "<table border=\"1\" class=\"dataframe\">\n",
              "  <thead>\n",
              "    <tr style=\"text-align: right;\">\n",
              "      <th></th>\n",
              "      <th>the</th>\n",
              "      <th>to</th>\n",
              "      <th>ect</th>\n",
              "      <th>and</th>\n",
              "      <th>for</th>\n",
              "      <th>of</th>\n",
              "      <th>a</th>\n",
              "      <th>you</th>\n",
              "      <th>hou</th>\n",
              "      <th>in</th>\n",
              "      <th>...</th>\n",
              "      <th>connevey</th>\n",
              "      <th>jay</th>\n",
              "      <th>valued</th>\n",
              "      <th>lay</th>\n",
              "      <th>infrastructure</th>\n",
              "      <th>military</th>\n",
              "      <th>allowing</th>\n",
              "      <th>ff</th>\n",
              "      <th>dry</th>\n",
              "      <th>Class</th>\n",
              "    </tr>\n",
              "  </thead>\n",
              "  <tbody>\n",
              "    <tr>\n",
              "      <th>2026</th>\n",
              "      <td>5</td>\n",
              "      <td>0</td>\n",
              "      <td>1</td>\n",
              "      <td>0</td>\n",
              "      <td>1</td>\n",
              "      <td>0</td>\n",
              "      <td>31</td>\n",
              "      <td>0</td>\n",
              "      <td>0</td>\n",
              "      <td>11</td>\n",
              "      <td>...</td>\n",
              "      <td>0</td>\n",
              "      <td>0</td>\n",
              "      <td>0</td>\n",
              "      <td>0</td>\n",
              "      <td>0</td>\n",
              "      <td>0</td>\n",
              "      <td>0</td>\n",
              "      <td>0</td>\n",
              "      <td>0</td>\n",
              "      <td>0</td>\n",
              "    </tr>\n",
              "    <tr>\n",
              "      <th>890</th>\n",
              "      <td>1</td>\n",
              "      <td>6</td>\n",
              "      <td>5</td>\n",
              "      <td>2</td>\n",
              "      <td>2</td>\n",
              "      <td>4</td>\n",
              "      <td>141</td>\n",
              "      <td>1</td>\n",
              "      <td>1</td>\n",
              "      <td>24</td>\n",
              "      <td>...</td>\n",
              "      <td>0</td>\n",
              "      <td>0</td>\n",
              "      <td>0</td>\n",
              "      <td>1</td>\n",
              "      <td>0</td>\n",
              "      <td>0</td>\n",
              "      <td>0</td>\n",
              "      <td>0</td>\n",
              "      <td>0</td>\n",
              "      <td>1</td>\n",
              "    </tr>\n",
              "    <tr>\n",
              "      <th>1499</th>\n",
              "      <td>8</td>\n",
              "      <td>11</td>\n",
              "      <td>6</td>\n",
              "      <td>4</td>\n",
              "      <td>4</td>\n",
              "      <td>30</td>\n",
              "      <td>115</td>\n",
              "      <td>12</td>\n",
              "      <td>0</td>\n",
              "      <td>16</td>\n",
              "      <td>...</td>\n",
              "      <td>0</td>\n",
              "      <td>0</td>\n",
              "      <td>0</td>\n",
              "      <td>0</td>\n",
              "      <td>0</td>\n",
              "      <td>0</td>\n",
              "      <td>0</td>\n",
              "      <td>12</td>\n",
              "      <td>0</td>\n",
              "      <td>1</td>\n",
              "    </tr>\n",
              "    <tr>\n",
              "      <th>4720</th>\n",
              "      <td>0</td>\n",
              "      <td>0</td>\n",
              "      <td>1</td>\n",
              "      <td>0</td>\n",
              "      <td>0</td>\n",
              "      <td>0</td>\n",
              "      <td>5</td>\n",
              "      <td>0</td>\n",
              "      <td>0</td>\n",
              "      <td>0</td>\n",
              "      <td>...</td>\n",
              "      <td>0</td>\n",
              "      <td>0</td>\n",
              "      <td>0</td>\n",
              "      <td>0</td>\n",
              "      <td>0</td>\n",
              "      <td>0</td>\n",
              "      <td>0</td>\n",
              "      <td>0</td>\n",
              "      <td>0</td>\n",
              "      <td>0</td>\n",
              "    </tr>\n",
              "    <tr>\n",
              "      <th>588</th>\n",
              "      <td>1</td>\n",
              "      <td>0</td>\n",
              "      <td>1</td>\n",
              "      <td>0</td>\n",
              "      <td>0</td>\n",
              "      <td>0</td>\n",
              "      <td>4</td>\n",
              "      <td>1</td>\n",
              "      <td>0</td>\n",
              "      <td>0</td>\n",
              "      <td>...</td>\n",
              "      <td>0</td>\n",
              "      <td>0</td>\n",
              "      <td>0</td>\n",
              "      <td>0</td>\n",
              "      <td>0</td>\n",
              "      <td>0</td>\n",
              "      <td>0</td>\n",
              "      <td>0</td>\n",
              "      <td>0</td>\n",
              "      <td>1</td>\n",
              "    </tr>\n",
              "    <tr>\n",
              "      <th>2024</th>\n",
              "      <td>8</td>\n",
              "      <td>3</td>\n",
              "      <td>1</td>\n",
              "      <td>2</td>\n",
              "      <td>3</td>\n",
              "      <td>1</td>\n",
              "      <td>23</td>\n",
              "      <td>0</td>\n",
              "      <td>0</td>\n",
              "      <td>4</td>\n",
              "      <td>...</td>\n",
              "      <td>0</td>\n",
              "      <td>0</td>\n",
              "      <td>0</td>\n",
              "      <td>0</td>\n",
              "      <td>0</td>\n",
              "      <td>0</td>\n",
              "      <td>0</td>\n",
              "      <td>0</td>\n",
              "      <td>0</td>\n",
              "      <td>0</td>\n",
              "    </tr>\n",
              "    <tr>\n",
              "      <th>1589</th>\n",
              "      <td>61</td>\n",
              "      <td>58</td>\n",
              "      <td>115</td>\n",
              "      <td>21</td>\n",
              "      <td>28</td>\n",
              "      <td>12</td>\n",
              "      <td>456</td>\n",
              "      <td>6</td>\n",
              "      <td>53</td>\n",
              "      <td>61</td>\n",
              "      <td>...</td>\n",
              "      <td>0</td>\n",
              "      <td>0</td>\n",
              "      <td>0</td>\n",
              "      <td>0</td>\n",
              "      <td>0</td>\n",
              "      <td>0</td>\n",
              "      <td>0</td>\n",
              "      <td>5</td>\n",
              "      <td>0</td>\n",
              "      <td>0</td>\n",
              "    </tr>\n",
              "    <tr>\n",
              "      <th>4785</th>\n",
              "      <td>9</td>\n",
              "      <td>17</td>\n",
              "      <td>4</td>\n",
              "      <td>5</td>\n",
              "      <td>7</td>\n",
              "      <td>2</td>\n",
              "      <td>83</td>\n",
              "      <td>9</td>\n",
              "      <td>0</td>\n",
              "      <td>29</td>\n",
              "      <td>...</td>\n",
              "      <td>0</td>\n",
              "      <td>0</td>\n",
              "      <td>0</td>\n",
              "      <td>0</td>\n",
              "      <td>0</td>\n",
              "      <td>0</td>\n",
              "      <td>0</td>\n",
              "      <td>0</td>\n",
              "      <td>0</td>\n",
              "      <td>0</td>\n",
              "    </tr>\n",
              "    <tr>\n",
              "      <th>3731</th>\n",
              "      <td>1</td>\n",
              "      <td>1</td>\n",
              "      <td>1</td>\n",
              "      <td>0</td>\n",
              "      <td>0</td>\n",
              "      <td>0</td>\n",
              "      <td>3</td>\n",
              "      <td>2</td>\n",
              "      <td>0</td>\n",
              "      <td>2</td>\n",
              "      <td>...</td>\n",
              "      <td>0</td>\n",
              "      <td>0</td>\n",
              "      <td>0</td>\n",
              "      <td>0</td>\n",
              "      <td>0</td>\n",
              "      <td>0</td>\n",
              "      <td>0</td>\n",
              "      <td>0</td>\n",
              "      <td>0</td>\n",
              "      <td>1</td>\n",
              "    </tr>\n",
              "    <tr>\n",
              "      <th>3281</th>\n",
              "      <td>0</td>\n",
              "      <td>0</td>\n",
              "      <td>1</td>\n",
              "      <td>0</td>\n",
              "      <td>0</td>\n",
              "      <td>0</td>\n",
              "      <td>2</td>\n",
              "      <td>0</td>\n",
              "      <td>0</td>\n",
              "      <td>0</td>\n",
              "      <td>...</td>\n",
              "      <td>0</td>\n",
              "      <td>0</td>\n",
              "      <td>0</td>\n",
              "      <td>0</td>\n",
              "      <td>0</td>\n",
              "      <td>0</td>\n",
              "      <td>0</td>\n",
              "      <td>0</td>\n",
              "      <td>0</td>\n",
              "      <td>0</td>\n",
              "    </tr>\n",
              "  </tbody>\n",
              "</table>\n",
              "<p>10 rows × 3001 columns</p>\n",
              "</div>\n",
              "      <button class=\"colab-df-convert\" onclick=\"convertToInteractive('df-4a7e8024-951e-4ce8-a607-2cf9ad85790c')\"\n",
              "              title=\"Convert this dataframe to an interactive table.\"\n",
              "              style=\"display:none;\">\n",
              "        \n",
              "  <svg xmlns=\"http://www.w3.org/2000/svg\" height=\"24px\"viewBox=\"0 0 24 24\"\n",
              "       width=\"24px\">\n",
              "    <path d=\"M0 0h24v24H0V0z\" fill=\"none\"/>\n",
              "    <path d=\"M18.56 5.44l.94 2.06.94-2.06 2.06-.94-2.06-.94-.94-2.06-.94 2.06-2.06.94zm-11 1L8.5 8.5l.94-2.06 2.06-.94-2.06-.94L8.5 2.5l-.94 2.06-2.06.94zm10 10l.94 2.06.94-2.06 2.06-.94-2.06-.94-.94-2.06-.94 2.06-2.06.94z\"/><path d=\"M17.41 7.96l-1.37-1.37c-.4-.4-.92-.59-1.43-.59-.52 0-1.04.2-1.43.59L10.3 9.45l-7.72 7.72c-.78.78-.78 2.05 0 2.83L4 21.41c.39.39.9.59 1.41.59.51 0 1.02-.2 1.41-.59l7.78-7.78 2.81-2.81c.8-.78.8-2.07 0-2.86zM5.41 20L4 18.59l7.72-7.72 1.47 1.35L5.41 20z\"/>\n",
              "  </svg>\n",
              "      </button>\n",
              "      \n",
              "  <style>\n",
              "    .colab-df-container {\n",
              "      display:flex;\n",
              "      flex-wrap:wrap;\n",
              "      gap: 12px;\n",
              "    }\n",
              "\n",
              "    .colab-df-convert {\n",
              "      background-color: #E8F0FE;\n",
              "      border: none;\n",
              "      border-radius: 50%;\n",
              "      cursor: pointer;\n",
              "      display: none;\n",
              "      fill: #1967D2;\n",
              "      height: 32px;\n",
              "      padding: 0 0 0 0;\n",
              "      width: 32px;\n",
              "    }\n",
              "\n",
              "    .colab-df-convert:hover {\n",
              "      background-color: #E2EBFA;\n",
              "      box-shadow: 0px 1px 2px rgba(60, 64, 67, 0.3), 0px 1px 3px 1px rgba(60, 64, 67, 0.15);\n",
              "      fill: #174EA6;\n",
              "    }\n",
              "\n",
              "    [theme=dark] .colab-df-convert {\n",
              "      background-color: #3B4455;\n",
              "      fill: #D2E3FC;\n",
              "    }\n",
              "\n",
              "    [theme=dark] .colab-df-convert:hover {\n",
              "      background-color: #434B5C;\n",
              "      box-shadow: 0px 1px 3px 1px rgba(0, 0, 0, 0.15);\n",
              "      filter: drop-shadow(0px 1px 2px rgba(0, 0, 0, 0.3));\n",
              "      fill: #FFFFFF;\n",
              "    }\n",
              "  </style>\n",
              "\n",
              "      <script>\n",
              "        const buttonEl =\n",
              "          document.querySelector('#df-4a7e8024-951e-4ce8-a607-2cf9ad85790c button.colab-df-convert');\n",
              "        buttonEl.style.display =\n",
              "          google.colab.kernel.accessAllowed ? 'block' : 'none';\n",
              "\n",
              "        async function convertToInteractive(key) {\n",
              "          const element = document.querySelector('#df-4a7e8024-951e-4ce8-a607-2cf9ad85790c');\n",
              "          const dataTable =\n",
              "            await google.colab.kernel.invokeFunction('convertToInteractive',\n",
              "                                                     [key], {});\n",
              "          if (!dataTable) return;\n",
              "\n",
              "          const docLinkHtml = 'Like what you see? Visit the ' +\n",
              "            '<a target=\"_blank\" href=https://colab.research.google.com/notebooks/data_table.ipynb>data table notebook</a>'\n",
              "            + ' to learn more about interactive tables.';\n",
              "          element.innerHTML = '';\n",
              "          dataTable['output_type'] = 'display_data';\n",
              "          await google.colab.output.renderOutput(dataTable, element);\n",
              "          const docLink = document.createElement('div');\n",
              "          docLink.innerHTML = docLinkHtml;\n",
              "          element.appendChild(docLink);\n",
              "        }\n",
              "      </script>\n",
              "    </div>\n",
              "  </div>\n",
              "  "
            ]
          },
          "metadata": {},
          "execution_count": 161
        }
      ]
    },
    {
      "cell_type": "code",
      "source": [
        "# Calculate the number of classes in the class\n",
        "sns.countplot(data=df, x='Class')\n",
        "plt.savefig('classes.png')"
      ],
      "metadata": {
        "colab": {
          "base_uri": "https://localhost:8080/",
          "height": 397
        },
        "id": "PTwXwIjic4MW",
        "outputId": "7528ca55-0ce8-4b6c-c475-db3e09016364"
      },
      "execution_count": 162,
      "outputs": [
        {
          "output_type": "display_data",
          "data": {
            "text/plain": [
              "<Figure size 700x400 with 1 Axes>"
            ],
            "image/png": "[encoded data removed]"
          },
          "metadata": {}
        }
      ]
    },
    {
      "cell_type": "code",
      "source": [
        "# from sklearn.preprocessing import StandardScaler\n",
        "\n",
        "# x_data = df.drop('Class', axis = 1)\n",
        "# y_data = df['Class']\n",
        "\n",
        "# y_data.value_counts()"
      ],
      "metadata": {
        "id": "b8tRyd6hrtII"
      },
      "execution_count": null,
      "outputs": []
    },
    {
      "cell_type": "code",
      "source": [
        "# y_data.value_counts().plot.pie(autopct='%.2f')\n",
        "# plt.savefig('classes.png')"
      ],
      "metadata": {
        "id": "YdT2fhOGoxLa"
      },
      "execution_count": null,
      "outputs": []
    },
    {
      "cell_type": "code",
      "source": [
        "# example of random undersampling to balance the class distribution\n",
        "from collections import Counter\n",
        "from sklearn.datasets import make_classification\n",
        "from imblearn.under_sampling import RandomUnderSampler\n",
        "from imblearn.over_sampling import RandomOverSampler\n",
        "\n",
        "# The class can be used just like the RandomOverSampler class in the \n",
        "# previous section, except the strategies impact the majority class \n",
        "# instead of the minority class. For example, setting the sampling_strategy \n",
        "# argument to “majority” will undersample the majority class determined \n",
        "# by the class with the largest number of examples.\n",
        "\n",
        "# define undersample strategy\n",
        "# undersample = RandomOverSampler(sampling_strategy='not majority')\n",
        "# x_over, y_over = undersample.fit_resample(x_data,y_data)"
      ],
      "metadata": {
        "id": "GJiDJDEkqTHL"
      },
      "execution_count": 141,
      "outputs": []
    },
    {
      "cell_type": "code",
      "source": [
        "# y_over.value_counts().plot.pie(autopct='%.2f')"
      ],
      "metadata": {
        "id": "w0HhWNiuq-5L"
      },
      "execution_count": 142,
      "outputs": []
    },
    {
      "cell_type": "code",
      "source": [
        "# x_over.shape"
      ],
      "metadata": {
        "id": "D-VLe_QzrNV7"
      },
      "execution_count": 143,
      "outputs": []
    },
    {
      "cell_type": "code",
      "source": [
        "# sc = StandardScaler()\n",
        "# X  = sc.fit_transform(x_over)\n",
        "# Y  = y_over"
      ],
      "metadata": {
        "id": "D-OT0vBym5SM"
      },
      "execution_count": 144,
      "outputs": []
    },
    {
      "cell_type": "code",
      "source": [
        "# X"
      ],
      "metadata": {
        "id": "zjD2OqY8cVVg"
      },
      "execution_count": 145,
      "outputs": []
    },
    {
      "cell_type": "markdown",
      "source": [
        "## Correlation between different variables"
      ],
      "metadata": {
        "id": "QItnlTdajTli"
      }
    },
    {
      "cell_type": "code",
      "source": [
        "# # Correlation heatmap with mask for upper traingle\n",
        "# # Correlation between different variables\n",
        "# corr = df.corr()\n",
        "# # Set up the matplotlib plot configuration\n",
        "# f, ax = plt.subplots(figsize=(10, 6))\n",
        "# # Generate a mask for upper traingle\n",
        "# mask = np.triu(np.ones_like(corr, dtype=bool))\n",
        "# # Configure a custom diverging colormap\n",
        "# cmap = sns.diverging_palette(230, 20, as_cmap=True)\n",
        "# # Draw the heatmap\n",
        "# sns.heatmap(corr, annot=True, mask = mask, cmap=cmap)\n",
        "# plt.savefig('Heatmap.png')\n"
      ],
      "metadata": {
        "id": "btTopPVJjUjr"
      },
      "execution_count": 146,
      "outputs": []
    },
    {
      "cell_type": "markdown",
      "source": [
        "## Class distribution in Spam dataset"
      ],
      "metadata": {
        "id": "Mdu7t2hujfLz"
      }
    },
    {
      "cell_type": "code",
      "source": [
        "# fig, axs = plt.subplots(figsize=(10, 4), tight_layout=True)\n",
        "# sns.boxplot(data=df)\n",
        "# plt.show()\n",
        "\n",
        "# sns.pairplot(df, vars=[\"age\",\"income\",\"tenure\",\"Class\"])\n",
        "# plt.grid()\n",
        "# plt.savefig('Correction with Class Satisfication.png')\n",
        "# plt.show()"
      ],
      "metadata": {
        "id": "Rg70E88Sjf6z"
      },
      "execution_count": 147,
      "outputs": []
    },
    {
      "cell_type": "markdown",
      "source": [
        "# Preparing data for machine learning"
      ],
      "metadata": {
        "id": "2xZAwB-bj_VT"
      }
    },
    {
      "cell_type": "code",
      "source": [
        "X_train, X_test, Y_train, Y_test = train_test_split(df.drop(['Class'], axis=1), \n",
        "                                                    df['Class'], \n",
        "                                                    test_size=0.3, \n",
        "                                                    random_state=42)"
      ],
      "metadata": {
        "id": "23DauDz0kFy5"
      },
      "execution_count": 148,
      "outputs": []
    },
    {
      "cell_type": "markdown",
      "source": [
        "**Feaature selection**"
      ],
      "metadata": {
        "id": "2lTEwq4Q_QEp"
      }
    },
    {
      "cell_type": "code",
      "source": [
        "# from sklearn.feature_selection import mutual_info_classif\n",
        "\n",
        "# mutual_info = mutual_info_classif(X_train, Y_train, random_state=42)\n",
        "# relevant_features = X_train.columns[mutual_info > 0.1]\n"
      ],
      "metadata": {
        "id": "VOzrxlDu_SEB"
      },
      "execution_count": 149,
      "outputs": []
    },
    {
      "cell_type": "code",
      "source": [
        "import pandas as pd\n",
        "from sklearn.model_selection import train_test_split\n",
        "from sklearn.linear_model import LogisticRegression\n",
        "from sklearn.feature_selection import SelectKBest, f_classif\n",
        "\n",
        "# Apply feature selection using SelectKBest and F-test\n",
        "selector = SelectKBest(f_classif, k=5)\n",
        "x_train = selector.fit_transform(X_train, Y_train)\n",
        "x_test = selector.transform(X_test)"
      ],
      "metadata": {
        "id": "9lFWsazaGdWz",
        "outputId": "f9f28cad-1fc8-4659-823d-88bcacace793",
        "colab": {
          "base_uri": "https://localhost:8080/"
        }
      },
      "execution_count": 150,
      "outputs": [
        {
          "output_type": "stream",
          "name": "stderr",
          "text": [
            "/usr/local/lib/python3.9/dist-packages/sklearn/feature_selection/_univariate_selection.py:112: UserWarning: Features [1211 1899 2517] are constant.\n",
            "  warnings.warn(\"Features %s are constant.\" % constant_features_idx, UserWarning)\n",
            "/usr/local/lib/python3.9/dist-packages/sklearn/feature_selection/_univariate_selection.py:113: RuntimeWarning: invalid value encountered in true_divide\n",
            "  f = msb / msw\n"
          ]
        }
      ]
    },
    {
      "cell_type": "code",
      "source": [
        "print(type(x_train)) "
      ],
      "metadata": {
        "id": "Kz_5N3ziB4dv",
        "outputId": "9ba1d0da-bcb2-4d9d-db6b-994e1ebf8c04",
        "colab": {
          "base_uri": "https://localhost:8080/"
        }
      },
      "execution_count": 151,
      "outputs": [
        {
          "output_type": "stream",
          "name": "stdout",
          "text": [
            "<class 'numpy.ndarray'>\n"
          ]
        }
      ]
    },
    {
      "cell_type": "code",
      "source": [
        "# x_train = X_train[relevant_features]\n",
        "# x_test  = X_test[relevant_features]\n",
        "\n",
        "# y_train = Y_train[relevant_features]\n",
        "# y_test  = Y_test[relevant_features]\n",
        "\n",
        "# # Train your classification model using the relevant features\n",
        "# x_train = np.array(x_train)\n",
        "# x_test = np.array(x_test)\n",
        "\n",
        "# y_train = np.array(y_train)\n",
        "# y_test = np.array(y_test)"
      ],
      "metadata": {
        "id": "JhWKxwXmAHFf"
      },
      "execution_count": 152,
      "outputs": []
    },
    {
      "cell_type": "code",
      "source": [
        "def calculate_confusion(name,y_train, y_pred_train, y_test, y_pred_test):\n",
        "  \n",
        "  # Making the Confusion Matrix\n",
        "  # from sklearn.metrics import confusion_matrix\n",
        "  # from sklearn.metrics import plot_confusion_matrix\n",
        "  \n",
        "  cm1   = confusion_matrix(y_train, y_pred_train)\n",
        "  cm2  = confusion_matrix(y_test, y_pred_test)\n",
        "\n",
        "  test_calc = pd.concat([pd.DataFrame(y_train).reset_index(drop=True),pd.DataFrame(y_pred_train).reset_index(drop=True)],axis=1)\n",
        "  test_calc.rename(columns={0: 'predicted'}, inplace=True)\n",
        "\n",
        "  Accuracy1  = (cm1[0,0] + cm1[1,1]) / (cm1[0,0] + cm1[0,1] + cm1[1,0] + cm1[1,1])\n",
        "  precision1  = cm1[1,1] / (cm1[1,1] + cm1[0,1])\n",
        "  recall1        = cm1[1,1] / (cm1[1,1] + cm1[1,0])\n",
        "\n",
        "  print('Performance Criteria in Training Case for %s' %name)\n",
        "  print('Accuracy  %.3f' %Accuracy1)\n",
        "  print ('precision %.3f' % precision1)\n",
        "  print('recall %.3f' % recall1)\n",
        "\n",
        "  #########################################\n",
        "  test_calc = pd.concat([pd.DataFrame(y_train).reset_index(drop=True),pd.DataFrame(y_pred_train).reset_index(drop=True)],axis=1)\n",
        "  test_calc.rename(columns={0: 'predicted'}, inplace=True)\n",
        "\n",
        "  Accuracy2 = (cm2[0,0] + cm2[1,1]) / (cm2[0,0] + cm2[0,1] + cm2[1,0] + cm2[1,1])\n",
        "  precision2 = cm2[1,1] / (cm2[1,1] + cm2[0,1])\n",
        "  recall2       = cm2[1,1] / (cm2[1,1] + cm2[1,0])\n",
        "\n",
        "  print('====================')\n",
        "  print('Performance Criteria in Testing Case for %s' %name)\n",
        "  print('Accuracy  %.3f' %Accuracy2)\n",
        "  print ('precision %.3f' % precision2)\n",
        "  print('recall %.3f' % recall2)\n",
        "\n",
        "  cm_train = pd.DataFrame(cm1, range(2), range(2))\n",
        "  cm_test  = pd.DataFrame(cm2, range(2), range(2))\n",
        "\n",
        "  f,(ax1,ax2) = plt.subplots(1,2,figsize=(7, 3), sharey=True)\n",
        "  g1 = sns.heatmap(cm_train,cbar=False,ax=ax1,annot=True, fmt=\".1f\",cmap=\"viridis\",annot_kws={\"size\": 15})\n",
        "  g1.set_title('Training case',fontname= 'serif',fontsize=10, color='k')\n",
        "  g2 = sns.heatmap(cm_test,cbar=False,ax=ax2,annot=True, fmt=\".1f\",cmap=\"viridis\",annot_kws={\"size\": 15})\n",
        "  g2.set_title('Testing case', fontname= 'serif',fontsize=10, color='k')\n",
        "  f.suptitle(' Confusion matrix for '+name, fontsize=11)\n",
        "  plt.savefig(name + \".png\")\n",
        "  plt.show()"
      ],
      "metadata": {
        "id": "gdENUz6ElyMr"
      },
      "execution_count": 153,
      "outputs": []
    },
    {
      "cell_type": "code",
      "source": [
        "# function for plotting learning curve\n",
        "from sklearn.model_selection import learning_curve\n",
        "import plotly.graph_objects as go\n",
        "import numpy as np\n",
        "\n",
        "def plot_learning_curves(estimator, X, y, cv):\n",
        "    \"\"\"\n",
        "    Don't forget to change the scoring and plot labels\n",
        "    based on the metric that you are using.\n",
        "    \"\"\"\n",
        "\n",
        "    train_sizes, train_scores, test_scores = learning_curve(\n",
        "        estimator=estimator,\n",
        "        X=X,\n",
        "        y=y,\n",
        "        train_sizes=np.linspace(0.1, 1.0, 10),\n",
        "        cv=cv,\n",
        "        scoring=\"accuracy\",\n",
        "        random_state=42\n",
        "    )\n",
        "    train_mean = np.mean(train_scores, axis=1)\n",
        "    test_mean  = np.mean(test_scores, axis=1)\n",
        "\n",
        "    fig = go.Figure()\n",
        "\n",
        "    fig.add_trace(\n",
        "        go.Scatter(\n",
        "            x=train_sizes,\n",
        "            y=train_mean,\n",
        "            name=\"Training Accuracy\",\n",
        "            mode=\"lines\",\n",
        "            line=dict(color=\"blue\"),\n",
        "        )\n",
        "    )\n",
        "\n",
        "    fig.add_trace(\n",
        "        go.Scatter(\n",
        "            x=train_sizes,\n",
        "            y=test_mean,\n",
        "            name=\"Validation Accuracy\",\n",
        "            mode=\"lines\",\n",
        "            line=dict(color=\"green\"),\n",
        "        )\n",
        "    )\n",
        "\n",
        "    fig.update_layout(\n",
        "        title=\"Learning Curves\",\n",
        "        xaxis_title=\"Number of training examples\",\n",
        "        yaxis_title=\"Accuracy\",\n",
        "    )\n",
        "\n",
        "    fig.show()\n",
        "    # plt.show()   # Display"
      ],
      "metadata": {
        "id": "IDRtgUwAQodD"
      },
      "execution_count": 154,
      "outputs": []
    },
    {
      "cell_type": "code",
      "source": [
        "#set up plotting area\n",
        "from matplotlib.pyplot import figure\n",
        "from sklearn import metrics\n",
        "from sklearn.metrics import confusion_matrix\n",
        "from sklearn.metrics import roc_curve, roc_auc_score\n",
        "\n",
        "# We now prepare our selected models\n",
        "models  = []\n",
        "results   = []\n",
        "names   = []\n",
        "scoring  = 'accuracy'\n",
        "names   = ['LRC', 'SVC', 'GBC', 'GNB', 'RFC', 'KNC']\n",
        "\n",
        "#LogisticRegression ####################################\n",
        "from sklearn.linear_model import LogisticRegression\n",
        "lr = LogisticRegression(solver='liblinear', max_iter=20)\n",
        "lr.fit(x_train, y_train)\n",
        "y_pred_train = lr.predict(x_train)\n",
        "y_pred_test  = lr.predict(x_test)\n",
        "calculate_confusion(\"LR\",y_train, y_pred_train, y_test, y_pred_test)\n",
        "fpr1, tpr1, _ = metrics.roc_curve(y_test, y_pred_test)\n",
        "auc = round(metrics.roc_auc_score(y_test, y_pred_test), 4)\n",
        "cv_results = cross_val_score(lr, x_train, y_train)\n",
        "results.append(cv_results)  "
      ],
      "metadata": {
        "colab": {
          "base_uri": "https://localhost:8080/",
          "height": 396
        },
        "id": "XjCSnIoViOul",
        "outputId": "552ba436-ef81-45d4-f396-a0e1032a1961"
      },
      "execution_count": 155,
      "outputs": [
        {
          "output_type": "error",
          "ename": "ValueError",
          "evalue": "ignored",
          "traceback": [
            "\u001b[0;31m---------------------------------------------------------------------------\u001b[0m",
            "\u001b[0;31mValueError\u001b[0m                                Traceback (most recent call last)",
            "\u001b[0;32m<ipython-input-155-188fd2ce8f01>\u001b[0m in \u001b[0;36m<cell line: 17>\u001b[0;34m()\u001b[0m\n\u001b[1;32m     15\u001b[0m \u001b[0;32mfrom\u001b[0m \u001b[0msklearn\u001b[0m\u001b[0;34m.\u001b[0m\u001b[0mlinear_model\u001b[0m \u001b[0;32mimport\u001b[0m \u001b[0mLogisticRegression\u001b[0m\u001b[0;34m\u001b[0m\u001b[0;34m\u001b[0m\u001b[0m\n\u001b[1;32m     16\u001b[0m \u001b[0mlr\u001b[0m \u001b[0;34m=\u001b[0m \u001b[0mLogisticRegression\u001b[0m\u001b[0;34m(\u001b[0m\u001b[0msolver\u001b[0m\u001b[0;34m=\u001b[0m\u001b[0;34m'liblinear'\u001b[0m\u001b[0;34m,\u001b[0m \u001b[0mmax_iter\u001b[0m\u001b[0;34m=\u001b[0m\u001b[0;36m20\u001b[0m\u001b[0;34m)\u001b[0m\u001b[0;34m\u001b[0m\u001b[0;34m\u001b[0m\u001b[0m\n\u001b[0;32m---> 17\u001b[0;31m \u001b[0mlr\u001b[0m\u001b[0;34m.\u001b[0m\u001b[0mfit\u001b[0m\u001b[0;34m(\u001b[0m\u001b[0mx_train\u001b[0m\u001b[0;34m,\u001b[0m \u001b[0my_train\u001b[0m\u001b[0;34m)\u001b[0m\u001b[0;34m\u001b[0m\u001b[0;34m\u001b[0m\u001b[0m\n\u001b[0m\u001b[1;32m     18\u001b[0m \u001b[0my_pred_train\u001b[0m \u001b[0;34m=\u001b[0m \u001b[0mlr\u001b[0m\u001b[0;34m.\u001b[0m\u001b[0mpredict\u001b[0m\u001b[0;34m(\u001b[0m\u001b[0mx_train\u001b[0m\u001b[0;34m)\u001b[0m\u001b[0;34m\u001b[0m\u001b[0;34m\u001b[0m\u001b[0m\n\u001b[1;32m     19\u001b[0m \u001b[0my_pred_test\u001b[0m  \u001b[0;34m=\u001b[0m \u001b[0mlr\u001b[0m\u001b[0;34m.\u001b[0m\u001b[0mpredict\u001b[0m\u001b[0;34m(\u001b[0m\u001b[0mx_test\u001b[0m\u001b[0;34m)\u001b[0m\u001b[0;34m\u001b[0m\u001b[0;34m\u001b[0m\u001b[0m\n",
            "\u001b[0;32m/usr/local/lib/python3.9/dist-packages/sklearn/linear_model/_logistic.py\u001b[0m in \u001b[0;36mfit\u001b[0;34m(self, X, y, sample_weight)\u001b[0m\n\u001b[1;32m   1194\u001b[0m             \u001b[0m_dtype\u001b[0m \u001b[0;34m=\u001b[0m \u001b[0;34m[\u001b[0m\u001b[0mnp\u001b[0m\u001b[0;34m.\u001b[0m\u001b[0mfloat64\u001b[0m\u001b[0;34m,\u001b[0m \u001b[0mnp\u001b[0m\u001b[0;34m.\u001b[0m\u001b[0mfloat32\u001b[0m\u001b[0;34m]\u001b[0m\u001b[0;34m\u001b[0m\u001b[0;34m\u001b[0m\u001b[0m\n\u001b[1;32m   1195\u001b[0m \u001b[0;34m\u001b[0m\u001b[0m\n\u001b[0;32m-> 1196\u001b[0;31m         X, y = self._validate_data(\n\u001b[0m\u001b[1;32m   1197\u001b[0m             \u001b[0mX\u001b[0m\u001b[0;34m,\u001b[0m\u001b[0;34m\u001b[0m\u001b[0;34m\u001b[0m\u001b[0m\n\u001b[1;32m   1198\u001b[0m             \u001b[0my\u001b[0m\u001b[0;34m,\u001b[0m\u001b[0;34m\u001b[0m\u001b[0;34m\u001b[0m\u001b[0m\n",
            "\u001b[0;32m/usr/local/lib/python3.9/dist-packages/sklearn/base.py\u001b[0m in \u001b[0;36m_validate_data\u001b[0;34m(self, X, y, reset, validate_separately, **check_params)\u001b[0m\n\u001b[1;32m    582\u001b[0m                 \u001b[0my\u001b[0m \u001b[0;34m=\u001b[0m \u001b[0mcheck_array\u001b[0m\u001b[0;34m(\u001b[0m\u001b[0my\u001b[0m\u001b[0;34m,\u001b[0m \u001b[0minput_name\u001b[0m\u001b[0;34m=\u001b[0m\u001b[0;34m\"y\"\u001b[0m\u001b[0;34m,\u001b[0m \u001b[0;34m**\u001b[0m\u001b[0mcheck_y_params\u001b[0m\u001b[0;34m)\u001b[0m\u001b[0;34m\u001b[0m\u001b[0;34m\u001b[0m\u001b[0m\n\u001b[1;32m    583\u001b[0m             \u001b[0;32melse\u001b[0m\u001b[0;34m:\u001b[0m\u001b[0;34m\u001b[0m\u001b[0;34m\u001b[0m\u001b[0m\n\u001b[0;32m--> 584\u001b[0;31m                 \u001b[0mX\u001b[0m\u001b[0;34m,\u001b[0m \u001b[0my\u001b[0m \u001b[0;34m=\u001b[0m \u001b[0mcheck_X_y\u001b[0m\u001b[0;34m(\u001b[0m\u001b[0mX\u001b[0m\u001b[0;34m,\u001b[0m \u001b[0my\u001b[0m\u001b[0;34m,\u001b[0m \u001b[0;34m**\u001b[0m\u001b[0mcheck_params\u001b[0m\u001b[0;34m)\u001b[0m\u001b[0;34m\u001b[0m\u001b[0;34m\u001b[0m\u001b[0m\n\u001b[0m\u001b[1;32m    585\u001b[0m             \u001b[0mout\u001b[0m \u001b[0;34m=\u001b[0m \u001b[0mX\u001b[0m\u001b[0;34m,\u001b[0m \u001b[0my\u001b[0m\u001b[0;34m\u001b[0m\u001b[0;34m\u001b[0m\u001b[0m\n\u001b[1;32m    586\u001b[0m \u001b[0;34m\u001b[0m\u001b[0m\n",
            "\u001b[0;32m/usr/local/lib/python3.9/dist-packages/sklearn/utils/validation.py\u001b[0m in \u001b[0;36mcheck_X_y\u001b[0;34m(X, y, accept_sparse, accept_large_sparse, dtype, order, copy, force_all_finite, ensure_2d, allow_nd, multi_output, ensure_min_samples, ensure_min_features, y_numeric, estimator)\u001b[0m\n\u001b[1;32m   1122\u001b[0m     \u001b[0my\u001b[0m \u001b[0;34m=\u001b[0m \u001b[0m_check_y\u001b[0m\u001b[0;34m(\u001b[0m\u001b[0my\u001b[0m\u001b[0;34m,\u001b[0m \u001b[0mmulti_output\u001b[0m\u001b[0;34m=\u001b[0m\u001b[0mmulti_output\u001b[0m\u001b[0;34m,\u001b[0m \u001b[0my_numeric\u001b[0m\u001b[0;34m=\u001b[0m\u001b[0my_numeric\u001b[0m\u001b[0;34m,\u001b[0m \u001b[0mestimator\u001b[0m\u001b[0;34m=\u001b[0m\u001b[0mestimator\u001b[0m\u001b[0;34m)\u001b[0m\u001b[0;34m\u001b[0m\u001b[0;34m\u001b[0m\u001b[0m\n\u001b[1;32m   1123\u001b[0m \u001b[0;34m\u001b[0m\u001b[0m\n\u001b[0;32m-> 1124\u001b[0;31m     \u001b[0mcheck_consistent_length\u001b[0m\u001b[0;34m(\u001b[0m\u001b[0mX\u001b[0m\u001b[0;34m,\u001b[0m \u001b[0my\u001b[0m\u001b[0;34m)\u001b[0m\u001b[0;34m\u001b[0m\u001b[0;34m\u001b[0m\u001b[0m\n\u001b[0m\u001b[1;32m   1125\u001b[0m \u001b[0;34m\u001b[0m\u001b[0m\n\u001b[1;32m   1126\u001b[0m     \u001b[0;32mreturn\u001b[0m \u001b[0mX\u001b[0m\u001b[0;34m,\u001b[0m \u001b[0my\u001b[0m\u001b[0;34m\u001b[0m\u001b[0;34m\u001b[0m\u001b[0m\n",
            "\u001b[0;32m/usr/local/lib/python3.9/dist-packages/sklearn/utils/validation.py\u001b[0m in \u001b[0;36mcheck_consistent_length\u001b[0;34m(*arrays)\u001b[0m\n\u001b[1;32m    395\u001b[0m     \u001b[0muniques\u001b[0m \u001b[0;34m=\u001b[0m \u001b[0mnp\u001b[0m\u001b[0;34m.\u001b[0m\u001b[0munique\u001b[0m\u001b[0;34m(\u001b[0m\u001b[0mlengths\u001b[0m\u001b[0;34m)\u001b[0m\u001b[0;34m\u001b[0m\u001b[0;34m\u001b[0m\u001b[0m\n\u001b[1;32m    396\u001b[0m     \u001b[0;32mif\u001b[0m \u001b[0mlen\u001b[0m\u001b[0;34m(\u001b[0m\u001b[0muniques\u001b[0m\u001b[0;34m)\u001b[0m \u001b[0;34m>\u001b[0m \u001b[0;36m1\u001b[0m\u001b[0;34m:\u001b[0m\u001b[0;34m\u001b[0m\u001b[0;34m\u001b[0m\u001b[0m\n\u001b[0;32m--> 397\u001b[0;31m         raise ValueError(\n\u001b[0m\u001b[1;32m    398\u001b[0m             \u001b[0;34m\"Found input variables with inconsistent numbers of samples: %r\"\u001b[0m\u001b[0;34m\u001b[0m\u001b[0;34m\u001b[0m\u001b[0m\n\u001b[1;32m    399\u001b[0m             \u001b[0;34m%\u001b[0m \u001b[0;34m[\u001b[0m\u001b[0mint\u001b[0m\u001b[0;34m(\u001b[0m\u001b[0ml\u001b[0m\u001b[0;34m)\u001b[0m \u001b[0;32mfor\u001b[0m \u001b[0ml\u001b[0m \u001b[0;32min\u001b[0m \u001b[0mlengths\u001b[0m\u001b[0;34m]\u001b[0m\u001b[0;34m\u001b[0m\u001b[0;34m\u001b[0m\u001b[0m\n",
            "\u001b[0;31mValueError\u001b[0m: Found input variables with inconsistent numbers of samples: [3620, 0]"
          ]
        }
      ]
    },
    {
      "cell_type": "code",
      "source": [
        "# Compute False postive rate, and True positive rate\n",
        "fpr1, tpr1, thresholds1 = metrics.roc_curve(y_train, lr.predict_proba(x_train)[:,1])\n",
        "# Calculate Area under the curve to display on the plot\n",
        "auc1 = metrics.roc_auc_score(y_train,lr.predict(x_train))"
      ],
      "metadata": {
        "id": "ar2ulcp1EsoU"
      },
      "execution_count": null,
      "outputs": []
    },
    {
      "cell_type": "code",
      "source": [
        "#SVM ####################################\n",
        "from sklearn.svm import SVC\n",
        "svm = SVC(kernel='rbf', C=1.0, probability=True)\n",
        "svm.fit(x_train, y_train)\n",
        "y_pred_train = svm.predict(x_train)\n",
        "y_pred_test  = svm.predict(x_test)\n",
        "calculate_confusion(\"SVM\",y_train, y_pred_train, y_test, y_pred_test)\n",
        "fpr2, tpr2, _ = metrics.roc_curve(y_test, y_pred_test)\n",
        "auc = round(metrics.roc_auc_score(y_test, y_pred_test), 4)\n",
        "cv_results = cross_val_score(svm, x_train, y_train)\n",
        "results.append(cv_results)"
      ],
      "metadata": {
        "id": "GF3yuI06iz3t"
      },
      "execution_count": null,
      "outputs": []
    },
    {
      "cell_type": "code",
      "source": [
        "# Compute False postive rate, and True positive rate\n",
        "fpr2, tpr2, thresholds2 = metrics.roc_curve(y_train, svm.predict_proba(x_train)[:,1])\n",
        "# Calculate Area under the curve to display on the plot\n",
        "auc2 = metrics.roc_auc_score(y_train,svm.predict(x_train))"
      ],
      "metadata": {
        "id": "3WEhQ3qqExl0"
      },
      "execution_count": null,
      "outputs": []
    },
    {
      "cell_type": "code",
      "source": [
        "#GradientBoostingClassifier\n",
        "from sklearn.ensemble import GradientBoostingClassifier\n",
        "GBC = GradientBoostingClassifier()\n",
        "GBC.fit(x_train, y_train)\n",
        "y_pred_train = GBC.predict(x_train)\n",
        "y_pred_test  = GBC.predict(x_test)\n",
        "calculate_confusion(\"GBC\",y_train, y_pred_train, y_test, y_pred_test)\n",
        "fpr3, tpr3, _ = metrics.roc_curve(y_test, y_pred_test)\n",
        "auc = round(metrics.roc_auc_score(y_test, y_pred_test), 4)\n",
        "cv_results = cross_val_score(GBC, x_train, y_train)\n",
        "results.append(cv_results)\n"
      ],
      "metadata": {
        "id": "MwwZrX6qi6CN"
      },
      "execution_count": null,
      "outputs": []
    },
    {
      "cell_type": "code",
      "source": [
        "# Compute False postive rate, and True positive rate\n",
        "fpr3, tpr3, thresholds3 = metrics.roc_curve(y_train, GBC.predict_proba(x_train)[:,1])\n",
        "# Calculate Area under the curve to display on the plot\n",
        "auc3 = metrics.roc_auc_score(y_train,GBC.predict(x_train))"
      ],
      "metadata": {
        "id": "tFvVZbETEz00"
      },
      "execution_count": null,
      "outputs": []
    },
    {
      "cell_type": "code",
      "source": [
        "#GaussianNB\n",
        "from sklearn.naive_bayes import GaussianNB\n",
        "GNB = GaussianNB()\n",
        "GNB.fit(x_train, y_train)\n",
        "y_pred_train = GNB.predict(x_train)\n",
        "y_pred_test  = GNB.predict(x_test)\n",
        "calculate_confusion(\"GNB\",y_train, y_pred_train, y_test, y_pred_test)\n",
        "fpr4, tpr4, _ = metrics.roc_curve(y_test, y_pred_test)\n",
        "auc = round(metrics.roc_auc_score(y_test, y_pred_test), 4)\n",
        "cv_results = cross_val_score(GNB, x_train, y_train)\n",
        "results.append(cv_results)\n"
      ],
      "metadata": {
        "id": "tdYyIkUDi8iR"
      },
      "execution_count": null,
      "outputs": []
    },
    {
      "cell_type": "code",
      "source": [
        "# Compute False postive rate, and True positive rate\n",
        "fpr4, tpr4, thresholds4 = metrics.roc_curve(y_train, GNB.predict_proba(x_train)[:,1])\n",
        "# Calculate Area under the curve to display on the plot\n",
        "auc4 = metrics.roc_auc_score(y_train,GNB.predict(x_train))"
      ],
      "metadata": {
        "id": "Fq--0hXpE7dD"
      },
      "execution_count": null,
      "outputs": []
    },
    {
      "cell_type": "code",
      "source": [
        "# KNN Model\n",
        "from sklearn.neighbors import KNeighborsClassifier\n",
        "KNC = KNeighborsClassifier()\n",
        "KNC.fit(x_train, y_train)\n",
        "y_pred_train = KNC.predict(x_train)\n",
        "y_pred_test  = KNC.predict(x_test)\n",
        "calculate_confusion(\"KNC\",y_train, y_pred_train, y_test, y_pred_test)\n",
        "fpr5, tpr5, _ = metrics.roc_curve(y_test, y_pred_test)\n",
        "auc = round(metrics.roc_auc_score(y_test, y_pred_test), 4)\n",
        "cv_results = cross_val_score(KNC, x_train, y_train)\n",
        "results.append(cv_results)\n",
        "\n"
      ],
      "metadata": {
        "id": "wgv2kjk6jBpY"
      },
      "execution_count": null,
      "outputs": []
    },
    {
      "cell_type": "code",
      "source": [
        "# Compute False postive rate, and True positive rate\n",
        "fpr5, tpr5, thresholds5 = metrics.roc_curve(y_train, KNC.predict_proba(x_train)[:,1])\n",
        "# Calculate Area under the curve to display on the plot\n",
        "auc5 = metrics.roc_auc_score(y_train,KNC.predict(x_train))"
      ],
      "metadata": {
        "id": "GMiIIM1vFJ1b"
      },
      "execution_count": null,
      "outputs": []
    },
    {
      "cell_type": "code",
      "source": [
        "# Decision Tree Model\n",
        "from sklearn import tree\n",
        "DT = tree.DecisionTreeClassifier(criterion='gini', splitter='best', max_depth=None)\n",
        "DT.fit(x_train, y_train)\n",
        "y_pred_train = DT.predict(x_train)\n",
        "y_pred_test  = DT.predict(x_test)\n",
        "calculate_confusion(\"DT\",y_train, y_pred_train, y_test, y_pred_test)\n",
        "fpr6, tpr6, _ = metrics.roc_curve(y_test, y_pred_test)\n",
        "auc = round(metrics.roc_auc_score(y_test, y_pred_test), 4)\n",
        "cv_results = cross_val_score(DT, x_train, y_train)\n",
        "results.append(cv_results)\n"
      ],
      "metadata": {
        "id": "VtfQhLBxjOcN"
      },
      "execution_count": null,
      "outputs": []
    },
    {
      "cell_type": "code",
      "source": [
        "# Compute False postive rate, and True positive rate\n",
        "fpr6, tpr6, thresholds6 = metrics.roc_curve(y_train, DT.predict_proba(x_train)[:,1])\n",
        "# Calculate Area under the curve to display on the plot\n",
        "auc6 = metrics.roc_auc_score(y_train,DT.predict(x_train))"
      ],
      "metadata": {
        "id": "SiuRx0FQFO-8"
      },
      "execution_count": null,
      "outputs": []
    },
    {
      "cell_type": "code",
      "source": [
        "# import graphviz\n",
        "# # DOT data\n",
        "# dot_data = tree.export_graphviz(DT, out_file=None, filled=True)\n",
        "# # Draw graph\n",
        "# graph = graphviz.Source(dot_data, format=\"png\") \n",
        "# graph\n"
      ],
      "metadata": {
        "id": "BSlg6h0jZne_"
      },
      "execution_count": null,
      "outputs": []
    },
    {
      "cell_type": "code",
      "source": [
        "#RandomForestClassifier\n",
        "from sklearn.ensemble import RandomForestClassifier\n",
        "RFC = RandomForestClassifier(n_estimators=100, criterion='gini', max_depth=None)\n",
        "RFC.fit(x_train, y_train)\n",
        "y_pred_train = RFC.predict(x_train)\n",
        "y_pred_test  = RFC.predict(x_test)\n",
        "calculate_confusion(\"RFC\",y_train, y_pred_train, y_test, y_pred_test)\n",
        "fpr7, tpr7, _ = metrics.roc_curve(y_test, y_pred_test)\n",
        "auc = round(metrics.roc_auc_score(y_test, y_pred_test), 4)\n",
        "cv_results = cross_val_score(RFC, x_train, y_train)\n",
        "results.append(cv_results)\n",
        "\n"
      ],
      "metadata": {
        "id": "R3C9uzf7hY5e"
      },
      "execution_count": null,
      "outputs": []
    },
    {
      "cell_type": "code",
      "source": [
        "# Compute False postive rate, and True positive rate\n",
        "fpr7, tpr7, thresholds7 = metrics.roc_curve(y_train, RFC.predict_proba(x_train)[:,1])\n",
        "# Calculate Area under the curve to display on the plot\n",
        "auc7 = metrics.roc_auc_score(y_train,RFC.predict(x_train))"
      ],
      "metadata": {
        "id": "5lptiiD5FSzL"
      },
      "execution_count": null,
      "outputs": []
    },
    {
      "cell_type": "code",
      "source": [
        "# plot_learning_curves(RFC, x_train, y_train, cv=5)"
      ],
      "metadata": {
        "id": "wZMDfm8RWzI6"
      },
      "execution_count": null,
      "outputs": []
    },
    {
      "cell_type": "code",
      "source": [
        "#Artificial Neural Network\n",
        "from sklearn.neural_network import MLPClassifier\n",
        "ANN = MLPClassifier(solver='adam', max_iter= 500, alpha=1e-5,hidden_layer_sizes=(5, 2), random_state=1)\n",
        "ANN.fit(x_train, y_train)\n",
        "y_pred_train = ANN.predict(x_train)\n",
        "y_pred_test  = ANN.predict(x_test)\n",
        "calculate_confusion(\"ANN\",y_train, y_pred_train, y_test, y_pred_test)\n",
        "fpr8, tpr8, _ = metrics.roc_curve(y_test, y_pred_test)\n",
        "auc = round(metrics.roc_auc_score(y_test, y_pred_test), 4)\n",
        "cv_results = cross_val_score(ANN, x_train, y_train)\n",
        "results.append(cv_results)\n"
      ],
      "metadata": {
        "id": "qdjvGFCljT9H"
      },
      "execution_count": null,
      "outputs": []
    },
    {
      "cell_type": "code",
      "source": [
        "# Compute False postive rate, and True positive rate\n",
        "fpr8, tpr8, thresholds8 = metrics.roc_curve(y_train, ANN.predict_proba(x_train)[:,1])\n",
        "# Calculate Area under the curve to display on the plot\n",
        "auc8 = metrics.roc_auc_score(y_train,ANN.predict(x_train))"
      ],
      "metadata": {
        "id": "Uel-FHMyFXWc"
      },
      "execution_count": null,
      "outputs": []
    },
    {
      "cell_type": "code",
      "source": [
        "# Boxplot of the mean results of each supervised model for comparison \n",
        "names = ['LRC', 'SVC', 'GBC', 'GNB', 'KNC', 'DT','RFC', 'ANN']\n",
        "fig = plt.figure(figsize=(8,4))\n",
        "fig.suptitle('Model Comparison')\n",
        "ax = fig.add_subplot(111)\n",
        "plt.boxplot(results)\n",
        "ax.set_xticklabels(names)\n",
        "plt.grid()\n",
        "plt.savefig('BoxPlot_Curves.png')\n",
        "plt.show()"
      ],
      "metadata": {
        "id": "TZLUZSg8Qr7x"
      },
      "execution_count": null,
      "outputs": []
    },
    {
      "cell_type": "code",
      "source": [
        "auc1"
      ],
      "metadata": {
        "id": "yz38mnLdDt1k"
      },
      "execution_count": null,
      "outputs": []
    },
    {
      "cell_type": "code",
      "source": [
        "auc2"
      ],
      "metadata": {
        "id": "sl096p8uDvdj"
      },
      "execution_count": null,
      "outputs": []
    },
    {
      "cell_type": "code",
      "source": [
        "# Now, plot the computed values\n",
        "fig = plt.figure(figsize=(8,6))\n",
        "\n",
        "plt.plot(fpr1, tpr1, linestyle='-',color='green', label='LR ROC = %.2f' %auc1)\n",
        "plt.plot(fpr2, tpr2, linestyle='--',color='red', label='LR ROC = %.2f' %auc2)\n",
        "plt.plot(fpr3, tpr3, linestyle='--',color='blue', label='SVM ROC = %.2f' %auc3)\n",
        "plt.plot(fpr4, tpr4, linestyle='--',color='green', label='GBC ROC = %.2f' %auc4)\n",
        "plt.plot(fpr5, tpr5, linestyle='--',color='cyan', label='GNB ROC = %.2f' %auc5)\n",
        "plt.plot(fpr6, tpr6, linestyle='--',color='yellow', label='KNN ROC = %.2f' %auc6)\n",
        "plt.plot(fpr7, tpr7, linestyle='--',color='black', label='DT ROC = %.2f' %auc7)\n",
        "plt.plot(fpr8, tpr8,linestyle='-',color='red', label='RFC ROC = %.2f' %auc8)\n",
        "\n",
        "# Custom settings for the plot \n",
        "plt.plot([0, 1], [0, 1],'r--')\n",
        "plt.xlim([0.0, 1.0])\n",
        "plt.ylim([0.0, 1.05])\n",
        "plt.xlabel('Specificity(False Positive Rate)')\n",
        "plt.ylabel('Sensitivity(True Positive Rate)')\n",
        "plt.title('Receiver Operating Characteristic')\n",
        "plt.legend(loc=\"lower right\")\n",
        "plt.savefig('ROC_Curves.png')\n",
        "plt.show()   # Display"
      ],
      "metadata": {
        "id": "RdZpNtT9-JVF"
      },
      "execution_count": null,
      "outputs": []
    },
    {
      "cell_type": "code",
      "source": [
        "# from sklearn.linear_model import LogisticRegression\n",
        "# from sklearn.ensemble import GradientBoostingClassifier\n",
        "# from sklearn import metrics\n",
        "# import matplotlib.pyplot as plt\n",
        "\n",
        "# fig = plt.figure(figsize=(8,6))\n",
        "\n",
        "# # Add the models to the list that you want to view on the ROC plot\n",
        "# models = [\n",
        "# {\n",
        "#     'label': 'Logistic Regression',\n",
        "#     'model':  LogisticRegression(),\n",
        "# },\n",
        "# {\n",
        "#     'label': 'SVM',\n",
        "#     'model':  SVC(gamma='auto', probability=True),\n",
        "# },\n",
        "# {\n",
        "#     'label': 'Gradient Boosting',\n",
        "#     'model':  GradientBoostingClassifier(),\n",
        "# },\n",
        "# {\n",
        "#     'label': 'GaussianNB',\n",
        "#     'model':  GaussianNB(),\n",
        "# },\n",
        "# {\n",
        "#     'label': 'KNeighborsClassifier',\n",
        "#     'model':  KNeighborsClassifier(),\n",
        "# },\n",
        "# {\n",
        "#     'label': 'DecisionTreeClassifier',\n",
        "#     'model':  tree.DecisionTreeClassifier(),\n",
        "# },\n",
        "# {\n",
        "#     'label': 'RandomForestClassifier',\n",
        "#     'model':  RandomForestClassifier(),\n",
        "# },\n",
        "# {\n",
        "#     'label': 'MLPClassifier',\n",
        "#     'model':  MLPClassifier(solver='adam', max_iter= 2000, alpha=1e-5,hidden_layer_sizes=(5, 2), random_state=1),\n",
        "# }\n",
        "# ]\n",
        "\n",
        "# # Below for loop iterates through your models list\n",
        "# for m in models:\n",
        "#     model = m['model'] # select the model\n",
        "#     model.fit(x_train, y_train) # train the model\n",
        "#     y_pred=model.predict(x_test) # predict the test data\n",
        "\n",
        "# # Compute False postive rate, and True positive rate\n",
        "#     fpr, tpr, thresholds = metrics.roc_curve(y_train, model.predict_proba(x_train)[:,1])\n",
        "\n",
        "# # Calculate Area under the curve to display on the plot\n",
        "#     auc = metrics.roc_auc_score(y_train,model.predict(x_train))\n",
        "    \n",
        "# # Now, plot the computed values\n",
        "#     plt.plot(fpr, tpr, label='%s ROC (area = %0.2f)' % (m['label'], auc))\n",
        "\n",
        "# # Custom settings for the plot \n",
        "# plt.plot([0, 1], [0, 1],'r--')\n",
        "# plt.xlim([0.0, 1.0])\n",
        "# plt.ylim([0.0, 1.05])\n",
        "# plt.xlabel('Specificity(False Positive Rate)')\n",
        "# plt.ylabel('Sensitivity(True Positive Rate)')\n",
        "# plt.title('Receiver Operating Characteristic')\n",
        "# plt.legend(loc=\"lower right\")\n",
        "# plt.savefig('ROC_Curves.png')\n",
        "# plt.show()   # Display\n"
      ],
      "metadata": {
        "id": "mozfIcEbJm0A"
      },
      "execution_count": null,
      "outputs": []
    }
  ]
}