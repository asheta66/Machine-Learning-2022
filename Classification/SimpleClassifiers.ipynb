{
  "nbformat": 4,
  "nbformat_minor": 0,
  "metadata": {
    "colab": {
      "provenance": [],
      "authorship_tag": "ABX9TyPaKWWrUOGNrDfGjbkMKwgP",
      "include_colab_link": true
    },
    "kernelspec": {
      "name": "python3",
      "display_name": "Python 3"
    },
    "language_info": {
      "name": "python"
    }
  },
  "cells": [
    {
      "cell_type": "markdown",
      "metadata": {
        "id": "view-in-github",
        "colab_type": "text"
      },
      "source": [
        "<a href=\"https://colab.research.google.com/github/asheta66/Machine-Learning-2022/blob/main/Classification/SimpleClassifiers.ipynb\" target=\"_parent\"><img src=\"https://colab.research.google.com/assets/colab-badge.svg\" alt=\"Open In Colab\"/></a>"
      ]
    },
    {
      "cell_type": "code",
      "execution_count": 3,
      "metadata": {
        "colab": {
          "base_uri": "https://localhost:8080/"
        },
        "id": "dPIOs75yuPUH",
        "outputId": "efa67799-6b24-4073-fe44-0598e589ae79"
      },
      "outputs": [
        {
          "output_type": "stream",
          "name": "stdout",
          "text": [
            "Accuracy of classifier 1: 0.95 (+/- 0.09)\n",
            "Accuracy of classifier 2: 0.97 (+/- 0.07)\n",
            "Accuracy of classifier 3: 0.96 (+/- 0.07)\n"
          ]
        }
      ],
      "source": [
        "from sklearn import datasets\n",
        "from sklearn.model_selection import cross_val_score\n",
        "from sklearn.tree import DecisionTreeClassifier\n",
        "from sklearn.linear_model import LogisticRegression\n",
        "\n",
        "# Load the iris dataset\n",
        "iris = datasets.load_iris()\n",
        "X = iris.data\n",
        "y = iris.target\n",
        "\n",
        "# Train three different classifiers\n",
        "clf1 = DecisionTreeClassifier(random_state=42)\n",
        "clf2 = LogisticRegression(max_iter=1000,random_state=42)\n",
        "clf3 = DecisionTreeClassifier(max_depth=3, random_state=42)\n",
        "\n",
        "# Compute the cross-validation score for each classifier\n",
        "scores1 = cross_val_score(clf1, X, y, cv=10, scoring='accuracy')\n",
        "scores2 = cross_val_score(clf2, X, y, cv=10, scoring='accuracy')\n",
        "scores3 = cross_val_score(clf3, X, y, cv=10, scoring='accuracy')\n",
        "\n",
        "# Print the mean accuracy and standard deviation of each classifier\n",
        "print(\"Accuracy of classifier 1: %0.2f (+/- %0.2f)\" % (scores1.mean(), scores1.std() * 2))\n",
        "print(\"Accuracy of classifier 2: %0.2f (+/- %0.2f)\" % (scores2.mean(), scores2.std() * 2))\n",
        "print(\"Accuracy of classifier 3: %0.2f (+/- %0.2f)\" % (scores3.mean(), scores3.std() * 2))\n"
      ]
    }
  ]
}