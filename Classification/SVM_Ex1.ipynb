{
  "nbformat": 4,
  "nbformat_minor": 0,
  "metadata": {
    "colab": {
      "name": "SVM_ex1.ipynb",
      "provenance": [],
      "authorship_tag": "ABX9TyPvvqgQ/6bMWGaPljikz87Z",
      "include_colab_link": true
    },
    "kernelspec": {
      "name": "python3",
      "display_name": "Python 3"
    },
    "language_info": {
      "name": "python"
    }
  },
  "cells": [
    {
      "cell_type": "markdown",
      "metadata": {
        "id": "view-in-github",
        "colab_type": "text"
      },
      "source": [
        "<a href=\"https://colab.research.google.com/github/asheta66/Machine-Learning-2022/blob/main/Classification/SVM_Ex1.ipynb\" target=\"_parent\"><img src=\"https://colab.research.google.com/assets/colab-badge.svg\" alt=\"Open In Colab\"/></a>"
      ]
    },
    {
      "cell_type": "code",
      "execution_count": 9,
      "metadata": {
        "id": "hZwV3Ennh8ov"
      },
      "outputs": [],
      "source": [
        "import sklearn as sk\n",
        "import numpy as np\n",
        "import matplotlib.pyplot as plt\n",
        "from sklearn.datasets import fetch_olivetti_faces\n",
        "faces = fetch_olivetti_faces()"
      ]
    },
    {
      "cell_type": "code",
      "source": [
        "print(faces.keys())\n",
        "print(faces.images.shape)\n",
        "print(faces.data.shape)\n",
        "print(faces.target.shape)"
      ],
      "metadata": {
        "colab": {
          "base_uri": "https://localhost:8080/"
        },
        "id": "MIa3L6eVi4oS",
        "outputId": "44b4da1b-129c-44e2-b82e-17616e71f6b2"
      },
      "execution_count": 17,
      "outputs": [
        {
          "output_type": "stream",
          "name": "stdout",
          "text": [
            "dict_keys(['data', 'images', 'target', 'DESCR'])\n",
            "(400, 64, 64)\n",
            "(400, 4096)\n",
            "(400,)\n"
          ]
        }
      ]
    },
    {
      "cell_type": "code",
      "source": [
        "# Data Normalization\n",
        "print(np.max(faces.data))\n",
        "print(np.min(faces.data))\n",
        "\n",
        "print(np.mean(faces.data))"
      ],
      "metadata": {
        "colab": {
          "base_uri": "https://localhost:8080/"
        },
        "id": "dFpAujAwjUrb",
        "outputId": "e10f4fdc-dbde-40f8-e172-9872150e6d87"
      },
      "execution_count": 22,
      "outputs": [
        {
          "output_type": "stream",
          "name": "stdout",
          "text": [
            "1.0\n",
            "0.0\n",
            "0.5470426\n"
          ]
        }
      ]
    },
    {
      "cell_type": "code",
      "source": [
        "# Drawing sample images\n"
      ],
      "metadata": {
        "id": "d9KLt6_Jjvua"
      },
      "execution_count": null,
      "outputs": []
    }
  ]
}