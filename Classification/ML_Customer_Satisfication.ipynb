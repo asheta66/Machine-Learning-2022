{
  "nbformat": 4,
  "nbformat_minor": 0,
  "metadata": {
    "colab": {
      "provenance": [],
      "authorship_tag": "ABX9TyNvGv190Cw74bi3kVo1rtmQ",
      "include_colab_link": true
    },
    "kernelspec": {
      "name": "python3",
      "display_name": "Python 3"
    },
    "language_info": {
      "name": "python"
    }
  },
  "cells": [
    {
      "cell_type": "markdown",
      "metadata": {
        "id": "view-in-github",
        "colab_type": "text"
      },
      "source": [
        "<a href=\"https://colab.research.google.com/github/asheta66/Machine-Learning-2022/blob/main/ML_Customer_Satisfication.ipynb\" target=\"_parent\"><img src=\"https://colab.research.google.com/assets/colab-badge.svg\" alt=\"Open In Colab\"/></a>"
      ]
    },
    {
      "cell_type": "code",
      "execution_count": null,
      "metadata": {
        "id": "e6mRzwKChEHE"
      },
      "outputs": [],
      "source": [
        "# Logistic Regression\n",
        "# Importing the libraries\n",
        "import math\n",
        "import numpy as np\n",
        "import pandas as pd\n",
        "\n",
        "import numpy as np\n",
        "import matplotlib.pyplot as plt\n",
        "import pandas as pd\n",
        "import seaborn as sns\n",
        "sns.set_style(\"whitegrid\")\n",
        "\n",
        "from sklearn.model_selection import train_test_split, KFold, cross_val_score\n",
        "from sklearn.linear_model import LogisticRegression\n",
        "from sklearn.svm import SVC\n",
        "from sklearn.ensemble import GradientBoostingClassifier\n",
        "from sklearn.naive_bayes import GaussianNB\n",
        "from sklearn.ensemble import RandomForestClassifier\n",
        "from sklearn.neighbors import KNeighborsClassifier"
      ]
    },
    {
      "cell_type": "markdown",
      "source": [
        "# Plot settings"
      ],
      "metadata": {
        "id": "Buxq-a1AiTwD"
      }
    },
    {
      "cell_type": "code",
      "source": [
        "plt.rcParams['axes.labelsize'] = 10\n",
        "plt.rcParams['xtick.labelsize'] = 10\n",
        "plt.rcParams['ytick.labelsize'] = 10\n",
        "plt.rcParams['legend.fontsize'] = 10\n",
        "plt.rcParams['figure.titlesize'] = 11\n",
        "plt.rcParams['xtick.major.size'] = 10\n",
        "plt.rcParams['xtick.major.width'] = 1\n",
        "plt.rcParams['ytick.major.size'] = 10\n",
        "plt.rcParams['ytick.major.width'] = 1\n",
        "plt.rcParams['xtick.minor.width'] = 1\n",
        "plt.rcParams['ytick.minor.size'] = 5\n",
        "plt.rcParams['ytick.minor.width'] = 1\n",
        "plt.rcParams['xtick.minor.size'] = 5\n",
        "plt.rcParams['figure.figsize'] = 7,4\n",
        "sns.set_style('ticks')"
      ],
      "metadata": {
        "id": "qMVXdT3wiLvb"
      },
      "execution_count": null,
      "outputs": []
    },
    {
      "cell_type": "markdown",
      "source": [
        "# Reading the data\n",
        "\n"
      ],
      "metadata": {
        "id": "wYhqVAFmia0T"
      }
    },
    {
      "cell_type": "code",
      "source": [
        "# Importing the datasets\n",
        "df  = pd.read_csv('emails.csv')\n",
        "# y      = df.OSA.values\n",
        "# x_data = df.drop(['OSA'], axis = 1)"
      ],
      "metadata": {
        "id": "nlAAPqfXimI6"
      },
      "execution_count": null,
      "outputs": []
    },
    {
      "cell_type": "markdown",
      "source": [
        "# Display the data"
      ],
      "metadata": {
        "id": "SlwgKvhai3Ii"
      }
    },
    {
      "cell_type": "code",
      "execution_count": null,
      "metadata": {
        "id": "WwSYBuh8C26f"
      },
      "outputs": [],
      "source": [
        "df.iloc[:,:-1].describe()"
      ]
    },
    {
      "cell_type": "code",
      "source": [
        "df.head(10)"
      ],
      "metadata": {
        "id": "aKlQrzCojDrB"
      },
      "execution_count": null,
      "outputs": []
    },
    {
      "cell_type": "markdown",
      "source": [
        "**Data Visulatization**"
      ],
      "metadata": {
        "id": "GwM_YSLA1Tol"
      }
    },
    {
      "cell_type": "code",
      "source": [
        "from matplotlib import pyplot as plt\n",
        "\n",
        "# fig, (ax1, ax2,ax3) = plt.subplots(1,3)\n",
        "# fig.suptitle('Data Statistics')\n",
        "# ax1.plot(OSA, 'o-')\n",
        "# ax1.set_ylabel('Damped oscillation')\n",
        "# ax2.plot(x2, y2, '.-')\n",
        "# ax2.set_xlabel('time (s)')\n",
        "# ax2.set_ylabel('Undamped')\n",
        "# plt.show()\n",
        "\n",
        "# plt.subplot(13)\n",
        "# # equivalent but more general\n",
        "# ax1 = plt.subplot(2, 2, 1)\n",
        "# # add a subplot with no frame\n",
        "# ax2 = plt.subplot(222, frameon=False)\n",
        "# # add a polar subplot\n",
        "# plt.subplot(223, projection='polar')\n",
        "\n",
        "# fig, axes = plt.subplots(1,3,figsize=(7,5),sharey=True)\n",
        "# sns.countplot(ax=axes[0],data=df, x='Class')\n",
        "# sns.countplot(ax=axes[1],data=df, x='gender')\n",
        "# sns.countplot(ax=axes[2],data=df, x='retire')\n",
        "# plt.savefig('Statistics.png')\n"
      ],
      "metadata": {
        "id": "o1zcACsf1bid"
      },
      "execution_count": null,
      "outputs": []
    },
    {
      "cell_type": "markdown",
      "source": [
        "# Normalizing the data"
      ],
      "metadata": {
        "id": "th_Z44koiuiC"
      }
    },
    {
      "cell_type": "code",
      "source": [
        "df = df.drop('Email No.', axis = 1)\n",
        "\n",
        "df.head()"
      ],
      "metadata": {
        "id": "MmnC1tQRcKBo"
      },
      "execution_count": null,
      "outputs": []
    },
    {
      "cell_type": "code",
      "source": [
        "# Drop rows with any NaN values\n",
        "df = df.dropna()"
      ],
      "metadata": {
        "id": "PTwXwIjic4MW"
      },
      "execution_count": null,
      "outputs": []
    },
    {
      "cell_type": "code",
      "source": [
        "from sklearn.preprocessing import StandardScaler\n",
        "\n",
        "x_data = df.drop('Class', axis = 1)\n",
        "Y = df['Class']\n",
        "\n",
        "sc = StandardScaler()\n",
        "X  = sc.fit_transform(x_data)\n"
      ],
      "metadata": {
        "id": "b8tRyd6hrtII"
      },
      "execution_count": null,
      "outputs": []
    },
    {
      "cell_type": "code",
      "source": [
        "# features = ['Age',\t'Sex',\t'Height (in)'\t,'Weight (lb)','BMI>30',\n",
        "#                   'Neck>17','Airway MF','MF >2','BAN','AHI']\n",
        "# x_data = df[features]\n",
        "# y      = df['OSA']\n",
        "\n",
        "# # Normalize data\n",
        "# x = (x_data - np.min(x_data))/(np.max(x_data) - np.min(x_data)).values"
      ],
      "metadata": {
        "id": "emRSpMMEhG7H"
      },
      "execution_count": null,
      "outputs": []
    },
    {
      "cell_type": "code",
      "source": [
        "X"
      ],
      "metadata": {
        "id": "zjD2OqY8cVVg"
      },
      "execution_count": null,
      "outputs": []
    },
    {
      "cell_type": "markdown",
      "source": [
        "## Correlation between different variables"
      ],
      "metadata": {
        "id": "QItnlTdajTli"
      }
    },
    {
      "cell_type": "code",
      "source": [
        "# # Correlation heatmap with mask for upper traingle\n",
        "# # Correlation between different variables\n",
        "# corr = df.corr()\n",
        "# # Set up the matplotlib plot configuration\n",
        "# f, ax = plt.subplots(figsize=(10, 6))\n",
        "# # Generate a mask for upper traingle\n",
        "# mask = np.triu(np.ones_like(corr, dtype=bool))\n",
        "# # Configure a custom diverging colormap\n",
        "# cmap = sns.diverging_palette(230, 20, as_cmap=True)\n",
        "# # Draw the heatmap\n",
        "# sns.heatmap(corr, annot=True, mask = mask, cmap=cmap)\n",
        "# plt.savefig('Heatmap.png')\n"
      ],
      "metadata": {
        "id": "btTopPVJjUjr"
      },
      "execution_count": null,
      "outputs": []
    },
    {
      "cell_type": "markdown",
      "source": [
        "## Class distribution in OSA dataset"
      ],
      "metadata": {
        "id": "Mdu7t2hujfLz"
      }
    },
    {
      "cell_type": "code",
      "source": [
        "# fig, axs = plt.subplots(figsize=(10, 4), tight_layout=True)\n",
        "# sns.boxplot(data=df)\n",
        "# plt.show()\n",
        "\n",
        "# sns.pairplot(df, vars=[\"age\",\"income\",\"tenure\",\"Class\"])\n",
        "# plt.grid()\n",
        "# plt.savefig('Correction with Class Satisfication.png')\n",
        "# plt.show()\n"
      ],
      "metadata": {
        "id": "Rg70E88Sjf6z"
      },
      "execution_count": null,
      "outputs": []
    },
    {
      "cell_type": "markdown",
      "source": [
        "# Preparing data for machine learning"
      ],
      "metadata": {
        "id": "2xZAwB-bj_VT"
      }
    },
    {
      "cell_type": "code",
      "source": [
        "x_train, x_test, y_train, y_test = train_test_split(X,Y,test_size = 0.25,random_state=42)"
      ],
      "metadata": {
        "id": "23DauDz0kFy5"
      },
      "execution_count": null,
      "outputs": []
    },
    {
      "cell_type": "code",
      "source": [
        "def calculate_confusion(name,y_train, y_pred_train, y_test, y_pred_test):\n",
        "  \n",
        "  # Making the Confusion Matrix\n",
        "  from sklearn.metrics import confusion_matrix\n",
        "  from sklearn.metrics import plot_confusion_matrix\n",
        "  \n",
        "  cm1   = confusion_matrix(y_train, y_pred_train)\n",
        "  cm2  = confusion_matrix(y_test, y_pred_test)\n",
        "\n",
        "  test_calc = pd.concat([pd.DataFrame(y_train).reset_index(drop=True),pd.DataFrame(y_pred_train).reset_index(drop=True)],axis=1)\n",
        "  test_calc.rename(columns={0: 'predicted'}, inplace=True)\n",
        "\n",
        "  Accuracy1  = (cm1[0,0] + cm1[1,1]) / (cm1[0,0] + cm1[0,1] + cm1[1,0] + cm1[1,1])\n",
        "  precision1  = cm1[1,1] / (cm1[1,1] + cm1[0,1])\n",
        "  recall1        = cm1[1,1] / (cm1[1,1] + cm1[1,0])\n",
        "\n",
        "  print('Performance Criteria in Training Case for %s' %name)\n",
        "  print('Accuracy  %.3f' %Accuracy1)\n",
        "  print ('precision %.3f' % precision1)\n",
        "  print('recall %.3f' % recall1)\n",
        "\n",
        "  #########################################\n",
        "  test_calc = pd.concat([pd.DataFrame(y_train).reset_index(drop=True),pd.DataFrame(y_pred_train).reset_index(drop=True)],axis=1)\n",
        "  test_calc.rename(columns={0: 'predicted'}, inplace=True)\n",
        "\n",
        "  Accuracy2 = (cm2[0,0] + cm2[1,1]) / (cm2[0,0] + cm2[0,1] + cm2[1,0] + cm2[1,1])\n",
        "  precision2 = cm2[1,1] / (cm2[1,1] + cm2[0,1])\n",
        "  recall2       = cm2[1,1] / (cm2[1,1] + cm2[1,0])\n",
        "\n",
        "  print('====================')\n",
        "  print('Performance Criteria in Testing Case for %s' %name)\n",
        "  print('Accuracy  %.3f' %Accuracy2)\n",
        "  print ('precision %.3f' % precision2)\n",
        "  print('recall %.3f' % recall2)\n",
        "\n",
        "  cm_train = pd.DataFrame(cm1, range(2), range(2))\n",
        "  cm_test  = pd.DataFrame(cm2, range(2), range(2))\n",
        "\n",
        "  f,(ax1,ax2) = plt.subplots(1,2,figsize=(7, 3), sharey=True)\n",
        "  g1 = sns.heatmap(cm_train,cbar=False,ax=ax1,annot=True, fmt=\".1f\",cmap=\"viridis\",annot_kws={\"size\": 15})\n",
        "  g1.set_title('Training case',fontname= 'serif',fontsize=10, color='k')\n",
        "  g2 = sns.heatmap(cm_test,cbar=False,ax=ax2,annot=True, fmt=\".1f\",cmap=\"viridis\",annot_kws={\"size\": 15})\n",
        "  g2.set_title('Testing case', fontname= 'serif',fontsize=10, color='k')\n",
        "  f.suptitle(' Confusion matrix for '+name, fontsize=11)\n",
        "  plt.savefig(name + \".png\")\n",
        "  plt.show()"
      ],
      "metadata": {
        "id": "gdENUz6ElyMr"
      },
      "execution_count": null,
      "outputs": []
    },
    {
      "cell_type": "code",
      "source": [
        "#set up plotting area\n",
        "from matplotlib.pyplot import figure\n",
        "from sklearn import metrics\n",
        "from sklearn.metrics import confusion_matrix\n",
        "from sklearn.metrics import plot_confusion_matrix\n",
        "from sklearn.metrics import roc_curve, roc_auc_score\n",
        "\n",
        "# Making the Confusion Matrix \n",
        "from sklearn.metrics import confusion_matrix\n",
        "from sklearn.metrics import plot_confusion_matrix\n",
        "\n",
        "# We now prepare our selected models\n",
        "models  = []\n",
        "results   = []\n",
        "names   = []\n",
        "scoring  = 'accuracy'\n",
        "names   = ['LRC', 'SVC', 'GBC', 'GNB', 'RFC', 'KNC']\n",
        "\n",
        "#LogisticRegression ####################################\n",
        "from sklearn.linear_model import LogisticRegression\n",
        "lr = LogisticRegression()\n",
        "lr.fit(x_train, y_train)\n",
        "y_pred_train = lr.predict(x_train)\n",
        "y_pred_test  = lr.predict(x_test)\n",
        "calculate_confusion(\"LR\",y_train, y_pred_train, y_test, y_pred_test)\n",
        "fpr1, tpr1, _ = metrics.roc_curve(y_test, y_pred_test)\n",
        "auc = round(metrics.roc_auc_score(y_test, y_pred_test), 4)\n",
        "cv_results = cross_val_score(lr, x_train, y_train)\n",
        "results.append(cv_results)\n",
        "\n",
        "#SVM ####################################\n",
        "from sklearn.svm import SVC\n",
        "svm = SVC()\n",
        "svm.fit(x_train, y_train)\n",
        "y_pred_train = svm.predict(x_train)\n",
        "y_pred_test  = svm.predict(x_test)\n",
        "calculate_confusion(\"SVM\",y_train, y_pred_train, y_test, y_pred_test)\n",
        "plt.savefig('ConfMatrix_SVC.png')\n",
        "fpr2, tpr2, _ = metrics.roc_curve(y_test, y_pred_test)\n",
        "auc = round(metrics.roc_auc_score(y_test, y_pred_test), 4)\n",
        "cv_results = cross_val_score(svm, x_train, y_train)\n",
        "results.append(cv_results)\n",
        "\n",
        "#GradientBoostingClassifier\n",
        "from sklearn.ensemble import GradientBoostingClassifier\n",
        "GBC = GradientBoostingClassifier()\n",
        "GBC.fit(x_train, y_train)\n",
        "y_pred_train = GBC.predict(x_train)\n",
        "y_pred_test  = GBC.predict(x_test)\n",
        "calculate_confusion(\"GBC\",y_train, y_pred_train, y_test, y_pred_test)\n",
        "plt.savefig('ConfMatrix_GBC.png')\n",
        "fpr3, tpr3, _ = metrics.roc_curve(y_test, y_pred_test)\n",
        "auc = round(metrics.roc_auc_score(y_test, y_pred_test), 4)\n",
        "cv_results = cross_val_score(GBC, x_train, y_train)\n",
        "results.append(cv_results)\n",
        "\n",
        "#GaussianNB\n",
        "from sklearn.naive_bayes import GaussianNB\n",
        "GNB = GaussianNB()\n",
        "GNB.fit(x_train, y_train)\n",
        "y_pred_train = GNB.predict(x_train)\n",
        "y_pred_test  = GNB.predict(x_test)\n",
        "calculate_confusion(\"GNB\",y_train, y_pred_train, y_test, y_pred_test)\n",
        "plt.savefig('ConfMatrix_GNB.png')\n",
        "fpr4, tpr4, _ = metrics.roc_curve(y_test, y_pred_test)\n",
        "auc = round(metrics.roc_auc_score(y_test, y_pred_test), 4)\n",
        "cv_results = cross_val_score(GNB, x_train, y_train)\n",
        "results.append(cv_results)\n",
        "\n",
        "# KNN Model\n",
        "from sklearn.neighbors import KNeighborsClassifier\n",
        "KNC = KNeighborsClassifier()\n",
        "KNC.fit(x_train, y_train)\n",
        "y_pred_train = KNC.predict(x_train)\n",
        "y_pred_test  = KNC.predict(x_test)\n",
        "calculate_confusion(\"KNC\",y_train, y_pred_train, y_test, y_pred_test)\n",
        "plt.savefig('ConfMatrix_KNC.png')\n",
        "fpr5, tpr5, _ = metrics.roc_curve(y_test, y_pred_test)\n",
        "auc = round(metrics.roc_auc_score(y_test, y_pred_test), 4)\n",
        "cv_results = cross_val_score(KNC, x_train, y_train)\n",
        "results.append(cv_results)\n",
        "\n",
        "# Decision Tree Model\n",
        "from sklearn import tree\n",
        "DT = tree.DecisionTreeClassifier(criterion='gini', splitter='best', max_depth=None)\n",
        "DT.fit(x_train, y_train)\n",
        "y_pred_train = DT.predict(x_train)\n",
        "y_pred_test  = DT.predict(x_test)\n",
        "calculate_confusion(\"DT\",y_train, y_pred_train, y_test, y_pred_test)\n",
        "plt.savefig('ConfMatrix_KNC.png')\n",
        "fpr6, tpr6, _ = metrics.roc_curve(y_test, y_pred_test)\n",
        "auc = round(metrics.roc_auc_score(y_test, y_pred_test), 4)\n",
        "cv_results = cross_val_score(DT, x_train, y_train)\n",
        "results.append(cv_results)\n",
        "tree.plot_tree(clf)\n",
        "\n",
        "#RandomForestClassifier\n",
        "from sklearn.ensemble import RandomForestClassifier\n",
        "RFC = RandomForestClassifier(n_estimators=100, criterion='gini', max_depth=None)\n",
        "RFC.fit(x_train, y_train)\n",
        "y_pred_train = RFC.predict(x_train)\n",
        "y_pred_test  = RFC.predict(x_test)\n",
        "calculate_confusion(\"RFC\",y_train, y_pred_train, y_test, y_pred_test)\n",
        "plt.savefig('ConfMatrix_RFC.png')\n",
        "fpr7, tpr7, _ = metrics.roc_curve(y_test, y_pred_test)\n",
        "auc = round(metrics.roc_auc_score(y_test, y_pred_test), 4)\n",
        "cv_results = cross_val_score(RFC, x_train, y_train)\n",
        "results.append(cv_results)\n",
        "\n",
        "#Artificial Neural Network\n",
        "from sklearn.neural_network import MLPClassifier\n",
        "ANN = MLPClassifier(solver='adam', alpha=1e-5,hidden_layer_sizes=(5, 2), random_state=1)\n",
        "ANN.fit(x_train, y_train)\n",
        "y_pred_train = ANN.predict(x_train)\n",
        "y_pred_test  = ANN.predict(x_test)\n",
        "calculate_confusion(\"ANN\",y_train, y_pred_train, y_test, y_pred_test)\n",
        "plt.savefig('ConfMatrix_RFC.png')\n",
        "fpr8, tpr8, _ = metrics.roc_curve(y_test, y_pred_test)\n",
        "auc = round(metrics.roc_auc_score(y_test, y_pred_test), 4)\n",
        "cv_results = cross_val_score(ANN, x_train, y_train)\n",
        "results.append(cv_results)\n"
      ],
      "metadata": {
        "colab": {
          "base_uri": "https://localhost:8080/",
          "height": 1000
        },
        "id": "R3C9uzf7hY5e",
        "outputId": "3eaa30f9-d483-4a22-f313-2fc386a67c5f"
      },
      "execution_count": null,
      "outputs": [
        {
          "output_type": "stream",
          "name": "stderr",
          "text": [
            "/usr/local/lib/python3.8/dist-packages/sklearn/linear_model/_logistic.py:814: ConvergenceWarning: lbfgs failed to converge (status=1):\n",
            "STOP: TOTAL NO. of ITERATIONS REACHED LIMIT.\n",
            "\n",
            "Increase the number of iterations (max_iter) or scale the data as shown in:\n",
            "    https://scikit-learn.org/stable/modules/preprocessing.html\n",
            "Please also refer to the documentation for alternative solver options:\n",
            "    https://scikit-learn.org/stable/modules/linear_model.html#logistic-regression\n",
            "  n_iter_i = _check_optimize_result(\n"
          ]
        },
        {
          "output_type": "stream",
          "name": "stdout",
          "text": [
            "Performance Criteria in Training Case for LR\n",
            "Accuracy  1.000\n",
            "precision 0.999\n",
            "recall 1.000\n",
            "====================\n",
            "Performance Criteria in Testing Case for LR\n",
            "Accuracy  0.967\n",
            "precision 0.930\n",
            "recall 0.961\n"
          ]
        },
        {
          "output_type": "display_data",
          "data": {
            "text/plain": [
              "<Figure size 504x216 with 2 Axes>"
            ],
            "image/png": "[encoded data removed]"
          },
          "metadata": {}
        },
        {
          "output_type": "stream",
          "name": "stderr",
          "text": [
            "/usr/local/lib/python3.8/dist-packages/sklearn/linear_model/_logistic.py:814: ConvergenceWarning: lbfgs failed to converge (status=1):\n",
            "STOP: TOTAL NO. of ITERATIONS REACHED LIMIT.\n",
            "\n",
            "Increase the number of iterations (max_iter) or scale the data as shown in:\n",
            "    https://scikit-learn.org/stable/modules/preprocessing.html\n",
            "Please also refer to the documentation for alternative solver options:\n",
            "    https://scikit-learn.org/stable/modules/linear_model.html#logistic-regression\n",
            "  n_iter_i = _check_optimize_result(\n",
            "/usr/local/lib/python3.8/dist-packages/sklearn/linear_model/_logistic.py:814: ConvergenceWarning: lbfgs failed to converge (status=1):\n",
            "STOP: TOTAL NO. of ITERATIONS REACHED LIMIT.\n",
            "\n",
            "Increase the number of iterations (max_iter) or scale the data as shown in:\n",
            "    https://scikit-learn.org/stable/modules/preprocessing.html\n",
            "Please also refer to the documentation for alternative solver options:\n",
            "    https://scikit-learn.org/stable/modules/linear_model.html#logistic-regression\n",
            "  n_iter_i = _check_optimize_result(\n",
            "/usr/local/lib/python3.8/dist-packages/sklearn/linear_model/_logistic.py:814: ConvergenceWarning: lbfgs failed to converge (status=1):\n",
            "STOP: TOTAL NO. of ITERATIONS REACHED LIMIT.\n",
            "\n",
            "Increase the number of iterations (max_iter) or scale the data as shown in:\n",
            "    https://scikit-learn.org/stable/modules/preprocessing.html\n",
            "Please also refer to the documentation for alternative solver options:\n",
            "    https://scikit-learn.org/stable/modules/linear_model.html#logistic-regression\n",
            "  n_iter_i = _check_optimize_result(\n",
            "/usr/local/lib/python3.8/dist-packages/sklearn/linear_model/_logistic.py:814: ConvergenceWarning: lbfgs failed to converge (status=1):\n",
            "STOP: TOTAL NO. of ITERATIONS REACHED LIMIT.\n",
            "\n",
            "Increase the number of iterations (max_iter) or scale the data as shown in:\n",
            "    https://scikit-learn.org/stable/modules/preprocessing.html\n",
            "Please also refer to the documentation for alternative solver options:\n",
            "    https://scikit-learn.org/stable/modules/linear_model.html#logistic-regression\n",
            "  n_iter_i = _check_optimize_result(\n",
            "/usr/local/lib/python3.8/dist-packages/sklearn/linear_model/_logistic.py:814: ConvergenceWarning: lbfgs failed to converge (status=1):\n",
            "STOP: TOTAL NO. of ITERATIONS REACHED LIMIT.\n",
            "\n",
            "Increase the number of iterations (max_iter) or scale the data as shown in:\n",
            "    https://scikit-learn.org/stable/modules/preprocessing.html\n",
            "Please also refer to the documentation for alternative solver options:\n",
            "    https://scikit-learn.org/stable/modules/linear_model.html#logistic-regression\n",
            "  n_iter_i = _check_optimize_result(\n"
          ]
        },
        {
          "output_type": "stream",
          "name": "stdout",
          "text": [
            "Performance Criteria in Training Case for SVM\n",
            "Accuracy  0.971\n",
            "precision 0.998\n",
            "recall 0.903\n",
            "====================\n",
            "Performance Criteria in Testing Case for SVM\n",
            "Accuracy  0.948\n",
            "precision 0.992\n",
            "recall 0.830\n"
          ]
        },
        {
          "output_type": "display_data",
          "data": {
            "text/plain": [
              "<Figure size 504x216 with 2 Axes>"
            ],
            "image/png": "[encoded data removed]"
          },
          "metadata": {}
        }
      ]
    },
    {
      "cell_type": "code",
      "source": [
        "# import matplotlib.pyplot as plt\n",
        "\n",
        "# plt.title('Receiver Operating Characteristic')\n",
        "# plt.plot(fpr1, tpr1, label=\"LogisticRegression, AUC=\"+str(auc))\n",
        "# plt.plot(fpr2, tpr2, label=\"SVC, AUC=\"+str(auc))\n",
        "# plt.legend(loc = 'lower right')\n",
        "# plt.plot([0, 1], [0, 1],'r--')\n",
        "# plt.xlim([0, 1])\n",
        "# plt.ylim([0, 1])\n",
        "# plt.ylabel('True Positive Rate')\n",
        "# plt.xlabel('False Positive Rate')\n",
        "# plt.show()"
      ],
      "metadata": {
        "id": "2PiLVKJi7zcg"
      },
      "execution_count": null,
      "outputs": []
    },
    {
      "cell_type": "code",
      "source": [
        "# import matplotlib.pyplot as plt\n",
        "# ax = plt.axes()\n",
        "# fig = plt.figure(figsize=(8,6))\n",
        "# ax.plot(fpr1,tpr1,label=\"LogisticRegression, AUC=\"+str(auc))\n",
        "# ax.plot(fpr2,tpr2,label=\"SVC, AUC=\"+str(auc))\n",
        "# ax.plot(fpr3,tpr3,label=\"GBC, AUC=\"+str(auc))\n",
        "# ax.plot(fpr4,tpr4,label=\"GaussianNB, AUC=\"+str(auc))\n",
        "# ax.plot(fpr5,tpr5,label=\"RandomForestClassifier, AUC=\"+str(auc))\n",
        "# ax.plot(fpr6,tpr6,label=\"KNN, AUC=\"+str(auc))\n",
        "# # plt.legend()\n",
        "# plt.savefig('ROC.png')"
      ],
      "metadata": {
        "id": "_wRVMimeQlvs"
      },
      "execution_count": null,
      "outputs": []
    },
    {
      "cell_type": "code",
      "source": [
        "# fig = plt.figure(figsize=(8,4))\n",
        "# fig.suptitle('ROC')\n",
        "# ax = fig.add_subplot(111)\n",
        "# plt.plot(fpr1,tpr1,label=\"LogisticRegression, AUC=\"+str(auc))\n",
        "# plt.plot(fpr2,tpr2,label=\"SVC, AUC=\"+str(auc))\n",
        "# ax.set_xticklabels(names)\n",
        "# plt.show()"
      ],
      "metadata": {
        "id": "Wb0dwJmdCYe6"
      },
      "execution_count": null,
      "outputs": []
    },
    {
      "cell_type": "code",
      "source": [
        "from sklearn import metrics\n",
        "import matplotlib.pyplot as plt\n",
        "\n",
        "fig = plt.figure(figsize=(8,6))\n",
        "\n",
        "# Add the models to the list that you want to view on the ROC plot\n",
        "models = [\n",
        "{\n",
        "    'label': 'Logistic Regression',\n",
        "    'model':  LogisticRegression(),\n",
        "},\n",
        "{\n",
        "    'label': 'SVM',\n",
        "    'model':  SVC(gamma='auto', probability=True),\n",
        "},\n",
        "{\n",
        "    'label': 'Gradient Boosting',\n",
        "    'model':  GradientBoostingClassifier(),\n",
        "},\n",
        "{\n",
        "    'label': 'GaussianNB',\n",
        "    'model':  GaussianNB(),\n",
        "},\n",
        "{\n",
        "    'label': 'KNeighborsClassifier',\n",
        "    'model':  KNeighborsClassifier(),\n",
        "},\n",
        "{\n",
        "    'label': 'DecisionTreeClassifier',\n",
        "    'model':  tree.DecisionTreeClassifier(),\n",
        "},\n",
        "{\n",
        "    'label': 'RandomForestClassifier',\n",
        "    'model':  RandomForestClassifier(),\n",
        "},\n",
        "{\n",
        "    'label': 'MLPClassifier',\n",
        "    'model':  MLPClassifier(),\n",
        "}\n",
        "]\n",
        "\n",
        "# Below for loop iterates through your models list\n",
        "for m in models:\n",
        "    model = m['model'] # select the model\n",
        "    model.fit(x_train, y_train) # train the model\n",
        "    y_pred=model.predict(x_test) # predict the test data\n",
        "\n",
        "# Compute False postive rate, and True positive rate\n",
        "    fpr, tpr, thresholds = metrics.roc_curve(y_train, model.predict_proba(x_train)[:,1])\n",
        "\n",
        "# Calculate Area under the curve to display on the plot\n",
        "    auc = metrics.roc_auc_score(y_train,model.predict(x_train))\n",
        "    \n",
        "# Now, plot the computed values\n",
        "    plt.plot(fpr, tpr, label='%s ROC (area = %0.2f)' % (m['label'], auc))\n",
        "\n",
        "# Custom settings for the plot \n",
        "plt.plot([0, 1], [0, 1],'r--')\n",
        "plt.xlim([0.0, 1.0])\n",
        "plt.ylim([0.0, 1.05])\n",
        "plt.xlabel('Specificity(False Positive Rate)')\n",
        "plt.ylabel('Sensitivity(True Positive Rate)')\n",
        "plt.title('Receiver Operating Characteristic')\n",
        "plt.legend(loc=\"lower right\")\n",
        "plt.savefig('ROC_Curves.png')\n",
        "plt.show()   # Display\n"
      ],
      "metadata": {
        "id": "mozfIcEbJm0A"
      },
      "execution_count": null,
      "outputs": []
    },
    {
      "cell_type": "code",
      "source": [
        "# from sklearn.metrics import RocCurveDisplay\n",
        "\n",
        "# fig = plt.figure(figsize=(8,4))\n",
        "# fig.suptitle('ROC')\n",
        "\n",
        "# disp = RocCurveDisplay.from_estimator(lr, x_test, y_test, marker=\"+\")\n",
        "# _ = disp.ax_.set_title(\"Receiver Operating Characteristic curve\")\n",
        "# plt.xlabel(\"False positive rate\")\n",
        "# plt.ylabel(\"True positive rate \\n(also known as sensitivity or recall)\")\n",
        "# plt.xlim(0, 1)\n",
        "# plt.ylim(0, 1)\n",
        "# plt.legend(loc=\"lower right\")\n",
        "\n",
        "# disp = RocCurveDisplay.from_estimator(svm, x_test, y_test, marker=\"+\")\n",
        "# _ = disp.ax_.set_title(\"Receiver Operating Characteristic curve\")\n",
        "\n",
        "# plt.xlabel(\"False positive rate\")\n",
        "# plt.ylabel(\"True positive rate\\n(also known as sensitivity or recall)\")\n",
        "# plt.xlim(0, 1)\n",
        "# plt.ylim(0, 1)\n",
        "# plt.legend(loc=\"lower right\")\n"
      ],
      "metadata": {
        "id": "YO37hiKjcB-f"
      },
      "execution_count": null,
      "outputs": []
    },
    {
      "cell_type": "code",
      "source": [
        "# Boxplot of the mean results of each supervised model for comparison \n",
        "names = ['LRC', 'SVC', 'GBC', 'GNB', 'KNC', 'DT','RFC', 'ANN']\n",
        "fig = plt.figure(figsize=(8,4))\n",
        "fig.suptitle('Model Comparison')\n",
        "ax = fig.add_subplot(111)\n",
        "plt.boxplot(results)\n",
        "ax.set_xticklabels(names)\n",
        "plt.grid()\n",
        "plt.savefig('BoxPlot_Curves.png')\n",
        "plt.show()"
      ],
      "metadata": {
        "id": "aNmQtpTwjApX"
      },
      "execution_count": null,
      "outputs": []
    }
  ]
}
